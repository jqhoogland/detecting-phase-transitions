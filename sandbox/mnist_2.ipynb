{
  "cells": [
    {
      "cell_type": "code",
      "execution_count": 1,
      "metadata": {
        "colab": {
          "base_uri": "https://localhost:8080/"
        },
        "id": "h8U839iGXCH3",
        "outputId": "88f12940-8c9e-4cb7-c312-dabd92be351e"
      },
      "outputs": [
        {
          "name": "stdout",
          "output_type": "stream",
          "text": [
            "Defaulting to user installation because normal site-packages is not writeable\n",
            "Requirement already satisfied: torch in /home/paperspace/.local/lib/python3.9/site-packages (1.13.1)\n",
            "Requirement already satisfied: torchvision in /home/paperspace/.local/lib/python3.9/site-packages (0.14.1)\n",
            "Requirement already satisfied: livelossplot in /home/paperspace/.local/lib/python3.9/site-packages (0.5.5)\n",
            "Requirement already satisfied: wandb in /home/paperspace/.local/lib/python3.9/site-packages (0.13.4)\n",
            "Requirement already satisfied: torchtyping in /home/paperspace/.local/lib/python3.9/site-packages (0.1.4)\n",
            "Requirement already satisfied: tqdm in /home/paperspace/.local/lib/python3.9/site-packages (4.64.1)\n",
            "Requirement already satisfied: typing-extensions in /home/paperspace/.local/lib/python3.9/site-packages (from torch) (4.4.0)\n",
            "Requirement already satisfied: nvidia-cudnn-cu11==8.5.0.96 in /home/paperspace/.local/lib/python3.9/site-packages (from torch) (8.5.0.96)\n",
            "Requirement already satisfied: nvidia-cuda-nvrtc-cu11==11.7.99 in /home/paperspace/.local/lib/python3.9/site-packages (from torch) (11.7.99)\n",
            "Requirement already satisfied: nvidia-cublas-cu11==11.10.3.66 in /home/paperspace/.local/lib/python3.9/site-packages (from torch) (11.10.3.66)\n",
            "Requirement already satisfied: nvidia-cuda-runtime-cu11==11.7.99 in /home/paperspace/.local/lib/python3.9/site-packages (from torch) (11.7.99)\n",
            "Requirement already satisfied: wheel in /home/paperspace/.local/lib/python3.9/site-packages (from nvidia-cublas-cu11==11.10.3.66->torch) (0.35.1)\n",
            "Requirement already satisfied: setuptools in /usr/lib/python3/dist-packages (from nvidia-cublas-cu11==11.10.3.66->torch) (45.2.0)\n",
            "Requirement already satisfied: requests in /home/paperspace/.local/lib/python3.9/site-packages (from torchvision) (2.28.2)\n",
            "Requirement already satisfied: numpy in /home/paperspace/.local/lib/python3.9/site-packages (from torchvision) (1.24.1)\n",
            "Requirement already satisfied: pillow!=8.3.*,>=5.3.0 in /home/paperspace/.local/lib/python3.9/site-packages (from torchvision) (9.4.0)\n",
            "Requirement already satisfied: bokeh in /home/paperspace/.local/lib/python3.9/site-packages (from livelossplot) (3.1.0)\n",
            "Requirement already satisfied: matplotlib in /home/paperspace/.local/lib/python3.9/site-packages (from livelossplot) (3.6.3)\n",
            "Requirement already satisfied: docker-pycreds>=0.4.0 in /home/paperspace/.local/lib/python3.9/site-packages (from wandb) (0.4.0)\n",
            "Requirement already satisfied: six>=1.13.0 in /home/paperspace/.local/lib/python3.9/site-packages (from wandb) (1.16.0)\n",
            "Requirement already satisfied: setproctitle in /home/paperspace/.local/lib/python3.9/site-packages (from wandb) (1.3.2)\n",
            "Requirement already satisfied: psutil>=5.0.0 in /home/paperspace/.local/lib/python3.9/site-packages (from wandb) (5.9.4)\n",
            "Requirement already satisfied: sentry-sdk>=1.0.0 in /home/paperspace/.local/lib/python3.9/site-packages (from wandb) (1.13.0)\n",
            "Requirement already satisfied: Click!=8.0.0,>=7.0 in /home/paperspace/.local/lib/python3.9/site-packages (from wandb) (8.1.3)\n",
            "Requirement already satisfied: protobuf!=4.0.*,!=4.21.0,<5,>=3.12.0 in /home/paperspace/.local/lib/python3.9/site-packages (from wandb) (3.19.6)\n",
            "Requirement already satisfied: pathtools in /home/paperspace/.local/lib/python3.9/site-packages (from wandb) (0.1.2)\n",
            "Requirement already satisfied: promise<3,>=2.0 in /home/paperspace/.local/lib/python3.9/site-packages (from wandb) (2.3)\n",
            "Requirement already satisfied: PyYAML in /home/paperspace/.local/lib/python3.9/site-packages (from wandb) (6.0)\n",
            "Requirement already satisfied: GitPython>=1.0.0 in /home/paperspace/.local/lib/python3.9/site-packages (from wandb) (3.1.30)\n",
            "Requirement already satisfied: shortuuid>=0.5.0 in /home/paperspace/.local/lib/python3.9/site-packages (from wandb) (1.0.11)\n",
            "Requirement already satisfied: typeguard>=2.11.1 in /home/paperspace/.local/lib/python3.9/site-packages (from torchtyping) (3.0.2)\n",
            "Requirement already satisfied: gitdb<5,>=4.0.1 in /home/paperspace/.local/lib/python3.9/site-packages (from GitPython>=1.0.0->wandb) (4.0.10)\n",
            "Requirement already satisfied: idna<4,>=2.5 in /home/paperspace/.local/lib/python3.9/site-packages (from requests->torchvision) (3.4)\n",
            "Requirement already satisfied: charset-normalizer<4,>=2 in /home/paperspace/.local/lib/python3.9/site-packages (from requests->torchvision) (3.0.1)\n",
            "Requirement already satisfied: urllib3<1.27,>=1.21.1 in /home/paperspace/.local/lib/python3.9/site-packages (from requests->torchvision) (1.26.14)\n",
            "Requirement already satisfied: certifi>=2017.4.17 in /home/paperspace/.local/lib/python3.9/site-packages (from requests->torchvision) (2022.12.7)\n",
            "Requirement already satisfied: importlib-metadata>=3.6 in /home/paperspace/.local/lib/python3.9/site-packages (from typeguard>=2.11.1->torchtyping) (6.0.0)\n",
            "Requirement already satisfied: xyzservices>=2021.09.1 in /home/paperspace/.local/lib/python3.9/site-packages (from bokeh->livelossplot) (2023.2.0)\n",
            "Requirement already satisfied: Jinja2>=2.9 in /home/paperspace/.local/lib/python3.9/site-packages (from bokeh->livelossplot) (3.1.2)\n",
            "Requirement already satisfied: packaging>=16.8 in /home/paperspace/.local/lib/python3.9/site-packages (from bokeh->livelossplot) (23.0)\n",
            "Requirement already satisfied: tornado>=5.1 in /home/paperspace/.local/lib/python3.9/site-packages (from bokeh->livelossplot) (6.2)\n",
            "Requirement already satisfied: contourpy>=1 in /home/paperspace/.local/lib/python3.9/site-packages (from bokeh->livelossplot) (1.0.7)\n",
            "Requirement already satisfied: pandas>=1.2 in /home/paperspace/.local/lib/python3.9/site-packages (from bokeh->livelossplot) (1.5.3)\n",
            "Requirement already satisfied: cycler>=0.10 in /home/paperspace/.local/lib/python3.9/site-packages (from matplotlib->livelossplot) (0.11.0)\n",
            "Requirement already satisfied: python-dateutil>=2.7 in /home/paperspace/.local/lib/python3.9/site-packages (from matplotlib->livelossplot) (2.8.2)\n",
            "Requirement already satisfied: pyparsing>=2.2.1 in /home/paperspace/.local/lib/python3.9/site-packages (from matplotlib->livelossplot) (3.0.9)\n",
            "Requirement already satisfied: fonttools>=4.22.0 in /home/paperspace/.local/lib/python3.9/site-packages (from matplotlib->livelossplot) (4.38.0)\n",
            "Requirement already satisfied: kiwisolver>=1.0.1 in /home/paperspace/.local/lib/python3.9/site-packages (from matplotlib->livelossplot) (1.4.4)\n",
            "Requirement already satisfied: smmap<6,>=3.0.1 in /home/paperspace/.local/lib/python3.9/site-packages (from gitdb<5,>=4.0.1->GitPython>=1.0.0->wandb) (5.0.0)\n",
            "Requirement already satisfied: zipp>=0.5 in /home/paperspace/.local/lib/python3.9/site-packages (from importlib-metadata>=3.6->typeguard>=2.11.1->torchtyping) (3.12.0)\n",
            "Requirement already satisfied: MarkupSafe>=2.0 in /home/paperspace/.local/lib/python3.9/site-packages (from Jinja2>=2.9->bokeh->livelossplot) (2.1.2)\n",
            "Requirement already satisfied: pytz>=2020.1 in /home/paperspace/.local/lib/python3.9/site-packages (from pandas>=1.2->bokeh->livelossplot) (2022.7.1)\n",
            "\n",
            "\u001b[1m[\u001b[0m\u001b[34;49mnotice\u001b[0m\u001b[1;39;49m]\u001b[0m\u001b[39;49m A new release of pip is available: \u001b[0m\u001b[31;49m23.0\u001b[0m\u001b[39;49m -> \u001b[0m\u001b[32;49m23.1\u001b[0m\n",
            "\u001b[1m[\u001b[0m\u001b[34;49mnotice\u001b[0m\u001b[1;39;49m]\u001b[0m\u001b[39;49m To update, run: \u001b[0m\u001b[32;49mpython3.9 -m pip install --upgrade pip\u001b[0m\n"
          ]
        }
      ],
      "source": [
        "!pip install torch torchvision livelossplot wandb torchtyping tqdm"
      ]
    },
    {
      "cell_type": "markdown",
      "metadata": {
        "id": "hMX1Jjrj0CzB"
      },
      "source": [
        "## Libraries"
      ]
    },
    {
      "cell_type": "code",
      "execution_count": 2,
      "metadata": {},
      "outputs": [],
      "source": [
        "import sys\n",
        "import os\n",
        "# Add spectroscope to the path\n",
        "sys.path.append(os.path.abspath(os.path.join(os.getcwd(), os.pardir)))"
      ]
    },
    {
      "cell_type": "code",
      "execution_count": 3,
      "metadata": {
        "id": "k66YJP740uCR"
      },
      "outputs": [],
      "source": [
        "import numpy as np\n",
        "import torch as t\n",
        "import t.nn as nn\n",
        "import t.optim as optim\n",
        "from t.utils.data import TensorDataset, DataLoader\n",
        "from torchvision.datasets import MNIST\n",
        "import torchvision.transforms as transforms\n",
        "from livelossplot import PlotLosses\n",
        "from tqdm.notebook import tqdm\n",
        "\n",
        "from spectroscope.data import SubsetsLoader, get_filtered_dataset\n",
        "\n",
        "DEVICE = t.device(\"cuda\" if t.cuda.is_available() else \"cpu\")"
      ]
    },
    {
      "attachments": {},
      "cell_type": "markdown",
      "metadata": {},
      "source": [
        "# Data"
      ]
    },
    {
      "cell_type": "code",
      "execution_count": 4,
      "metadata": {},
      "outputs": [],
      "source": [
        "# Load the data\n",
        "mnist_train = MNIST('./data', train=True, download=True, transform=transforms.ToTensor())\n",
        "mnist_test = MNIST('./data', train=False, download=True, transform=transforms.ToTensor())"
      ]
    },
    {
      "attachments": {},
      "cell_type": "markdown",
      "metadata": {
        "id": "Sr0ejX6YM7ej"
      },
      "source": [
        "## Simple ConvNet\n",
        "\n",
        "This an unmodified mnist learner"
      ]
    },
    {
      "cell_type": "code",
      "execution_count": 10,
      "metadata": {
        "id": "cTkt86amTqCP"
      },
      "outputs": [],
      "source": [
        "class MNISTConvNet(nn.Module):\n",
        "    def __init__(self):\n",
        "        super().__init__()\n",
        "        self.conv1 = nn.Conv2d(1, 8, kernel_size=5, stride=1)\n",
        "        self.conv2 = nn.Conv2d(8, 16, kernel_size=5, stride=1)\n",
        "        self.fc1 = nn.Linear(16 * 4 * 4, 10)\n",
        "\n",
        "        self.to(DEVICE)\n",
        "\n",
        "    def forward(self, x):\n",
        "        x = x.view(-1, 1, 28, 28)\n",
        "        x = nn.functional.relu(self.conv1(x))\n",
        "        x = nn.functional.max_pool2d(x, 2)\n",
        "        x = nn.functional.relu(self.conv2(x))\n",
        "        x = nn.functional.max_pool2d(x, 2)\n",
        "        x = x.view(-1, 16 * 4 * 4)\n",
        "        x = self.fc1(x)\n",
        "        return x"
      ]
    },
    {
      "cell_type": "markdown",
      "metadata": {
        "id": "MkWi8PD9pEGx"
      },
      "source": [
        "# START OF IDEA: Introduction of new digits in training\n",
        "\n",
        "The section aims to see if introducing new digits later in the Epoch gives discontinuous boosts in peformance. I expect it shouldn't, since if we have the model say learn just 0 and 1 in the first half of training, then introduce the number 2, the parameters will be fitted only to (0,1) and do terrible on 2, so I expect a massive dip in accuracy in the middle, then some recovery at the end once it's seen some 0,1,2s but nowhere near the 90%+ as if we just did all 10 from the start. It's highly possible I may have misunderstood the setup, since I don't see how this could give a phase transition in decrease of loss. "
      ]
    },
    {
      "cell_type": "markdown",
      "metadata": {
        "id": "CkWDKPrZWCOv"
      },
      "source": [
        "The code below is simply testing the filter digit function does as expected"
      ]
    },
    {
      "cell_type": "code",
      "execution_count": 6,
      "metadata": {
        "colab": {
          "base_uri": "https://localhost:8080/"
        },
        "id": "2Ux2HiG7QPlA",
        "outputId": "45a8af81-62ee-47d5-8781-8802f03a209f"
      },
      "outputs": [
        {
          "data": {
            "text/plain": [
              "SubsetsLoader((Subset(MNIST, len=5923, labels=(0,)), Subset(MNIST, len=12665, labels=(0, 1)), Subset(MNIST, len=18623, labels=(0, 1, 2)), Subset(MNIST, len=24754, labels=(0, 1, 2, 3)), Subset(MNIST, len=30596, labels=(0, 1, 2, 3, 4)), Subset(MNIST, len=36017, labels=(0, 1, 2, 3, 4, 5)), Subset(MNIST, len=41935, labels=(0, 1, 2, 3, 4, 5, 6)), Subset(MNIST, len=48200, labels=(0, 1, 2, 3, 4, 5, 6, 7)), Subset(MNIST, len=54051, labels=(0, 1, 2, 3, 4, 5, 6, 7, 8)), Subset(MNIST, len=60000, labels=(0, 1, 2, 3, 4, 5, 6, 7, 8, 9))), batch_size=256)"
            ]
          },
          "execution_count": 6,
          "metadata": {},
          "output_type": "execute_result"
        }
      ],
      "source": [
        "\n",
        "from typing import Any, Tuple, Type\n",
        "\n",
        "import torch\n",
        "from t.utils.data import DataLoader, Dataset\n",
        "from torchtyping import TensorType\n",
        "\n",
        "\n",
        "def as_subset(cls: Type[Dataset]):\n",
        "    \"\"\"\n",
        "    Wrapper for a dataset class that adds a labels attribute to the dataset,\n",
        "    and a __repr__ method that prints the labels.\n",
        "    \"\"\"\n",
        "    class Subset(cls):\n",
        "        def __init__(self, data, targets, train: bool, labels: Tuple[int, ...], **kwargs):\n",
        "            self.labels = labels\n",
        "            self.data = data\n",
        "            self.targets = targets\n",
        "\n",
        "            self.train = train\n",
        "\n",
        "        def __len__(self):\n",
        "            return len(self.data)\n",
        "\n",
        "        def __repr__(self):\n",
        "            return f\"Subset({cls.__name__}, len={len(self)}, labels={self.labels})\"\n",
        "        \n",
        "        def __getitem__(self, index: int) -> Tuple[Any, Any]:\n",
        "            \"\"\"\n",
        "            Args:\n",
        "                index (int): Index\n",
        "\n",
        "            Returns:\n",
        "                tuple: (image, target) where target is index of the target class.\n",
        "            \"\"\"\n",
        "            return self.data[index], int(self.targets[index])\n",
        "    \n",
        "    return Subset\n",
        "\n",
        "\n",
        "def filter_by_labels(dataset: Dataset, labels: Tuple[int, ...]):\n",
        "    \"\"\"\n",
        "    Returns an iterator over the dataset, yielding only the images and labels in labels.\n",
        "    \"\"\"\n",
        "    for image, label in dataset:\n",
        "        if label in labels:\n",
        "            yield image, label\n",
        "\n",
        "\n",
        "def get_filtered_dataset(dataset: Dataset, labels: Tuple[int, ...]):\n",
        "    \"\"\"\n",
        "    Returns a new dataset with only the images and labels in labels.\n",
        "    \"\"\"\n",
        "    dataset_cls = as_subset(type(dataset))\n",
        "    data, targets = zip(*((x, y) for x, y in filter_by_labels(dataset, labels)))\n",
        "    return dataset_cls(data, targets, train=dataset.train, labels=labels)  # type: ignore\n",
        "\n",
        "\n",
        "class SubsetsLoader:\n",
        "    \"\"\"\n",
        "    A data loader that trains on different subsets of the dataset \n",
        "    depending on the active subset.\n",
        "\n",
        "    Note: it's up to you to call next_subset() when you want to move to the next subset.\n",
        "    \"\"\"\n",
        "\n",
        "    def __init__(\n",
        "        self,\n",
        "        subsets: Tuple[Dataset],\n",
        "        *args,\n",
        "        **kwargs,\n",
        "    ):\n",
        "        self.subsets = subsets\n",
        "        self.subset_idx = 0\n",
        "        self.subloaders = tuple(DataLoader(subset, *args, **kwargs) for subset in subsets)\n",
        "\n",
        "    def next_subset(self):\n",
        "        \"\"\"Moves to the next subset.\"\"\"\n",
        "        if self.subset_idx < len(self.subsets):\n",
        "            self.subset_idx += 1\n",
        "        else:\n",
        "            raise StopIteration\n",
        "         \n",
        "    def to_subset(self, subset_idx: int):\n",
        "        \"\"\"Moves to the subset with index subset_idx.\"\"\"\n",
        "        if subset_idx < len(self.subsets):\n",
        "            self.subset_idx = subset_idx\n",
        "        else:\n",
        "            raise IndexError(f\"Subset index {subset_idx} out of range\")\n",
        "    \n",
        "    @property\n",
        "    def dataset(self):\n",
        "        return self.subsets[self.subset_idx]\n",
        "    \n",
        "    @property\n",
        "    def loader(self):\n",
        "        return self.subloaders[self.subset_idx]\n",
        "    \n",
        "    @property\n",
        "    def batch_size(self):\n",
        "        return self.loader.batch_size\n",
        "\n",
        "    @classmethod\n",
        "    def from_filters(cls, dataset: Dataset, labels_per_subset: Tuple[Tuple[int, ...]], **kwargs):\n",
        "        \"\"\"\n",
        "        Returns a SubsetsLoader that trains on different subsets of the dataset \n",
        "        depending on the active subset.\n",
        "        \"\"\"\n",
        "        subsets = tuple(get_filtered_dataset(dataset, labels) for labels in labels_per_subset)\n",
        "        return cls(subsets, **kwargs)\n",
        "        \n",
        "    def __repr__(self):\n",
        "        return f\"SubsetsLoader({self.subsets}, batch_size={self.batch_size})\"\n",
        "    \n",
        "    def __iter__(self):\n",
        "        return iter(self.subloaders[self.subset_idx])\n",
        "\n",
        "    def __len__(self):\n",
        "        return len(self.dataset)\n",
        "\n",
        "subsets_loader = SubsetsLoader.from_filters(\n",
        "    mnist_train,\n",
        "    labels_per_subset=tuple(tuple(range(i+1)) for i in range(0, 10)),\n",
        "    batch_size=256,\n",
        "    shuffle=True, \n",
        ")\n",
        "\n",
        "subsets_loader"
      ]
    },
    {
      "cell_type": "code",
      "execution_count": 7,
      "metadata": {},
      "outputs": [],
      "source": [
        "per_label_train_loader = SubsetsLoader.from_filters(\n",
        "    mnist_train,\n",
        "    labels_per_subset=tuple((i,) for i in range(0, 10)),\n",
        "    batch_size=256,\n",
        ")\n",
        "\n",
        "per_label_test_loader = SubsetsLoader.from_filters(\n",
        "    mnist_test,\n",
        "    labels_per_subset=tuple((i,) for i in range(0, 10)),\n",
        "    batch_size=256,\n",
        ")"
      ]
    },
    {
      "cell_type": "code",
      "execution_count": 8,
      "metadata": {},
      "outputs": [],
      "source": [
        "class Metrics:\n",
        "    def __init__(self, per_label_train_loader, per_label_test_loader, loss_fn):\n",
        "        self.per_label_train_loader = per_label_train_loader\n",
        "        self.per_label_test_loader = per_label_test_loader\n",
        "        self.loss_fn = loss_fn\n",
        "\n",
        "        self.train_loss = t.zeros(10, dtype=t.float32)\n",
        "        self.train_accuracy = t.zeros(10, dtype=t.float32)\n",
        "        self.test_loss = t.zeros(10, dtype=t.float32)\n",
        "        self.test_accuracy = t.zeros(10, dtype=t.float32)\n",
        "\n",
        "        self.trainset_sizes = t.Tensor([len(subset) for subset in per_label_train_loader.subsets])\n",
        "        self.testset_sizes = t.Tensor([len(subset) for subset in per_label_test_loader.subsets])\n",
        "\n",
        "    def measure(self, model: nn.Module):\n",
        "        with t.no_grad():\n",
        "            # Loop over each specific-label-restricted subset of data\n",
        "            for l in tqdm(range(10), desc=\"Measuring metrics\"):\n",
        "                self.per_label_train_loader.to_subset(l)\n",
        "                self.per_label_test_loader.to_subset(l)\n",
        "\n",
        "                for i, (x, y) in enumerate(self.per_label_train_loader):\n",
        "                    x, y = x.to(DEVICE), y.to(DEVICE)\n",
        "                    y_pred = model(x)\n",
        "                    _, predicted = t.max(y_pred.data, 1)\n",
        "                    self.train_accuracy[l] += (predicted == y).sum().item()\n",
        "                    self.train_loss[l] += self.loss_fn(y_pred, y).item()\n",
        "\n",
        "                self.train_accuracy[l] /= self.trainset_sizes[l]\n",
        "                self.train_loss[l] /= self.trainset_sizes[l]\n",
        "\n",
        "                for i, (x, y) in enumerate(self.per_label_test_loader):\n",
        "                    x, y = x.to(DEVICE), y.to(DEVICE)\n",
        "                    y_pred = model(x)\n",
        "                    _, predicted = t.max(y_pred.data, 1)\n",
        "                    self.test_accuracy[l] += (predicted == y).sum().item()\n",
        "                    self.test_loss[l] += self.loss_fn(y_pred, y).item()\n",
        "\n",
        "                self.test_accuracy[l] /= self.testset_sizes[l]\n",
        "                self.test_loss[l] /= self.testset_sizes[l]\n",
        "\n",
        "    def reset(self):\n",
        "        self.train_loss = t.zeros(10, dtype=t.float32)\n",
        "        self.train_accuracy = t.zeros(10, dtype=t.float32)\n",
        "        self.test_loss = t.zeros(10, dtype=t.float32)\n",
        "        self.test_accuracy = t.zeros(10, dtype=t.float32)\n",
        "\n",
        "    @property\n",
        "    def total_train_size(self):\n",
        "        return self.trainset_sizes.sum() \n",
        "    \n",
        "    @property\n",
        "    def total_test_size(self):\n",
        "        return self.testset_sizes.sum()\n",
        "\n",
        "    @property\n",
        "    def total_train_loss(self):\n",
        "        return (self.train_loss * self.trainset_sizes).sum() / self.total_train_size\n",
        "    \n",
        "    @property\n",
        "    def total_test_loss(self):\n",
        "        return (self.test_loss * self.testset_sizes).sum() / self.total_test_size\n",
        "\n",
        "    @property\n",
        "    def total_train_accuracy(self):\n",
        "        return (self.train_accuracy * self.trainset_sizes).sum() / self.total_train_size\n",
        "    \n",
        "    @property\n",
        "    def total_test_accuracy(self):\n",
        "        return (self.test_accuracy * self.testset_sizes).sum() / self.total_test_size\n",
        "\n",
        "    def as_dict(self):\n",
        "        d = {\n",
        "            \"train/loss/total\": self.total_train_loss,\n",
        "            \"test/loss/total\": self.total_test_loss,\n",
        "            \"train/accuracy/total\": self.total_train_accuracy,\n",
        "            \"test/accuracy/total\": self.total_test_accuracy,\n",
        "        }\n",
        "\n",
        "        for l in range(10):\n",
        "            d[f\"train/loss/{l}\"] = self.train_loss[l]\n",
        "            d[f\"test/loss/{l}\"] = self.test_loss[l]\n",
        "            d[f\"train/accuracy/{l}\"] = self.train_accuracy[l]\n",
        "            d[f\"test/accuracy/{l}\"] = self.test_accuracy[l]\n",
        "\n",
        "        return d      "
      ]
    },
    {
      "cell_type": "markdown",
      "metadata": {
        "id": "fIEtfSdVWM1P"
      },
      "source": [
        "Now we check whether we still get good accuracy with only 0, 1 and 2 in the dataset\n"
      ]
    },
    {
      "cell_type": "markdown",
      "metadata": {
        "id": "eCRR4gtvxzCe"
      },
      "source": [
        "So as we can see we still get good accuracy with less digits, althought there appears to be much more variation in the accuracy which was not expected, and that it takes longer to get to a good accuracy which doesnt make much sense to me. Now we will try to train this model to learn on 0s and 1s only, then we introduce 2 halfway into the second half of training (Epoch 50) to see if there is discontinuity in performance"
      ]
    },
    {
      "cell_type": "code",
      "execution_count": 11,
      "metadata": {
        "colab": {
          "base_uri": "https://localhost:8080/",
          "height": 929
        },
        "id": "bEYUIhm5x-r5",
        "outputId": "d7bd74dd-db69-45be-e9d8-6f20ad5a5e33"
      },
      "outputs": [
        {
          "name": "stderr",
          "output_type": "stream",
          "text": [
            "/home/paperspace/.local/lib/python3.9/site-packages/torch/nn/_reduction.py:42: UserWarning: size_average and reduce args will be deprecated, please use reduction='sum' instead.\n",
            "  warnings.warn(warning.format(ret))\n"
          ]
        },
        {
          "data": {
            "text/html": [
              "Finishing last run (ID:29iz6fho) before initializing another..."
            ],
            "text/plain": [
              "<IPython.core.display.HTML object>"
            ]
          },
          "metadata": {},
          "output_type": "display_data"
        },
        {
          "data": {
            "text/html": [
              "Waiting for W&B process to finish... <strong style=\"color:green\">(success).</strong>"
            ],
            "text/plain": [
              "<IPython.core.display.HTML object>"
            ]
          },
          "metadata": {},
          "output_type": "display_data"
        },
        {
          "data": {
            "text/html": [
              "Synced <strong style=\"color:#cdcd00\">spring-totem-19</strong>: <a href=\"https://wandb.ai/jqhoogland/detecting-phase-transitions-sandbox/runs/29iz6fho\" target=\"_blank\">https://wandb.ai/jqhoogland/detecting-phase-transitions-sandbox/runs/29iz6fho</a><br/>Synced 5 W&B file(s), 0 media file(s), 0 artifact file(s) and 0 other file(s)"
            ],
            "text/plain": [
              "<IPython.core.display.HTML object>"
            ]
          },
          "metadata": {},
          "output_type": "display_data"
        },
        {
          "data": {
            "text/html": [
              "Find logs at: <code>./wandb/run-20230415_171354-29iz6fho/logs</code>"
            ],
            "text/plain": [
              "<IPython.core.display.HTML object>"
            ]
          },
          "metadata": {},
          "output_type": "display_data"
        },
        {
          "data": {
            "text/html": [
              "Successfully finished last run (ID:29iz6fho). Initializing new run:<br/>"
            ],
            "text/plain": [
              "<IPython.core.display.HTML object>"
            ]
          },
          "metadata": {},
          "output_type": "display_data"
        },
        {
          "data": {
            "application/vnd.jupyter.widget-view+json": {
              "model_id": "1574b2f8e8c14e6a848bff01d8ea573f",
              "version_major": 2,
              "version_minor": 0
            },
            "text/plain": [
              "VBox(children=(Label(value='Waiting for wandb.init()...\\r'), FloatProgress(value=0.016669021650007682, max=1.0…"
            ]
          },
          "metadata": {},
          "output_type": "display_data"
        },
        {
          "data": {
            "text/html": [
              "wandb version 0.14.2 is available!  To upgrade, please run:\n",
              " $ pip install wandb --upgrade"
            ],
            "text/plain": [
              "<IPython.core.display.HTML object>"
            ]
          },
          "metadata": {},
          "output_type": "display_data"
        },
        {
          "data": {
            "text/html": [
              "Tracking run with wandb version 0.13.4"
            ],
            "text/plain": [
              "<IPython.core.display.HTML object>"
            ]
          },
          "metadata": {},
          "output_type": "display_data"
        },
        {
          "data": {
            "text/html": [
              "Run data is saved locally in <code>/home/paperspace/Projects/detecting-phase-transitions/sandbox/wandb/run-20230415_171411-1c56f8sd</code>"
            ],
            "text/plain": [
              "<IPython.core.display.HTML object>"
            ]
          },
          "metadata": {},
          "output_type": "display_data"
        },
        {
          "data": {
            "text/html": [
              "Syncing run <strong><a href=\"https://wandb.ai/jqhoogland/detecting-phase-transitions-sandbox/runs/1c56f8sd\" target=\"_blank\">exalted-gorge-20</a></strong> to <a href=\"https://wandb.ai/jqhoogland/detecting-phase-transitions-sandbox\" target=\"_blank\">Weights & Biases</a> (<a href=\"https://wandb.me/run\" target=\"_blank\">docs</a>)<br/>"
            ],
            "text/plain": [
              "<IPython.core.display.HTML object>"
            ]
          },
          "metadata": {},
          "output_type": "display_data"
        },
        {
          "data": {
            "application/vnd.jupyter.widget-view+json": {
              "model_id": "6760cfe6925f4152b0e7d976ccba85d8",
              "version_major": 2,
              "version_minor": 0
            },
            "text/plain": [
              "Epochs:   0%|          | 0/100 [00:00<?, ?it/s]"
            ]
          },
          "metadata": {},
          "output_type": "display_data"
        },
        {
          "data": {
            "application/vnd.jupyter.widget-view+json": {
              "model_id": "6096e659b4b34e3e84983a703d12e617",
              "version_major": 2,
              "version_minor": 0
            },
            "text/plain": [
              "Mini-batches:   0%|          | 0/5904 [00:00<?, ?it/s]"
            ]
          },
          "metadata": {},
          "output_type": "display_data"
        },
        {
          "data": {
            "application/vnd.jupyter.widget-view+json": {
              "model_id": "dec2cebd56ab47e7a49aa097009a8bba",
              "version_major": 2,
              "version_minor": 0
            },
            "text/plain": [
              "Measuring metrics:   0%|          | 0/10 [00:00<?, ?it/s]"
            ]
          },
          "metadata": {},
          "output_type": "display_data"
        },
        {
          "data": {
            "application/vnd.jupyter.widget-view+json": {
              "model_id": "b9e74b533a354a118da5c7873094b4c9",
              "version_major": 2,
              "version_minor": 0
            },
            "text/plain": [
              "Mini-batches:   0%|          | 0/5904 [00:00<?, ?it/s]"
            ]
          },
          "metadata": {},
          "output_type": "display_data"
        },
        {
          "data": {
            "application/vnd.jupyter.widget-view+json": {
              "model_id": "576837aa98d0426381c6e89e50a439f2",
              "version_major": 2,
              "version_minor": 0
            },
            "text/plain": [
              "Measuring metrics:   0%|          | 0/10 [00:00<?, ?it/s]"
            ]
          },
          "metadata": {},
          "output_type": "display_data"
        },
        {
          "data": {
            "application/vnd.jupyter.widget-view+json": {
              "model_id": "e0f2ebb7631943b6b1c33fcec6fb2f0a",
              "version_major": 2,
              "version_minor": 0
            },
            "text/plain": [
              "Mini-batches:   0%|          | 0/5904 [00:00<?, ?it/s]"
            ]
          },
          "metadata": {},
          "output_type": "display_data"
        },
        {
          "data": {
            "application/vnd.jupyter.widget-view+json": {
              "model_id": "446c1448c1924305879ae0fcde4d04cd",
              "version_major": 2,
              "version_minor": 0
            },
            "text/plain": [
              "Measuring metrics:   0%|          | 0/10 [00:00<?, ?it/s]"
            ]
          },
          "metadata": {},
          "output_type": "display_data"
        },
        {
          "data": {
            "application/vnd.jupyter.widget-view+json": {
              "model_id": "38c7506b6bf9468da0aa7979c701911f",
              "version_major": 2,
              "version_minor": 0
            },
            "text/plain": [
              "Mini-batches:   0%|          | 0/5904 [00:00<?, ?it/s]"
            ]
          },
          "metadata": {},
          "output_type": "display_data"
        },
        {
          "data": {
            "application/vnd.jupyter.widget-view+json": {
              "model_id": "e9e0a136bc0642758837551346502900",
              "version_major": 2,
              "version_minor": 0
            },
            "text/plain": [
              "Measuring metrics:   0%|          | 0/10 [00:00<?, ?it/s]"
            ]
          },
          "metadata": {},
          "output_type": "display_data"
        },
        {
          "data": {
            "application/vnd.jupyter.widget-view+json": {
              "model_id": "84235531091844b9915e3f612c010c81",
              "version_major": 2,
              "version_minor": 0
            },
            "text/plain": [
              "Mini-batches:   0%|          | 0/5904 [00:00<?, ?it/s]"
            ]
          },
          "metadata": {},
          "output_type": "display_data"
        },
        {
          "data": {
            "application/vnd.jupyter.widget-view+json": {
              "model_id": "eb8d5d60259345c483be8132f8a60e02",
              "version_major": 2,
              "version_minor": 0
            },
            "text/plain": [
              "Measuring metrics:   0%|          | 0/10 [00:00<?, ?it/s]"
            ]
          },
          "metadata": {},
          "output_type": "display_data"
        },
        {
          "data": {
            "application/vnd.jupyter.widget-view+json": {
              "model_id": "8a9fa1ee449941c1b37529374d82a7fc",
              "version_major": 2,
              "version_minor": 0
            },
            "text/plain": [
              "Mini-batches:   0%|          | 0/5904 [00:00<?, ?it/s]"
            ]
          },
          "metadata": {},
          "output_type": "display_data"
        },
        {
          "data": {
            "application/vnd.jupyter.widget-view+json": {
              "model_id": "fc65f4f1d2cb412280d6354e38b78349",
              "version_major": 2,
              "version_minor": 0
            },
            "text/plain": [
              "Measuring metrics:   0%|          | 0/10 [00:00<?, ?it/s]"
            ]
          },
          "metadata": {},
          "output_type": "display_data"
        },
        {
          "data": {
            "application/vnd.jupyter.widget-view+json": {
              "model_id": "4a25951926c14b15944ff85f3199db06",
              "version_major": 2,
              "version_minor": 0
            },
            "text/plain": [
              "Mini-batches:   0%|          | 0/5904 [00:00<?, ?it/s]"
            ]
          },
          "metadata": {},
          "output_type": "display_data"
        },
        {
          "data": {
            "application/vnd.jupyter.widget-view+json": {
              "model_id": "9be5b9e5e7114a158d19162991f0b0a3",
              "version_major": 2,
              "version_minor": 0
            },
            "text/plain": [
              "Measuring metrics:   0%|          | 0/10 [00:00<?, ?it/s]"
            ]
          },
          "metadata": {},
          "output_type": "display_data"
        },
        {
          "data": {
            "application/vnd.jupyter.widget-view+json": {
              "model_id": "c47a1ec532df407bafcd4847292e2916",
              "version_major": 2,
              "version_minor": 0
            },
            "text/plain": [
              "Mini-batches:   0%|          | 0/5904 [00:00<?, ?it/s]"
            ]
          },
          "metadata": {},
          "output_type": "display_data"
        },
        {
          "data": {
            "application/vnd.jupyter.widget-view+json": {
              "model_id": "39e2e2a67e2e4dd6bd945fa7b24f33f9",
              "version_major": 2,
              "version_minor": 0
            },
            "text/plain": [
              "Measuring metrics:   0%|          | 0/10 [00:00<?, ?it/s]"
            ]
          },
          "metadata": {},
          "output_type": "display_data"
        },
        {
          "data": {
            "application/vnd.jupyter.widget-view+json": {
              "model_id": "99ee23365470481d96ad59513eaedc86",
              "version_major": 2,
              "version_minor": 0
            },
            "text/plain": [
              "Mini-batches:   0%|          | 0/5904 [00:00<?, ?it/s]"
            ]
          },
          "metadata": {},
          "output_type": "display_data"
        },
        {
          "data": {
            "application/vnd.jupyter.widget-view+json": {
              "model_id": "04fe68b59233454288f49d4defc978f6",
              "version_major": 2,
              "version_minor": 0
            },
            "text/plain": [
              "Measuring metrics:   0%|          | 0/10 [00:00<?, ?it/s]"
            ]
          },
          "metadata": {},
          "output_type": "display_data"
        },
        {
          "data": {
            "application/vnd.jupyter.widget-view+json": {
              "model_id": "67217db6c33c4c6a9fa4691cf2608f6b",
              "version_major": 2,
              "version_minor": 0
            },
            "text/plain": [
              "Mini-batches:   0%|          | 0/5904 [00:00<?, ?it/s]"
            ]
          },
          "metadata": {},
          "output_type": "display_data"
        },
        {
          "data": {
            "application/vnd.jupyter.widget-view+json": {
              "model_id": "c131f0b1ff804c12b2242ad4e539c899",
              "version_major": 2,
              "version_minor": 0
            },
            "text/plain": [
              "Measuring metrics:   0%|          | 0/10 [00:00<?, ?it/s]"
            ]
          },
          "metadata": {},
          "output_type": "display_data"
        },
        {
          "name": "stdout",
          "output_type": "stream",
          "text": [
            "Next subset: Subset(MNIST, len=12665, labels=(0, 1))\n"
          ]
        },
        {
          "data": {
            "application/vnd.jupyter.widget-view+json": {
              "model_id": "851617d3157347daaa2e0006f7904e58",
              "version_major": 2,
              "version_minor": 0
            },
            "text/plain": [
              "Mini-batches:   0%|          | 0/12648 [00:00<?, ?it/s]"
            ]
          },
          "metadata": {},
          "output_type": "display_data"
        },
        {
          "data": {
            "application/vnd.jupyter.widget-view+json": {
              "model_id": "35e2abac15eb4b32b74639d160e31b63",
              "version_major": 2,
              "version_minor": 0
            },
            "text/plain": [
              "Measuring metrics:   0%|          | 0/10 [00:00<?, ?it/s]"
            ]
          },
          "metadata": {},
          "output_type": "display_data"
        },
        {
          "data": {
            "application/vnd.jupyter.widget-view+json": {
              "model_id": "2a6c84e7cd704a0cb35838493e6ea572",
              "version_major": 2,
              "version_minor": 0
            },
            "text/plain": [
              "Measuring metrics:   0%|          | 0/10 [00:00<?, ?it/s]"
            ]
          },
          "metadata": {},
          "output_type": "display_data"
        },
        {
          "data": {
            "application/vnd.jupyter.widget-view+json": {
              "model_id": "2fe3260a6acf45b28ce4a434eec296ce",
              "version_major": 2,
              "version_minor": 0
            },
            "text/plain": [
              "Measuring metrics:   0%|          | 0/10 [00:00<?, ?it/s]"
            ]
          },
          "metadata": {},
          "output_type": "display_data"
        },
        {
          "data": {
            "application/vnd.jupyter.widget-view+json": {
              "model_id": "3514c621134d43738d80ce0fc8f97721",
              "version_major": 2,
              "version_minor": 0
            },
            "text/plain": [
              "Mini-batches:   0%|          | 0/12648 [00:00<?, ?it/s]"
            ]
          },
          "metadata": {},
          "output_type": "display_data"
        },
        {
          "data": {
            "application/vnd.jupyter.widget-view+json": {
              "model_id": "072e91a7fd844498b9c63a73022ed17f",
              "version_major": 2,
              "version_minor": 0
            },
            "text/plain": [
              "Measuring metrics:   0%|          | 0/10 [00:00<?, ?it/s]"
            ]
          },
          "metadata": {},
          "output_type": "display_data"
        },
        {
          "data": {
            "application/vnd.jupyter.widget-view+json": {
              "model_id": "94d0467492ed43fdbe705c0aa124a330",
              "version_major": 2,
              "version_minor": 0
            },
            "text/plain": [
              "Measuring metrics:   0%|          | 0/10 [00:00<?, ?it/s]"
            ]
          },
          "metadata": {},
          "output_type": "display_data"
        },
        {
          "data": {
            "application/vnd.jupyter.widget-view+json": {
              "model_id": "96ea3fc402a142edb30e7ce7e10aa813",
              "version_major": 2,
              "version_minor": 0
            },
            "text/plain": [
              "Mini-batches:   0%|          | 0/12648 [00:00<?, ?it/s]"
            ]
          },
          "metadata": {},
          "output_type": "display_data"
        },
        {
          "data": {
            "application/vnd.jupyter.widget-view+json": {
              "model_id": "514aafc61afd4cbf8ee833719c452f41",
              "version_major": 2,
              "version_minor": 0
            },
            "text/plain": [
              "Measuring metrics:   0%|          | 0/10 [00:00<?, ?it/s]"
            ]
          },
          "metadata": {},
          "output_type": "display_data"
        },
        {
          "data": {
            "application/vnd.jupyter.widget-view+json": {
              "model_id": "2f1ee3188b3d46f78281adc6c91e93d3",
              "version_major": 2,
              "version_minor": 0
            },
            "text/plain": [
              "Measuring metrics:   0%|          | 0/10 [00:00<?, ?it/s]"
            ]
          },
          "metadata": {},
          "output_type": "display_data"
        },
        {
          "data": {
            "application/vnd.jupyter.widget-view+json": {
              "model_id": "dea2ca0532bd40a0b071eaffa93e375d",
              "version_major": 2,
              "version_minor": 0
            },
            "text/plain": [
              "Mini-batches:   0%|          | 0/12648 [00:00<?, ?it/s]"
            ]
          },
          "metadata": {},
          "output_type": "display_data"
        },
        {
          "data": {
            "application/vnd.jupyter.widget-view+json": {
              "model_id": "00d4ffe6d86c46c6affa76348f62017d",
              "version_major": 2,
              "version_minor": 0
            },
            "text/plain": [
              "Measuring metrics:   0%|          | 0/10 [00:00<?, ?it/s]"
            ]
          },
          "metadata": {},
          "output_type": "display_data"
        },
        {
          "data": {
            "application/vnd.jupyter.widget-view+json": {
              "model_id": "1caec2a854a6498a929cf4427af754aa",
              "version_major": 2,
              "version_minor": 0
            },
            "text/plain": [
              "Measuring metrics:   0%|          | 0/10 [00:00<?, ?it/s]"
            ]
          },
          "metadata": {},
          "output_type": "display_data"
        },
        {
          "data": {
            "application/vnd.jupyter.widget-view+json": {
              "model_id": "cbacfe0ea9cb4a499eca339e6478af0a",
              "version_major": 2,
              "version_minor": 0
            },
            "text/plain": [
              "Mini-batches:   0%|          | 0/12648 [00:00<?, ?it/s]"
            ]
          },
          "metadata": {},
          "output_type": "display_data"
        },
        {
          "data": {
            "application/vnd.jupyter.widget-view+json": {
              "model_id": "a171c7c127d94802ae247ddcbb8ea21a",
              "version_major": 2,
              "version_minor": 0
            },
            "text/plain": [
              "Measuring metrics:   0%|          | 0/10 [00:00<?, ?it/s]"
            ]
          },
          "metadata": {},
          "output_type": "display_data"
        },
        {
          "data": {
            "application/vnd.jupyter.widget-view+json": {
              "model_id": "283bf58151be4fb8975e70e288c1d08e",
              "version_major": 2,
              "version_minor": 0
            },
            "text/plain": [
              "Measuring metrics:   0%|          | 0/10 [00:00<?, ?it/s]"
            ]
          },
          "metadata": {},
          "output_type": "display_data"
        },
        {
          "data": {
            "application/vnd.jupyter.widget-view+json": {
              "model_id": "709c4805aff14d89a682c1407c45e3a3",
              "version_major": 2,
              "version_minor": 0
            },
            "text/plain": [
              "Mini-batches:   0%|          | 0/12648 [00:00<?, ?it/s]"
            ]
          },
          "metadata": {},
          "output_type": "display_data"
        },
        {
          "data": {
            "application/vnd.jupyter.widget-view+json": {
              "model_id": "ab967c3739c2481eb742ae4438deb06e",
              "version_major": 2,
              "version_minor": 0
            },
            "text/plain": [
              "Measuring metrics:   0%|          | 0/10 [00:00<?, ?it/s]"
            ]
          },
          "metadata": {},
          "output_type": "display_data"
        },
        {
          "data": {
            "application/vnd.jupyter.widget-view+json": {
              "model_id": "7bf06763a9fd4470a2112b9f1e635f86",
              "version_major": 2,
              "version_minor": 0
            },
            "text/plain": [
              "Measuring metrics:   0%|          | 0/10 [00:00<?, ?it/s]"
            ]
          },
          "metadata": {},
          "output_type": "display_data"
        },
        {
          "data": {
            "application/vnd.jupyter.widget-view+json": {
              "model_id": "eebf3a635ad54e7681143ad25a3a69ea",
              "version_major": 2,
              "version_minor": 0
            },
            "text/plain": [
              "Mini-batches:   0%|          | 0/12648 [00:00<?, ?it/s]"
            ]
          },
          "metadata": {},
          "output_type": "display_data"
        },
        {
          "data": {
            "application/vnd.jupyter.widget-view+json": {
              "model_id": "5089f8b1d36b462c89cebdaece057b58",
              "version_major": 2,
              "version_minor": 0
            },
            "text/plain": [
              "Measuring metrics:   0%|          | 0/10 [00:00<?, ?it/s]"
            ]
          },
          "metadata": {},
          "output_type": "display_data"
        },
        {
          "data": {
            "application/vnd.jupyter.widget-view+json": {
              "model_id": "75b422d254dc4f43b0496d45917436b0",
              "version_major": 2,
              "version_minor": 0
            },
            "text/plain": [
              "Measuring metrics:   0%|          | 0/10 [00:00<?, ?it/s]"
            ]
          },
          "metadata": {},
          "output_type": "display_data"
        },
        {
          "data": {
            "application/vnd.jupyter.widget-view+json": {
              "model_id": "baf27bb137b44af3a79a36dc46fb437d",
              "version_major": 2,
              "version_minor": 0
            },
            "text/plain": [
              "Mini-batches:   0%|          | 0/12648 [00:00<?, ?it/s]"
            ]
          },
          "metadata": {},
          "output_type": "display_data"
        },
        {
          "data": {
            "application/vnd.jupyter.widget-view+json": {
              "model_id": "548e43a837ad4148926ea223757dcc07",
              "version_major": 2,
              "version_minor": 0
            },
            "text/plain": [
              "Measuring metrics:   0%|          | 0/10 [00:00<?, ?it/s]"
            ]
          },
          "metadata": {},
          "output_type": "display_data"
        },
        {
          "data": {
            "application/vnd.jupyter.widget-view+json": {
              "model_id": "715230a3cf3e410db7ed11996225624e",
              "version_major": 2,
              "version_minor": 0
            },
            "text/plain": [
              "Measuring metrics:   0%|          | 0/10 [00:00<?, ?it/s]"
            ]
          },
          "metadata": {},
          "output_type": "display_data"
        },
        {
          "data": {
            "application/vnd.jupyter.widget-view+json": {
              "model_id": "3dd0b0755fa043b599e004322cef118c",
              "version_major": 2,
              "version_minor": 0
            },
            "text/plain": [
              "Mini-batches:   0%|          | 0/12648 [00:00<?, ?it/s]"
            ]
          },
          "metadata": {},
          "output_type": "display_data"
        },
        {
          "data": {
            "application/vnd.jupyter.widget-view+json": {
              "model_id": "f083dc2f59384990b936c1e4d68e8498",
              "version_major": 2,
              "version_minor": 0
            },
            "text/plain": [
              "Measuring metrics:   0%|          | 0/10 [00:00<?, ?it/s]"
            ]
          },
          "metadata": {},
          "output_type": "display_data"
        },
        {
          "data": {
            "application/vnd.jupyter.widget-view+json": {
              "model_id": "431b4ee2c5f64179853c274089879c56",
              "version_major": 2,
              "version_minor": 0
            },
            "text/plain": [
              "Measuring metrics:   0%|          | 0/10 [00:00<?, ?it/s]"
            ]
          },
          "metadata": {},
          "output_type": "display_data"
        },
        {
          "data": {
            "application/vnd.jupyter.widget-view+json": {
              "model_id": "ceca066d46c24d07befdd53a66bd50af",
              "version_major": 2,
              "version_minor": 0
            },
            "text/plain": [
              "Mini-batches:   0%|          | 0/12648 [00:00<?, ?it/s]"
            ]
          },
          "metadata": {},
          "output_type": "display_data"
        },
        {
          "data": {
            "application/vnd.jupyter.widget-view+json": {
              "model_id": "7ceac29c149c486086cc95791d1cfdd7",
              "version_major": 2,
              "version_minor": 0
            },
            "text/plain": [
              "Measuring metrics:   0%|          | 0/10 [00:00<?, ?it/s]"
            ]
          },
          "metadata": {},
          "output_type": "display_data"
        },
        {
          "data": {
            "application/vnd.jupyter.widget-view+json": {
              "model_id": "3b9b72d12bb84f1cb855821d513ab022",
              "version_major": 2,
              "version_minor": 0
            },
            "text/plain": [
              "Measuring metrics:   0%|          | 0/10 [00:00<?, ?it/s]"
            ]
          },
          "metadata": {},
          "output_type": "display_data"
        },
        {
          "name": "stdout",
          "output_type": "stream",
          "text": [
            "Next subset: Subset(MNIST, len=18623, labels=(0, 1, 2))\n"
          ]
        },
        {
          "data": {
            "application/vnd.jupyter.widget-view+json": {
              "model_id": "c8388e8e94f2435a9c5bea7c39f01e5f",
              "version_major": 2,
              "version_minor": 0
            },
            "text/plain": [
              "Mini-batches:   0%|          | 0/18600 [00:00<?, ?it/s]"
            ]
          },
          "metadata": {},
          "output_type": "display_data"
        },
        {
          "data": {
            "application/vnd.jupyter.widget-view+json": {
              "model_id": "63d07d1eb1ce4a11b7b41011ac7514f3",
              "version_major": 2,
              "version_minor": 0
            },
            "text/plain": [
              "Measuring metrics:   0%|          | 0/10 [00:00<?, ?it/s]"
            ]
          },
          "metadata": {},
          "output_type": "display_data"
        },
        {
          "data": {
            "application/vnd.jupyter.widget-view+json": {
              "model_id": "eb3eed35a61841088e58e399cab39867",
              "version_major": 2,
              "version_minor": 0
            },
            "text/plain": [
              "Measuring metrics:   0%|          | 0/10 [00:00<?, ?it/s]"
            ]
          },
          "metadata": {},
          "output_type": "display_data"
        },
        {
          "data": {
            "application/vnd.jupyter.widget-view+json": {
              "model_id": "025bf172b03243968021c01ec7256ad1",
              "version_major": 2,
              "version_minor": 0
            },
            "text/plain": [
              "Measuring metrics:   0%|          | 0/10 [00:00<?, ?it/s]"
            ]
          },
          "metadata": {},
          "output_type": "display_data"
        },
        {
          "data": {
            "application/vnd.jupyter.widget-view+json": {
              "model_id": "7e5d8ff5c7fc40b8a3b5d66dc976c673",
              "version_major": 2,
              "version_minor": 0
            },
            "text/plain": [
              "Mini-batches:   0%|          | 0/18600 [00:00<?, ?it/s]"
            ]
          },
          "metadata": {},
          "output_type": "display_data"
        },
        {
          "data": {
            "application/vnd.jupyter.widget-view+json": {
              "model_id": "73566272e789455783a2e4b353563396",
              "version_major": 2,
              "version_minor": 0
            },
            "text/plain": [
              "Measuring metrics:   0%|          | 0/10 [00:00<?, ?it/s]"
            ]
          },
          "metadata": {},
          "output_type": "display_data"
        },
        {
          "data": {
            "application/vnd.jupyter.widget-view+json": {
              "model_id": "75702c1f43eb40759600b70ff55f1500",
              "version_major": 2,
              "version_minor": 0
            },
            "text/plain": [
              "Measuring metrics:   0%|          | 0/10 [00:00<?, ?it/s]"
            ]
          },
          "metadata": {},
          "output_type": "display_data"
        },
        {
          "data": {
            "application/vnd.jupyter.widget-view+json": {
              "model_id": "e04c20a2a55c4157860752f93d3c4732",
              "version_major": 2,
              "version_minor": 0
            },
            "text/plain": [
              "Measuring metrics:   0%|          | 0/10 [00:00<?, ?it/s]"
            ]
          },
          "metadata": {},
          "output_type": "display_data"
        },
        {
          "data": {
            "application/vnd.jupyter.widget-view+json": {
              "model_id": "2ab62a19c3c949eda6e6b283f937e1d5",
              "version_major": 2,
              "version_minor": 0
            },
            "text/plain": [
              "Mini-batches:   0%|          | 0/18600 [00:00<?, ?it/s]"
            ]
          },
          "metadata": {},
          "output_type": "display_data"
        },
        {
          "data": {
            "application/vnd.jupyter.widget-view+json": {
              "model_id": "6e79f20a738943ccb7b6b7e14b45af3c",
              "version_major": 2,
              "version_minor": 0
            },
            "text/plain": [
              "Measuring metrics:   0%|          | 0/10 [00:00<?, ?it/s]"
            ]
          },
          "metadata": {},
          "output_type": "display_data"
        },
        {
          "data": {
            "application/vnd.jupyter.widget-view+json": {
              "model_id": "b3962165b5d945148caa9042519178f5",
              "version_major": 2,
              "version_minor": 0
            },
            "text/plain": [
              "Measuring metrics:   0%|          | 0/10 [00:00<?, ?it/s]"
            ]
          },
          "metadata": {},
          "output_type": "display_data"
        },
        {
          "data": {
            "application/vnd.jupyter.widget-view+json": {
              "model_id": "fbb8123d358446409cc5e6c6994969ab",
              "version_major": 2,
              "version_minor": 0
            },
            "text/plain": [
              "Measuring metrics:   0%|          | 0/10 [00:00<?, ?it/s]"
            ]
          },
          "metadata": {},
          "output_type": "display_data"
        },
        {
          "data": {
            "application/vnd.jupyter.widget-view+json": {
              "model_id": "8904c8ee868f4a9b8000a2bad32e0f76",
              "version_major": 2,
              "version_minor": 0
            },
            "text/plain": [
              "Mini-batches:   0%|          | 0/18600 [00:00<?, ?it/s]"
            ]
          },
          "metadata": {},
          "output_type": "display_data"
        },
        {
          "data": {
            "application/vnd.jupyter.widget-view+json": {
              "model_id": "f4f1516430ef4381a328617a352213cc",
              "version_major": 2,
              "version_minor": 0
            },
            "text/plain": [
              "Measuring metrics:   0%|          | 0/10 [00:00<?, ?it/s]"
            ]
          },
          "metadata": {},
          "output_type": "display_data"
        },
        {
          "data": {
            "application/vnd.jupyter.widget-view+json": {
              "model_id": "88c69d2a54374c0b9d838f0ec39076d4",
              "version_major": 2,
              "version_minor": 0
            },
            "text/plain": [
              "Measuring metrics:   0%|          | 0/10 [00:00<?, ?it/s]"
            ]
          },
          "metadata": {},
          "output_type": "display_data"
        },
        {
          "data": {
            "application/vnd.jupyter.widget-view+json": {
              "model_id": "2c1cc28f1aa44a259333f09b5009eb42",
              "version_major": 2,
              "version_minor": 0
            },
            "text/plain": [
              "Measuring metrics:   0%|          | 0/10 [00:00<?, ?it/s]"
            ]
          },
          "metadata": {},
          "output_type": "display_data"
        },
        {
          "data": {
            "application/vnd.jupyter.widget-view+json": {
              "model_id": "1788131a62b7424b857caf27a3ca94c9",
              "version_major": 2,
              "version_minor": 0
            },
            "text/plain": [
              "Mini-batches:   0%|          | 0/18600 [00:00<?, ?it/s]"
            ]
          },
          "metadata": {},
          "output_type": "display_data"
        },
        {
          "data": {
            "application/vnd.jupyter.widget-view+json": {
              "model_id": "4c111711c29a48fb8ff809cbc1973b5d",
              "version_major": 2,
              "version_minor": 0
            },
            "text/plain": [
              "Measuring metrics:   0%|          | 0/10 [00:00<?, ?it/s]"
            ]
          },
          "metadata": {},
          "output_type": "display_data"
        },
        {
          "data": {
            "application/vnd.jupyter.widget-view+json": {
              "model_id": "59dd22b623c745b2aace7b500b69cb6e",
              "version_major": 2,
              "version_minor": 0
            },
            "text/plain": [
              "Measuring metrics:   0%|          | 0/10 [00:00<?, ?it/s]"
            ]
          },
          "metadata": {},
          "output_type": "display_data"
        },
        {
          "data": {
            "application/vnd.jupyter.widget-view+json": {
              "model_id": "25a8ad6b538f41f885e2c40cbe1ac230",
              "version_major": 2,
              "version_minor": 0
            },
            "text/plain": [
              "Measuring metrics:   0%|          | 0/10 [00:00<?, ?it/s]"
            ]
          },
          "metadata": {},
          "output_type": "display_data"
        },
        {
          "data": {
            "application/vnd.jupyter.widget-view+json": {
              "model_id": "95853b74e3ba4debb38486b7d6f0d4a3",
              "version_major": 2,
              "version_minor": 0
            },
            "text/plain": [
              "Measuring metrics:   0%|          | 0/10 [00:00<?, ?it/s]"
            ]
          },
          "metadata": {},
          "output_type": "display_data"
        },
        {
          "data": {
            "application/vnd.jupyter.widget-view+json": {
              "model_id": "66b67f89ba0145339bb340f2c113cbdf",
              "version_major": 2,
              "version_minor": 0
            },
            "text/plain": [
              "Mini-batches:   0%|          | 0/18600 [00:00<?, ?it/s]"
            ]
          },
          "metadata": {},
          "output_type": "display_data"
        },
        {
          "data": {
            "application/vnd.jupyter.widget-view+json": {
              "model_id": "7107783d0351442e8fb3c915a0201e8a",
              "version_major": 2,
              "version_minor": 0
            },
            "text/plain": [
              "Measuring metrics:   0%|          | 0/10 [00:00<?, ?it/s]"
            ]
          },
          "metadata": {},
          "output_type": "display_data"
        },
        {
          "data": {
            "application/vnd.jupyter.widget-view+json": {
              "model_id": "0a1b06a9bcbc4f93a1ed87c5d1e998e3",
              "version_major": 2,
              "version_minor": 0
            },
            "text/plain": [
              "Measuring metrics:   0%|          | 0/10 [00:00<?, ?it/s]"
            ]
          },
          "metadata": {},
          "output_type": "display_data"
        },
        {
          "data": {
            "application/vnd.jupyter.widget-view+json": {
              "model_id": "495035f5f1554271868ce21c8619f858",
              "version_major": 2,
              "version_minor": 0
            },
            "text/plain": [
              "Measuring metrics:   0%|          | 0/10 [00:00<?, ?it/s]"
            ]
          },
          "metadata": {},
          "output_type": "display_data"
        },
        {
          "data": {
            "application/vnd.jupyter.widget-view+json": {
              "model_id": "7119e989d57f4f7b9695b4e780c1a178",
              "version_major": 2,
              "version_minor": 0
            },
            "text/plain": [
              "Mini-batches:   0%|          | 0/18600 [00:00<?, ?it/s]"
            ]
          },
          "metadata": {},
          "output_type": "display_data"
        },
        {
          "data": {
            "application/vnd.jupyter.widget-view+json": {
              "model_id": "652846f944344e859c831b3e41204368",
              "version_major": 2,
              "version_minor": 0
            },
            "text/plain": [
              "Measuring metrics:   0%|          | 0/10 [00:00<?, ?it/s]"
            ]
          },
          "metadata": {},
          "output_type": "display_data"
        },
        {
          "data": {
            "application/vnd.jupyter.widget-view+json": {
              "model_id": "aa28eba7683640b1a600d3b8c1a8aabe",
              "version_major": 2,
              "version_minor": 0
            },
            "text/plain": [
              "Measuring metrics:   0%|          | 0/10 [00:00<?, ?it/s]"
            ]
          },
          "metadata": {},
          "output_type": "display_data"
        },
        {
          "data": {
            "application/vnd.jupyter.widget-view+json": {
              "model_id": "02afb151a8e54e0194a5fba06835744e",
              "version_major": 2,
              "version_minor": 0
            },
            "text/plain": [
              "Measuring metrics:   0%|          | 0/10 [00:00<?, ?it/s]"
            ]
          },
          "metadata": {},
          "output_type": "display_data"
        },
        {
          "data": {
            "application/vnd.jupyter.widget-view+json": {
              "model_id": "34c309dd454643a1bd799ce0020e1668",
              "version_major": 2,
              "version_minor": 0
            },
            "text/plain": [
              "Mini-batches:   0%|          | 0/18600 [00:00<?, ?it/s]"
            ]
          },
          "metadata": {},
          "output_type": "display_data"
        },
        {
          "data": {
            "application/vnd.jupyter.widget-view+json": {
              "model_id": "33d25fb1da90473684f133c833ddbec7",
              "version_major": 2,
              "version_minor": 0
            },
            "text/plain": [
              "Measuring metrics:   0%|          | 0/10 [00:00<?, ?it/s]"
            ]
          },
          "metadata": {},
          "output_type": "display_data"
        },
        {
          "data": {
            "application/vnd.jupyter.widget-view+json": {
              "model_id": "f447e5f07d50488191ee55238ce8c1aa",
              "version_major": 2,
              "version_minor": 0
            },
            "text/plain": [
              "Measuring metrics:   0%|          | 0/10 [00:00<?, ?it/s]"
            ]
          },
          "metadata": {},
          "output_type": "display_data"
        },
        {
          "data": {
            "application/vnd.jupyter.widget-view+json": {
              "model_id": "5cbc54b206f64a93aa0bbba2a97289a8",
              "version_major": 2,
              "version_minor": 0
            },
            "text/plain": [
              "Measuring metrics:   0%|          | 0/10 [00:00<?, ?it/s]"
            ]
          },
          "metadata": {},
          "output_type": "display_data"
        },
        {
          "data": {
            "application/vnd.jupyter.widget-view+json": {
              "model_id": "ffd2ac8e36a34427bcae94e35e0badef",
              "version_major": 2,
              "version_minor": 0
            },
            "text/plain": [
              "Mini-batches:   0%|          | 0/18600 [00:00<?, ?it/s]"
            ]
          },
          "metadata": {},
          "output_type": "display_data"
        },
        {
          "data": {
            "application/vnd.jupyter.widget-view+json": {
              "model_id": "79a11c46cec147d390d35356f874ca24",
              "version_major": 2,
              "version_minor": 0
            },
            "text/plain": [
              "Measuring metrics:   0%|          | 0/10 [00:00<?, ?it/s]"
            ]
          },
          "metadata": {},
          "output_type": "display_data"
        },
        {
          "data": {
            "application/vnd.jupyter.widget-view+json": {
              "model_id": "5d5c2ad33bd14e5c9b2219afaef64a25",
              "version_major": 2,
              "version_minor": 0
            },
            "text/plain": [
              "Measuring metrics:   0%|          | 0/10 [00:00<?, ?it/s]"
            ]
          },
          "metadata": {},
          "output_type": "display_data"
        },
        {
          "data": {
            "application/vnd.jupyter.widget-view+json": {
              "model_id": "547ab75c4b8848ebbfb83536db0bd222",
              "version_major": 2,
              "version_minor": 0
            },
            "text/plain": [
              "Measuring metrics:   0%|          | 0/10 [00:00<?, ?it/s]"
            ]
          },
          "metadata": {},
          "output_type": "display_data"
        },
        {
          "data": {
            "application/vnd.jupyter.widget-view+json": {
              "model_id": "42ef2d827a4d47b3adb942a8b557b6d7",
              "version_major": 2,
              "version_minor": 0
            },
            "text/plain": [
              "Mini-batches:   0%|          | 0/18600 [00:00<?, ?it/s]"
            ]
          },
          "metadata": {},
          "output_type": "display_data"
        },
        {
          "data": {
            "application/vnd.jupyter.widget-view+json": {
              "model_id": "57b6878e6b0742bea97821d850ffc3b7",
              "version_major": 2,
              "version_minor": 0
            },
            "text/plain": [
              "Measuring metrics:   0%|          | 0/10 [00:00<?, ?it/s]"
            ]
          },
          "metadata": {},
          "output_type": "display_data"
        },
        {
          "data": {
            "application/vnd.jupyter.widget-view+json": {
              "model_id": "389cb6857a024c81ae42a4003a3d2d37",
              "version_major": 2,
              "version_minor": 0
            },
            "text/plain": [
              "Measuring metrics:   0%|          | 0/10 [00:00<?, ?it/s]"
            ]
          },
          "metadata": {},
          "output_type": "display_data"
        },
        {
          "data": {
            "application/vnd.jupyter.widget-view+json": {
              "model_id": "453e6c20973c49b2b80ecb044cfd81b2",
              "version_major": 2,
              "version_minor": 0
            },
            "text/plain": [
              "Measuring metrics:   0%|          | 0/10 [00:00<?, ?it/s]"
            ]
          },
          "metadata": {},
          "output_type": "display_data"
        },
        {
          "name": "stdout",
          "output_type": "stream",
          "text": [
            "Next subset: Subset(MNIST, len=24754, labels=(0, 1, 2, 3))\n"
          ]
        },
        {
          "data": {
            "application/vnd.jupyter.widget-view+json": {
              "model_id": "5c338e7d77b04c668f054f7979e55406",
              "version_major": 2,
              "version_minor": 0
            },
            "text/plain": [
              "Mini-batches:   0%|          | 0/24744 [00:00<?, ?it/s]"
            ]
          },
          "metadata": {},
          "output_type": "display_data"
        },
        {
          "data": {
            "application/vnd.jupyter.widget-view+json": {
              "model_id": "0586a1a3cbaf4211a0462672b046ed5d",
              "version_major": 2,
              "version_minor": 0
            },
            "text/plain": [
              "Measuring metrics:   0%|          | 0/10 [00:00<?, ?it/s]"
            ]
          },
          "metadata": {},
          "output_type": "display_data"
        },
        {
          "data": {
            "application/vnd.jupyter.widget-view+json": {
              "model_id": "3db2ee66c7b5425098fd70486e9be91c",
              "version_major": 2,
              "version_minor": 0
            },
            "text/plain": [
              "Measuring metrics:   0%|          | 0/10 [00:00<?, ?it/s]"
            ]
          },
          "metadata": {},
          "output_type": "display_data"
        },
        {
          "data": {
            "application/vnd.jupyter.widget-view+json": {
              "model_id": "3013b256d9364dff9574ca07e2d77bd4",
              "version_major": 2,
              "version_minor": 0
            },
            "text/plain": [
              "Measuring metrics:   0%|          | 0/10 [00:00<?, ?it/s]"
            ]
          },
          "metadata": {},
          "output_type": "display_data"
        },
        {
          "data": {
            "application/vnd.jupyter.widget-view+json": {
              "model_id": "cdea7e32a6104113b940dcc62dbe4f7b",
              "version_major": 2,
              "version_minor": 0
            },
            "text/plain": [
              "Measuring metrics:   0%|          | 0/10 [00:00<?, ?it/s]"
            ]
          },
          "metadata": {},
          "output_type": "display_data"
        },
        {
          "data": {
            "application/vnd.jupyter.widget-view+json": {
              "model_id": "175a8359f55e4de9ad1fdeb48f84e1d0",
              "version_major": 2,
              "version_minor": 0
            },
            "text/plain": [
              "Mini-batches:   0%|          | 0/24744 [00:00<?, ?it/s]"
            ]
          },
          "metadata": {},
          "output_type": "display_data"
        },
        {
          "data": {
            "application/vnd.jupyter.widget-view+json": {
              "model_id": "099137503007419dbd29d48899cdeaa0",
              "version_major": 2,
              "version_minor": 0
            },
            "text/plain": [
              "Measuring metrics:   0%|          | 0/10 [00:00<?, ?it/s]"
            ]
          },
          "metadata": {},
          "output_type": "display_data"
        },
        {
          "data": {
            "application/vnd.jupyter.widget-view+json": {
              "model_id": "900ece2b8edd421d9a12f299a5b3824a",
              "version_major": 2,
              "version_minor": 0
            },
            "text/plain": [
              "Measuring metrics:   0%|          | 0/10 [00:00<?, ?it/s]"
            ]
          },
          "metadata": {},
          "output_type": "display_data"
        },
        {
          "data": {
            "application/vnd.jupyter.widget-view+json": {
              "model_id": "5849bf6d82aa4a11ad5bac9b118ed550",
              "version_major": 2,
              "version_minor": 0
            },
            "text/plain": [
              "Measuring metrics:   0%|          | 0/10 [00:00<?, ?it/s]"
            ]
          },
          "metadata": {},
          "output_type": "display_data"
        },
        {
          "data": {
            "application/vnd.jupyter.widget-view+json": {
              "model_id": "65962519ca7e4c4bae916d3532924e0a",
              "version_major": 2,
              "version_minor": 0
            },
            "text/plain": [
              "Measuring metrics:   0%|          | 0/10 [00:00<?, ?it/s]"
            ]
          },
          "metadata": {},
          "output_type": "display_data"
        },
        {
          "data": {
            "application/vnd.jupyter.widget-view+json": {
              "model_id": "4867925290f141fdb334dce0f0d391af",
              "version_major": 2,
              "version_minor": 0
            },
            "text/plain": [
              "Mini-batches:   0%|          | 0/24744 [00:00<?, ?it/s]"
            ]
          },
          "metadata": {},
          "output_type": "display_data"
        },
        {
          "data": {
            "application/vnd.jupyter.widget-view+json": {
              "model_id": "933b7aeefa104bf1aa5bad90ec01f3fe",
              "version_major": 2,
              "version_minor": 0
            },
            "text/plain": [
              "Measuring metrics:   0%|          | 0/10 [00:00<?, ?it/s]"
            ]
          },
          "metadata": {},
          "output_type": "display_data"
        },
        {
          "data": {
            "application/vnd.jupyter.widget-view+json": {
              "model_id": "4ab1ec7b7f964cbd87509c626919bd48",
              "version_major": 2,
              "version_minor": 0
            },
            "text/plain": [
              "Measuring metrics:   0%|          | 0/10 [00:00<?, ?it/s]"
            ]
          },
          "metadata": {},
          "output_type": "display_data"
        },
        {
          "data": {
            "application/vnd.jupyter.widget-view+json": {
              "model_id": "77a97ea5f6144fceb01e76c3635db176",
              "version_major": 2,
              "version_minor": 0
            },
            "text/plain": [
              "Measuring metrics:   0%|          | 0/10 [00:00<?, ?it/s]"
            ]
          },
          "metadata": {},
          "output_type": "display_data"
        },
        {
          "data": {
            "application/vnd.jupyter.widget-view+json": {
              "model_id": "69f5121bfeb74335ac906913640d1f49",
              "version_major": 2,
              "version_minor": 0
            },
            "text/plain": [
              "Measuring metrics:   0%|          | 0/10 [00:00<?, ?it/s]"
            ]
          },
          "metadata": {},
          "output_type": "display_data"
        },
        {
          "data": {
            "application/vnd.jupyter.widget-view+json": {
              "model_id": "8153fc70a6d84ac696d4d3231f54bbac",
              "version_major": 2,
              "version_minor": 0
            },
            "text/plain": [
              "Mini-batches:   0%|          | 0/24744 [00:00<?, ?it/s]"
            ]
          },
          "metadata": {},
          "output_type": "display_data"
        },
        {
          "data": {
            "application/vnd.jupyter.widget-view+json": {
              "model_id": "c1492e9a9cf34849831f38220df8306d",
              "version_major": 2,
              "version_minor": 0
            },
            "text/plain": [
              "Measuring metrics:   0%|          | 0/10 [00:00<?, ?it/s]"
            ]
          },
          "metadata": {},
          "output_type": "display_data"
        },
        {
          "data": {
            "application/vnd.jupyter.widget-view+json": {
              "model_id": "c91bb70f6fab4a90a7493bb7e3e70662",
              "version_major": 2,
              "version_minor": 0
            },
            "text/plain": [
              "Measuring metrics:   0%|          | 0/10 [00:00<?, ?it/s]"
            ]
          },
          "metadata": {},
          "output_type": "display_data"
        },
        {
          "data": {
            "application/vnd.jupyter.widget-view+json": {
              "model_id": "5e3ff239db284c83b34c768a7e448c79",
              "version_major": 2,
              "version_minor": 0
            },
            "text/plain": [
              "Measuring metrics:   0%|          | 0/10 [00:00<?, ?it/s]"
            ]
          },
          "metadata": {},
          "output_type": "display_data"
        },
        {
          "data": {
            "application/vnd.jupyter.widget-view+json": {
              "model_id": "c0c86526612f4018964af259a846ce66",
              "version_major": 2,
              "version_minor": 0
            },
            "text/plain": [
              "Measuring metrics:   0%|          | 0/10 [00:00<?, ?it/s]"
            ]
          },
          "metadata": {},
          "output_type": "display_data"
        },
        {
          "data": {
            "application/vnd.jupyter.widget-view+json": {
              "model_id": "6a5a8a12ceb8412b8a450ec3cc6e80ae",
              "version_major": 2,
              "version_minor": 0
            },
            "text/plain": [
              "Mini-batches:   0%|          | 0/24744 [00:00<?, ?it/s]"
            ]
          },
          "metadata": {},
          "output_type": "display_data"
        },
        {
          "data": {
            "application/vnd.jupyter.widget-view+json": {
              "model_id": "8fdeeef7213c47a3a4341ad920d5fd50",
              "version_major": 2,
              "version_minor": 0
            },
            "text/plain": [
              "Measuring metrics:   0%|          | 0/10 [00:00<?, ?it/s]"
            ]
          },
          "metadata": {},
          "output_type": "display_data"
        },
        {
          "data": {
            "application/vnd.jupyter.widget-view+json": {
              "model_id": "654b5830a158452981d2d273806e7162",
              "version_major": 2,
              "version_minor": 0
            },
            "text/plain": [
              "Measuring metrics:   0%|          | 0/10 [00:00<?, ?it/s]"
            ]
          },
          "metadata": {},
          "output_type": "display_data"
        },
        {
          "data": {
            "application/vnd.jupyter.widget-view+json": {
              "model_id": "bed633a940f9426ab6de71a091d67700",
              "version_major": 2,
              "version_minor": 0
            },
            "text/plain": [
              "Measuring metrics:   0%|          | 0/10 [00:00<?, ?it/s]"
            ]
          },
          "metadata": {},
          "output_type": "display_data"
        },
        {
          "data": {
            "application/vnd.jupyter.widget-view+json": {
              "model_id": "1fe730ca73d5418ab8851008a39945fb",
              "version_major": 2,
              "version_minor": 0
            },
            "text/plain": [
              "Measuring metrics:   0%|          | 0/10 [00:00<?, ?it/s]"
            ]
          },
          "metadata": {},
          "output_type": "display_data"
        },
        {
          "data": {
            "application/vnd.jupyter.widget-view+json": {
              "model_id": "571e37ad2c134d099bf2b8c9d90d8e19",
              "version_major": 2,
              "version_minor": 0
            },
            "text/plain": [
              "Mini-batches:   0%|          | 0/24744 [00:00<?, ?it/s]"
            ]
          },
          "metadata": {},
          "output_type": "display_data"
        },
        {
          "data": {
            "application/vnd.jupyter.widget-view+json": {
              "model_id": "731cff2307954835b875bbfeb93025eb",
              "version_major": 2,
              "version_minor": 0
            },
            "text/plain": [
              "Measuring metrics:   0%|          | 0/10 [00:00<?, ?it/s]"
            ]
          },
          "metadata": {},
          "output_type": "display_data"
        },
        {
          "data": {
            "application/vnd.jupyter.widget-view+json": {
              "model_id": "7cad41c6047843c79e045d0ae050367e",
              "version_major": 2,
              "version_minor": 0
            },
            "text/plain": [
              "Measuring metrics:   0%|          | 0/10 [00:00<?, ?it/s]"
            ]
          },
          "metadata": {},
          "output_type": "display_data"
        },
        {
          "data": {
            "application/vnd.jupyter.widget-view+json": {
              "model_id": "398be9051b5b4643bf6c037cef027242",
              "version_major": 2,
              "version_minor": 0
            },
            "text/plain": [
              "Measuring metrics:   0%|          | 0/10 [00:00<?, ?it/s]"
            ]
          },
          "metadata": {},
          "output_type": "display_data"
        },
        {
          "data": {
            "application/vnd.jupyter.widget-view+json": {
              "model_id": "ca6a938414eb491198ab24801e7c3045",
              "version_major": 2,
              "version_minor": 0
            },
            "text/plain": [
              "Measuring metrics:   0%|          | 0/10 [00:00<?, ?it/s]"
            ]
          },
          "metadata": {},
          "output_type": "display_data"
        },
        {
          "data": {
            "application/vnd.jupyter.widget-view+json": {
              "model_id": "b5d228dfbafe422e9e2797d9b9771694",
              "version_major": 2,
              "version_minor": 0
            },
            "text/plain": [
              "Mini-batches:   0%|          | 0/24744 [00:00<?, ?it/s]"
            ]
          },
          "metadata": {},
          "output_type": "display_data"
        },
        {
          "data": {
            "application/vnd.jupyter.widget-view+json": {
              "model_id": "f817343406474e5b9a52e3c1f3e304ab",
              "version_major": 2,
              "version_minor": 0
            },
            "text/plain": [
              "Measuring metrics:   0%|          | 0/10 [00:00<?, ?it/s]"
            ]
          },
          "metadata": {},
          "output_type": "display_data"
        },
        {
          "data": {
            "application/vnd.jupyter.widget-view+json": {
              "model_id": "80483c260b344b9699a07678cad21241",
              "version_major": 2,
              "version_minor": 0
            },
            "text/plain": [
              "Measuring metrics:   0%|          | 0/10 [00:00<?, ?it/s]"
            ]
          },
          "metadata": {},
          "output_type": "display_data"
        },
        {
          "data": {
            "application/vnd.jupyter.widget-view+json": {
              "model_id": "915e14daa7fa43e48cf87b2671950c78",
              "version_major": 2,
              "version_minor": 0
            },
            "text/plain": [
              "Measuring metrics:   0%|          | 0/10 [00:00<?, ?it/s]"
            ]
          },
          "metadata": {},
          "output_type": "display_data"
        },
        {
          "data": {
            "application/vnd.jupyter.widget-view+json": {
              "model_id": "aaf5d86d123745188c58da27d596d106",
              "version_major": 2,
              "version_minor": 0
            },
            "text/plain": [
              "Measuring metrics:   0%|          | 0/10 [00:00<?, ?it/s]"
            ]
          },
          "metadata": {},
          "output_type": "display_data"
        },
        {
          "data": {
            "application/vnd.jupyter.widget-view+json": {
              "model_id": "9dc8a2f0cd7c4d8998ab8569924ee02d",
              "version_major": 2,
              "version_minor": 0
            },
            "text/plain": [
              "Mini-batches:   0%|          | 0/24744 [00:00<?, ?it/s]"
            ]
          },
          "metadata": {},
          "output_type": "display_data"
        },
        {
          "data": {
            "application/vnd.jupyter.widget-view+json": {
              "model_id": "a5f6ff40ad474ced8b0298a36b3949cd",
              "version_major": 2,
              "version_minor": 0
            },
            "text/plain": [
              "Measuring metrics:   0%|          | 0/10 [00:00<?, ?it/s]"
            ]
          },
          "metadata": {},
          "output_type": "display_data"
        },
        {
          "data": {
            "application/vnd.jupyter.widget-view+json": {
              "model_id": "81d3c5684946471ea69db4d64044a960",
              "version_major": 2,
              "version_minor": 0
            },
            "text/plain": [
              "Measuring metrics:   0%|          | 0/10 [00:00<?, ?it/s]"
            ]
          },
          "metadata": {},
          "output_type": "display_data"
        },
        {
          "data": {
            "application/vnd.jupyter.widget-view+json": {
              "model_id": "ae6f1d12c97e4cbbb88d904f1663263b",
              "version_major": 2,
              "version_minor": 0
            },
            "text/plain": [
              "Measuring metrics:   0%|          | 0/10 [00:00<?, ?it/s]"
            ]
          },
          "metadata": {},
          "output_type": "display_data"
        },
        {
          "data": {
            "application/vnd.jupyter.widget-view+json": {
              "model_id": "4ffe836472af4e5eaacbe52e4c84d968",
              "version_major": 2,
              "version_minor": 0
            },
            "text/plain": [
              "Measuring metrics:   0%|          | 0/10 [00:00<?, ?it/s]"
            ]
          },
          "metadata": {},
          "output_type": "display_data"
        },
        {
          "data": {
            "application/vnd.jupyter.widget-view+json": {
              "model_id": "9bdec70d99b848a59202ab3ea2a434c8",
              "version_major": 2,
              "version_minor": 0
            },
            "text/plain": [
              "Mini-batches:   0%|          | 0/24744 [00:00<?, ?it/s]"
            ]
          },
          "metadata": {},
          "output_type": "display_data"
        },
        {
          "data": {
            "application/vnd.jupyter.widget-view+json": {
              "model_id": "f66f5d5df5dd46c3a4085f7d86847d20",
              "version_major": 2,
              "version_minor": 0
            },
            "text/plain": [
              "Measuring metrics:   0%|          | 0/10 [00:00<?, ?it/s]"
            ]
          },
          "metadata": {},
          "output_type": "display_data"
        },
        {
          "data": {
            "application/vnd.jupyter.widget-view+json": {
              "model_id": "dd2af96152974ac0a3996e42dfcf317c",
              "version_major": 2,
              "version_minor": 0
            },
            "text/plain": [
              "Measuring metrics:   0%|          | 0/10 [00:00<?, ?it/s]"
            ]
          },
          "metadata": {},
          "output_type": "display_data"
        },
        {
          "data": {
            "application/vnd.jupyter.widget-view+json": {
              "model_id": "df8211eeae7640f288666f1233a28c64",
              "version_major": 2,
              "version_minor": 0
            },
            "text/plain": [
              "Measuring metrics:   0%|          | 0/10 [00:00<?, ?it/s]"
            ]
          },
          "metadata": {},
          "output_type": "display_data"
        },
        {
          "data": {
            "application/vnd.jupyter.widget-view+json": {
              "model_id": "2c2cde8354ff463cb7dc53832f233ec7",
              "version_major": 2,
              "version_minor": 0
            },
            "text/plain": [
              "Measuring metrics:   0%|          | 0/10 [00:00<?, ?it/s]"
            ]
          },
          "metadata": {},
          "output_type": "display_data"
        },
        {
          "data": {
            "application/vnd.jupyter.widget-view+json": {
              "model_id": "ce0f623f0ddc4a32b07419e40fda2f69",
              "version_major": 2,
              "version_minor": 0
            },
            "text/plain": [
              "Mini-batches:   0%|          | 0/24744 [00:00<?, ?it/s]"
            ]
          },
          "metadata": {},
          "output_type": "display_data"
        },
        {
          "data": {
            "application/vnd.jupyter.widget-view+json": {
              "model_id": "7b994cdd3f72460dbe1d829e4ff243e1",
              "version_major": 2,
              "version_minor": 0
            },
            "text/plain": [
              "Measuring metrics:   0%|          | 0/10 [00:00<?, ?it/s]"
            ]
          },
          "metadata": {},
          "output_type": "display_data"
        },
        {
          "data": {
            "application/vnd.jupyter.widget-view+json": {
              "model_id": "d942613858944a0cae409b193be241fe",
              "version_major": 2,
              "version_minor": 0
            },
            "text/plain": [
              "Measuring metrics:   0%|          | 0/10 [00:00<?, ?it/s]"
            ]
          },
          "metadata": {},
          "output_type": "display_data"
        },
        {
          "data": {
            "application/vnd.jupyter.widget-view+json": {
              "model_id": "1e1a42835a7c47d79e064e265a332747",
              "version_major": 2,
              "version_minor": 0
            },
            "text/plain": [
              "Measuring metrics:   0%|          | 0/10 [00:00<?, ?it/s]"
            ]
          },
          "metadata": {},
          "output_type": "display_data"
        },
        {
          "data": {
            "application/vnd.jupyter.widget-view+json": {
              "model_id": "9238b10623354e468c7db560d4654525",
              "version_major": 2,
              "version_minor": 0
            },
            "text/plain": [
              "Measuring metrics:   0%|          | 0/10 [00:00<?, ?it/s]"
            ]
          },
          "metadata": {},
          "output_type": "display_data"
        },
        {
          "name": "stdout",
          "output_type": "stream",
          "text": [
            "Next subset: Subset(MNIST, len=30596, labels=(0, 1, 2, 3, 4))\n"
          ]
        },
        {
          "data": {
            "application/vnd.jupyter.widget-view+json": {
              "model_id": "3ac7e786ba1b4f03a3b57d9805633974",
              "version_major": 2,
              "version_minor": 0
            },
            "text/plain": [
              "Mini-batches:   0%|          | 0/30576 [00:00<?, ?it/s]"
            ]
          },
          "metadata": {},
          "output_type": "display_data"
        },
        {
          "data": {
            "application/vnd.jupyter.widget-view+json": {
              "model_id": "169cae03f990421c9909861d627d71ee",
              "version_major": 2,
              "version_minor": 0
            },
            "text/plain": [
              "Measuring metrics:   0%|          | 0/10 [00:00<?, ?it/s]"
            ]
          },
          "metadata": {},
          "output_type": "display_data"
        },
        {
          "data": {
            "application/vnd.jupyter.widget-view+json": {
              "model_id": "160d55dc6a894d3f8085acbe725c4869",
              "version_major": 2,
              "version_minor": 0
            },
            "text/plain": [
              "Measuring metrics:   0%|          | 0/10 [00:00<?, ?it/s]"
            ]
          },
          "metadata": {},
          "output_type": "display_data"
        },
        {
          "data": {
            "application/vnd.jupyter.widget-view+json": {
              "model_id": "eeb66ea93efe4ed1b47f6d43c1ebf601",
              "version_major": 2,
              "version_minor": 0
            },
            "text/plain": [
              "Measuring metrics:   0%|          | 0/10 [00:00<?, ?it/s]"
            ]
          },
          "metadata": {},
          "output_type": "display_data"
        },
        {
          "data": {
            "application/vnd.jupyter.widget-view+json": {
              "model_id": "9cdbd6abb04a4d4b881ba066208901bb",
              "version_major": 2,
              "version_minor": 0
            },
            "text/plain": [
              "Measuring metrics:   0%|          | 0/10 [00:00<?, ?it/s]"
            ]
          },
          "metadata": {},
          "output_type": "display_data"
        },
        {
          "data": {
            "application/vnd.jupyter.widget-view+json": {
              "model_id": "6176ea110db24315961238b2384fc164",
              "version_major": 2,
              "version_minor": 0
            },
            "text/plain": [
              "Measuring metrics:   0%|          | 0/10 [00:00<?, ?it/s]"
            ]
          },
          "metadata": {},
          "output_type": "display_data"
        },
        {
          "data": {
            "application/vnd.jupyter.widget-view+json": {
              "model_id": "86b82637e5a9423982d5dfe2e52f3023",
              "version_major": 2,
              "version_minor": 0
            },
            "text/plain": [
              "Mini-batches:   0%|          | 0/30576 [00:00<?, ?it/s]"
            ]
          },
          "metadata": {},
          "output_type": "display_data"
        },
        {
          "data": {
            "application/vnd.jupyter.widget-view+json": {
              "model_id": "397ac78cc85b4b7f814ee88c5f807e63",
              "version_major": 2,
              "version_minor": 0
            },
            "text/plain": [
              "Measuring metrics:   0%|          | 0/10 [00:00<?, ?it/s]"
            ]
          },
          "metadata": {},
          "output_type": "display_data"
        },
        {
          "data": {
            "application/vnd.jupyter.widget-view+json": {
              "model_id": "4189431b5e2c44bb9623aac40dc4cd36",
              "version_major": 2,
              "version_minor": 0
            },
            "text/plain": [
              "Measuring metrics:   0%|          | 0/10 [00:00<?, ?it/s]"
            ]
          },
          "metadata": {},
          "output_type": "display_data"
        },
        {
          "data": {
            "application/vnd.jupyter.widget-view+json": {
              "model_id": "e75871f861e04562973990f9337cdaf0",
              "version_major": 2,
              "version_minor": 0
            },
            "text/plain": [
              "Measuring metrics:   0%|          | 0/10 [00:00<?, ?it/s]"
            ]
          },
          "metadata": {},
          "output_type": "display_data"
        },
        {
          "data": {
            "application/vnd.jupyter.widget-view+json": {
              "model_id": "437780f0fe2d4a04895f68aa57eb2e93",
              "version_major": 2,
              "version_minor": 0
            },
            "text/plain": [
              "Measuring metrics:   0%|          | 0/10 [00:00<?, ?it/s]"
            ]
          },
          "metadata": {},
          "output_type": "display_data"
        },
        {
          "data": {
            "application/vnd.jupyter.widget-view+json": {
              "model_id": "aba9411fdfdc4439bbb237f9faa79bb3",
              "version_major": 2,
              "version_minor": 0
            },
            "text/plain": [
              "Measuring metrics:   0%|          | 0/10 [00:00<?, ?it/s]"
            ]
          },
          "metadata": {},
          "output_type": "display_data"
        },
        {
          "data": {
            "application/vnd.jupyter.widget-view+json": {
              "model_id": "7f32b4fffa874ad0a80c2ac25ae81764",
              "version_major": 2,
              "version_minor": 0
            },
            "text/plain": [
              "Mini-batches:   0%|          | 0/30576 [00:00<?, ?it/s]"
            ]
          },
          "metadata": {},
          "output_type": "display_data"
        },
        {
          "data": {
            "application/vnd.jupyter.widget-view+json": {
              "model_id": "f5c4a9c5a0584761ba3aff0fc601a2d2",
              "version_major": 2,
              "version_minor": 0
            },
            "text/plain": [
              "Measuring metrics:   0%|          | 0/10 [00:00<?, ?it/s]"
            ]
          },
          "metadata": {},
          "output_type": "display_data"
        },
        {
          "data": {
            "application/vnd.jupyter.widget-view+json": {
              "model_id": "4144623843e54dc28a257781a7c2c81d",
              "version_major": 2,
              "version_minor": 0
            },
            "text/plain": [
              "Measuring metrics:   0%|          | 0/10 [00:00<?, ?it/s]"
            ]
          },
          "metadata": {},
          "output_type": "display_data"
        },
        {
          "data": {
            "application/vnd.jupyter.widget-view+json": {
              "model_id": "d1e4452d9a6c4b0a98efcf895a4faf7d",
              "version_major": 2,
              "version_minor": 0
            },
            "text/plain": [
              "Measuring metrics:   0%|          | 0/10 [00:00<?, ?it/s]"
            ]
          },
          "metadata": {},
          "output_type": "display_data"
        },
        {
          "data": {
            "application/vnd.jupyter.widget-view+json": {
              "model_id": "b412f59dcabc4cf798c8792b8854640c",
              "version_major": 2,
              "version_minor": 0
            },
            "text/plain": [
              "Measuring metrics:   0%|          | 0/10 [00:00<?, ?it/s]"
            ]
          },
          "metadata": {},
          "output_type": "display_data"
        },
        {
          "data": {
            "application/vnd.jupyter.widget-view+json": {
              "model_id": "0aec0c24fbe84066984ea1a1f7ce564a",
              "version_major": 2,
              "version_minor": 0
            },
            "text/plain": [
              "Measuring metrics:   0%|          | 0/10 [00:00<?, ?it/s]"
            ]
          },
          "metadata": {},
          "output_type": "display_data"
        },
        {
          "data": {
            "application/vnd.jupyter.widget-view+json": {
              "model_id": "82c540936fa44ae992b1a32c6f1bc1b1",
              "version_major": 2,
              "version_minor": 0
            },
            "text/plain": [
              "Mini-batches:   0%|          | 0/30576 [00:00<?, ?it/s]"
            ]
          },
          "metadata": {},
          "output_type": "display_data"
        },
        {
          "data": {
            "application/vnd.jupyter.widget-view+json": {
              "model_id": "61e1e6b71e524302a554b2930f6d3383",
              "version_major": 2,
              "version_minor": 0
            },
            "text/plain": [
              "Measuring metrics:   0%|          | 0/10 [00:00<?, ?it/s]"
            ]
          },
          "metadata": {},
          "output_type": "display_data"
        },
        {
          "data": {
            "application/vnd.jupyter.widget-view+json": {
              "model_id": "9c5651847394465bb5f59614b31a635c",
              "version_major": 2,
              "version_minor": 0
            },
            "text/plain": [
              "Measuring metrics:   0%|          | 0/10 [00:00<?, ?it/s]"
            ]
          },
          "metadata": {},
          "output_type": "display_data"
        },
        {
          "data": {
            "application/vnd.jupyter.widget-view+json": {
              "model_id": "b75dd3cdad464c4e96910811fd19c53f",
              "version_major": 2,
              "version_minor": 0
            },
            "text/plain": [
              "Measuring metrics:   0%|          | 0/10 [00:00<?, ?it/s]"
            ]
          },
          "metadata": {},
          "output_type": "display_data"
        },
        {
          "data": {
            "application/vnd.jupyter.widget-view+json": {
              "model_id": "6957f4ecd7e14f419323fb5715c38203",
              "version_major": 2,
              "version_minor": 0
            },
            "text/plain": [
              "Measuring metrics:   0%|          | 0/10 [00:00<?, ?it/s]"
            ]
          },
          "metadata": {},
          "output_type": "display_data"
        },
        {
          "data": {
            "application/vnd.jupyter.widget-view+json": {
              "model_id": "d42d0e32f79349baae735e994218e006",
              "version_major": 2,
              "version_minor": 0
            },
            "text/plain": [
              "Measuring metrics:   0%|          | 0/10 [00:00<?, ?it/s]"
            ]
          },
          "metadata": {},
          "output_type": "display_data"
        },
        {
          "data": {
            "application/vnd.jupyter.widget-view+json": {
              "model_id": "8777ccca1e4941428ca79e03ae8244e3",
              "version_major": 2,
              "version_minor": 0
            },
            "text/plain": [
              "Mini-batches:   0%|          | 0/30576 [00:00<?, ?it/s]"
            ]
          },
          "metadata": {},
          "output_type": "display_data"
        },
        {
          "data": {
            "application/vnd.jupyter.widget-view+json": {
              "model_id": "a8478a84baa44cc9b4db400da2b98e6d",
              "version_major": 2,
              "version_minor": 0
            },
            "text/plain": [
              "Measuring metrics:   0%|          | 0/10 [00:00<?, ?it/s]"
            ]
          },
          "metadata": {},
          "output_type": "display_data"
        },
        {
          "data": {
            "application/vnd.jupyter.widget-view+json": {
              "model_id": "3493267d14da4925bcd4b31902a3b547",
              "version_major": 2,
              "version_minor": 0
            },
            "text/plain": [
              "Measuring metrics:   0%|          | 0/10 [00:00<?, ?it/s]"
            ]
          },
          "metadata": {},
          "output_type": "display_data"
        },
        {
          "data": {
            "application/vnd.jupyter.widget-view+json": {
              "model_id": "695cd4cc9e784731acddb53e204c7443",
              "version_major": 2,
              "version_minor": 0
            },
            "text/plain": [
              "Measuring metrics:   0%|          | 0/10 [00:00<?, ?it/s]"
            ]
          },
          "metadata": {},
          "output_type": "display_data"
        },
        {
          "data": {
            "application/vnd.jupyter.widget-view+json": {
              "model_id": "988b95ce35064483ac3d7dcf686256a7",
              "version_major": 2,
              "version_minor": 0
            },
            "text/plain": [
              "Measuring metrics:   0%|          | 0/10 [00:00<?, ?it/s]"
            ]
          },
          "metadata": {},
          "output_type": "display_data"
        },
        {
          "data": {
            "application/vnd.jupyter.widget-view+json": {
              "model_id": "bc3494b6769e420194296baf51145ca1",
              "version_major": 2,
              "version_minor": 0
            },
            "text/plain": [
              "Measuring metrics:   0%|          | 0/10 [00:00<?, ?it/s]"
            ]
          },
          "metadata": {},
          "output_type": "display_data"
        },
        {
          "data": {
            "application/vnd.jupyter.widget-view+json": {
              "model_id": "27499c319f6d4786b6a6e44ae4625663",
              "version_major": 2,
              "version_minor": 0
            },
            "text/plain": [
              "Mini-batches:   0%|          | 0/30576 [00:00<?, ?it/s]"
            ]
          },
          "metadata": {},
          "output_type": "display_data"
        },
        {
          "data": {
            "application/vnd.jupyter.widget-view+json": {
              "model_id": "c59206aa22d04b11a5887c545044bbdb",
              "version_major": 2,
              "version_minor": 0
            },
            "text/plain": [
              "Measuring metrics:   0%|          | 0/10 [00:00<?, ?it/s]"
            ]
          },
          "metadata": {},
          "output_type": "display_data"
        },
        {
          "data": {
            "application/vnd.jupyter.widget-view+json": {
              "model_id": "39369e8169f2408ea1d2fa81114b6acf",
              "version_major": 2,
              "version_minor": 0
            },
            "text/plain": [
              "Measuring metrics:   0%|          | 0/10 [00:00<?, ?it/s]"
            ]
          },
          "metadata": {},
          "output_type": "display_data"
        },
        {
          "data": {
            "application/vnd.jupyter.widget-view+json": {
              "model_id": "09fa897a13524a90aa91616e533f3fb1",
              "version_major": 2,
              "version_minor": 0
            },
            "text/plain": [
              "Measuring metrics:   0%|          | 0/10 [00:00<?, ?it/s]"
            ]
          },
          "metadata": {},
          "output_type": "display_data"
        },
        {
          "data": {
            "application/vnd.jupyter.widget-view+json": {
              "model_id": "b180a061966d4f0a9d749fb5a18ab864",
              "version_major": 2,
              "version_minor": 0
            },
            "text/plain": [
              "Measuring metrics:   0%|          | 0/10 [00:00<?, ?it/s]"
            ]
          },
          "metadata": {},
          "output_type": "display_data"
        },
        {
          "data": {
            "application/vnd.jupyter.widget-view+json": {
              "model_id": "4db69e8cdcec4942bcd7f074cccdcaac",
              "version_major": 2,
              "version_minor": 0
            },
            "text/plain": [
              "Measuring metrics:   0%|          | 0/10 [00:00<?, ?it/s]"
            ]
          },
          "metadata": {},
          "output_type": "display_data"
        },
        {
          "data": {
            "application/vnd.jupyter.widget-view+json": {
              "model_id": "f47d45ea61c74ac5861aa9b7dbc5dec3",
              "version_major": 2,
              "version_minor": 0
            },
            "text/plain": [
              "Mini-batches:   0%|          | 0/30576 [00:00<?, ?it/s]"
            ]
          },
          "metadata": {},
          "output_type": "display_data"
        },
        {
          "data": {
            "application/vnd.jupyter.widget-view+json": {
              "model_id": "3b058f3361e94fce8bac1f3354cd78c1",
              "version_major": 2,
              "version_minor": 0
            },
            "text/plain": [
              "Measuring metrics:   0%|          | 0/10 [00:00<?, ?it/s]"
            ]
          },
          "metadata": {},
          "output_type": "display_data"
        },
        {
          "data": {
            "application/vnd.jupyter.widget-view+json": {
              "model_id": "a572ea9be5884c0aafef1a7a463e32da",
              "version_major": 2,
              "version_minor": 0
            },
            "text/plain": [
              "Measuring metrics:   0%|          | 0/10 [00:00<?, ?it/s]"
            ]
          },
          "metadata": {},
          "output_type": "display_data"
        },
        {
          "data": {
            "application/vnd.jupyter.widget-view+json": {
              "model_id": "d0c0138de96849da90e027aaef3eb37d",
              "version_major": 2,
              "version_minor": 0
            },
            "text/plain": [
              "Measuring metrics:   0%|          | 0/10 [00:00<?, ?it/s]"
            ]
          },
          "metadata": {},
          "output_type": "display_data"
        },
        {
          "data": {
            "application/vnd.jupyter.widget-view+json": {
              "model_id": "33ad31ae2d324f948beafb2f1e9a2ecd",
              "version_major": 2,
              "version_minor": 0
            },
            "text/plain": [
              "Measuring metrics:   0%|          | 0/10 [00:00<?, ?it/s]"
            ]
          },
          "metadata": {},
          "output_type": "display_data"
        },
        {
          "data": {
            "application/vnd.jupyter.widget-view+json": {
              "model_id": "22fc9b812a2c4b62b23883616b5e5ec8",
              "version_major": 2,
              "version_minor": 0
            },
            "text/plain": [
              "Measuring metrics:   0%|          | 0/10 [00:00<?, ?it/s]"
            ]
          },
          "metadata": {},
          "output_type": "display_data"
        },
        {
          "data": {
            "application/vnd.jupyter.widget-view+json": {
              "model_id": "444c87bfb98e41ab88a7bbee8ae0aab8",
              "version_major": 2,
              "version_minor": 0
            },
            "text/plain": [
              "Mini-batches:   0%|          | 0/30576 [00:00<?, ?it/s]"
            ]
          },
          "metadata": {},
          "output_type": "display_data"
        },
        {
          "data": {
            "application/vnd.jupyter.widget-view+json": {
              "model_id": "c61317611889430badbda603634f369b",
              "version_major": 2,
              "version_minor": 0
            },
            "text/plain": [
              "Measuring metrics:   0%|          | 0/10 [00:00<?, ?it/s]"
            ]
          },
          "metadata": {},
          "output_type": "display_data"
        },
        {
          "data": {
            "application/vnd.jupyter.widget-view+json": {
              "model_id": "7407744e11bc456e9be0b8c622acc966",
              "version_major": 2,
              "version_minor": 0
            },
            "text/plain": [
              "Measuring metrics:   0%|          | 0/10 [00:00<?, ?it/s]"
            ]
          },
          "metadata": {},
          "output_type": "display_data"
        },
        {
          "data": {
            "application/vnd.jupyter.widget-view+json": {
              "model_id": "3975361e52ce45bb9bb55d38dabc1b20",
              "version_major": 2,
              "version_minor": 0
            },
            "text/plain": [
              "Measuring metrics:   0%|          | 0/10 [00:00<?, ?it/s]"
            ]
          },
          "metadata": {},
          "output_type": "display_data"
        },
        {
          "data": {
            "application/vnd.jupyter.widget-view+json": {
              "model_id": "401c8bcca5594b9fa044ad8abc92abea",
              "version_major": 2,
              "version_minor": 0
            },
            "text/plain": [
              "Measuring metrics:   0%|          | 0/10 [00:00<?, ?it/s]"
            ]
          },
          "metadata": {},
          "output_type": "display_data"
        },
        {
          "data": {
            "application/vnd.jupyter.widget-view+json": {
              "model_id": "c80e298cf5e0472fa72956988d6edf03",
              "version_major": 2,
              "version_minor": 0
            },
            "text/plain": [
              "Measuring metrics:   0%|          | 0/10 [00:00<?, ?it/s]"
            ]
          },
          "metadata": {},
          "output_type": "display_data"
        },
        {
          "data": {
            "application/vnd.jupyter.widget-view+json": {
              "model_id": "44a4de372f344f2c82143ef32a61537c",
              "version_major": 2,
              "version_minor": 0
            },
            "text/plain": [
              "Mini-batches:   0%|          | 0/30576 [00:00<?, ?it/s]"
            ]
          },
          "metadata": {},
          "output_type": "display_data"
        },
        {
          "data": {
            "application/vnd.jupyter.widget-view+json": {
              "model_id": "92be4419098b4d7bbb0bd3dba79dfd9c",
              "version_major": 2,
              "version_minor": 0
            },
            "text/plain": [
              "Measuring metrics:   0%|          | 0/10 [00:00<?, ?it/s]"
            ]
          },
          "metadata": {},
          "output_type": "display_data"
        },
        {
          "data": {
            "application/vnd.jupyter.widget-view+json": {
              "model_id": "91b380a7464c411d84ebabbad9b1d897",
              "version_major": 2,
              "version_minor": 0
            },
            "text/plain": [
              "Measuring metrics:   0%|          | 0/10 [00:00<?, ?it/s]"
            ]
          },
          "metadata": {},
          "output_type": "display_data"
        },
        {
          "data": {
            "application/vnd.jupyter.widget-view+json": {
              "model_id": "f6d3d9ddfb8c4bf9a0d353f675fe6e86",
              "version_major": 2,
              "version_minor": 0
            },
            "text/plain": [
              "Measuring metrics:   0%|          | 0/10 [00:00<?, ?it/s]"
            ]
          },
          "metadata": {},
          "output_type": "display_data"
        },
        {
          "data": {
            "application/vnd.jupyter.widget-view+json": {
              "model_id": "9de815fa647d4200a4ce7fa29dcd567a",
              "version_major": 2,
              "version_minor": 0
            },
            "text/plain": [
              "Measuring metrics:   0%|          | 0/10 [00:00<?, ?it/s]"
            ]
          },
          "metadata": {},
          "output_type": "display_data"
        },
        {
          "data": {
            "application/vnd.jupyter.widget-view+json": {
              "model_id": "8bbd164b93744642b22e24f1b2512411",
              "version_major": 2,
              "version_minor": 0
            },
            "text/plain": [
              "Measuring metrics:   0%|          | 0/10 [00:00<?, ?it/s]"
            ]
          },
          "metadata": {},
          "output_type": "display_data"
        },
        {
          "data": {
            "application/vnd.jupyter.widget-view+json": {
              "model_id": "c9deebee3cb24feabcf16e69f6644d22",
              "version_major": 2,
              "version_minor": 0
            },
            "text/plain": [
              "Mini-batches:   0%|          | 0/30576 [00:00<?, ?it/s]"
            ]
          },
          "metadata": {},
          "output_type": "display_data"
        },
        {
          "data": {
            "application/vnd.jupyter.widget-view+json": {
              "model_id": "874e1bf064554a8c8a5f90c0fb1f83ad",
              "version_major": 2,
              "version_minor": 0
            },
            "text/plain": [
              "Measuring metrics:   0%|          | 0/10 [00:00<?, ?it/s]"
            ]
          },
          "metadata": {},
          "output_type": "display_data"
        },
        {
          "data": {
            "application/vnd.jupyter.widget-view+json": {
              "model_id": "b1a43c0248df43589753e29f684a2257",
              "version_major": 2,
              "version_minor": 0
            },
            "text/plain": [
              "Measuring metrics:   0%|          | 0/10 [00:00<?, ?it/s]"
            ]
          },
          "metadata": {},
          "output_type": "display_data"
        },
        {
          "data": {
            "application/vnd.jupyter.widget-view+json": {
              "model_id": "b1e91cacae1d4f059566e7362255d8be",
              "version_major": 2,
              "version_minor": 0
            },
            "text/plain": [
              "Measuring metrics:   0%|          | 0/10 [00:00<?, ?it/s]"
            ]
          },
          "metadata": {},
          "output_type": "display_data"
        },
        {
          "data": {
            "application/vnd.jupyter.widget-view+json": {
              "model_id": "91424922fbc74865b3102b35e60a4654",
              "version_major": 2,
              "version_minor": 0
            },
            "text/plain": [
              "Measuring metrics:   0%|          | 0/10 [00:00<?, ?it/s]"
            ]
          },
          "metadata": {},
          "output_type": "display_data"
        },
        {
          "data": {
            "application/vnd.jupyter.widget-view+json": {
              "model_id": "90cbde7e53554e868b555e638a13c0d8",
              "version_major": 2,
              "version_minor": 0
            },
            "text/plain": [
              "Measuring metrics:   0%|          | 0/10 [00:00<?, ?it/s]"
            ]
          },
          "metadata": {},
          "output_type": "display_data"
        },
        {
          "name": "stdout",
          "output_type": "stream",
          "text": [
            "Next subset: Subset(MNIST, len=36017, labels=(0, 1, 2, 3, 4, 5))\n"
          ]
        },
        {
          "data": {
            "application/vnd.jupyter.widget-view+json": {
              "model_id": "0ed77a17a80f4838a67e1661f8aff8c0",
              "version_major": 2,
              "version_minor": 0
            },
            "text/plain": [
              "Mini-batches:   0%|          | 0/36000 [00:00<?, ?it/s]"
            ]
          },
          "metadata": {},
          "output_type": "display_data"
        },
        {
          "data": {
            "application/vnd.jupyter.widget-view+json": {
              "model_id": "e09639339066405eb3cf001cf4fa5a14",
              "version_major": 2,
              "version_minor": 0
            },
            "text/plain": [
              "Measuring metrics:   0%|          | 0/10 [00:00<?, ?it/s]"
            ]
          },
          "metadata": {},
          "output_type": "display_data"
        },
        {
          "data": {
            "application/vnd.jupyter.widget-view+json": {
              "model_id": "c71bf002fc044a81b3f309f79f3beb7d",
              "version_major": 2,
              "version_minor": 0
            },
            "text/plain": [
              "Measuring metrics:   0%|          | 0/10 [00:00<?, ?it/s]"
            ]
          },
          "metadata": {},
          "output_type": "display_data"
        },
        {
          "data": {
            "application/vnd.jupyter.widget-view+json": {
              "model_id": "bbbf50f132d549179ecf4afac168fce5",
              "version_major": 2,
              "version_minor": 0
            },
            "text/plain": [
              "Measuring metrics:   0%|          | 0/10 [00:00<?, ?it/s]"
            ]
          },
          "metadata": {},
          "output_type": "display_data"
        },
        {
          "data": {
            "application/vnd.jupyter.widget-view+json": {
              "model_id": "11951d0a94e748a682e9fbec042dad5d",
              "version_major": 2,
              "version_minor": 0
            },
            "text/plain": [
              "Measuring metrics:   0%|          | 0/10 [00:00<?, ?it/s]"
            ]
          },
          "metadata": {},
          "output_type": "display_data"
        },
        {
          "data": {
            "application/vnd.jupyter.widget-view+json": {
              "model_id": "1459a99ae79144539eb24179bfd988c4",
              "version_major": 2,
              "version_minor": 0
            },
            "text/plain": [
              "Measuring metrics:   0%|          | 0/10 [00:00<?, ?it/s]"
            ]
          },
          "metadata": {},
          "output_type": "display_data"
        },
        {
          "data": {
            "application/vnd.jupyter.widget-view+json": {
              "model_id": "ee3b763633b146a3a19390cb8c03e9a0",
              "version_major": 2,
              "version_minor": 0
            },
            "text/plain": [
              "Measuring metrics:   0%|          | 0/10 [00:00<?, ?it/s]"
            ]
          },
          "metadata": {},
          "output_type": "display_data"
        },
        {
          "data": {
            "application/vnd.jupyter.widget-view+json": {
              "model_id": "a6b02565d451450c8dc39eae0a45a9c1",
              "version_major": 2,
              "version_minor": 0
            },
            "text/plain": [
              "Mini-batches:   0%|          | 0/36000 [00:00<?, ?it/s]"
            ]
          },
          "metadata": {},
          "output_type": "display_data"
        },
        {
          "data": {
            "application/vnd.jupyter.widget-view+json": {
              "model_id": "0bea78452416470ba704bb78ea3ac339",
              "version_major": 2,
              "version_minor": 0
            },
            "text/plain": [
              "Measuring metrics:   0%|          | 0/10 [00:00<?, ?it/s]"
            ]
          },
          "metadata": {},
          "output_type": "display_data"
        },
        {
          "data": {
            "application/vnd.jupyter.widget-view+json": {
              "model_id": "4a268f942d7c4c3eac704e6e2be71e16",
              "version_major": 2,
              "version_minor": 0
            },
            "text/plain": [
              "Measuring metrics:   0%|          | 0/10 [00:00<?, ?it/s]"
            ]
          },
          "metadata": {},
          "output_type": "display_data"
        },
        {
          "data": {
            "application/vnd.jupyter.widget-view+json": {
              "model_id": "d7c78c749f69486cbaebbdf23c7cd9ec",
              "version_major": 2,
              "version_minor": 0
            },
            "text/plain": [
              "Measuring metrics:   0%|          | 0/10 [00:00<?, ?it/s]"
            ]
          },
          "metadata": {},
          "output_type": "display_data"
        },
        {
          "data": {
            "application/vnd.jupyter.widget-view+json": {
              "model_id": "48a7adbfc3674787a6292fd6abce79e5",
              "version_major": 2,
              "version_minor": 0
            },
            "text/plain": [
              "Measuring metrics:   0%|          | 0/10 [00:00<?, ?it/s]"
            ]
          },
          "metadata": {},
          "output_type": "display_data"
        },
        {
          "data": {
            "application/vnd.jupyter.widget-view+json": {
              "model_id": "e6444ccb9a90437abfd676e52611bcdf",
              "version_major": 2,
              "version_minor": 0
            },
            "text/plain": [
              "Measuring metrics:   0%|          | 0/10 [00:00<?, ?it/s]"
            ]
          },
          "metadata": {},
          "output_type": "display_data"
        },
        {
          "data": {
            "application/vnd.jupyter.widget-view+json": {
              "model_id": "36ec0458d4714671967f7d7beb966f3f",
              "version_major": 2,
              "version_minor": 0
            },
            "text/plain": [
              "Measuring metrics:   0%|          | 0/10 [00:00<?, ?it/s]"
            ]
          },
          "metadata": {},
          "output_type": "display_data"
        },
        {
          "data": {
            "application/vnd.jupyter.widget-view+json": {
              "model_id": "7f6d3ea743b84ed292f65f434c7d8bd6",
              "version_major": 2,
              "version_minor": 0
            },
            "text/plain": [
              "Mini-batches:   0%|          | 0/36000 [00:00<?, ?it/s]"
            ]
          },
          "metadata": {},
          "output_type": "display_data"
        },
        {
          "data": {
            "application/vnd.jupyter.widget-view+json": {
              "model_id": "b430351390cb42f1a3e662041ad93c1c",
              "version_major": 2,
              "version_minor": 0
            },
            "text/plain": [
              "Measuring metrics:   0%|          | 0/10 [00:00<?, ?it/s]"
            ]
          },
          "metadata": {},
          "output_type": "display_data"
        },
        {
          "data": {
            "application/vnd.jupyter.widget-view+json": {
              "model_id": "9c14b51afec040ceb392a1c74aec1c57",
              "version_major": 2,
              "version_minor": 0
            },
            "text/plain": [
              "Measuring metrics:   0%|          | 0/10 [00:00<?, ?it/s]"
            ]
          },
          "metadata": {},
          "output_type": "display_data"
        },
        {
          "data": {
            "application/vnd.jupyter.widget-view+json": {
              "model_id": "b49d1eac1b0a46adbd03d8351a6046b9",
              "version_major": 2,
              "version_minor": 0
            },
            "text/plain": [
              "Measuring metrics:   0%|          | 0/10 [00:00<?, ?it/s]"
            ]
          },
          "metadata": {},
          "output_type": "display_data"
        },
        {
          "data": {
            "application/vnd.jupyter.widget-view+json": {
              "model_id": "70278403aca140349494057d47629383",
              "version_major": 2,
              "version_minor": 0
            },
            "text/plain": [
              "Measuring metrics:   0%|          | 0/10 [00:00<?, ?it/s]"
            ]
          },
          "metadata": {},
          "output_type": "display_data"
        },
        {
          "data": {
            "application/vnd.jupyter.widget-view+json": {
              "model_id": "eebdcd0c9d2b47d1bad8e27f8f47fe1c",
              "version_major": 2,
              "version_minor": 0
            },
            "text/plain": [
              "Measuring metrics:   0%|          | 0/10 [00:00<?, ?it/s]"
            ]
          },
          "metadata": {},
          "output_type": "display_data"
        },
        {
          "data": {
            "application/vnd.jupyter.widget-view+json": {
              "model_id": "beb38d68b904487d9783427cb2452aa2",
              "version_major": 2,
              "version_minor": 0
            },
            "text/plain": [
              "Measuring metrics:   0%|          | 0/10 [00:00<?, ?it/s]"
            ]
          },
          "metadata": {},
          "output_type": "display_data"
        },
        {
          "data": {
            "application/vnd.jupyter.widget-view+json": {
              "model_id": "727368bfd60e42ca9810bff3855ec443",
              "version_major": 2,
              "version_minor": 0
            },
            "text/plain": [
              "Mini-batches:   0%|          | 0/36000 [00:00<?, ?it/s]"
            ]
          },
          "metadata": {},
          "output_type": "display_data"
        },
        {
          "data": {
            "application/vnd.jupyter.widget-view+json": {
              "model_id": "6b734c8fbabd4cff815573658712bfec",
              "version_major": 2,
              "version_minor": 0
            },
            "text/plain": [
              "Measuring metrics:   0%|          | 0/10 [00:00<?, ?it/s]"
            ]
          },
          "metadata": {},
          "output_type": "display_data"
        },
        {
          "data": {
            "application/vnd.jupyter.widget-view+json": {
              "model_id": "8eeb2ecf295042de8513fc8e92ca8912",
              "version_major": 2,
              "version_minor": 0
            },
            "text/plain": [
              "Measuring metrics:   0%|          | 0/10 [00:00<?, ?it/s]"
            ]
          },
          "metadata": {},
          "output_type": "display_data"
        },
        {
          "data": {
            "application/vnd.jupyter.widget-view+json": {
              "model_id": "987c69cc38b944358c74c6fd9a0dfc82",
              "version_major": 2,
              "version_minor": 0
            },
            "text/plain": [
              "Measuring metrics:   0%|          | 0/10 [00:00<?, ?it/s]"
            ]
          },
          "metadata": {},
          "output_type": "display_data"
        },
        {
          "data": {
            "application/vnd.jupyter.widget-view+json": {
              "model_id": "f2a03a8e68cb475ba15e65148f4d24e7",
              "version_major": 2,
              "version_minor": 0
            },
            "text/plain": [
              "Measuring metrics:   0%|          | 0/10 [00:00<?, ?it/s]"
            ]
          },
          "metadata": {},
          "output_type": "display_data"
        },
        {
          "data": {
            "application/vnd.jupyter.widget-view+json": {
              "model_id": "621b7121431146c3b685b0d83bd08801",
              "version_major": 2,
              "version_minor": 0
            },
            "text/plain": [
              "Measuring metrics:   0%|          | 0/10 [00:00<?, ?it/s]"
            ]
          },
          "metadata": {},
          "output_type": "display_data"
        },
        {
          "data": {
            "application/vnd.jupyter.widget-view+json": {
              "model_id": "4b5f6b243d1148d6be8dda542735249a",
              "version_major": 2,
              "version_minor": 0
            },
            "text/plain": [
              "Measuring metrics:   0%|          | 0/10 [00:00<?, ?it/s]"
            ]
          },
          "metadata": {},
          "output_type": "display_data"
        },
        {
          "data": {
            "application/vnd.jupyter.widget-view+json": {
              "model_id": "c6888262a5914af79ab469804930ca27",
              "version_major": 2,
              "version_minor": 0
            },
            "text/plain": [
              "Mini-batches:   0%|          | 0/36000 [00:00<?, ?it/s]"
            ]
          },
          "metadata": {},
          "output_type": "display_data"
        },
        {
          "data": {
            "application/vnd.jupyter.widget-view+json": {
              "model_id": "c1fc101eb48a4c2eb5595fdf0fc15175",
              "version_major": 2,
              "version_minor": 0
            },
            "text/plain": [
              "Measuring metrics:   0%|          | 0/10 [00:00<?, ?it/s]"
            ]
          },
          "metadata": {},
          "output_type": "display_data"
        },
        {
          "data": {
            "application/vnd.jupyter.widget-view+json": {
              "model_id": "1ae07a2a584a4edd95d8481c7a7ce48a",
              "version_major": 2,
              "version_minor": 0
            },
            "text/plain": [
              "Measuring metrics:   0%|          | 0/10 [00:00<?, ?it/s]"
            ]
          },
          "metadata": {},
          "output_type": "display_data"
        },
        {
          "data": {
            "application/vnd.jupyter.widget-view+json": {
              "model_id": "7cac4ed5fbeb41d0914678239871a9a1",
              "version_major": 2,
              "version_minor": 0
            },
            "text/plain": [
              "Measuring metrics:   0%|          | 0/10 [00:00<?, ?it/s]"
            ]
          },
          "metadata": {},
          "output_type": "display_data"
        },
        {
          "data": {
            "application/vnd.jupyter.widget-view+json": {
              "model_id": "306c71daa62e4e3e9924cc57bd2f8767",
              "version_major": 2,
              "version_minor": 0
            },
            "text/plain": [
              "Measuring metrics:   0%|          | 0/10 [00:00<?, ?it/s]"
            ]
          },
          "metadata": {},
          "output_type": "display_data"
        },
        {
          "data": {
            "application/vnd.jupyter.widget-view+json": {
              "model_id": "a366a79eb8c44e82b733c0d12e1c38a1",
              "version_major": 2,
              "version_minor": 0
            },
            "text/plain": [
              "Measuring metrics:   0%|          | 0/10 [00:00<?, ?it/s]"
            ]
          },
          "metadata": {},
          "output_type": "display_data"
        },
        {
          "data": {
            "application/vnd.jupyter.widget-view+json": {
              "model_id": "e5897579a04b4985aebfcac7c4516183",
              "version_major": 2,
              "version_minor": 0
            },
            "text/plain": [
              "Measuring metrics:   0%|          | 0/10 [00:00<?, ?it/s]"
            ]
          },
          "metadata": {},
          "output_type": "display_data"
        },
        {
          "data": {
            "application/vnd.jupyter.widget-view+json": {
              "model_id": "284684cea27f436c87de6c21dd805013",
              "version_major": 2,
              "version_minor": 0
            },
            "text/plain": [
              "Mini-batches:   0%|          | 0/36000 [00:00<?, ?it/s]"
            ]
          },
          "metadata": {},
          "output_type": "display_data"
        },
        {
          "data": {
            "application/vnd.jupyter.widget-view+json": {
              "model_id": "8800bba90af049c58c7f181c9b8f032f",
              "version_major": 2,
              "version_minor": 0
            },
            "text/plain": [
              "Measuring metrics:   0%|          | 0/10 [00:00<?, ?it/s]"
            ]
          },
          "metadata": {},
          "output_type": "display_data"
        },
        {
          "data": {
            "application/vnd.jupyter.widget-view+json": {
              "model_id": "9ad532de52e648caa6bb001fa0104bab",
              "version_major": 2,
              "version_minor": 0
            },
            "text/plain": [
              "Measuring metrics:   0%|          | 0/10 [00:00<?, ?it/s]"
            ]
          },
          "metadata": {},
          "output_type": "display_data"
        },
        {
          "data": {
            "application/vnd.jupyter.widget-view+json": {
              "model_id": "15a1d85a550046368d3d272e71f945c8",
              "version_major": 2,
              "version_minor": 0
            },
            "text/plain": [
              "Measuring metrics:   0%|          | 0/10 [00:00<?, ?it/s]"
            ]
          },
          "metadata": {},
          "output_type": "display_data"
        },
        {
          "data": {
            "application/vnd.jupyter.widget-view+json": {
              "model_id": "99e45182d6904b3ea8fc404c9ca7370e",
              "version_major": 2,
              "version_minor": 0
            },
            "text/plain": [
              "Measuring metrics:   0%|          | 0/10 [00:00<?, ?it/s]"
            ]
          },
          "metadata": {},
          "output_type": "display_data"
        },
        {
          "data": {
            "application/vnd.jupyter.widget-view+json": {
              "model_id": "3b9f40055cfb45c8869b7dd498ac0340",
              "version_major": 2,
              "version_minor": 0
            },
            "text/plain": [
              "Measuring metrics:   0%|          | 0/10 [00:00<?, ?it/s]"
            ]
          },
          "metadata": {},
          "output_type": "display_data"
        },
        {
          "data": {
            "application/vnd.jupyter.widget-view+json": {
              "model_id": "9240d2d892e24df2aeec43f1c223650a",
              "version_major": 2,
              "version_minor": 0
            },
            "text/plain": [
              "Mini-batches:   0%|          | 0/36000 [00:00<?, ?it/s]"
            ]
          },
          "metadata": {},
          "output_type": "display_data"
        },
        {
          "data": {
            "application/vnd.jupyter.widget-view+json": {
              "model_id": "ebc11c5cbfd142788fda41d55a6eca2d",
              "version_major": 2,
              "version_minor": 0
            },
            "text/plain": [
              "Measuring metrics:   0%|          | 0/10 [00:00<?, ?it/s]"
            ]
          },
          "metadata": {},
          "output_type": "display_data"
        },
        {
          "data": {
            "application/vnd.jupyter.widget-view+json": {
              "model_id": "da830e0c21474285bdd8e0719e2228fa",
              "version_major": 2,
              "version_minor": 0
            },
            "text/plain": [
              "Measuring metrics:   0%|          | 0/10 [00:00<?, ?it/s]"
            ]
          },
          "metadata": {},
          "output_type": "display_data"
        },
        {
          "data": {
            "application/vnd.jupyter.widget-view+json": {
              "model_id": "93626a859513413fbb7b9cd6332c3e31",
              "version_major": 2,
              "version_minor": 0
            },
            "text/plain": [
              "Measuring metrics:   0%|          | 0/10 [00:00<?, ?it/s]"
            ]
          },
          "metadata": {},
          "output_type": "display_data"
        },
        {
          "data": {
            "application/vnd.jupyter.widget-view+json": {
              "model_id": "c69b43eef907405d9933dd8064916b88",
              "version_major": 2,
              "version_minor": 0
            },
            "text/plain": [
              "Measuring metrics:   0%|          | 0/10 [00:00<?, ?it/s]"
            ]
          },
          "metadata": {},
          "output_type": "display_data"
        },
        {
          "data": {
            "application/vnd.jupyter.widget-view+json": {
              "model_id": "90e1f10e01044714bca34ebf6a3d46c3",
              "version_major": 2,
              "version_minor": 0
            },
            "text/plain": [
              "Measuring metrics:   0%|          | 0/10 [00:00<?, ?it/s]"
            ]
          },
          "metadata": {},
          "output_type": "display_data"
        },
        {
          "data": {
            "application/vnd.jupyter.widget-view+json": {
              "model_id": "029f41e0db024e109e6cca9d29f2dcfc",
              "version_major": 2,
              "version_minor": 0
            },
            "text/plain": [
              "Measuring metrics:   0%|          | 0/10 [00:00<?, ?it/s]"
            ]
          },
          "metadata": {},
          "output_type": "display_data"
        },
        {
          "data": {
            "application/vnd.jupyter.widget-view+json": {
              "model_id": "f7e899c70fb9478d81ad3a0804385e56",
              "version_major": 2,
              "version_minor": 0
            },
            "text/plain": [
              "Mini-batches:   0%|          | 0/36000 [00:00<?, ?it/s]"
            ]
          },
          "metadata": {},
          "output_type": "display_data"
        },
        {
          "data": {
            "application/vnd.jupyter.widget-view+json": {
              "model_id": "4a5a2194a3464252be896b42f3b7a8b9",
              "version_major": 2,
              "version_minor": 0
            },
            "text/plain": [
              "Measuring metrics:   0%|          | 0/10 [00:00<?, ?it/s]"
            ]
          },
          "metadata": {},
          "output_type": "display_data"
        },
        {
          "data": {
            "application/vnd.jupyter.widget-view+json": {
              "model_id": "0ec0258624f44c888f3eb2bdb7abec86",
              "version_major": 2,
              "version_minor": 0
            },
            "text/plain": [
              "Measuring metrics:   0%|          | 0/10 [00:00<?, ?it/s]"
            ]
          },
          "metadata": {},
          "output_type": "display_data"
        },
        {
          "data": {
            "application/vnd.jupyter.widget-view+json": {
              "model_id": "7eb0c60ad7bf4825807b53293da18a2e",
              "version_major": 2,
              "version_minor": 0
            },
            "text/plain": [
              "Measuring metrics:   0%|          | 0/10 [00:00<?, ?it/s]"
            ]
          },
          "metadata": {},
          "output_type": "display_data"
        },
        {
          "data": {
            "application/vnd.jupyter.widget-view+json": {
              "model_id": "a6cd368ddfc14c089e16701bce461ea0",
              "version_major": 2,
              "version_minor": 0
            },
            "text/plain": [
              "Measuring metrics:   0%|          | 0/10 [00:00<?, ?it/s]"
            ]
          },
          "metadata": {},
          "output_type": "display_data"
        },
        {
          "data": {
            "application/vnd.jupyter.widget-view+json": {
              "model_id": "c5699680116e4095a5d640746259b3dd",
              "version_major": 2,
              "version_minor": 0
            },
            "text/plain": [
              "Measuring metrics:   0%|          | 0/10 [00:00<?, ?it/s]"
            ]
          },
          "metadata": {},
          "output_type": "display_data"
        },
        {
          "data": {
            "application/vnd.jupyter.widget-view+json": {
              "model_id": "4fd7bd770f3d457f8905f2a8e33b6b8d",
              "version_major": 2,
              "version_minor": 0
            },
            "text/plain": [
              "Measuring metrics:   0%|          | 0/10 [00:00<?, ?it/s]"
            ]
          },
          "metadata": {},
          "output_type": "display_data"
        },
        {
          "data": {
            "application/vnd.jupyter.widget-view+json": {
              "model_id": "fc6539cd948d4ee3bfd1e46ba96bb984",
              "version_major": 2,
              "version_minor": 0
            },
            "text/plain": [
              "Mini-batches:   0%|          | 0/36000 [00:00<?, ?it/s]"
            ]
          },
          "metadata": {},
          "output_type": "display_data"
        },
        {
          "data": {
            "application/vnd.jupyter.widget-view+json": {
              "model_id": "f67dd5b093aa4d84892b03022e6ba538",
              "version_major": 2,
              "version_minor": 0
            },
            "text/plain": [
              "Measuring metrics:   0%|          | 0/10 [00:00<?, ?it/s]"
            ]
          },
          "metadata": {},
          "output_type": "display_data"
        },
        {
          "data": {
            "application/vnd.jupyter.widget-view+json": {
              "model_id": "2cd40b4260104aa4b8b5d6511414667a",
              "version_major": 2,
              "version_minor": 0
            },
            "text/plain": [
              "Measuring metrics:   0%|          | 0/10 [00:00<?, ?it/s]"
            ]
          },
          "metadata": {},
          "output_type": "display_data"
        },
        {
          "data": {
            "application/vnd.jupyter.widget-view+json": {
              "model_id": "b4177822e67f4fbba8453a51a09aed9b",
              "version_major": 2,
              "version_minor": 0
            },
            "text/plain": [
              "Measuring metrics:   0%|          | 0/10 [00:00<?, ?it/s]"
            ]
          },
          "metadata": {},
          "output_type": "display_data"
        },
        {
          "data": {
            "application/vnd.jupyter.widget-view+json": {
              "model_id": "88bc89f4959244c6aaf6d85e7b27f766",
              "version_major": 2,
              "version_minor": 0
            },
            "text/plain": [
              "Measuring metrics:   0%|          | 0/10 [00:00<?, ?it/s]"
            ]
          },
          "metadata": {},
          "output_type": "display_data"
        },
        {
          "data": {
            "application/vnd.jupyter.widget-view+json": {
              "model_id": "dc63287fb61845a28cdc3fc7e2261dda",
              "version_major": 2,
              "version_minor": 0
            },
            "text/plain": [
              "Measuring metrics:   0%|          | 0/10 [00:00<?, ?it/s]"
            ]
          },
          "metadata": {},
          "output_type": "display_data"
        },
        {
          "data": {
            "application/vnd.jupyter.widget-view+json": {
              "model_id": "bf558b969faa445da4ffffa30ae71e63",
              "version_major": 2,
              "version_minor": 0
            },
            "text/plain": [
              "Measuring metrics:   0%|          | 0/10 [00:00<?, ?it/s]"
            ]
          },
          "metadata": {},
          "output_type": "display_data"
        },
        {
          "data": {
            "application/vnd.jupyter.widget-view+json": {
              "model_id": "74dda48eb2c24817a50bd9f434c709e0",
              "version_major": 2,
              "version_minor": 0
            },
            "text/plain": [
              "Mini-batches:   0%|          | 0/36000 [00:00<?, ?it/s]"
            ]
          },
          "metadata": {},
          "output_type": "display_data"
        },
        {
          "data": {
            "application/vnd.jupyter.widget-view+json": {
              "model_id": "8579e4321dd74980a2c88ae9fbe88ab9",
              "version_major": 2,
              "version_minor": 0
            },
            "text/plain": [
              "Measuring metrics:   0%|          | 0/10 [00:00<?, ?it/s]"
            ]
          },
          "metadata": {},
          "output_type": "display_data"
        },
        {
          "data": {
            "application/vnd.jupyter.widget-view+json": {
              "model_id": "7956e39c90c247ddbc1af31c812873fd",
              "version_major": 2,
              "version_minor": 0
            },
            "text/plain": [
              "Measuring metrics:   0%|          | 0/10 [00:00<?, ?it/s]"
            ]
          },
          "metadata": {},
          "output_type": "display_data"
        },
        {
          "data": {
            "application/vnd.jupyter.widget-view+json": {
              "model_id": "ff20a1c69062479f8f7844303e97a02e",
              "version_major": 2,
              "version_minor": 0
            },
            "text/plain": [
              "Measuring metrics:   0%|          | 0/10 [00:00<?, ?it/s]"
            ]
          },
          "metadata": {},
          "output_type": "display_data"
        },
        {
          "data": {
            "application/vnd.jupyter.widget-view+json": {
              "model_id": "b3a934583a3d41ecb597bc713588130f",
              "version_major": 2,
              "version_minor": 0
            },
            "text/plain": [
              "Measuring metrics:   0%|          | 0/10 [00:00<?, ?it/s]"
            ]
          },
          "metadata": {},
          "output_type": "display_data"
        },
        {
          "data": {
            "application/vnd.jupyter.widget-view+json": {
              "model_id": "15fe8459c8774a6d9b9fccf59a29cf38",
              "version_major": 2,
              "version_minor": 0
            },
            "text/plain": [
              "Measuring metrics:   0%|          | 0/10 [00:00<?, ?it/s]"
            ]
          },
          "metadata": {},
          "output_type": "display_data"
        },
        {
          "data": {
            "application/vnd.jupyter.widget-view+json": {
              "model_id": "ffc4a11e750b4a5ab7570cbfcd4b634e",
              "version_major": 2,
              "version_minor": 0
            },
            "text/plain": [
              "Measuring metrics:   0%|          | 0/10 [00:00<?, ?it/s]"
            ]
          },
          "metadata": {},
          "output_type": "display_data"
        },
        {
          "name": "stdout",
          "output_type": "stream",
          "text": [
            "Next subset: Subset(MNIST, len=41935, labels=(0, 1, 2, 3, 4, 5, 6))\n"
          ]
        },
        {
          "data": {
            "application/vnd.jupyter.widget-view+json": {
              "model_id": "7588950fb66f4dbd84a9a76411bf0283",
              "version_major": 2,
              "version_minor": 0
            },
            "text/plain": [
              "Mini-batches:   0%|          | 0/41928 [00:00<?, ?it/s]"
            ]
          },
          "metadata": {},
          "output_type": "display_data"
        },
        {
          "data": {
            "application/vnd.jupyter.widget-view+json": {
              "model_id": "161533f3f83a4d59b09c5ab307fcb199",
              "version_major": 2,
              "version_minor": 0
            },
            "text/plain": [
              "Measuring metrics:   0%|          | 0/10 [00:00<?, ?it/s]"
            ]
          },
          "metadata": {},
          "output_type": "display_data"
        },
        {
          "data": {
            "application/vnd.jupyter.widget-view+json": {
              "model_id": "c4e1eae1684d481aabac2078e951d492",
              "version_major": 2,
              "version_minor": 0
            },
            "text/plain": [
              "Measuring metrics:   0%|          | 0/10 [00:00<?, ?it/s]"
            ]
          },
          "metadata": {},
          "output_type": "display_data"
        },
        {
          "data": {
            "application/vnd.jupyter.widget-view+json": {
              "model_id": "277222d4969d4da9abdf9d4e6ed46d80",
              "version_major": 2,
              "version_minor": 0
            },
            "text/plain": [
              "Measuring metrics:   0%|          | 0/10 [00:00<?, ?it/s]"
            ]
          },
          "metadata": {},
          "output_type": "display_data"
        },
        {
          "data": {
            "application/vnd.jupyter.widget-view+json": {
              "model_id": "77efe7cdadd14121a6f43eadb4704c18",
              "version_major": 2,
              "version_minor": 0
            },
            "text/plain": [
              "Measuring metrics:   0%|          | 0/10 [00:00<?, ?it/s]"
            ]
          },
          "metadata": {},
          "output_type": "display_data"
        },
        {
          "data": {
            "application/vnd.jupyter.widget-view+json": {
              "model_id": "569d687256514dd5a80cc265dd6e5d28",
              "version_major": 2,
              "version_minor": 0
            },
            "text/plain": [
              "Measuring metrics:   0%|          | 0/10 [00:00<?, ?it/s]"
            ]
          },
          "metadata": {},
          "output_type": "display_data"
        },
        {
          "data": {
            "application/vnd.jupyter.widget-view+json": {
              "model_id": "1a3e2202da0a402083277b43cb37d82c",
              "version_major": 2,
              "version_minor": 0
            },
            "text/plain": [
              "Measuring metrics:   0%|          | 0/10 [00:00<?, ?it/s]"
            ]
          },
          "metadata": {},
          "output_type": "display_data"
        },
        {
          "data": {
            "application/vnd.jupyter.widget-view+json": {
              "model_id": "6ea507bf1d7a4ae3a8ed0ec8f5d6ec05",
              "version_major": 2,
              "version_minor": 0
            },
            "text/plain": [
              "Measuring metrics:   0%|          | 0/10 [00:00<?, ?it/s]"
            ]
          },
          "metadata": {},
          "output_type": "display_data"
        },
        {
          "data": {
            "application/vnd.jupyter.widget-view+json": {
              "model_id": "2f595a0763d742aabc43b3df35521a3f",
              "version_major": 2,
              "version_minor": 0
            },
            "text/plain": [
              "Mini-batches:   0%|          | 0/41928 [00:00<?, ?it/s]"
            ]
          },
          "metadata": {},
          "output_type": "display_data"
        },
        {
          "data": {
            "application/vnd.jupyter.widget-view+json": {
              "model_id": "3d253360b4114b1aa7a96be4ca3ba6d1",
              "version_major": 2,
              "version_minor": 0
            },
            "text/plain": [
              "Measuring metrics:   0%|          | 0/10 [00:00<?, ?it/s]"
            ]
          },
          "metadata": {},
          "output_type": "display_data"
        },
        {
          "data": {
            "application/vnd.jupyter.widget-view+json": {
              "model_id": "c1f9f078be1d4d428a07bc88d8443bc0",
              "version_major": 2,
              "version_minor": 0
            },
            "text/plain": [
              "Measuring metrics:   0%|          | 0/10 [00:00<?, ?it/s]"
            ]
          },
          "metadata": {},
          "output_type": "display_data"
        },
        {
          "data": {
            "application/vnd.jupyter.widget-view+json": {
              "model_id": "02979361c3ef42b9827e4730ec0b613e",
              "version_major": 2,
              "version_minor": 0
            },
            "text/plain": [
              "Measuring metrics:   0%|          | 0/10 [00:00<?, ?it/s]"
            ]
          },
          "metadata": {},
          "output_type": "display_data"
        },
        {
          "data": {
            "application/vnd.jupyter.widget-view+json": {
              "model_id": "7be3e827a95a4f20bad2c6b001b849a1",
              "version_major": 2,
              "version_minor": 0
            },
            "text/plain": [
              "Measuring metrics:   0%|          | 0/10 [00:00<?, ?it/s]"
            ]
          },
          "metadata": {},
          "output_type": "display_data"
        },
        {
          "data": {
            "application/vnd.jupyter.widget-view+json": {
              "model_id": "8458b2b172904174a02f4d7897e4637c",
              "version_major": 2,
              "version_minor": 0
            },
            "text/plain": [
              "Measuring metrics:   0%|          | 0/10 [00:00<?, ?it/s]"
            ]
          },
          "metadata": {},
          "output_type": "display_data"
        },
        {
          "data": {
            "application/vnd.jupyter.widget-view+json": {
              "model_id": "55c58d2af6b540bc8a56d6ee468710cb",
              "version_major": 2,
              "version_minor": 0
            },
            "text/plain": [
              "Measuring metrics:   0%|          | 0/10 [00:00<?, ?it/s]"
            ]
          },
          "metadata": {},
          "output_type": "display_data"
        },
        {
          "data": {
            "application/vnd.jupyter.widget-view+json": {
              "model_id": "894b1ba5ff1a42e984993282b3455b90",
              "version_major": 2,
              "version_minor": 0
            },
            "text/plain": [
              "Measuring metrics:   0%|          | 0/10 [00:00<?, ?it/s]"
            ]
          },
          "metadata": {},
          "output_type": "display_data"
        },
        {
          "data": {
            "application/vnd.jupyter.widget-view+json": {
              "model_id": "49cd92798e0b4961adbe809d6b4617f1",
              "version_major": 2,
              "version_minor": 0
            },
            "text/plain": [
              "Mini-batches:   0%|          | 0/41928 [00:00<?, ?it/s]"
            ]
          },
          "metadata": {},
          "output_type": "display_data"
        },
        {
          "data": {
            "application/vnd.jupyter.widget-view+json": {
              "model_id": "2c8daf50cf3642399016dc2f18fb71c8",
              "version_major": 2,
              "version_minor": 0
            },
            "text/plain": [
              "Measuring metrics:   0%|          | 0/10 [00:00<?, ?it/s]"
            ]
          },
          "metadata": {},
          "output_type": "display_data"
        },
        {
          "data": {
            "application/vnd.jupyter.widget-view+json": {
              "model_id": "5f12e1333e5e4724b2090fdc9273d609",
              "version_major": 2,
              "version_minor": 0
            },
            "text/plain": [
              "Measuring metrics:   0%|          | 0/10 [00:00<?, ?it/s]"
            ]
          },
          "metadata": {},
          "output_type": "display_data"
        },
        {
          "data": {
            "application/vnd.jupyter.widget-view+json": {
              "model_id": "1e21147cceb547d6a52266c53b3870db",
              "version_major": 2,
              "version_minor": 0
            },
            "text/plain": [
              "Measuring metrics:   0%|          | 0/10 [00:00<?, ?it/s]"
            ]
          },
          "metadata": {},
          "output_type": "display_data"
        },
        {
          "data": {
            "application/vnd.jupyter.widget-view+json": {
              "model_id": "9a7f2ca254d24be4985d20f68e81e53e",
              "version_major": 2,
              "version_minor": 0
            },
            "text/plain": [
              "Measuring metrics:   0%|          | 0/10 [00:00<?, ?it/s]"
            ]
          },
          "metadata": {},
          "output_type": "display_data"
        },
        {
          "data": {
            "application/vnd.jupyter.widget-view+json": {
              "model_id": "47411d66513942578daa6e4bc0f65e8f",
              "version_major": 2,
              "version_minor": 0
            },
            "text/plain": [
              "Measuring metrics:   0%|          | 0/10 [00:00<?, ?it/s]"
            ]
          },
          "metadata": {},
          "output_type": "display_data"
        },
        {
          "data": {
            "application/vnd.jupyter.widget-view+json": {
              "model_id": "2bafc24e218b408dac54a98e42ac6ecf",
              "version_major": 2,
              "version_minor": 0
            },
            "text/plain": [
              "Measuring metrics:   0%|          | 0/10 [00:00<?, ?it/s]"
            ]
          },
          "metadata": {},
          "output_type": "display_data"
        },
        {
          "data": {
            "application/vnd.jupyter.widget-view+json": {
              "model_id": "e955ada0bf794887b66dc69216a4ed4a",
              "version_major": 2,
              "version_minor": 0
            },
            "text/plain": [
              "Mini-batches:   0%|          | 0/41928 [00:00<?, ?it/s]"
            ]
          },
          "metadata": {},
          "output_type": "display_data"
        },
        {
          "data": {
            "application/vnd.jupyter.widget-view+json": {
              "model_id": "1f474024bdbe427cb440e9dc1da66172",
              "version_major": 2,
              "version_minor": 0
            },
            "text/plain": [
              "Measuring metrics:   0%|          | 0/10 [00:00<?, ?it/s]"
            ]
          },
          "metadata": {},
          "output_type": "display_data"
        },
        {
          "data": {
            "application/vnd.jupyter.widget-view+json": {
              "model_id": "ed338dc8ebc047188f85768bf8883254",
              "version_major": 2,
              "version_minor": 0
            },
            "text/plain": [
              "Measuring metrics:   0%|          | 0/10 [00:00<?, ?it/s]"
            ]
          },
          "metadata": {},
          "output_type": "display_data"
        },
        {
          "data": {
            "application/vnd.jupyter.widget-view+json": {
              "model_id": "fc344e72c5f248ad9af6a506deef7853",
              "version_major": 2,
              "version_minor": 0
            },
            "text/plain": [
              "Measuring metrics:   0%|          | 0/10 [00:00<?, ?it/s]"
            ]
          },
          "metadata": {},
          "output_type": "display_data"
        },
        {
          "data": {
            "application/vnd.jupyter.widget-view+json": {
              "model_id": "fb9e98f868964925b5e8449db1af34d2",
              "version_major": 2,
              "version_minor": 0
            },
            "text/plain": [
              "Measuring metrics:   0%|          | 0/10 [00:00<?, ?it/s]"
            ]
          },
          "metadata": {},
          "output_type": "display_data"
        },
        {
          "data": {
            "application/vnd.jupyter.widget-view+json": {
              "model_id": "63cd856a476d4d33922ba439c5b40efe",
              "version_major": 2,
              "version_minor": 0
            },
            "text/plain": [
              "Measuring metrics:   0%|          | 0/10 [00:00<?, ?it/s]"
            ]
          },
          "metadata": {},
          "output_type": "display_data"
        },
        {
          "data": {
            "application/vnd.jupyter.widget-view+json": {
              "model_id": "915da60eaa2e4e0687a28960459d447f",
              "version_major": 2,
              "version_minor": 0
            },
            "text/plain": [
              "Measuring metrics:   0%|          | 0/10 [00:00<?, ?it/s]"
            ]
          },
          "metadata": {},
          "output_type": "display_data"
        },
        {
          "data": {
            "application/vnd.jupyter.widget-view+json": {
              "model_id": "d43abfc77beb43489ebc5f3a4129eecf",
              "version_major": 2,
              "version_minor": 0
            },
            "text/plain": [
              "Measuring metrics:   0%|          | 0/10 [00:00<?, ?it/s]"
            ]
          },
          "metadata": {},
          "output_type": "display_data"
        },
        {
          "data": {
            "application/vnd.jupyter.widget-view+json": {
              "model_id": "df8e7f22280b4300ae3a0c9e943780eb",
              "version_major": 2,
              "version_minor": 0
            },
            "text/plain": [
              "Mini-batches:   0%|          | 0/41928 [00:00<?, ?it/s]"
            ]
          },
          "metadata": {},
          "output_type": "display_data"
        },
        {
          "data": {
            "application/vnd.jupyter.widget-view+json": {
              "model_id": "ba371db372a2418baf8c72be4bcda53b",
              "version_major": 2,
              "version_minor": 0
            },
            "text/plain": [
              "Measuring metrics:   0%|          | 0/10 [00:00<?, ?it/s]"
            ]
          },
          "metadata": {},
          "output_type": "display_data"
        },
        {
          "data": {
            "application/vnd.jupyter.widget-view+json": {
              "model_id": "feeeb4782f474d5ba249ad3f807981e6",
              "version_major": 2,
              "version_minor": 0
            },
            "text/plain": [
              "Measuring metrics:   0%|          | 0/10 [00:00<?, ?it/s]"
            ]
          },
          "metadata": {},
          "output_type": "display_data"
        },
        {
          "data": {
            "application/vnd.jupyter.widget-view+json": {
              "model_id": "650b5872d3914f3895030b330bc80cba",
              "version_major": 2,
              "version_minor": 0
            },
            "text/plain": [
              "Measuring metrics:   0%|          | 0/10 [00:00<?, ?it/s]"
            ]
          },
          "metadata": {},
          "output_type": "display_data"
        },
        {
          "data": {
            "application/vnd.jupyter.widget-view+json": {
              "model_id": "9c040543bf574f488efb6ce6c8709100",
              "version_major": 2,
              "version_minor": 0
            },
            "text/plain": [
              "Measuring metrics:   0%|          | 0/10 [00:00<?, ?it/s]"
            ]
          },
          "metadata": {},
          "output_type": "display_data"
        },
        {
          "data": {
            "application/vnd.jupyter.widget-view+json": {
              "model_id": "22c92ea1c7544a9abd57185ac93d2cb6",
              "version_major": 2,
              "version_minor": 0
            },
            "text/plain": [
              "Measuring metrics:   0%|          | 0/10 [00:00<?, ?it/s]"
            ]
          },
          "metadata": {},
          "output_type": "display_data"
        },
        {
          "data": {
            "application/vnd.jupyter.widget-view+json": {
              "model_id": "08dbf2d212d2479db1650ab49526e09c",
              "version_major": 2,
              "version_minor": 0
            },
            "text/plain": [
              "Measuring metrics:   0%|          | 0/10 [00:00<?, ?it/s]"
            ]
          },
          "metadata": {},
          "output_type": "display_data"
        },
        {
          "data": {
            "application/vnd.jupyter.widget-view+json": {
              "model_id": "4ae7ed8045be4498873eb3b8f2ac838b",
              "version_major": 2,
              "version_minor": 0
            },
            "text/plain": [
              "Measuring metrics:   0%|          | 0/10 [00:00<?, ?it/s]"
            ]
          },
          "metadata": {},
          "output_type": "display_data"
        },
        {
          "data": {
            "application/vnd.jupyter.widget-view+json": {
              "model_id": "7652ca0bbc254c83891083b317839bff",
              "version_major": 2,
              "version_minor": 0
            },
            "text/plain": [
              "Mini-batches:   0%|          | 0/41928 [00:00<?, ?it/s]"
            ]
          },
          "metadata": {},
          "output_type": "display_data"
        },
        {
          "data": {
            "application/vnd.jupyter.widget-view+json": {
              "model_id": "91bf0733500045a59ef67a0246856c57",
              "version_major": 2,
              "version_minor": 0
            },
            "text/plain": [
              "Measuring metrics:   0%|          | 0/10 [00:00<?, ?it/s]"
            ]
          },
          "metadata": {},
          "output_type": "display_data"
        },
        {
          "data": {
            "application/vnd.jupyter.widget-view+json": {
              "model_id": "92e7d547ea7c4866b68b9e4db1cb16be",
              "version_major": 2,
              "version_minor": 0
            },
            "text/plain": [
              "Measuring metrics:   0%|          | 0/10 [00:00<?, ?it/s]"
            ]
          },
          "metadata": {},
          "output_type": "display_data"
        },
        {
          "data": {
            "application/vnd.jupyter.widget-view+json": {
              "model_id": "ec268c02432a4052926887879af78dfb",
              "version_major": 2,
              "version_minor": 0
            },
            "text/plain": [
              "Measuring metrics:   0%|          | 0/10 [00:00<?, ?it/s]"
            ]
          },
          "metadata": {},
          "output_type": "display_data"
        },
        {
          "data": {
            "application/vnd.jupyter.widget-view+json": {
              "model_id": "807310374f1a43689d7e6ade098618bb",
              "version_major": 2,
              "version_minor": 0
            },
            "text/plain": [
              "Measuring metrics:   0%|          | 0/10 [00:00<?, ?it/s]"
            ]
          },
          "metadata": {},
          "output_type": "display_data"
        },
        {
          "data": {
            "application/vnd.jupyter.widget-view+json": {
              "model_id": "d085031bad6b4e7f90c8094f2b0f2567",
              "version_major": 2,
              "version_minor": 0
            },
            "text/plain": [
              "Measuring metrics:   0%|          | 0/10 [00:00<?, ?it/s]"
            ]
          },
          "metadata": {},
          "output_type": "display_data"
        },
        {
          "data": {
            "application/vnd.jupyter.widget-view+json": {
              "model_id": "dfb17d6f06b6482782c25f77fac1fea0",
              "version_major": 2,
              "version_minor": 0
            },
            "text/plain": [
              "Measuring metrics:   0%|          | 0/10 [00:00<?, ?it/s]"
            ]
          },
          "metadata": {},
          "output_type": "display_data"
        },
        {
          "data": {
            "application/vnd.jupyter.widget-view+json": {
              "model_id": "82921c98f9204f82a1f41a1f866dc970",
              "version_major": 2,
              "version_minor": 0
            },
            "text/plain": [
              "Measuring metrics:   0%|          | 0/10 [00:00<?, ?it/s]"
            ]
          },
          "metadata": {},
          "output_type": "display_data"
        },
        {
          "data": {
            "application/vnd.jupyter.widget-view+json": {
              "model_id": "2d883deb7763403b8ff866b8527df9e4",
              "version_major": 2,
              "version_minor": 0
            },
            "text/plain": [
              "Mini-batches:   0%|          | 0/41928 [00:00<?, ?it/s]"
            ]
          },
          "metadata": {},
          "output_type": "display_data"
        },
        {
          "data": {
            "application/vnd.jupyter.widget-view+json": {
              "model_id": "4626cb459d464c938416884f17a97df7",
              "version_major": 2,
              "version_minor": 0
            },
            "text/plain": [
              "Measuring metrics:   0%|          | 0/10 [00:00<?, ?it/s]"
            ]
          },
          "metadata": {},
          "output_type": "display_data"
        },
        {
          "data": {
            "application/vnd.jupyter.widget-view+json": {
              "model_id": "1ee07c02a9064496a6d72775ec288b59",
              "version_major": 2,
              "version_minor": 0
            },
            "text/plain": [
              "Measuring metrics:   0%|          | 0/10 [00:00<?, ?it/s]"
            ]
          },
          "metadata": {},
          "output_type": "display_data"
        },
        {
          "data": {
            "application/vnd.jupyter.widget-view+json": {
              "model_id": "ee2bd159fd26471f8cf3ce9e112999b2",
              "version_major": 2,
              "version_minor": 0
            },
            "text/plain": [
              "Measuring metrics:   0%|          | 0/10 [00:00<?, ?it/s]"
            ]
          },
          "metadata": {},
          "output_type": "display_data"
        },
        {
          "data": {
            "application/vnd.jupyter.widget-view+json": {
              "model_id": "6725996899c841bb8c570fdee939e9e2",
              "version_major": 2,
              "version_minor": 0
            },
            "text/plain": [
              "Measuring metrics:   0%|          | 0/10 [00:00<?, ?it/s]"
            ]
          },
          "metadata": {},
          "output_type": "display_data"
        },
        {
          "data": {
            "application/vnd.jupyter.widget-view+json": {
              "model_id": "2f8e362f167d4c06a928743056a01235",
              "version_major": 2,
              "version_minor": 0
            },
            "text/plain": [
              "Measuring metrics:   0%|          | 0/10 [00:00<?, ?it/s]"
            ]
          },
          "metadata": {},
          "output_type": "display_data"
        },
        {
          "data": {
            "application/vnd.jupyter.widget-view+json": {
              "model_id": "2b96ec940e83486f8ddb238466320b99",
              "version_major": 2,
              "version_minor": 0
            },
            "text/plain": [
              "Measuring metrics:   0%|          | 0/10 [00:00<?, ?it/s]"
            ]
          },
          "metadata": {},
          "output_type": "display_data"
        },
        {
          "data": {
            "application/vnd.jupyter.widget-view+json": {
              "model_id": "dc057368e20d4eaf9b3c7ff2e83994ce",
              "version_major": 2,
              "version_minor": 0
            },
            "text/plain": [
              "Measuring metrics:   0%|          | 0/10 [00:00<?, ?it/s]"
            ]
          },
          "metadata": {},
          "output_type": "display_data"
        },
        {
          "data": {
            "application/vnd.jupyter.widget-view+json": {
              "model_id": "9055f85349004388a759f66c1b16e970",
              "version_major": 2,
              "version_minor": 0
            },
            "text/plain": [
              "Mini-batches:   0%|          | 0/41928 [00:00<?, ?it/s]"
            ]
          },
          "metadata": {},
          "output_type": "display_data"
        },
        {
          "data": {
            "application/vnd.jupyter.widget-view+json": {
              "model_id": "4ee22322ca614063875a38e36f4d538f",
              "version_major": 2,
              "version_minor": 0
            },
            "text/plain": [
              "Measuring metrics:   0%|          | 0/10 [00:00<?, ?it/s]"
            ]
          },
          "metadata": {},
          "output_type": "display_data"
        },
        {
          "data": {
            "application/vnd.jupyter.widget-view+json": {
              "model_id": "4d457e59798d4f76b1fcbaad253c8204",
              "version_major": 2,
              "version_minor": 0
            },
            "text/plain": [
              "Measuring metrics:   0%|          | 0/10 [00:00<?, ?it/s]"
            ]
          },
          "metadata": {},
          "output_type": "display_data"
        },
        {
          "data": {
            "application/vnd.jupyter.widget-view+json": {
              "model_id": "995a516dbf0a44f4bb14ca729658d9d6",
              "version_major": 2,
              "version_minor": 0
            },
            "text/plain": [
              "Measuring metrics:   0%|          | 0/10 [00:00<?, ?it/s]"
            ]
          },
          "metadata": {},
          "output_type": "display_data"
        },
        {
          "data": {
            "application/vnd.jupyter.widget-view+json": {
              "model_id": "95c9c69706c04c9bac4c6f6d592d1431",
              "version_major": 2,
              "version_minor": 0
            },
            "text/plain": [
              "Measuring metrics:   0%|          | 0/10 [00:00<?, ?it/s]"
            ]
          },
          "metadata": {},
          "output_type": "display_data"
        },
        {
          "data": {
            "application/vnd.jupyter.widget-view+json": {
              "model_id": "0064d63c3fa84c369a5e3c1948af744f",
              "version_major": 2,
              "version_minor": 0
            },
            "text/plain": [
              "Measuring metrics:   0%|          | 0/10 [00:00<?, ?it/s]"
            ]
          },
          "metadata": {},
          "output_type": "display_data"
        },
        {
          "data": {
            "application/vnd.jupyter.widget-view+json": {
              "model_id": "03b7ff42f0df4d92928c5bd6306df272",
              "version_major": 2,
              "version_minor": 0
            },
            "text/plain": [
              "Measuring metrics:   0%|          | 0/10 [00:00<?, ?it/s]"
            ]
          },
          "metadata": {},
          "output_type": "display_data"
        },
        {
          "data": {
            "application/vnd.jupyter.widget-view+json": {
              "model_id": "2a1df0e275dc4f5485d22e675b80de20",
              "version_major": 2,
              "version_minor": 0
            },
            "text/plain": [
              "Measuring metrics:   0%|          | 0/10 [00:00<?, ?it/s]"
            ]
          },
          "metadata": {},
          "output_type": "display_data"
        },
        {
          "data": {
            "application/vnd.jupyter.widget-view+json": {
              "model_id": "3d4129b28ac94a648c285709736bb8d7",
              "version_major": 2,
              "version_minor": 0
            },
            "text/plain": [
              "Mini-batches:   0%|          | 0/41928 [00:00<?, ?it/s]"
            ]
          },
          "metadata": {},
          "output_type": "display_data"
        },
        {
          "data": {
            "application/vnd.jupyter.widget-view+json": {
              "model_id": "e1a82ec6a7b247cdabb04b23d3effb35",
              "version_major": 2,
              "version_minor": 0
            },
            "text/plain": [
              "Measuring metrics:   0%|          | 0/10 [00:00<?, ?it/s]"
            ]
          },
          "metadata": {},
          "output_type": "display_data"
        },
        {
          "data": {
            "application/vnd.jupyter.widget-view+json": {
              "model_id": "320aa7924fc44b7ebae0fe92e9576e58",
              "version_major": 2,
              "version_minor": 0
            },
            "text/plain": [
              "Measuring metrics:   0%|          | 0/10 [00:00<?, ?it/s]"
            ]
          },
          "metadata": {},
          "output_type": "display_data"
        },
        {
          "data": {
            "application/vnd.jupyter.widget-view+json": {
              "model_id": "a2888decdea94d3b8f17cfa5e0fe040b",
              "version_major": 2,
              "version_minor": 0
            },
            "text/plain": [
              "Measuring metrics:   0%|          | 0/10 [00:00<?, ?it/s]"
            ]
          },
          "metadata": {},
          "output_type": "display_data"
        },
        {
          "data": {
            "application/vnd.jupyter.widget-view+json": {
              "model_id": "ea52a36ff45f465e9704231e67d3a0d9",
              "version_major": 2,
              "version_minor": 0
            },
            "text/plain": [
              "Measuring metrics:   0%|          | 0/10 [00:00<?, ?it/s]"
            ]
          },
          "metadata": {},
          "output_type": "display_data"
        },
        {
          "data": {
            "application/vnd.jupyter.widget-view+json": {
              "model_id": "a1b40acba5ef4ccf8dad24aafb3db87e",
              "version_major": 2,
              "version_minor": 0
            },
            "text/plain": [
              "Measuring metrics:   0%|          | 0/10 [00:00<?, ?it/s]"
            ]
          },
          "metadata": {},
          "output_type": "display_data"
        },
        {
          "data": {
            "application/vnd.jupyter.widget-view+json": {
              "model_id": "8099092c10bc4f6faeacfa559c2dd67e",
              "version_major": 2,
              "version_minor": 0
            },
            "text/plain": [
              "Measuring metrics:   0%|          | 0/10 [00:00<?, ?it/s]"
            ]
          },
          "metadata": {},
          "output_type": "display_data"
        },
        {
          "data": {
            "application/vnd.jupyter.widget-view+json": {
              "model_id": "63ba9b293dd14a7da851d92e25e1b1d4",
              "version_major": 2,
              "version_minor": 0
            },
            "text/plain": [
              "Mini-batches:   0%|          | 0/41928 [00:00<?, ?it/s]"
            ]
          },
          "metadata": {},
          "output_type": "display_data"
        },
        {
          "data": {
            "application/vnd.jupyter.widget-view+json": {
              "model_id": "6645b37245d74d9c903515d1ab691729",
              "version_major": 2,
              "version_minor": 0
            },
            "text/plain": [
              "Measuring metrics:   0%|          | 0/10 [00:00<?, ?it/s]"
            ]
          },
          "metadata": {},
          "output_type": "display_data"
        },
        {
          "data": {
            "application/vnd.jupyter.widget-view+json": {
              "model_id": "6e7351054b5540ca97ed8b0772de651b",
              "version_major": 2,
              "version_minor": 0
            },
            "text/plain": [
              "Measuring metrics:   0%|          | 0/10 [00:00<?, ?it/s]"
            ]
          },
          "metadata": {},
          "output_type": "display_data"
        },
        {
          "data": {
            "application/vnd.jupyter.widget-view+json": {
              "model_id": "e20e90cfe208433f9ee77f654e8b76df",
              "version_major": 2,
              "version_minor": 0
            },
            "text/plain": [
              "Measuring metrics:   0%|          | 0/10 [00:00<?, ?it/s]"
            ]
          },
          "metadata": {},
          "output_type": "display_data"
        },
        {
          "data": {
            "application/vnd.jupyter.widget-view+json": {
              "model_id": "96421771107f4fa99befa67b21bf1648",
              "version_major": 2,
              "version_minor": 0
            },
            "text/plain": [
              "Measuring metrics:   0%|          | 0/10 [00:00<?, ?it/s]"
            ]
          },
          "metadata": {},
          "output_type": "display_data"
        },
        {
          "data": {
            "application/vnd.jupyter.widget-view+json": {
              "model_id": "60f51021110746afb85a179a45f0e109",
              "version_major": 2,
              "version_minor": 0
            },
            "text/plain": [
              "Measuring metrics:   0%|          | 0/10 [00:00<?, ?it/s]"
            ]
          },
          "metadata": {},
          "output_type": "display_data"
        },
        {
          "data": {
            "application/vnd.jupyter.widget-view+json": {
              "model_id": "150ff2cb57874bed95a6d42080db8f28",
              "version_major": 2,
              "version_minor": 0
            },
            "text/plain": [
              "Measuring metrics:   0%|          | 0/10 [00:00<?, ?it/s]"
            ]
          },
          "metadata": {},
          "output_type": "display_data"
        },
        {
          "data": {
            "application/vnd.jupyter.widget-view+json": {
              "model_id": "c62c3a79ae6d48e499418fc8c37ae3cc",
              "version_major": 2,
              "version_minor": 0
            },
            "text/plain": [
              "Measuring metrics:   0%|          | 0/10 [00:00<?, ?it/s]"
            ]
          },
          "metadata": {},
          "output_type": "display_data"
        },
        {
          "name": "stdout",
          "output_type": "stream",
          "text": [
            "Next subset: Subset(MNIST, len=48200, labels=(0, 1, 2, 3, 4, 5, 6, 7))\n"
          ]
        },
        {
          "data": {
            "application/vnd.jupyter.widget-view+json": {
              "model_id": "005ed05165ce47e5b97ced94e760882e",
              "version_major": 2,
              "version_minor": 0
            },
            "text/plain": [
              "Mini-batches:   0%|          | 0/48192 [00:00<?, ?it/s]"
            ]
          },
          "metadata": {},
          "output_type": "display_data"
        },
        {
          "data": {
            "application/vnd.jupyter.widget-view+json": {
              "model_id": "fb5d9bb612ca4a6f8d42a9425b55d46b",
              "version_major": 2,
              "version_minor": 0
            },
            "text/plain": [
              "Measuring metrics:   0%|          | 0/10 [00:00<?, ?it/s]"
            ]
          },
          "metadata": {},
          "output_type": "display_data"
        },
        {
          "data": {
            "application/vnd.jupyter.widget-view+json": {
              "model_id": "47f68722f3464b45b82cf949a6803e0d",
              "version_major": 2,
              "version_minor": 0
            },
            "text/plain": [
              "Measuring metrics:   0%|          | 0/10 [00:00<?, ?it/s]"
            ]
          },
          "metadata": {},
          "output_type": "display_data"
        },
        {
          "data": {
            "application/vnd.jupyter.widget-view+json": {
              "model_id": "c8d4b8f4a7274a6d9fe146a555e80494",
              "version_major": 2,
              "version_minor": 0
            },
            "text/plain": [
              "Measuring metrics:   0%|          | 0/10 [00:00<?, ?it/s]"
            ]
          },
          "metadata": {},
          "output_type": "display_data"
        },
        {
          "data": {
            "application/vnd.jupyter.widget-view+json": {
              "model_id": "89f8c44a43f948a3a8591e982e26dfa8",
              "version_major": 2,
              "version_minor": 0
            },
            "text/plain": [
              "Measuring metrics:   0%|          | 0/10 [00:00<?, ?it/s]"
            ]
          },
          "metadata": {},
          "output_type": "display_data"
        },
        {
          "data": {
            "application/vnd.jupyter.widget-view+json": {
              "model_id": "4c98ac27b33c4507a7ec80abb73efccf",
              "version_major": 2,
              "version_minor": 0
            },
            "text/plain": [
              "Measuring metrics:   0%|          | 0/10 [00:00<?, ?it/s]"
            ]
          },
          "metadata": {},
          "output_type": "display_data"
        },
        {
          "data": {
            "application/vnd.jupyter.widget-view+json": {
              "model_id": "23c6de9604e34d74a296fe72cc21fa0e",
              "version_major": 2,
              "version_minor": 0
            },
            "text/plain": [
              "Measuring metrics:   0%|          | 0/10 [00:00<?, ?it/s]"
            ]
          },
          "metadata": {},
          "output_type": "display_data"
        },
        {
          "data": {
            "application/vnd.jupyter.widget-view+json": {
              "model_id": "e3dbdf5987d948648cb32eb7b342efdd",
              "version_major": 2,
              "version_minor": 0
            },
            "text/plain": [
              "Measuring metrics:   0%|          | 0/10 [00:00<?, ?it/s]"
            ]
          },
          "metadata": {},
          "output_type": "display_data"
        },
        {
          "data": {
            "application/vnd.jupyter.widget-view+json": {
              "model_id": "3a1f773c93c44084b9a28380aa801115",
              "version_major": 2,
              "version_minor": 0
            },
            "text/plain": [
              "Measuring metrics:   0%|          | 0/10 [00:00<?, ?it/s]"
            ]
          },
          "metadata": {},
          "output_type": "display_data"
        },
        {
          "data": {
            "application/vnd.jupyter.widget-view+json": {
              "model_id": "a429628e48864111a1534c159bb5a3a6",
              "version_major": 2,
              "version_minor": 0
            },
            "text/plain": [
              "Mini-batches:   0%|          | 0/48192 [00:00<?, ?it/s]"
            ]
          },
          "metadata": {},
          "output_type": "display_data"
        },
        {
          "data": {
            "application/vnd.jupyter.widget-view+json": {
              "model_id": "510326d9bfa544e88fcbff0e0a245c12",
              "version_major": 2,
              "version_minor": 0
            },
            "text/plain": [
              "Measuring metrics:   0%|          | 0/10 [00:00<?, ?it/s]"
            ]
          },
          "metadata": {},
          "output_type": "display_data"
        },
        {
          "data": {
            "application/vnd.jupyter.widget-view+json": {
              "model_id": "00da105ca8c9426bbb852cd81cd731e9",
              "version_major": 2,
              "version_minor": 0
            },
            "text/plain": [
              "Measuring metrics:   0%|          | 0/10 [00:00<?, ?it/s]"
            ]
          },
          "metadata": {},
          "output_type": "display_data"
        },
        {
          "data": {
            "application/vnd.jupyter.widget-view+json": {
              "model_id": "ca2912bd5f3e4a0685683e71da5761c5",
              "version_major": 2,
              "version_minor": 0
            },
            "text/plain": [
              "Measuring metrics:   0%|          | 0/10 [00:00<?, ?it/s]"
            ]
          },
          "metadata": {},
          "output_type": "display_data"
        },
        {
          "data": {
            "application/vnd.jupyter.widget-view+json": {
              "model_id": "4e7a957791694deb9b1fa16bf55014c3",
              "version_major": 2,
              "version_minor": 0
            },
            "text/plain": [
              "Measuring metrics:   0%|          | 0/10 [00:00<?, ?it/s]"
            ]
          },
          "metadata": {},
          "output_type": "display_data"
        },
        {
          "data": {
            "application/vnd.jupyter.widget-view+json": {
              "model_id": "6c1e5750019a43ddada6aeb3ab2f03f4",
              "version_major": 2,
              "version_minor": 0
            },
            "text/plain": [
              "Measuring metrics:   0%|          | 0/10 [00:00<?, ?it/s]"
            ]
          },
          "metadata": {},
          "output_type": "display_data"
        },
        {
          "data": {
            "application/vnd.jupyter.widget-view+json": {
              "model_id": "cf77e2cd252c41c1bdc64de0a7f10e90",
              "version_major": 2,
              "version_minor": 0
            },
            "text/plain": [
              "Measuring metrics:   0%|          | 0/10 [00:00<?, ?it/s]"
            ]
          },
          "metadata": {},
          "output_type": "display_data"
        },
        {
          "data": {
            "application/vnd.jupyter.widget-view+json": {
              "model_id": "5ca2d9799f2249d79d605f33236c2bf2",
              "version_major": 2,
              "version_minor": 0
            },
            "text/plain": [
              "Measuring metrics:   0%|          | 0/10 [00:00<?, ?it/s]"
            ]
          },
          "metadata": {},
          "output_type": "display_data"
        },
        {
          "data": {
            "application/vnd.jupyter.widget-view+json": {
              "model_id": "8931779e6ba6417c95b2f3731d381f6d",
              "version_major": 2,
              "version_minor": 0
            },
            "text/plain": [
              "Measuring metrics:   0%|          | 0/10 [00:00<?, ?it/s]"
            ]
          },
          "metadata": {},
          "output_type": "display_data"
        },
        {
          "data": {
            "application/vnd.jupyter.widget-view+json": {
              "model_id": "c2788682a29c4b2fa9d8030deb61a00a",
              "version_major": 2,
              "version_minor": 0
            },
            "text/plain": [
              "Mini-batches:   0%|          | 0/48192 [00:00<?, ?it/s]"
            ]
          },
          "metadata": {},
          "output_type": "display_data"
        },
        {
          "data": {
            "application/vnd.jupyter.widget-view+json": {
              "model_id": "7bade525c9ce42898e7bc5f95b99708d",
              "version_major": 2,
              "version_minor": 0
            },
            "text/plain": [
              "Measuring metrics:   0%|          | 0/10 [00:00<?, ?it/s]"
            ]
          },
          "metadata": {},
          "output_type": "display_data"
        },
        {
          "data": {
            "application/vnd.jupyter.widget-view+json": {
              "model_id": "79fc870085c74ca099ebd111927ae399",
              "version_major": 2,
              "version_minor": 0
            },
            "text/plain": [
              "Measuring metrics:   0%|          | 0/10 [00:00<?, ?it/s]"
            ]
          },
          "metadata": {},
          "output_type": "display_data"
        },
        {
          "data": {
            "application/vnd.jupyter.widget-view+json": {
              "model_id": "3a7cd1710c0242498a632fff4b16629d",
              "version_major": 2,
              "version_minor": 0
            },
            "text/plain": [
              "Measuring metrics:   0%|          | 0/10 [00:00<?, ?it/s]"
            ]
          },
          "metadata": {},
          "output_type": "display_data"
        },
        {
          "data": {
            "application/vnd.jupyter.widget-view+json": {
              "model_id": "7082c5fe8c77437eb176eeb2b26bf8b7",
              "version_major": 2,
              "version_minor": 0
            },
            "text/plain": [
              "Measuring metrics:   0%|          | 0/10 [00:00<?, ?it/s]"
            ]
          },
          "metadata": {},
          "output_type": "display_data"
        },
        {
          "data": {
            "application/vnd.jupyter.widget-view+json": {
              "model_id": "6bb53159563c43a78b581f4889d2eaf2",
              "version_major": 2,
              "version_minor": 0
            },
            "text/plain": [
              "Measuring metrics:   0%|          | 0/10 [00:00<?, ?it/s]"
            ]
          },
          "metadata": {},
          "output_type": "display_data"
        },
        {
          "data": {
            "application/vnd.jupyter.widget-view+json": {
              "model_id": "a66ac81ece8c4af98a58461abe11d026",
              "version_major": 2,
              "version_minor": 0
            },
            "text/plain": [
              "Measuring metrics:   0%|          | 0/10 [00:00<?, ?it/s]"
            ]
          },
          "metadata": {},
          "output_type": "display_data"
        },
        {
          "data": {
            "application/vnd.jupyter.widget-view+json": {
              "model_id": "425e480dea6e44998b4f83f0b8f69dc7",
              "version_major": 2,
              "version_minor": 0
            },
            "text/plain": [
              "Measuring metrics:   0%|          | 0/10 [00:00<?, ?it/s]"
            ]
          },
          "metadata": {},
          "output_type": "display_data"
        },
        {
          "data": {
            "application/vnd.jupyter.widget-view+json": {
              "model_id": "f82d90bd9afa4a1e95851bf809a831e4",
              "version_major": 2,
              "version_minor": 0
            },
            "text/plain": [
              "Measuring metrics:   0%|          | 0/10 [00:00<?, ?it/s]"
            ]
          },
          "metadata": {},
          "output_type": "display_data"
        },
        {
          "data": {
            "application/vnd.jupyter.widget-view+json": {
              "model_id": "dff732a9694c4c4b9ae897fb8c7354c3",
              "version_major": 2,
              "version_minor": 0
            },
            "text/plain": [
              "Mini-batches:   0%|          | 0/48192 [00:00<?, ?it/s]"
            ]
          },
          "metadata": {},
          "output_type": "display_data"
        },
        {
          "data": {
            "application/vnd.jupyter.widget-view+json": {
              "model_id": "6d3e7fe8104c476e92a503cebae04bd4",
              "version_major": 2,
              "version_minor": 0
            },
            "text/plain": [
              "Measuring metrics:   0%|          | 0/10 [00:00<?, ?it/s]"
            ]
          },
          "metadata": {},
          "output_type": "display_data"
        },
        {
          "data": {
            "application/vnd.jupyter.widget-view+json": {
              "model_id": "e4facfd594154262bdf176769e906624",
              "version_major": 2,
              "version_minor": 0
            },
            "text/plain": [
              "Measuring metrics:   0%|          | 0/10 [00:00<?, ?it/s]"
            ]
          },
          "metadata": {},
          "output_type": "display_data"
        },
        {
          "data": {
            "application/vnd.jupyter.widget-view+json": {
              "model_id": "bbe0c5e35be34480ba319a08f1291563",
              "version_major": 2,
              "version_minor": 0
            },
            "text/plain": [
              "Measuring metrics:   0%|          | 0/10 [00:00<?, ?it/s]"
            ]
          },
          "metadata": {},
          "output_type": "display_data"
        },
        {
          "data": {
            "application/vnd.jupyter.widget-view+json": {
              "model_id": "1270fa11abda4607a2c4ba6e1a2c8390",
              "version_major": 2,
              "version_minor": 0
            },
            "text/plain": [
              "Measuring metrics:   0%|          | 0/10 [00:00<?, ?it/s]"
            ]
          },
          "metadata": {},
          "output_type": "display_data"
        },
        {
          "data": {
            "application/vnd.jupyter.widget-view+json": {
              "model_id": "9646ba3e49ed4e1aa62ffbcfeb425d7c",
              "version_major": 2,
              "version_minor": 0
            },
            "text/plain": [
              "Measuring metrics:   0%|          | 0/10 [00:00<?, ?it/s]"
            ]
          },
          "metadata": {},
          "output_type": "display_data"
        },
        {
          "data": {
            "application/vnd.jupyter.widget-view+json": {
              "model_id": "b75925d5a5c845b48aa1c4915483e3ef",
              "version_major": 2,
              "version_minor": 0
            },
            "text/plain": [
              "Measuring metrics:   0%|          | 0/10 [00:00<?, ?it/s]"
            ]
          },
          "metadata": {},
          "output_type": "display_data"
        },
        {
          "data": {
            "application/vnd.jupyter.widget-view+json": {
              "model_id": "afd34032febd4785a40dfe41cb8a385c",
              "version_major": 2,
              "version_minor": 0
            },
            "text/plain": [
              "Measuring metrics:   0%|          | 0/10 [00:00<?, ?it/s]"
            ]
          },
          "metadata": {},
          "output_type": "display_data"
        },
        {
          "data": {
            "application/vnd.jupyter.widget-view+json": {
              "model_id": "2f3aded6894b4754bb68f50825c947d2",
              "version_major": 2,
              "version_minor": 0
            },
            "text/plain": [
              "Measuring metrics:   0%|          | 0/10 [00:00<?, ?it/s]"
            ]
          },
          "metadata": {},
          "output_type": "display_data"
        },
        {
          "data": {
            "application/vnd.jupyter.widget-view+json": {
              "model_id": "406a8c0e188e428b895cb264d76a17f7",
              "version_major": 2,
              "version_minor": 0
            },
            "text/plain": [
              "Mini-batches:   0%|          | 0/48192 [00:00<?, ?it/s]"
            ]
          },
          "metadata": {},
          "output_type": "display_data"
        },
        {
          "data": {
            "application/vnd.jupyter.widget-view+json": {
              "model_id": "0a7da9a9b53e4d0fa160ac2897e5edec",
              "version_major": 2,
              "version_minor": 0
            },
            "text/plain": [
              "Measuring metrics:   0%|          | 0/10 [00:00<?, ?it/s]"
            ]
          },
          "metadata": {},
          "output_type": "display_data"
        },
        {
          "data": {
            "application/vnd.jupyter.widget-view+json": {
              "model_id": "2fbcb093d87548888f6ce683e0b50ef2",
              "version_major": 2,
              "version_minor": 0
            },
            "text/plain": [
              "Measuring metrics:   0%|          | 0/10 [00:00<?, ?it/s]"
            ]
          },
          "metadata": {},
          "output_type": "display_data"
        },
        {
          "data": {
            "application/vnd.jupyter.widget-view+json": {
              "model_id": "baa048f9a7174812b04cc734a14dc993",
              "version_major": 2,
              "version_minor": 0
            },
            "text/plain": [
              "Measuring metrics:   0%|          | 0/10 [00:00<?, ?it/s]"
            ]
          },
          "metadata": {},
          "output_type": "display_data"
        },
        {
          "data": {
            "application/vnd.jupyter.widget-view+json": {
              "model_id": "311ed65d7baf4ae4a6d053cd84f80c25",
              "version_major": 2,
              "version_minor": 0
            },
            "text/plain": [
              "Measuring metrics:   0%|          | 0/10 [00:00<?, ?it/s]"
            ]
          },
          "metadata": {},
          "output_type": "display_data"
        },
        {
          "data": {
            "application/vnd.jupyter.widget-view+json": {
              "model_id": "8ad94e279b2f461e9a45151e0b1a039b",
              "version_major": 2,
              "version_minor": 0
            },
            "text/plain": [
              "Measuring metrics:   0%|          | 0/10 [00:00<?, ?it/s]"
            ]
          },
          "metadata": {},
          "output_type": "display_data"
        },
        {
          "data": {
            "application/vnd.jupyter.widget-view+json": {
              "model_id": "d985f658b6184e98b7475e077b0c85df",
              "version_major": 2,
              "version_minor": 0
            },
            "text/plain": [
              "Measuring metrics:   0%|          | 0/10 [00:00<?, ?it/s]"
            ]
          },
          "metadata": {},
          "output_type": "display_data"
        },
        {
          "data": {
            "application/vnd.jupyter.widget-view+json": {
              "model_id": "d03498780c654c68b3d5ca6209e22440",
              "version_major": 2,
              "version_minor": 0
            },
            "text/plain": [
              "Measuring metrics:   0%|          | 0/10 [00:00<?, ?it/s]"
            ]
          },
          "metadata": {},
          "output_type": "display_data"
        },
        {
          "data": {
            "application/vnd.jupyter.widget-view+json": {
              "model_id": "568499fe9ef34672a798f9974aea07e5",
              "version_major": 2,
              "version_minor": 0
            },
            "text/plain": [
              "Measuring metrics:   0%|          | 0/10 [00:00<?, ?it/s]"
            ]
          },
          "metadata": {},
          "output_type": "display_data"
        },
        {
          "data": {
            "application/vnd.jupyter.widget-view+json": {
              "model_id": "ffb8a918d7ef40b98f5b86c7b869e3d4",
              "version_major": 2,
              "version_minor": 0
            },
            "text/plain": [
              "Mini-batches:   0%|          | 0/48192 [00:00<?, ?it/s]"
            ]
          },
          "metadata": {},
          "output_type": "display_data"
        },
        {
          "data": {
            "application/vnd.jupyter.widget-view+json": {
              "model_id": "8be266e570f142979bb74ba90fe2f6dc",
              "version_major": 2,
              "version_minor": 0
            },
            "text/plain": [
              "Measuring metrics:   0%|          | 0/10 [00:00<?, ?it/s]"
            ]
          },
          "metadata": {},
          "output_type": "display_data"
        },
        {
          "data": {
            "application/vnd.jupyter.widget-view+json": {
              "model_id": "0e14919aa3a749a9bf85fdee96c53441",
              "version_major": 2,
              "version_minor": 0
            },
            "text/plain": [
              "Measuring metrics:   0%|          | 0/10 [00:00<?, ?it/s]"
            ]
          },
          "metadata": {},
          "output_type": "display_data"
        },
        {
          "data": {
            "application/vnd.jupyter.widget-view+json": {
              "model_id": "a7af32d4aa09497e8a9cfa95ac750da1",
              "version_major": 2,
              "version_minor": 0
            },
            "text/plain": [
              "Measuring metrics:   0%|          | 0/10 [00:00<?, ?it/s]"
            ]
          },
          "metadata": {},
          "output_type": "display_data"
        },
        {
          "data": {
            "application/vnd.jupyter.widget-view+json": {
              "model_id": "c91f592ce24248838ad1a9b52238e07d",
              "version_major": 2,
              "version_minor": 0
            },
            "text/plain": [
              "Measuring metrics:   0%|          | 0/10 [00:00<?, ?it/s]"
            ]
          },
          "metadata": {},
          "output_type": "display_data"
        },
        {
          "data": {
            "application/vnd.jupyter.widget-view+json": {
              "model_id": "825721c034c446bc989f04cfce249dcc",
              "version_major": 2,
              "version_minor": 0
            },
            "text/plain": [
              "Measuring metrics:   0%|          | 0/10 [00:00<?, ?it/s]"
            ]
          },
          "metadata": {},
          "output_type": "display_data"
        },
        {
          "data": {
            "application/vnd.jupyter.widget-view+json": {
              "model_id": "6071a0f120cf4f3b8e39ae78ac9db9f7",
              "version_major": 2,
              "version_minor": 0
            },
            "text/plain": [
              "Measuring metrics:   0%|          | 0/10 [00:00<?, ?it/s]"
            ]
          },
          "metadata": {},
          "output_type": "display_data"
        },
        {
          "data": {
            "application/vnd.jupyter.widget-view+json": {
              "model_id": "3b44f95f74e3427e9f0585793c5b209e",
              "version_major": 2,
              "version_minor": 0
            },
            "text/plain": [
              "Measuring metrics:   0%|          | 0/10 [00:00<?, ?it/s]"
            ]
          },
          "metadata": {},
          "output_type": "display_data"
        },
        {
          "data": {
            "application/vnd.jupyter.widget-view+json": {
              "model_id": "5bb63b5b14b649b687433be72b4a8f01",
              "version_major": 2,
              "version_minor": 0
            },
            "text/plain": [
              "Mini-batches:   0%|          | 0/48192 [00:00<?, ?it/s]"
            ]
          },
          "metadata": {},
          "output_type": "display_data"
        },
        {
          "data": {
            "application/vnd.jupyter.widget-view+json": {
              "model_id": "012e330f32a94594a7128bf542ffc896",
              "version_major": 2,
              "version_minor": 0
            },
            "text/plain": [
              "Measuring metrics:   0%|          | 0/10 [00:00<?, ?it/s]"
            ]
          },
          "metadata": {},
          "output_type": "display_data"
        },
        {
          "data": {
            "application/vnd.jupyter.widget-view+json": {
              "model_id": "d02d2b52d57545ddaf0ea2e52de67979",
              "version_major": 2,
              "version_minor": 0
            },
            "text/plain": [
              "Measuring metrics:   0%|          | 0/10 [00:00<?, ?it/s]"
            ]
          },
          "metadata": {},
          "output_type": "display_data"
        },
        {
          "data": {
            "application/vnd.jupyter.widget-view+json": {
              "model_id": "16b7e528c28640deb9e06eef80bdbd13",
              "version_major": 2,
              "version_minor": 0
            },
            "text/plain": [
              "Measuring metrics:   0%|          | 0/10 [00:00<?, ?it/s]"
            ]
          },
          "metadata": {},
          "output_type": "display_data"
        },
        {
          "data": {
            "application/vnd.jupyter.widget-view+json": {
              "model_id": "16d4b6b9f0024138a784943e7f6ae011",
              "version_major": 2,
              "version_minor": 0
            },
            "text/plain": [
              "Measuring metrics:   0%|          | 0/10 [00:00<?, ?it/s]"
            ]
          },
          "metadata": {},
          "output_type": "display_data"
        },
        {
          "data": {
            "application/vnd.jupyter.widget-view+json": {
              "model_id": "dcb5a5e73bd24df59bc7864f4ca78705",
              "version_major": 2,
              "version_minor": 0
            },
            "text/plain": [
              "Measuring metrics:   0%|          | 0/10 [00:00<?, ?it/s]"
            ]
          },
          "metadata": {},
          "output_type": "display_data"
        },
        {
          "data": {
            "application/vnd.jupyter.widget-view+json": {
              "model_id": "d9e45e5afbb240efa64e6ffb2c6c2a77",
              "version_major": 2,
              "version_minor": 0
            },
            "text/plain": [
              "Measuring metrics:   0%|          | 0/10 [00:00<?, ?it/s]"
            ]
          },
          "metadata": {},
          "output_type": "display_data"
        },
        {
          "data": {
            "application/vnd.jupyter.widget-view+json": {
              "model_id": "4205781390fa41809639651fb55338dd",
              "version_major": 2,
              "version_minor": 0
            },
            "text/plain": [
              "Measuring metrics:   0%|          | 0/10 [00:00<?, ?it/s]"
            ]
          },
          "metadata": {},
          "output_type": "display_data"
        },
        {
          "data": {
            "application/vnd.jupyter.widget-view+json": {
              "model_id": "dd168209a9a545f084c49b6e7a200d8e",
              "version_major": 2,
              "version_minor": 0
            },
            "text/plain": [
              "Measuring metrics:   0%|          | 0/10 [00:00<?, ?it/s]"
            ]
          },
          "metadata": {},
          "output_type": "display_data"
        },
        {
          "data": {
            "application/vnd.jupyter.widget-view+json": {
              "model_id": "15cd720a254147259c0372169f5e6fff",
              "version_major": 2,
              "version_minor": 0
            },
            "text/plain": [
              "Mini-batches:   0%|          | 0/48192 [00:00<?, ?it/s]"
            ]
          },
          "metadata": {},
          "output_type": "display_data"
        },
        {
          "data": {
            "application/vnd.jupyter.widget-view+json": {
              "model_id": "2947990126bd479b92f36db6ef4a5562",
              "version_major": 2,
              "version_minor": 0
            },
            "text/plain": [
              "Measuring metrics:   0%|          | 0/10 [00:00<?, ?it/s]"
            ]
          },
          "metadata": {},
          "output_type": "display_data"
        },
        {
          "data": {
            "application/vnd.jupyter.widget-view+json": {
              "model_id": "39375c735ced4d3eaad399b6cc933837",
              "version_major": 2,
              "version_minor": 0
            },
            "text/plain": [
              "Measuring metrics:   0%|          | 0/10 [00:00<?, ?it/s]"
            ]
          },
          "metadata": {},
          "output_type": "display_data"
        },
        {
          "data": {
            "application/vnd.jupyter.widget-view+json": {
              "model_id": "4157a5fe8a8f4da2874c3e8e001fd67f",
              "version_major": 2,
              "version_minor": 0
            },
            "text/plain": [
              "Measuring metrics:   0%|          | 0/10 [00:00<?, ?it/s]"
            ]
          },
          "metadata": {},
          "output_type": "display_data"
        },
        {
          "data": {
            "application/vnd.jupyter.widget-view+json": {
              "model_id": "cf55e56b46424776af6c453acbaab2be",
              "version_major": 2,
              "version_minor": 0
            },
            "text/plain": [
              "Measuring metrics:   0%|          | 0/10 [00:00<?, ?it/s]"
            ]
          },
          "metadata": {},
          "output_type": "display_data"
        },
        {
          "data": {
            "application/vnd.jupyter.widget-view+json": {
              "model_id": "576779f24adc433d8192b4ff9adef6b1",
              "version_major": 2,
              "version_minor": 0
            },
            "text/plain": [
              "Measuring metrics:   0%|          | 0/10 [00:00<?, ?it/s]"
            ]
          },
          "metadata": {},
          "output_type": "display_data"
        },
        {
          "data": {
            "application/vnd.jupyter.widget-view+json": {
              "model_id": "66d8760a25c04361b8e7cb042326c12f",
              "version_major": 2,
              "version_minor": 0
            },
            "text/plain": [
              "Measuring metrics:   0%|          | 0/10 [00:00<?, ?it/s]"
            ]
          },
          "metadata": {},
          "output_type": "display_data"
        },
        {
          "data": {
            "application/vnd.jupyter.widget-view+json": {
              "model_id": "96d7c06405604bfea46530e6b46c3640",
              "version_major": 2,
              "version_minor": 0
            },
            "text/plain": [
              "Measuring metrics:   0%|          | 0/10 [00:00<?, ?it/s]"
            ]
          },
          "metadata": {},
          "output_type": "display_data"
        },
        {
          "data": {
            "application/vnd.jupyter.widget-view+json": {
              "model_id": "1dfeed16325b4d87b3f08bb175970bef",
              "version_major": 2,
              "version_minor": 0
            },
            "text/plain": [
              "Measuring metrics:   0%|          | 0/10 [00:00<?, ?it/s]"
            ]
          },
          "metadata": {},
          "output_type": "display_data"
        },
        {
          "data": {
            "application/vnd.jupyter.widget-view+json": {
              "model_id": "ac89d408d7e54aa584df1394f4ccca07",
              "version_major": 2,
              "version_minor": 0
            },
            "text/plain": [
              "Mini-batches:   0%|          | 0/48192 [00:00<?, ?it/s]"
            ]
          },
          "metadata": {},
          "output_type": "display_data"
        },
        {
          "data": {
            "application/vnd.jupyter.widget-view+json": {
              "model_id": "ecc0c24a924e471a9e6247d3259d98eb",
              "version_major": 2,
              "version_minor": 0
            },
            "text/plain": [
              "Measuring metrics:   0%|          | 0/10 [00:00<?, ?it/s]"
            ]
          },
          "metadata": {},
          "output_type": "display_data"
        },
        {
          "data": {
            "application/vnd.jupyter.widget-view+json": {
              "model_id": "56b55cb717b5494394193454d17870b8",
              "version_major": 2,
              "version_minor": 0
            },
            "text/plain": [
              "Measuring metrics:   0%|          | 0/10 [00:00<?, ?it/s]"
            ]
          },
          "metadata": {},
          "output_type": "display_data"
        },
        {
          "data": {
            "application/vnd.jupyter.widget-view+json": {
              "model_id": "557ec8c8bd664b08ac5457b8dea0df86",
              "version_major": 2,
              "version_minor": 0
            },
            "text/plain": [
              "Measuring metrics:   0%|          | 0/10 [00:00<?, ?it/s]"
            ]
          },
          "metadata": {},
          "output_type": "display_data"
        },
        {
          "data": {
            "application/vnd.jupyter.widget-view+json": {
              "model_id": "7917c96f025a4df4ae4cb45106178b7d",
              "version_major": 2,
              "version_minor": 0
            },
            "text/plain": [
              "Measuring metrics:   0%|          | 0/10 [00:00<?, ?it/s]"
            ]
          },
          "metadata": {},
          "output_type": "display_data"
        },
        {
          "data": {
            "application/vnd.jupyter.widget-view+json": {
              "model_id": "f5c305bc42a742628d3006a14eef938c",
              "version_major": 2,
              "version_minor": 0
            },
            "text/plain": [
              "Measuring metrics:   0%|          | 0/10 [00:00<?, ?it/s]"
            ]
          },
          "metadata": {},
          "output_type": "display_data"
        },
        {
          "data": {
            "application/vnd.jupyter.widget-view+json": {
              "model_id": "96d2996814594daf837758fe55055481",
              "version_major": 2,
              "version_minor": 0
            },
            "text/plain": [
              "Measuring metrics:   0%|          | 0/10 [00:00<?, ?it/s]"
            ]
          },
          "metadata": {},
          "output_type": "display_data"
        },
        {
          "data": {
            "application/vnd.jupyter.widget-view+json": {
              "model_id": "6044a5f5761d435d8142960ec6e496f4",
              "version_major": 2,
              "version_minor": 0
            },
            "text/plain": [
              "Measuring metrics:   0%|          | 0/10 [00:00<?, ?it/s]"
            ]
          },
          "metadata": {},
          "output_type": "display_data"
        },
        {
          "data": {
            "application/vnd.jupyter.widget-view+json": {
              "model_id": "c41f1993ae4a47e6a87de50713dcb84a",
              "version_major": 2,
              "version_minor": 0
            },
            "text/plain": [
              "Measuring metrics:   0%|          | 0/10 [00:00<?, ?it/s]"
            ]
          },
          "metadata": {},
          "output_type": "display_data"
        },
        {
          "data": {
            "application/vnd.jupyter.widget-view+json": {
              "model_id": "14a3ba0c2b5d4234bc454656f497bf93",
              "version_major": 2,
              "version_minor": 0
            },
            "text/plain": [
              "Mini-batches:   0%|          | 0/48192 [00:00<?, ?it/s]"
            ]
          },
          "metadata": {},
          "output_type": "display_data"
        },
        {
          "data": {
            "application/vnd.jupyter.widget-view+json": {
              "model_id": "749d525f49e34977a14d99228cd8c64f",
              "version_major": 2,
              "version_minor": 0
            },
            "text/plain": [
              "Measuring metrics:   0%|          | 0/10 [00:00<?, ?it/s]"
            ]
          },
          "metadata": {},
          "output_type": "display_data"
        },
        {
          "data": {
            "application/vnd.jupyter.widget-view+json": {
              "model_id": "47fed3974ef54c69a2feb6418cccc11f",
              "version_major": 2,
              "version_minor": 0
            },
            "text/plain": [
              "Measuring metrics:   0%|          | 0/10 [00:00<?, ?it/s]"
            ]
          },
          "metadata": {},
          "output_type": "display_data"
        },
        {
          "data": {
            "application/vnd.jupyter.widget-view+json": {
              "model_id": "b08f5ed7756a4bf1badd1a54dc4b4a68",
              "version_major": 2,
              "version_minor": 0
            },
            "text/plain": [
              "Measuring metrics:   0%|          | 0/10 [00:00<?, ?it/s]"
            ]
          },
          "metadata": {},
          "output_type": "display_data"
        },
        {
          "data": {
            "application/vnd.jupyter.widget-view+json": {
              "model_id": "09314ca794eb4b9bb23c9812e6f25f99",
              "version_major": 2,
              "version_minor": 0
            },
            "text/plain": [
              "Measuring metrics:   0%|          | 0/10 [00:00<?, ?it/s]"
            ]
          },
          "metadata": {},
          "output_type": "display_data"
        },
        {
          "data": {
            "application/vnd.jupyter.widget-view+json": {
              "model_id": "a0e8c9e271814cdf90ddc2f4a3d37d55",
              "version_major": 2,
              "version_minor": 0
            },
            "text/plain": [
              "Measuring metrics:   0%|          | 0/10 [00:00<?, ?it/s]"
            ]
          },
          "metadata": {},
          "output_type": "display_data"
        },
        {
          "data": {
            "application/vnd.jupyter.widget-view+json": {
              "model_id": "acd23abd5ac742f59746920ca00ceb87",
              "version_major": 2,
              "version_minor": 0
            },
            "text/plain": [
              "Measuring metrics:   0%|          | 0/10 [00:00<?, ?it/s]"
            ]
          },
          "metadata": {},
          "output_type": "display_data"
        },
        {
          "data": {
            "application/vnd.jupyter.widget-view+json": {
              "model_id": "a31f3f0ab98b442fb12198be2ee419e6",
              "version_major": 2,
              "version_minor": 0
            },
            "text/plain": [
              "Measuring metrics:   0%|          | 0/10 [00:00<?, ?it/s]"
            ]
          },
          "metadata": {},
          "output_type": "display_data"
        },
        {
          "data": {
            "application/vnd.jupyter.widget-view+json": {
              "model_id": "94822b7baef2415f885c769a4a505ee1",
              "version_major": 2,
              "version_minor": 0
            },
            "text/plain": [
              "Measuring metrics:   0%|          | 0/10 [00:00<?, ?it/s]"
            ]
          },
          "metadata": {},
          "output_type": "display_data"
        },
        {
          "name": "stdout",
          "output_type": "stream",
          "text": [
            "Next subset: Subset(MNIST, len=54051, labels=(0, 1, 2, 3, 4, 5, 6, 7, 8))\n"
          ]
        },
        {
          "data": {
            "application/vnd.jupyter.widget-view+json": {
              "model_id": "dbfb716c4ff44d12892e8b0afef5f7d1",
              "version_major": 2,
              "version_minor": 0
            },
            "text/plain": [
              "Mini-batches:   0%|          | 0/54048 [00:00<?, ?it/s]"
            ]
          },
          "metadata": {},
          "output_type": "display_data"
        },
        {
          "data": {
            "application/vnd.jupyter.widget-view+json": {
              "model_id": "8d046b04596740aaa2b1ce13e9b85406",
              "version_major": 2,
              "version_minor": 0
            },
            "text/plain": [
              "Measuring metrics:   0%|          | 0/10 [00:00<?, ?it/s]"
            ]
          },
          "metadata": {},
          "output_type": "display_data"
        },
        {
          "data": {
            "application/vnd.jupyter.widget-view+json": {
              "model_id": "62fcf99694074c219899c30d75229e26",
              "version_major": 2,
              "version_minor": 0
            },
            "text/plain": [
              "Measuring metrics:   0%|          | 0/10 [00:00<?, ?it/s]"
            ]
          },
          "metadata": {},
          "output_type": "display_data"
        },
        {
          "data": {
            "application/vnd.jupyter.widget-view+json": {
              "model_id": "7b9a85c265fe434a978a008750345723",
              "version_major": 2,
              "version_minor": 0
            },
            "text/plain": [
              "Measuring metrics:   0%|          | 0/10 [00:00<?, ?it/s]"
            ]
          },
          "metadata": {},
          "output_type": "display_data"
        },
        {
          "data": {
            "application/vnd.jupyter.widget-view+json": {
              "model_id": "6924de5dc44a4f1e86260ef18da14e16",
              "version_major": 2,
              "version_minor": 0
            },
            "text/plain": [
              "Measuring metrics:   0%|          | 0/10 [00:00<?, ?it/s]"
            ]
          },
          "metadata": {},
          "output_type": "display_data"
        },
        {
          "data": {
            "application/vnd.jupyter.widget-view+json": {
              "model_id": "d431a815a21941b6af5efe43b969cac1",
              "version_major": 2,
              "version_minor": 0
            },
            "text/plain": [
              "Measuring metrics:   0%|          | 0/10 [00:00<?, ?it/s]"
            ]
          },
          "metadata": {},
          "output_type": "display_data"
        },
        {
          "data": {
            "application/vnd.jupyter.widget-view+json": {
              "model_id": "ce0c05e96c004b148de0912efb1935c8",
              "version_major": 2,
              "version_minor": 0
            },
            "text/plain": [
              "Measuring metrics:   0%|          | 0/10 [00:00<?, ?it/s]"
            ]
          },
          "metadata": {},
          "output_type": "display_data"
        },
        {
          "data": {
            "application/vnd.jupyter.widget-view+json": {
              "model_id": "a1ec5d01a7564d1f9e3f4413b53e79d0",
              "version_major": 2,
              "version_minor": 0
            },
            "text/plain": [
              "Measuring metrics:   0%|          | 0/10 [00:00<?, ?it/s]"
            ]
          },
          "metadata": {},
          "output_type": "display_data"
        },
        {
          "data": {
            "application/vnd.jupyter.widget-view+json": {
              "model_id": "c3bd8f4c6fa246ea9a5848102dc4d86f",
              "version_major": 2,
              "version_minor": 0
            },
            "text/plain": [
              "Measuring metrics:   0%|          | 0/10 [00:00<?, ?it/s]"
            ]
          },
          "metadata": {},
          "output_type": "display_data"
        },
        {
          "data": {
            "application/vnd.jupyter.widget-view+json": {
              "model_id": "e4e5c64fba2b4d278414f3f99f288b7f",
              "version_major": 2,
              "version_minor": 0
            },
            "text/plain": [
              "Measuring metrics:   0%|          | 0/10 [00:00<?, ?it/s]"
            ]
          },
          "metadata": {},
          "output_type": "display_data"
        },
        {
          "data": {
            "application/vnd.jupyter.widget-view+json": {
              "model_id": "131ca5ae5e4f4de59c99ff47e7a2e93b",
              "version_major": 2,
              "version_minor": 0
            },
            "text/plain": [
              "Mini-batches:   0%|          | 0/54048 [00:00<?, ?it/s]"
            ]
          },
          "metadata": {},
          "output_type": "display_data"
        },
        {
          "data": {
            "application/vnd.jupyter.widget-view+json": {
              "model_id": "d562915db4b04aa8b47d2fa96196e01a",
              "version_major": 2,
              "version_minor": 0
            },
            "text/plain": [
              "Measuring metrics:   0%|          | 0/10 [00:00<?, ?it/s]"
            ]
          },
          "metadata": {},
          "output_type": "display_data"
        },
        {
          "data": {
            "application/vnd.jupyter.widget-view+json": {
              "model_id": "a748051d2e7648e6bf161ebae4fab8ea",
              "version_major": 2,
              "version_minor": 0
            },
            "text/plain": [
              "Measuring metrics:   0%|          | 0/10 [00:00<?, ?it/s]"
            ]
          },
          "metadata": {},
          "output_type": "display_data"
        },
        {
          "data": {
            "application/vnd.jupyter.widget-view+json": {
              "model_id": "c2a159a6a5724993a77d984d364c98eb",
              "version_major": 2,
              "version_minor": 0
            },
            "text/plain": [
              "Measuring metrics:   0%|          | 0/10 [00:00<?, ?it/s]"
            ]
          },
          "metadata": {},
          "output_type": "display_data"
        },
        {
          "data": {
            "application/vnd.jupyter.widget-view+json": {
              "model_id": "e31854f19d44478a9b9a178afd765200",
              "version_major": 2,
              "version_minor": 0
            },
            "text/plain": [
              "Measuring metrics:   0%|          | 0/10 [00:00<?, ?it/s]"
            ]
          },
          "metadata": {},
          "output_type": "display_data"
        },
        {
          "data": {
            "application/vnd.jupyter.widget-view+json": {
              "model_id": "94394cb15d5143e8a3782e2372e4ca53",
              "version_major": 2,
              "version_minor": 0
            },
            "text/plain": [
              "Measuring metrics:   0%|          | 0/10 [00:00<?, ?it/s]"
            ]
          },
          "metadata": {},
          "output_type": "display_data"
        },
        {
          "data": {
            "application/vnd.jupyter.widget-view+json": {
              "model_id": "32d44170d68d44f7a3ea7cce2a161d01",
              "version_major": 2,
              "version_minor": 0
            },
            "text/plain": [
              "Measuring metrics:   0%|          | 0/10 [00:00<?, ?it/s]"
            ]
          },
          "metadata": {},
          "output_type": "display_data"
        },
        {
          "data": {
            "application/vnd.jupyter.widget-view+json": {
              "model_id": "bfc4dda71a07432b9cfd69d070e87d91",
              "version_major": 2,
              "version_minor": 0
            },
            "text/plain": [
              "Measuring metrics:   0%|          | 0/10 [00:00<?, ?it/s]"
            ]
          },
          "metadata": {},
          "output_type": "display_data"
        },
        {
          "data": {
            "application/vnd.jupyter.widget-view+json": {
              "model_id": "66861d72994d4cf1bb1e2c5b167ccc1d",
              "version_major": 2,
              "version_minor": 0
            },
            "text/plain": [
              "Measuring metrics:   0%|          | 0/10 [00:00<?, ?it/s]"
            ]
          },
          "metadata": {},
          "output_type": "display_data"
        },
        {
          "data": {
            "application/vnd.jupyter.widget-view+json": {
              "model_id": "82ac321ba4fa4ab69ff212e40988c9e4",
              "version_major": 2,
              "version_minor": 0
            },
            "text/plain": [
              "Measuring metrics:   0%|          | 0/10 [00:00<?, ?it/s]"
            ]
          },
          "metadata": {},
          "output_type": "display_data"
        },
        {
          "data": {
            "application/vnd.jupyter.widget-view+json": {
              "model_id": "111f4777674048c5a2a45139da9545fb",
              "version_major": 2,
              "version_minor": 0
            },
            "text/plain": [
              "Mini-batches:   0%|          | 0/54048 [00:00<?, ?it/s]"
            ]
          },
          "metadata": {},
          "output_type": "display_data"
        },
        {
          "data": {
            "application/vnd.jupyter.widget-view+json": {
              "model_id": "b77e46a8418a447a92b82ef4a31f1e51",
              "version_major": 2,
              "version_minor": 0
            },
            "text/plain": [
              "Measuring metrics:   0%|          | 0/10 [00:00<?, ?it/s]"
            ]
          },
          "metadata": {},
          "output_type": "display_data"
        },
        {
          "data": {
            "application/vnd.jupyter.widget-view+json": {
              "model_id": "23f1f68d07a341ddb54ac3500fb18ac5",
              "version_major": 2,
              "version_minor": 0
            },
            "text/plain": [
              "Measuring metrics:   0%|          | 0/10 [00:00<?, ?it/s]"
            ]
          },
          "metadata": {},
          "output_type": "display_data"
        },
        {
          "data": {
            "application/vnd.jupyter.widget-view+json": {
              "model_id": "9a75c18f45d94580849207d5fc422049",
              "version_major": 2,
              "version_minor": 0
            },
            "text/plain": [
              "Measuring metrics:   0%|          | 0/10 [00:00<?, ?it/s]"
            ]
          },
          "metadata": {},
          "output_type": "display_data"
        },
        {
          "data": {
            "application/vnd.jupyter.widget-view+json": {
              "model_id": "1f9a3639c43f45e7949dfb2859b80d56",
              "version_major": 2,
              "version_minor": 0
            },
            "text/plain": [
              "Measuring metrics:   0%|          | 0/10 [00:00<?, ?it/s]"
            ]
          },
          "metadata": {},
          "output_type": "display_data"
        },
        {
          "data": {
            "application/vnd.jupyter.widget-view+json": {
              "model_id": "0c6c35d4d8e74f01a779a738e59e02e7",
              "version_major": 2,
              "version_minor": 0
            },
            "text/plain": [
              "Measuring metrics:   0%|          | 0/10 [00:00<?, ?it/s]"
            ]
          },
          "metadata": {},
          "output_type": "display_data"
        },
        {
          "data": {
            "application/vnd.jupyter.widget-view+json": {
              "model_id": "ee077206d30942e59fb1675e99ceeeea",
              "version_major": 2,
              "version_minor": 0
            },
            "text/plain": [
              "Measuring metrics:   0%|          | 0/10 [00:00<?, ?it/s]"
            ]
          },
          "metadata": {},
          "output_type": "display_data"
        },
        {
          "data": {
            "application/vnd.jupyter.widget-view+json": {
              "model_id": "27076a7dec79439fbe1183bd8fd4d458",
              "version_major": 2,
              "version_minor": 0
            },
            "text/plain": [
              "Measuring metrics:   0%|          | 0/10 [00:00<?, ?it/s]"
            ]
          },
          "metadata": {},
          "output_type": "display_data"
        },
        {
          "data": {
            "application/vnd.jupyter.widget-view+json": {
              "model_id": "d9c9c333441d4c5da2fe76cc1af41247",
              "version_major": 2,
              "version_minor": 0
            },
            "text/plain": [
              "Measuring metrics:   0%|          | 0/10 [00:00<?, ?it/s]"
            ]
          },
          "metadata": {},
          "output_type": "display_data"
        },
        {
          "data": {
            "application/vnd.jupyter.widget-view+json": {
              "model_id": "8aae41ed6b4a4d869a2537067258f257",
              "version_major": 2,
              "version_minor": 0
            },
            "text/plain": [
              "Mini-batches:   0%|          | 0/54048 [00:00<?, ?it/s]"
            ]
          },
          "metadata": {},
          "output_type": "display_data"
        },
        {
          "data": {
            "application/vnd.jupyter.widget-view+json": {
              "model_id": "d130d51e336d479bb465ba9dc05fa03d",
              "version_major": 2,
              "version_minor": 0
            },
            "text/plain": [
              "Measuring metrics:   0%|          | 0/10 [00:00<?, ?it/s]"
            ]
          },
          "metadata": {},
          "output_type": "display_data"
        },
        {
          "data": {
            "application/vnd.jupyter.widget-view+json": {
              "model_id": "811e8d9396ac43ae9c344a20810391e5",
              "version_major": 2,
              "version_minor": 0
            },
            "text/plain": [
              "Measuring metrics:   0%|          | 0/10 [00:00<?, ?it/s]"
            ]
          },
          "metadata": {},
          "output_type": "display_data"
        },
        {
          "data": {
            "application/vnd.jupyter.widget-view+json": {
              "model_id": "ce325b17e85c4719920adcb1a3e7a759",
              "version_major": 2,
              "version_minor": 0
            },
            "text/plain": [
              "Measuring metrics:   0%|          | 0/10 [00:00<?, ?it/s]"
            ]
          },
          "metadata": {},
          "output_type": "display_data"
        },
        {
          "data": {
            "application/vnd.jupyter.widget-view+json": {
              "model_id": "770c44a71c01463c8af9aff7e75da7e5",
              "version_major": 2,
              "version_minor": 0
            },
            "text/plain": [
              "Measuring metrics:   0%|          | 0/10 [00:00<?, ?it/s]"
            ]
          },
          "metadata": {},
          "output_type": "display_data"
        },
        {
          "data": {
            "application/vnd.jupyter.widget-view+json": {
              "model_id": "5920bca02b144cf191d440bcc366d36d",
              "version_major": 2,
              "version_minor": 0
            },
            "text/plain": [
              "Measuring metrics:   0%|          | 0/10 [00:00<?, ?it/s]"
            ]
          },
          "metadata": {},
          "output_type": "display_data"
        },
        {
          "data": {
            "application/vnd.jupyter.widget-view+json": {
              "model_id": "bd48e316b7f24f7a9dd625ffb3fb2243",
              "version_major": 2,
              "version_minor": 0
            },
            "text/plain": [
              "Measuring metrics:   0%|          | 0/10 [00:00<?, ?it/s]"
            ]
          },
          "metadata": {},
          "output_type": "display_data"
        },
        {
          "data": {
            "application/vnd.jupyter.widget-view+json": {
              "model_id": "43773616826b4c698cd5a0e376095efe",
              "version_major": 2,
              "version_minor": 0
            },
            "text/plain": [
              "Measuring metrics:   0%|          | 0/10 [00:00<?, ?it/s]"
            ]
          },
          "metadata": {},
          "output_type": "display_data"
        },
        {
          "data": {
            "application/vnd.jupyter.widget-view+json": {
              "model_id": "140f317bf22240279b8b0eb13210ecb8",
              "version_major": 2,
              "version_minor": 0
            },
            "text/plain": [
              "Measuring metrics:   0%|          | 0/10 [00:00<?, ?it/s]"
            ]
          },
          "metadata": {},
          "output_type": "display_data"
        },
        {
          "data": {
            "application/vnd.jupyter.widget-view+json": {
              "model_id": "9063b0b594cc424987cda49895e271bd",
              "version_major": 2,
              "version_minor": 0
            },
            "text/plain": [
              "Measuring metrics:   0%|          | 0/10 [00:00<?, ?it/s]"
            ]
          },
          "metadata": {},
          "output_type": "display_data"
        },
        {
          "data": {
            "application/vnd.jupyter.widget-view+json": {
              "model_id": "19954be2818c491398ce61f00e5566ff",
              "version_major": 2,
              "version_minor": 0
            },
            "text/plain": [
              "Mini-batches:   0%|          | 0/54048 [00:00<?, ?it/s]"
            ]
          },
          "metadata": {},
          "output_type": "display_data"
        },
        {
          "data": {
            "application/vnd.jupyter.widget-view+json": {
              "model_id": "4b8e863c355048b3b5b19213a117e6cb",
              "version_major": 2,
              "version_minor": 0
            },
            "text/plain": [
              "Measuring metrics:   0%|          | 0/10 [00:00<?, ?it/s]"
            ]
          },
          "metadata": {},
          "output_type": "display_data"
        },
        {
          "data": {
            "application/vnd.jupyter.widget-view+json": {
              "model_id": "82450094d55c4a168f5559aa69b09ca2",
              "version_major": 2,
              "version_minor": 0
            },
            "text/plain": [
              "Measuring metrics:   0%|          | 0/10 [00:00<?, ?it/s]"
            ]
          },
          "metadata": {},
          "output_type": "display_data"
        },
        {
          "data": {
            "application/vnd.jupyter.widget-view+json": {
              "model_id": "6fdeafc4ad0041b78556e2f0f1ac999f",
              "version_major": 2,
              "version_minor": 0
            },
            "text/plain": [
              "Measuring metrics:   0%|          | 0/10 [00:00<?, ?it/s]"
            ]
          },
          "metadata": {},
          "output_type": "display_data"
        },
        {
          "data": {
            "application/vnd.jupyter.widget-view+json": {
              "model_id": "8745710c1b4940e7b3b2d38bd02b3e8f",
              "version_major": 2,
              "version_minor": 0
            },
            "text/plain": [
              "Measuring metrics:   0%|          | 0/10 [00:00<?, ?it/s]"
            ]
          },
          "metadata": {},
          "output_type": "display_data"
        },
        {
          "data": {
            "application/vnd.jupyter.widget-view+json": {
              "model_id": "1716d457245142839cf0b3a817d95db2",
              "version_major": 2,
              "version_minor": 0
            },
            "text/plain": [
              "Measuring metrics:   0%|          | 0/10 [00:00<?, ?it/s]"
            ]
          },
          "metadata": {},
          "output_type": "display_data"
        },
        {
          "data": {
            "application/vnd.jupyter.widget-view+json": {
              "model_id": "5db854c1522648e49d04ba2bf8a937bf",
              "version_major": 2,
              "version_minor": 0
            },
            "text/plain": [
              "Measuring metrics:   0%|          | 0/10 [00:00<?, ?it/s]"
            ]
          },
          "metadata": {},
          "output_type": "display_data"
        },
        {
          "data": {
            "application/vnd.jupyter.widget-view+json": {
              "model_id": "1fbd429f903944acb8ac47f8c686ca4b",
              "version_major": 2,
              "version_minor": 0
            },
            "text/plain": [
              "Measuring metrics:   0%|          | 0/10 [00:00<?, ?it/s]"
            ]
          },
          "metadata": {},
          "output_type": "display_data"
        },
        {
          "data": {
            "application/vnd.jupyter.widget-view+json": {
              "model_id": "760483cb51874f338e6a387eaf2017e9",
              "version_major": 2,
              "version_minor": 0
            },
            "text/plain": [
              "Measuring metrics:   0%|          | 0/10 [00:00<?, ?it/s]"
            ]
          },
          "metadata": {},
          "output_type": "display_data"
        },
        {
          "data": {
            "application/vnd.jupyter.widget-view+json": {
              "model_id": "8f69cd77a0b14d388d92ef891286dab2",
              "version_major": 2,
              "version_minor": 0
            },
            "text/plain": [
              "Measuring metrics:   0%|          | 0/10 [00:00<?, ?it/s]"
            ]
          },
          "metadata": {},
          "output_type": "display_data"
        },
        {
          "data": {
            "application/vnd.jupyter.widget-view+json": {
              "model_id": "f81494549bf64662a562680b274f3275",
              "version_major": 2,
              "version_minor": 0
            },
            "text/plain": [
              "Mini-batches:   0%|          | 0/54048 [00:00<?, ?it/s]"
            ]
          },
          "metadata": {},
          "output_type": "display_data"
        },
        {
          "data": {
            "application/vnd.jupyter.widget-view+json": {
              "model_id": "c9245032aa0242769f4d5b1de65d2886",
              "version_major": 2,
              "version_minor": 0
            },
            "text/plain": [
              "Measuring metrics:   0%|          | 0/10 [00:00<?, ?it/s]"
            ]
          },
          "metadata": {},
          "output_type": "display_data"
        },
        {
          "data": {
            "application/vnd.jupyter.widget-view+json": {
              "model_id": "cc9bee2baf6d48d1b56419274549b61d",
              "version_major": 2,
              "version_minor": 0
            },
            "text/plain": [
              "Measuring metrics:   0%|          | 0/10 [00:00<?, ?it/s]"
            ]
          },
          "metadata": {},
          "output_type": "display_data"
        },
        {
          "data": {
            "application/vnd.jupyter.widget-view+json": {
              "model_id": "a793d24302bc4cefa0e7a7802ef6f2f5",
              "version_major": 2,
              "version_minor": 0
            },
            "text/plain": [
              "Measuring metrics:   0%|          | 0/10 [00:00<?, ?it/s]"
            ]
          },
          "metadata": {},
          "output_type": "display_data"
        },
        {
          "data": {
            "application/vnd.jupyter.widget-view+json": {
              "model_id": "122eca3de5c74e55ad39a6231bac2ad6",
              "version_major": 2,
              "version_minor": 0
            },
            "text/plain": [
              "Measuring metrics:   0%|          | 0/10 [00:00<?, ?it/s]"
            ]
          },
          "metadata": {},
          "output_type": "display_data"
        },
        {
          "data": {
            "application/vnd.jupyter.widget-view+json": {
              "model_id": "c12d35300bb04e2c92ad5051ad8e23b1",
              "version_major": 2,
              "version_minor": 0
            },
            "text/plain": [
              "Measuring metrics:   0%|          | 0/10 [00:00<?, ?it/s]"
            ]
          },
          "metadata": {},
          "output_type": "display_data"
        },
        {
          "data": {
            "application/vnd.jupyter.widget-view+json": {
              "model_id": "886d0e4f4bba4e96a47e84dbceca38b9",
              "version_major": 2,
              "version_minor": 0
            },
            "text/plain": [
              "Measuring metrics:   0%|          | 0/10 [00:00<?, ?it/s]"
            ]
          },
          "metadata": {},
          "output_type": "display_data"
        },
        {
          "data": {
            "application/vnd.jupyter.widget-view+json": {
              "model_id": "f57565fe939d4ffdb5f9f4956abf1c99",
              "version_major": 2,
              "version_minor": 0
            },
            "text/plain": [
              "Measuring metrics:   0%|          | 0/10 [00:00<?, ?it/s]"
            ]
          },
          "metadata": {},
          "output_type": "display_data"
        },
        {
          "data": {
            "application/vnd.jupyter.widget-view+json": {
              "model_id": "e2f34cf7dd7242d488a3d3e1152da13b",
              "version_major": 2,
              "version_minor": 0
            },
            "text/plain": [
              "Measuring metrics:   0%|          | 0/10 [00:00<?, ?it/s]"
            ]
          },
          "metadata": {},
          "output_type": "display_data"
        },
        {
          "data": {
            "application/vnd.jupyter.widget-view+json": {
              "model_id": "bfac48ec60e54f6f975bd4885441dc7c",
              "version_major": 2,
              "version_minor": 0
            },
            "text/plain": [
              "Measuring metrics:   0%|          | 0/10 [00:00<?, ?it/s]"
            ]
          },
          "metadata": {},
          "output_type": "display_data"
        },
        {
          "data": {
            "application/vnd.jupyter.widget-view+json": {
              "model_id": "15149807f8ce4d2d8351a9a4a1aaeb15",
              "version_major": 2,
              "version_minor": 0
            },
            "text/plain": [
              "Mini-batches:   0%|          | 0/54048 [00:00<?, ?it/s]"
            ]
          },
          "metadata": {},
          "output_type": "display_data"
        },
        {
          "data": {
            "application/vnd.jupyter.widget-view+json": {
              "model_id": "1a86893866f04369a3ce8338623fd364",
              "version_major": 2,
              "version_minor": 0
            },
            "text/plain": [
              "Measuring metrics:   0%|          | 0/10 [00:00<?, ?it/s]"
            ]
          },
          "metadata": {},
          "output_type": "display_data"
        },
        {
          "data": {
            "application/vnd.jupyter.widget-view+json": {
              "model_id": "860032c5921448d0ba2f672232ffea06",
              "version_major": 2,
              "version_minor": 0
            },
            "text/plain": [
              "Measuring metrics:   0%|          | 0/10 [00:00<?, ?it/s]"
            ]
          },
          "metadata": {},
          "output_type": "display_data"
        },
        {
          "data": {
            "application/vnd.jupyter.widget-view+json": {
              "model_id": "0a160c947d9043a8af7e899d0a0e0770",
              "version_major": 2,
              "version_minor": 0
            },
            "text/plain": [
              "Measuring metrics:   0%|          | 0/10 [00:00<?, ?it/s]"
            ]
          },
          "metadata": {},
          "output_type": "display_data"
        },
        {
          "data": {
            "application/vnd.jupyter.widget-view+json": {
              "model_id": "e75c102d7c764d0698cb6f65364d9431",
              "version_major": 2,
              "version_minor": 0
            },
            "text/plain": [
              "Measuring metrics:   0%|          | 0/10 [00:00<?, ?it/s]"
            ]
          },
          "metadata": {},
          "output_type": "display_data"
        },
        {
          "data": {
            "application/vnd.jupyter.widget-view+json": {
              "model_id": "5ec3417aaf9b40d3906b1761a70b96b5",
              "version_major": 2,
              "version_minor": 0
            },
            "text/plain": [
              "Measuring metrics:   0%|          | 0/10 [00:00<?, ?it/s]"
            ]
          },
          "metadata": {},
          "output_type": "display_data"
        },
        {
          "data": {
            "application/vnd.jupyter.widget-view+json": {
              "model_id": "bb1532e1cc91415cb3c0eed5966a3298",
              "version_major": 2,
              "version_minor": 0
            },
            "text/plain": [
              "Measuring metrics:   0%|          | 0/10 [00:00<?, ?it/s]"
            ]
          },
          "metadata": {},
          "output_type": "display_data"
        },
        {
          "data": {
            "application/vnd.jupyter.widget-view+json": {
              "model_id": "22c63491d15449a992281ae10516b954",
              "version_major": 2,
              "version_minor": 0
            },
            "text/plain": [
              "Measuring metrics:   0%|          | 0/10 [00:00<?, ?it/s]"
            ]
          },
          "metadata": {},
          "output_type": "display_data"
        },
        {
          "data": {
            "application/vnd.jupyter.widget-view+json": {
              "model_id": "83544869284b4a6e9b160d6045eca8af",
              "version_major": 2,
              "version_minor": 0
            },
            "text/plain": [
              "Measuring metrics:   0%|          | 0/10 [00:00<?, ?it/s]"
            ]
          },
          "metadata": {},
          "output_type": "display_data"
        },
        {
          "data": {
            "application/vnd.jupyter.widget-view+json": {
              "model_id": "24ca1854a98f4e2fbbff4c3dc4fa5d65",
              "version_major": 2,
              "version_minor": 0
            },
            "text/plain": [
              "Measuring metrics:   0%|          | 0/10 [00:00<?, ?it/s]"
            ]
          },
          "metadata": {},
          "output_type": "display_data"
        },
        {
          "data": {
            "application/vnd.jupyter.widget-view+json": {
              "model_id": "488cba8a037d4dfc8fa6889aa3b33a07",
              "version_major": 2,
              "version_minor": 0
            },
            "text/plain": [
              "Mini-batches:   0%|          | 0/54048 [00:00<?, ?it/s]"
            ]
          },
          "metadata": {},
          "output_type": "display_data"
        },
        {
          "data": {
            "application/vnd.jupyter.widget-view+json": {
              "model_id": "f259494a10b343638a07ef97fc6936a5",
              "version_major": 2,
              "version_minor": 0
            },
            "text/plain": [
              "Measuring metrics:   0%|          | 0/10 [00:00<?, ?it/s]"
            ]
          },
          "metadata": {},
          "output_type": "display_data"
        },
        {
          "data": {
            "application/vnd.jupyter.widget-view+json": {
              "model_id": "7973fdae700c471b88d7e747708408ff",
              "version_major": 2,
              "version_minor": 0
            },
            "text/plain": [
              "Measuring metrics:   0%|          | 0/10 [00:00<?, ?it/s]"
            ]
          },
          "metadata": {},
          "output_type": "display_data"
        },
        {
          "data": {
            "application/vnd.jupyter.widget-view+json": {
              "model_id": "20c7789495b34d6f90f9f083ec30cd30",
              "version_major": 2,
              "version_minor": 0
            },
            "text/plain": [
              "Measuring metrics:   0%|          | 0/10 [00:00<?, ?it/s]"
            ]
          },
          "metadata": {},
          "output_type": "display_data"
        },
        {
          "data": {
            "application/vnd.jupyter.widget-view+json": {
              "model_id": "03c4e1f6ce8c4d74b7807241c526759e",
              "version_major": 2,
              "version_minor": 0
            },
            "text/plain": [
              "Measuring metrics:   0%|          | 0/10 [00:00<?, ?it/s]"
            ]
          },
          "metadata": {},
          "output_type": "display_data"
        },
        {
          "data": {
            "application/vnd.jupyter.widget-view+json": {
              "model_id": "bd797c4ba6e84f1a816a3c2d787242c8",
              "version_major": 2,
              "version_minor": 0
            },
            "text/plain": [
              "Measuring metrics:   0%|          | 0/10 [00:00<?, ?it/s]"
            ]
          },
          "metadata": {},
          "output_type": "display_data"
        },
        {
          "data": {
            "application/vnd.jupyter.widget-view+json": {
              "model_id": "f8ae675bd5a64fe8848dd94328776e75",
              "version_major": 2,
              "version_minor": 0
            },
            "text/plain": [
              "Measuring metrics:   0%|          | 0/10 [00:00<?, ?it/s]"
            ]
          },
          "metadata": {},
          "output_type": "display_data"
        },
        {
          "data": {
            "application/vnd.jupyter.widget-view+json": {
              "model_id": "125598c293404bf28c4c6d942836e9e8",
              "version_major": 2,
              "version_minor": 0
            },
            "text/plain": [
              "Measuring metrics:   0%|          | 0/10 [00:00<?, ?it/s]"
            ]
          },
          "metadata": {},
          "output_type": "display_data"
        },
        {
          "data": {
            "application/vnd.jupyter.widget-view+json": {
              "model_id": "1146faef8b3048eba26c54f01d8961c8",
              "version_major": 2,
              "version_minor": 0
            },
            "text/plain": [
              "Measuring metrics:   0%|          | 0/10 [00:00<?, ?it/s]"
            ]
          },
          "metadata": {},
          "output_type": "display_data"
        },
        {
          "data": {
            "application/vnd.jupyter.widget-view+json": {
              "model_id": "41a9e7332fd04d7994597bc72e473b13",
              "version_major": 2,
              "version_minor": 0
            },
            "text/plain": [
              "Measuring metrics:   0%|          | 0/10 [00:00<?, ?it/s]"
            ]
          },
          "metadata": {},
          "output_type": "display_data"
        },
        {
          "data": {
            "application/vnd.jupyter.widget-view+json": {
              "model_id": "3113b5688c9d4d05a75102ef8e35828b",
              "version_major": 2,
              "version_minor": 0
            },
            "text/plain": [
              "Mini-batches:   0%|          | 0/54048 [00:00<?, ?it/s]"
            ]
          },
          "metadata": {},
          "output_type": "display_data"
        },
        {
          "data": {
            "application/vnd.jupyter.widget-view+json": {
              "model_id": "4a4e01365064467ab10492f7775a87ec",
              "version_major": 2,
              "version_minor": 0
            },
            "text/plain": [
              "Measuring metrics:   0%|          | 0/10 [00:00<?, ?it/s]"
            ]
          },
          "metadata": {},
          "output_type": "display_data"
        },
        {
          "data": {
            "application/vnd.jupyter.widget-view+json": {
              "model_id": "cd114e2e7b774e978dc0b2b51509712c",
              "version_major": 2,
              "version_minor": 0
            },
            "text/plain": [
              "Measuring metrics:   0%|          | 0/10 [00:00<?, ?it/s]"
            ]
          },
          "metadata": {},
          "output_type": "display_data"
        },
        {
          "data": {
            "application/vnd.jupyter.widget-view+json": {
              "model_id": "6115467037a54766b6b7b8e4e20c2818",
              "version_major": 2,
              "version_minor": 0
            },
            "text/plain": [
              "Measuring metrics:   0%|          | 0/10 [00:00<?, ?it/s]"
            ]
          },
          "metadata": {},
          "output_type": "display_data"
        },
        {
          "data": {
            "application/vnd.jupyter.widget-view+json": {
              "model_id": "f05515e58cbd4d678b1291820bf77b57",
              "version_major": 2,
              "version_minor": 0
            },
            "text/plain": [
              "Measuring metrics:   0%|          | 0/10 [00:00<?, ?it/s]"
            ]
          },
          "metadata": {},
          "output_type": "display_data"
        },
        {
          "data": {
            "application/vnd.jupyter.widget-view+json": {
              "model_id": "69ee38fea54b49aebb5d2efaaae35566",
              "version_major": 2,
              "version_minor": 0
            },
            "text/plain": [
              "Measuring metrics:   0%|          | 0/10 [00:00<?, ?it/s]"
            ]
          },
          "metadata": {},
          "output_type": "display_data"
        },
        {
          "data": {
            "application/vnd.jupyter.widget-view+json": {
              "model_id": "4c23be0c62a4484aa464f51e64fc434d",
              "version_major": 2,
              "version_minor": 0
            },
            "text/plain": [
              "Measuring metrics:   0%|          | 0/10 [00:00<?, ?it/s]"
            ]
          },
          "metadata": {},
          "output_type": "display_data"
        },
        {
          "data": {
            "application/vnd.jupyter.widget-view+json": {
              "model_id": "befcab90715d4cc2ab3eb042176b7c06",
              "version_major": 2,
              "version_minor": 0
            },
            "text/plain": [
              "Measuring metrics:   0%|          | 0/10 [00:00<?, ?it/s]"
            ]
          },
          "metadata": {},
          "output_type": "display_data"
        },
        {
          "data": {
            "application/vnd.jupyter.widget-view+json": {
              "model_id": "682882fc98114506bac4dc2e19061487",
              "version_major": 2,
              "version_minor": 0
            },
            "text/plain": [
              "Measuring metrics:   0%|          | 0/10 [00:00<?, ?it/s]"
            ]
          },
          "metadata": {},
          "output_type": "display_data"
        },
        {
          "data": {
            "application/vnd.jupyter.widget-view+json": {
              "model_id": "7563c133b04e4c27a46c7a5ffdc13b94",
              "version_major": 2,
              "version_minor": 0
            },
            "text/plain": [
              "Mini-batches:   0%|          | 0/54048 [00:00<?, ?it/s]"
            ]
          },
          "metadata": {},
          "output_type": "display_data"
        },
        {
          "data": {
            "application/vnd.jupyter.widget-view+json": {
              "model_id": "33b6776081794061bf26be99a9f6b93d",
              "version_major": 2,
              "version_minor": 0
            },
            "text/plain": [
              "Measuring metrics:   0%|          | 0/10 [00:00<?, ?it/s]"
            ]
          },
          "metadata": {},
          "output_type": "display_data"
        },
        {
          "data": {
            "application/vnd.jupyter.widget-view+json": {
              "model_id": "206d96fed80a4975a29dade441bbc038",
              "version_major": 2,
              "version_minor": 0
            },
            "text/plain": [
              "Measuring metrics:   0%|          | 0/10 [00:00<?, ?it/s]"
            ]
          },
          "metadata": {},
          "output_type": "display_data"
        },
        {
          "data": {
            "application/vnd.jupyter.widget-view+json": {
              "model_id": "f66bd3492544493f91eba15f65df862b",
              "version_major": 2,
              "version_minor": 0
            },
            "text/plain": [
              "Measuring metrics:   0%|          | 0/10 [00:00<?, ?it/s]"
            ]
          },
          "metadata": {},
          "output_type": "display_data"
        },
        {
          "data": {
            "application/vnd.jupyter.widget-view+json": {
              "model_id": "196db476fe5d4ef4ad723059e8bb5c22",
              "version_major": 2,
              "version_minor": 0
            },
            "text/plain": [
              "Measuring metrics:   0%|          | 0/10 [00:00<?, ?it/s]"
            ]
          },
          "metadata": {},
          "output_type": "display_data"
        },
        {
          "data": {
            "application/vnd.jupyter.widget-view+json": {
              "model_id": "f3fdcb657f2d46e89a0779923a638054",
              "version_major": 2,
              "version_minor": 0
            },
            "text/plain": [
              "Measuring metrics:   0%|          | 0/10 [00:00<?, ?it/s]"
            ]
          },
          "metadata": {},
          "output_type": "display_data"
        },
        {
          "data": {
            "application/vnd.jupyter.widget-view+json": {
              "model_id": "144137ec228249b0b293f1dc846b3e77",
              "version_major": 2,
              "version_minor": 0
            },
            "text/plain": [
              "Measuring metrics:   0%|          | 0/10 [00:00<?, ?it/s]"
            ]
          },
          "metadata": {},
          "output_type": "display_data"
        },
        {
          "data": {
            "application/vnd.jupyter.widget-view+json": {
              "model_id": "5e16e8fca2974ae08d17f9d91a2ea566",
              "version_major": 2,
              "version_minor": 0
            },
            "text/plain": [
              "Measuring metrics:   0%|          | 0/10 [00:00<?, ?it/s]"
            ]
          },
          "metadata": {},
          "output_type": "display_data"
        },
        {
          "data": {
            "application/vnd.jupyter.widget-view+json": {
              "model_id": "f3517ecf6caf451f84b21d9f18d1048c",
              "version_major": 2,
              "version_minor": 0
            },
            "text/plain": [
              "Measuring metrics:   0%|          | 0/10 [00:00<?, ?it/s]"
            ]
          },
          "metadata": {},
          "output_type": "display_data"
        },
        {
          "data": {
            "application/vnd.jupyter.widget-view+json": {
              "model_id": "779d47d14b834fda94d09c9a3e59121d",
              "version_major": 2,
              "version_minor": 0
            },
            "text/plain": [
              "Measuring metrics:   0%|          | 0/10 [00:00<?, ?it/s]"
            ]
          },
          "metadata": {},
          "output_type": "display_data"
        },
        {
          "name": "stdout",
          "output_type": "stream",
          "text": [
            "Next subset: Subset(MNIST, len=60000, labels=(0, 1, 2, 3, 4, 5, 6, 7, 8, 9))\n"
          ]
        },
        {
          "data": {
            "application/vnd.jupyter.widget-view+json": {
              "model_id": "34d39aa0bc3f467e99f35dc27fce4b2c",
              "version_major": 2,
              "version_minor": 0
            },
            "text/plain": [
              "Mini-batches:   0%|          | 0/60000 [00:00<?, ?it/s]"
            ]
          },
          "metadata": {},
          "output_type": "display_data"
        },
        {
          "data": {
            "application/vnd.jupyter.widget-view+json": {
              "model_id": "54086c4fb6fe4b999d0e65ec12ab75c1",
              "version_major": 2,
              "version_minor": 0
            },
            "text/plain": [
              "Measuring metrics:   0%|          | 0/10 [00:00<?, ?it/s]"
            ]
          },
          "metadata": {},
          "output_type": "display_data"
        },
        {
          "data": {
            "application/vnd.jupyter.widget-view+json": {
              "model_id": "c40a36bca1b24e57b42d01e1e39cc9be",
              "version_major": 2,
              "version_minor": 0
            },
            "text/plain": [
              "Measuring metrics:   0%|          | 0/10 [00:00<?, ?it/s]"
            ]
          },
          "metadata": {},
          "output_type": "display_data"
        },
        {
          "data": {
            "application/vnd.jupyter.widget-view+json": {
              "model_id": "0984ea7e9e5c47f3a102580ccdf3527a",
              "version_major": 2,
              "version_minor": 0
            },
            "text/plain": [
              "Measuring metrics:   0%|          | 0/10 [00:00<?, ?it/s]"
            ]
          },
          "metadata": {},
          "output_type": "display_data"
        },
        {
          "data": {
            "application/vnd.jupyter.widget-view+json": {
              "model_id": "51c0dec9cff04d87bb57bb2e5dda39f3",
              "version_major": 2,
              "version_minor": 0
            },
            "text/plain": [
              "Measuring metrics:   0%|          | 0/10 [00:00<?, ?it/s]"
            ]
          },
          "metadata": {},
          "output_type": "display_data"
        },
        {
          "data": {
            "application/vnd.jupyter.widget-view+json": {
              "model_id": "ef52fc3b93a44968a027879537f712eb",
              "version_major": 2,
              "version_minor": 0
            },
            "text/plain": [
              "Measuring metrics:   0%|          | 0/10 [00:00<?, ?it/s]"
            ]
          },
          "metadata": {},
          "output_type": "display_data"
        },
        {
          "data": {
            "application/vnd.jupyter.widget-view+json": {
              "model_id": "20aa790ea3db41a38d752d8813f5466b",
              "version_major": 2,
              "version_minor": 0
            },
            "text/plain": [
              "Measuring metrics:   0%|          | 0/10 [00:00<?, ?it/s]"
            ]
          },
          "metadata": {},
          "output_type": "display_data"
        },
        {
          "data": {
            "application/vnd.jupyter.widget-view+json": {
              "model_id": "f365bb5f78484dddb958888a55c6f5e4",
              "version_major": 2,
              "version_minor": 0
            },
            "text/plain": [
              "Measuring metrics:   0%|          | 0/10 [00:00<?, ?it/s]"
            ]
          },
          "metadata": {},
          "output_type": "display_data"
        },
        {
          "data": {
            "application/vnd.jupyter.widget-view+json": {
              "model_id": "80ee6d0c3111460f965315531a396119",
              "version_major": 2,
              "version_minor": 0
            },
            "text/plain": [
              "Measuring metrics:   0%|          | 0/10 [00:00<?, ?it/s]"
            ]
          },
          "metadata": {},
          "output_type": "display_data"
        },
        {
          "data": {
            "application/vnd.jupyter.widget-view+json": {
              "model_id": "cfee7de8b26d42899eea8a6af5b21485",
              "version_major": 2,
              "version_minor": 0
            },
            "text/plain": [
              "Measuring metrics:   0%|          | 0/10 [00:00<?, ?it/s]"
            ]
          },
          "metadata": {},
          "output_type": "display_data"
        },
        {
          "data": {
            "application/vnd.jupyter.widget-view+json": {
              "model_id": "2d237da816654ed991576c17f7ae03e9",
              "version_major": 2,
              "version_minor": 0
            },
            "text/plain": [
              "Measuring metrics:   0%|          | 0/10 [00:00<?, ?it/s]"
            ]
          },
          "metadata": {},
          "output_type": "display_data"
        },
        {
          "data": {
            "application/vnd.jupyter.widget-view+json": {
              "model_id": "f11833bd1eb84a38bf87571dc8ee7115",
              "version_major": 2,
              "version_minor": 0
            },
            "text/plain": [
              "Mini-batches:   0%|          | 0/60000 [00:00<?, ?it/s]"
            ]
          },
          "metadata": {},
          "output_type": "display_data"
        },
        {
          "data": {
            "application/vnd.jupyter.widget-view+json": {
              "model_id": "51a268fc98fe47ec9728da83563dbdd1",
              "version_major": 2,
              "version_minor": 0
            },
            "text/plain": [
              "Measuring metrics:   0%|          | 0/10 [00:00<?, ?it/s]"
            ]
          },
          "metadata": {},
          "output_type": "display_data"
        },
        {
          "data": {
            "application/vnd.jupyter.widget-view+json": {
              "model_id": "d44be828d3404ce4ac17d2caefb3e461",
              "version_major": 2,
              "version_minor": 0
            },
            "text/plain": [
              "Measuring metrics:   0%|          | 0/10 [00:00<?, ?it/s]"
            ]
          },
          "metadata": {},
          "output_type": "display_data"
        },
        {
          "data": {
            "application/vnd.jupyter.widget-view+json": {
              "model_id": "d4522e01d2d544e0b5d854fb7e11ceda",
              "version_major": 2,
              "version_minor": 0
            },
            "text/plain": [
              "Measuring metrics:   0%|          | 0/10 [00:00<?, ?it/s]"
            ]
          },
          "metadata": {},
          "output_type": "display_data"
        },
        {
          "data": {
            "application/vnd.jupyter.widget-view+json": {
              "model_id": "c8464bdf7be0413489ae41758f8388ce",
              "version_major": 2,
              "version_minor": 0
            },
            "text/plain": [
              "Measuring metrics:   0%|          | 0/10 [00:00<?, ?it/s]"
            ]
          },
          "metadata": {},
          "output_type": "display_data"
        },
        {
          "data": {
            "application/vnd.jupyter.widget-view+json": {
              "model_id": "8566b1849e644a7eb93ef085c4944f51",
              "version_major": 2,
              "version_minor": 0
            },
            "text/plain": [
              "Measuring metrics:   0%|          | 0/10 [00:00<?, ?it/s]"
            ]
          },
          "metadata": {},
          "output_type": "display_data"
        },
        {
          "data": {
            "application/vnd.jupyter.widget-view+json": {
              "model_id": "59b19bce272145498b95451d0ac7a1e9",
              "version_major": 2,
              "version_minor": 0
            },
            "text/plain": [
              "Measuring metrics:   0%|          | 0/10 [00:00<?, ?it/s]"
            ]
          },
          "metadata": {},
          "output_type": "display_data"
        },
        {
          "data": {
            "application/vnd.jupyter.widget-view+json": {
              "model_id": "e41bb3948100415c845e7bfe21212ff8",
              "version_major": 2,
              "version_minor": 0
            },
            "text/plain": [
              "Measuring metrics:   0%|          | 0/10 [00:00<?, ?it/s]"
            ]
          },
          "metadata": {},
          "output_type": "display_data"
        },
        {
          "data": {
            "application/vnd.jupyter.widget-view+json": {
              "model_id": "5eae7f229ba44c378b059b1b1e3819f4",
              "version_major": 2,
              "version_minor": 0
            },
            "text/plain": [
              "Measuring metrics:   0%|          | 0/10 [00:00<?, ?it/s]"
            ]
          },
          "metadata": {},
          "output_type": "display_data"
        },
        {
          "data": {
            "application/vnd.jupyter.widget-view+json": {
              "model_id": "daebeb0ae8b34b3f85d59c6bc147f9aa",
              "version_major": 2,
              "version_minor": 0
            },
            "text/plain": [
              "Measuring metrics:   0%|          | 0/10 [00:00<?, ?it/s]"
            ]
          },
          "metadata": {},
          "output_type": "display_data"
        },
        {
          "data": {
            "application/vnd.jupyter.widget-view+json": {
              "model_id": "b0dd3b88dac34153a0643a64b4bc8b2a",
              "version_major": 2,
              "version_minor": 0
            },
            "text/plain": [
              "Measuring metrics:   0%|          | 0/10 [00:00<?, ?it/s]"
            ]
          },
          "metadata": {},
          "output_type": "display_data"
        },
        {
          "data": {
            "application/vnd.jupyter.widget-view+json": {
              "model_id": "c1cdcc32761944bbbb2d751e6ca7d56d",
              "version_major": 2,
              "version_minor": 0
            },
            "text/plain": [
              "Mini-batches:   0%|          | 0/60000 [00:00<?, ?it/s]"
            ]
          },
          "metadata": {},
          "output_type": "display_data"
        },
        {
          "data": {
            "application/vnd.jupyter.widget-view+json": {
              "model_id": "81b1559d94ef46e495e963f480e596e6",
              "version_major": 2,
              "version_minor": 0
            },
            "text/plain": [
              "Measuring metrics:   0%|          | 0/10 [00:00<?, ?it/s]"
            ]
          },
          "metadata": {},
          "output_type": "display_data"
        },
        {
          "data": {
            "application/vnd.jupyter.widget-view+json": {
              "model_id": "580201a7a4134a0eb53fbbfe149838f8",
              "version_major": 2,
              "version_minor": 0
            },
            "text/plain": [
              "Measuring metrics:   0%|          | 0/10 [00:00<?, ?it/s]"
            ]
          },
          "metadata": {},
          "output_type": "display_data"
        },
        {
          "data": {
            "application/vnd.jupyter.widget-view+json": {
              "model_id": "998f548c30a041f3b7f57cd9daa9b04f",
              "version_major": 2,
              "version_minor": 0
            },
            "text/plain": [
              "Measuring metrics:   0%|          | 0/10 [00:00<?, ?it/s]"
            ]
          },
          "metadata": {},
          "output_type": "display_data"
        },
        {
          "data": {
            "application/vnd.jupyter.widget-view+json": {
              "model_id": "94b5c737d7654ccfa795ef428f30dcd3",
              "version_major": 2,
              "version_minor": 0
            },
            "text/plain": [
              "Measuring metrics:   0%|          | 0/10 [00:00<?, ?it/s]"
            ]
          },
          "metadata": {},
          "output_type": "display_data"
        },
        {
          "data": {
            "application/vnd.jupyter.widget-view+json": {
              "model_id": "4dfc46a21027485585d4953ff4d2180b",
              "version_major": 2,
              "version_minor": 0
            },
            "text/plain": [
              "Measuring metrics:   0%|          | 0/10 [00:00<?, ?it/s]"
            ]
          },
          "metadata": {},
          "output_type": "display_data"
        },
        {
          "data": {
            "application/vnd.jupyter.widget-view+json": {
              "model_id": "9a8ccff951fb42ed9f1a675c87a7ae3d",
              "version_major": 2,
              "version_minor": 0
            },
            "text/plain": [
              "Measuring metrics:   0%|          | 0/10 [00:00<?, ?it/s]"
            ]
          },
          "metadata": {},
          "output_type": "display_data"
        },
        {
          "data": {
            "application/vnd.jupyter.widget-view+json": {
              "model_id": "7934021e2dfe40bab2050e551b2ba800",
              "version_major": 2,
              "version_minor": 0
            },
            "text/plain": [
              "Measuring metrics:   0%|          | 0/10 [00:00<?, ?it/s]"
            ]
          },
          "metadata": {},
          "output_type": "display_data"
        },
        {
          "data": {
            "application/vnd.jupyter.widget-view+json": {
              "model_id": "c28a7e76330f42399cc21c4f3676b867",
              "version_major": 2,
              "version_minor": 0
            },
            "text/plain": [
              "Measuring metrics:   0%|          | 0/10 [00:00<?, ?it/s]"
            ]
          },
          "metadata": {},
          "output_type": "display_data"
        },
        {
          "data": {
            "application/vnd.jupyter.widget-view+json": {
              "model_id": "62ca5c22c2094675a38500b44aecd4a8",
              "version_major": 2,
              "version_minor": 0
            },
            "text/plain": [
              "Measuring metrics:   0%|          | 0/10 [00:00<?, ?it/s]"
            ]
          },
          "metadata": {},
          "output_type": "display_data"
        },
        {
          "data": {
            "application/vnd.jupyter.widget-view+json": {
              "model_id": "fb66ab3d6cf14b2389cc1d9ce6444b7a",
              "version_major": 2,
              "version_minor": 0
            },
            "text/plain": [
              "Measuring metrics:   0%|          | 0/10 [00:00<?, ?it/s]"
            ]
          },
          "metadata": {},
          "output_type": "display_data"
        },
        {
          "data": {
            "application/vnd.jupyter.widget-view+json": {
              "model_id": "e7ab04f97e4f47bfa3dcbc48f66ac574",
              "version_major": 2,
              "version_minor": 0
            },
            "text/plain": [
              "Mini-batches:   0%|          | 0/60000 [00:00<?, ?it/s]"
            ]
          },
          "metadata": {},
          "output_type": "display_data"
        },
        {
          "data": {
            "application/vnd.jupyter.widget-view+json": {
              "model_id": "dea9d3279482406189a9324c843bfae6",
              "version_major": 2,
              "version_minor": 0
            },
            "text/plain": [
              "Measuring metrics:   0%|          | 0/10 [00:00<?, ?it/s]"
            ]
          },
          "metadata": {},
          "output_type": "display_data"
        },
        {
          "data": {
            "application/vnd.jupyter.widget-view+json": {
              "model_id": "3fe84bccbe184823aa74dbcde4f206ed",
              "version_major": 2,
              "version_minor": 0
            },
            "text/plain": [
              "Measuring metrics:   0%|          | 0/10 [00:00<?, ?it/s]"
            ]
          },
          "metadata": {},
          "output_type": "display_data"
        },
        {
          "data": {
            "application/vnd.jupyter.widget-view+json": {
              "model_id": "c50b33d411ae4af38282675f5d985263",
              "version_major": 2,
              "version_minor": 0
            },
            "text/plain": [
              "Measuring metrics:   0%|          | 0/10 [00:00<?, ?it/s]"
            ]
          },
          "metadata": {},
          "output_type": "display_data"
        },
        {
          "data": {
            "application/vnd.jupyter.widget-view+json": {
              "model_id": "d0dae21ac6a24b6386c55ba9d39a13e0",
              "version_major": 2,
              "version_minor": 0
            },
            "text/plain": [
              "Measuring metrics:   0%|          | 0/10 [00:00<?, ?it/s]"
            ]
          },
          "metadata": {},
          "output_type": "display_data"
        },
        {
          "data": {
            "application/vnd.jupyter.widget-view+json": {
              "model_id": "4851e70360e4415b828bb2047d698af0",
              "version_major": 2,
              "version_minor": 0
            },
            "text/plain": [
              "Measuring metrics:   0%|          | 0/10 [00:00<?, ?it/s]"
            ]
          },
          "metadata": {},
          "output_type": "display_data"
        },
        {
          "data": {
            "application/vnd.jupyter.widget-view+json": {
              "model_id": "47118dcff8d14f75b841631da5578216",
              "version_major": 2,
              "version_minor": 0
            },
            "text/plain": [
              "Measuring metrics:   0%|          | 0/10 [00:00<?, ?it/s]"
            ]
          },
          "metadata": {},
          "output_type": "display_data"
        },
        {
          "data": {
            "application/vnd.jupyter.widget-view+json": {
              "model_id": "3e450e99a6da4aadb2444ba44e7ee352",
              "version_major": 2,
              "version_minor": 0
            },
            "text/plain": [
              "Measuring metrics:   0%|          | 0/10 [00:00<?, ?it/s]"
            ]
          },
          "metadata": {},
          "output_type": "display_data"
        },
        {
          "data": {
            "application/vnd.jupyter.widget-view+json": {
              "model_id": "c43e03d4b5794bbaa5a6948dade2f948",
              "version_major": 2,
              "version_minor": 0
            },
            "text/plain": [
              "Measuring metrics:   0%|          | 0/10 [00:00<?, ?it/s]"
            ]
          },
          "metadata": {},
          "output_type": "display_data"
        },
        {
          "data": {
            "application/vnd.jupyter.widget-view+json": {
              "model_id": "6b98ba4dec8e4dc88a0108283b40b82e",
              "version_major": 2,
              "version_minor": 0
            },
            "text/plain": [
              "Measuring metrics:   0%|          | 0/10 [00:00<?, ?it/s]"
            ]
          },
          "metadata": {},
          "output_type": "display_data"
        },
        {
          "data": {
            "application/vnd.jupyter.widget-view+json": {
              "model_id": "db7f7392667c4d0fb4b5e1ccd6e49e79",
              "version_major": 2,
              "version_minor": 0
            },
            "text/plain": [
              "Mini-batches:   0%|          | 0/60000 [00:00<?, ?it/s]"
            ]
          },
          "metadata": {},
          "output_type": "display_data"
        },
        {
          "data": {
            "application/vnd.jupyter.widget-view+json": {
              "model_id": "74be171f93d843cf9f5bb85d75623d11",
              "version_major": 2,
              "version_minor": 0
            },
            "text/plain": [
              "Measuring metrics:   0%|          | 0/10 [00:00<?, ?it/s]"
            ]
          },
          "metadata": {},
          "output_type": "display_data"
        },
        {
          "data": {
            "application/vnd.jupyter.widget-view+json": {
              "model_id": "531ec0e0a1a549e19bbc24c5e8f85415",
              "version_major": 2,
              "version_minor": 0
            },
            "text/plain": [
              "Measuring metrics:   0%|          | 0/10 [00:00<?, ?it/s]"
            ]
          },
          "metadata": {},
          "output_type": "display_data"
        },
        {
          "data": {
            "application/vnd.jupyter.widget-view+json": {
              "model_id": "2cffe61b1d1b45ecb29ffc8bdb9c0a7b",
              "version_major": 2,
              "version_minor": 0
            },
            "text/plain": [
              "Measuring metrics:   0%|          | 0/10 [00:00<?, ?it/s]"
            ]
          },
          "metadata": {},
          "output_type": "display_data"
        },
        {
          "data": {
            "application/vnd.jupyter.widget-view+json": {
              "model_id": "37e96ccb21474a9db1fa121fb6ad77ab",
              "version_major": 2,
              "version_minor": 0
            },
            "text/plain": [
              "Measuring metrics:   0%|          | 0/10 [00:00<?, ?it/s]"
            ]
          },
          "metadata": {},
          "output_type": "display_data"
        },
        {
          "data": {
            "application/vnd.jupyter.widget-view+json": {
              "model_id": "afa02b893ec74e3eb4f7d5024b3fa259",
              "version_major": 2,
              "version_minor": 0
            },
            "text/plain": [
              "Measuring metrics:   0%|          | 0/10 [00:00<?, ?it/s]"
            ]
          },
          "metadata": {},
          "output_type": "display_data"
        },
        {
          "data": {
            "application/vnd.jupyter.widget-view+json": {
              "model_id": "540d9bd03bcf4984ab2d35598a781d93",
              "version_major": 2,
              "version_minor": 0
            },
            "text/plain": [
              "Measuring metrics:   0%|          | 0/10 [00:00<?, ?it/s]"
            ]
          },
          "metadata": {},
          "output_type": "display_data"
        },
        {
          "data": {
            "application/vnd.jupyter.widget-view+json": {
              "model_id": "28747368f479498b91aa29629b06a898",
              "version_major": 2,
              "version_minor": 0
            },
            "text/plain": [
              "Measuring metrics:   0%|          | 0/10 [00:00<?, ?it/s]"
            ]
          },
          "metadata": {},
          "output_type": "display_data"
        },
        {
          "data": {
            "application/vnd.jupyter.widget-view+json": {
              "model_id": "0ba3e4d67b0441f3af46ef1bd04ae24f",
              "version_major": 2,
              "version_minor": 0
            },
            "text/plain": [
              "Measuring metrics:   0%|          | 0/10 [00:00<?, ?it/s]"
            ]
          },
          "metadata": {},
          "output_type": "display_data"
        },
        {
          "data": {
            "application/vnd.jupyter.widget-view+json": {
              "model_id": "575235abd3fc4648b9bfbbe49bddbd36",
              "version_major": 2,
              "version_minor": 0
            },
            "text/plain": [
              "Measuring metrics:   0%|          | 0/10 [00:00<?, ?it/s]"
            ]
          },
          "metadata": {},
          "output_type": "display_data"
        },
        {
          "data": {
            "application/vnd.jupyter.widget-view+json": {
              "model_id": "524b5fe73e7443d4aa5c9a726fde1321",
              "version_major": 2,
              "version_minor": 0
            },
            "text/plain": [
              "Measuring metrics:   0%|          | 0/10 [00:00<?, ?it/s]"
            ]
          },
          "metadata": {},
          "output_type": "display_data"
        },
        {
          "data": {
            "application/vnd.jupyter.widget-view+json": {
              "model_id": "e00eb2712dd149318553bb60afbb2538",
              "version_major": 2,
              "version_minor": 0
            },
            "text/plain": [
              "Mini-batches:   0%|          | 0/60000 [00:00<?, ?it/s]"
            ]
          },
          "metadata": {},
          "output_type": "display_data"
        },
        {
          "data": {
            "application/vnd.jupyter.widget-view+json": {
              "model_id": "97fee231dfaa418a81f658b7dd34160b",
              "version_major": 2,
              "version_minor": 0
            },
            "text/plain": [
              "Measuring metrics:   0%|          | 0/10 [00:00<?, ?it/s]"
            ]
          },
          "metadata": {},
          "output_type": "display_data"
        },
        {
          "data": {
            "application/vnd.jupyter.widget-view+json": {
              "model_id": "03634b430f034a368343b2daf9f9cf81",
              "version_major": 2,
              "version_minor": 0
            },
            "text/plain": [
              "Measuring metrics:   0%|          | 0/10 [00:00<?, ?it/s]"
            ]
          },
          "metadata": {},
          "output_type": "display_data"
        },
        {
          "data": {
            "application/vnd.jupyter.widget-view+json": {
              "model_id": "885fc2d2a7a84c07b0fdbb2e25767153",
              "version_major": 2,
              "version_minor": 0
            },
            "text/plain": [
              "Measuring metrics:   0%|          | 0/10 [00:00<?, ?it/s]"
            ]
          },
          "metadata": {},
          "output_type": "display_data"
        },
        {
          "data": {
            "application/vnd.jupyter.widget-view+json": {
              "model_id": "b3c07072cb274e978fffed4ff9633f0b",
              "version_major": 2,
              "version_minor": 0
            },
            "text/plain": [
              "Measuring metrics:   0%|          | 0/10 [00:00<?, ?it/s]"
            ]
          },
          "metadata": {},
          "output_type": "display_data"
        },
        {
          "data": {
            "application/vnd.jupyter.widget-view+json": {
              "model_id": "ec5908bcd84d45c488af5fbcf37e2656",
              "version_major": 2,
              "version_minor": 0
            },
            "text/plain": [
              "Measuring metrics:   0%|          | 0/10 [00:00<?, ?it/s]"
            ]
          },
          "metadata": {},
          "output_type": "display_data"
        },
        {
          "data": {
            "application/vnd.jupyter.widget-view+json": {
              "model_id": "28ec63b74fb0431e9b981ddb7938ae29",
              "version_major": 2,
              "version_minor": 0
            },
            "text/plain": [
              "Measuring metrics:   0%|          | 0/10 [00:00<?, ?it/s]"
            ]
          },
          "metadata": {},
          "output_type": "display_data"
        },
        {
          "data": {
            "application/vnd.jupyter.widget-view+json": {
              "model_id": "a77ac276be4d422ebbe989d3f313e439",
              "version_major": 2,
              "version_minor": 0
            },
            "text/plain": [
              "Measuring metrics:   0%|          | 0/10 [00:00<?, ?it/s]"
            ]
          },
          "metadata": {},
          "output_type": "display_data"
        },
        {
          "data": {
            "application/vnd.jupyter.widget-view+json": {
              "model_id": "794859ec5d44449092c680816d1a8dce",
              "version_major": 2,
              "version_minor": 0
            },
            "text/plain": [
              "Measuring metrics:   0%|          | 0/10 [00:00<?, ?it/s]"
            ]
          },
          "metadata": {},
          "output_type": "display_data"
        },
        {
          "data": {
            "application/vnd.jupyter.widget-view+json": {
              "model_id": "4ae2256821b7482c84192ffac1187bc9",
              "version_major": 2,
              "version_minor": 0
            },
            "text/plain": [
              "Measuring metrics:   0%|          | 0/10 [00:00<?, ?it/s]"
            ]
          },
          "metadata": {},
          "output_type": "display_data"
        },
        {
          "data": {
            "application/vnd.jupyter.widget-view+json": {
              "model_id": "30e8c4ee582e453ebf245a4bb6eb3f68",
              "version_major": 2,
              "version_minor": 0
            },
            "text/plain": [
              "Measuring metrics:   0%|          | 0/10 [00:00<?, ?it/s]"
            ]
          },
          "metadata": {},
          "output_type": "display_data"
        },
        {
          "data": {
            "application/vnd.jupyter.widget-view+json": {
              "model_id": "bf86ae60240f4140b3e542a31d8b85de",
              "version_major": 2,
              "version_minor": 0
            },
            "text/plain": [
              "Mini-batches:   0%|          | 0/60000 [00:00<?, ?it/s]"
            ]
          },
          "metadata": {},
          "output_type": "display_data"
        },
        {
          "data": {
            "application/vnd.jupyter.widget-view+json": {
              "model_id": "4f09f17fcf4045c0979b3a08ce02daa7",
              "version_major": 2,
              "version_minor": 0
            },
            "text/plain": [
              "Measuring metrics:   0%|          | 0/10 [00:00<?, ?it/s]"
            ]
          },
          "metadata": {},
          "output_type": "display_data"
        },
        {
          "data": {
            "application/vnd.jupyter.widget-view+json": {
              "model_id": "1afc937dbb824d27b6eb6a88fe63cc1c",
              "version_major": 2,
              "version_minor": 0
            },
            "text/plain": [
              "Measuring metrics:   0%|          | 0/10 [00:00<?, ?it/s]"
            ]
          },
          "metadata": {},
          "output_type": "display_data"
        },
        {
          "data": {
            "application/vnd.jupyter.widget-view+json": {
              "model_id": "72933b138b5b476cba74688ac54441cc",
              "version_major": 2,
              "version_minor": 0
            },
            "text/plain": [
              "Measuring metrics:   0%|          | 0/10 [00:00<?, ?it/s]"
            ]
          },
          "metadata": {},
          "output_type": "display_data"
        },
        {
          "data": {
            "application/vnd.jupyter.widget-view+json": {
              "model_id": "c40d0974152a48ce977cab3ecb71fe94",
              "version_major": 2,
              "version_minor": 0
            },
            "text/plain": [
              "Measuring metrics:   0%|          | 0/10 [00:00<?, ?it/s]"
            ]
          },
          "metadata": {},
          "output_type": "display_data"
        },
        {
          "data": {
            "application/vnd.jupyter.widget-view+json": {
              "model_id": "722bc9ab03884ec88653fce1bc2d50e0",
              "version_major": 2,
              "version_minor": 0
            },
            "text/plain": [
              "Measuring metrics:   0%|          | 0/10 [00:00<?, ?it/s]"
            ]
          },
          "metadata": {},
          "output_type": "display_data"
        },
        {
          "data": {
            "application/vnd.jupyter.widget-view+json": {
              "model_id": "7f40309878a74c55a59afa51a4b4e41a",
              "version_major": 2,
              "version_minor": 0
            },
            "text/plain": [
              "Measuring metrics:   0%|          | 0/10 [00:00<?, ?it/s]"
            ]
          },
          "metadata": {},
          "output_type": "display_data"
        },
        {
          "data": {
            "application/vnd.jupyter.widget-view+json": {
              "model_id": "5ffee60d2de9412db49cce8872f9266f",
              "version_major": 2,
              "version_minor": 0
            },
            "text/plain": [
              "Measuring metrics:   0%|          | 0/10 [00:00<?, ?it/s]"
            ]
          },
          "metadata": {},
          "output_type": "display_data"
        },
        {
          "data": {
            "application/vnd.jupyter.widget-view+json": {
              "model_id": "1773ca6f40e748d6a3536f16f0bfabe0",
              "version_major": 2,
              "version_minor": 0
            },
            "text/plain": [
              "Measuring metrics:   0%|          | 0/10 [00:00<?, ?it/s]"
            ]
          },
          "metadata": {},
          "output_type": "display_data"
        },
        {
          "data": {
            "application/vnd.jupyter.widget-view+json": {
              "model_id": "c3c7b8dc683f4a64a2854b6b0a85979c",
              "version_major": 2,
              "version_minor": 0
            },
            "text/plain": [
              "Measuring metrics:   0%|          | 0/10 [00:00<?, ?it/s]"
            ]
          },
          "metadata": {},
          "output_type": "display_data"
        },
        {
          "data": {
            "application/vnd.jupyter.widget-view+json": {
              "model_id": "db68d358b6ff45478d9c51dd549e0e8e",
              "version_major": 2,
              "version_minor": 0
            },
            "text/plain": [
              "Measuring metrics:   0%|          | 0/10 [00:00<?, ?it/s]"
            ]
          },
          "metadata": {},
          "output_type": "display_data"
        },
        {
          "data": {
            "application/vnd.jupyter.widget-view+json": {
              "model_id": "839f836fb8334a088dadeb37a5fd1096",
              "version_major": 2,
              "version_minor": 0
            },
            "text/plain": [
              "Mini-batches:   0%|          | 0/60000 [00:00<?, ?it/s]"
            ]
          },
          "metadata": {},
          "output_type": "display_data"
        },
        {
          "data": {
            "application/vnd.jupyter.widget-view+json": {
              "model_id": "e0ca6ce345404b68b0f2d89ad9513639",
              "version_major": 2,
              "version_minor": 0
            },
            "text/plain": [
              "Measuring metrics:   0%|          | 0/10 [00:00<?, ?it/s]"
            ]
          },
          "metadata": {},
          "output_type": "display_data"
        },
        {
          "data": {
            "application/vnd.jupyter.widget-view+json": {
              "model_id": "4d5a51f62975454f9e13d7d7225a832f",
              "version_major": 2,
              "version_minor": 0
            },
            "text/plain": [
              "Measuring metrics:   0%|          | 0/10 [00:00<?, ?it/s]"
            ]
          },
          "metadata": {},
          "output_type": "display_data"
        },
        {
          "data": {
            "application/vnd.jupyter.widget-view+json": {
              "model_id": "36a1818104a546619e77a963bfe493d6",
              "version_major": 2,
              "version_minor": 0
            },
            "text/plain": [
              "Measuring metrics:   0%|          | 0/10 [00:00<?, ?it/s]"
            ]
          },
          "metadata": {},
          "output_type": "display_data"
        },
        {
          "data": {
            "application/vnd.jupyter.widget-view+json": {
              "model_id": "df869fb96eed4589992f2972ce7695db",
              "version_major": 2,
              "version_minor": 0
            },
            "text/plain": [
              "Measuring metrics:   0%|          | 0/10 [00:00<?, ?it/s]"
            ]
          },
          "metadata": {},
          "output_type": "display_data"
        },
        {
          "data": {
            "application/vnd.jupyter.widget-view+json": {
              "model_id": "097c918ebfd142259898cd0fd9b7db9c",
              "version_major": 2,
              "version_minor": 0
            },
            "text/plain": [
              "Measuring metrics:   0%|          | 0/10 [00:00<?, ?it/s]"
            ]
          },
          "metadata": {},
          "output_type": "display_data"
        },
        {
          "data": {
            "application/vnd.jupyter.widget-view+json": {
              "model_id": "49485560a4ed45628f1837792e173b7c",
              "version_major": 2,
              "version_minor": 0
            },
            "text/plain": [
              "Measuring metrics:   0%|          | 0/10 [00:00<?, ?it/s]"
            ]
          },
          "metadata": {},
          "output_type": "display_data"
        },
        {
          "data": {
            "application/vnd.jupyter.widget-view+json": {
              "model_id": "0fa2e8e2d8374f31a3b3d9d70631405f",
              "version_major": 2,
              "version_minor": 0
            },
            "text/plain": [
              "Measuring metrics:   0%|          | 0/10 [00:00<?, ?it/s]"
            ]
          },
          "metadata": {},
          "output_type": "display_data"
        },
        {
          "data": {
            "application/vnd.jupyter.widget-view+json": {
              "model_id": "644762e12528444999f50b09c8de3296",
              "version_major": 2,
              "version_minor": 0
            },
            "text/plain": [
              "Measuring metrics:   0%|          | 0/10 [00:00<?, ?it/s]"
            ]
          },
          "metadata": {},
          "output_type": "display_data"
        },
        {
          "data": {
            "application/vnd.jupyter.widget-view+json": {
              "model_id": "706e0821c0ef4fafabfb0aeb350cc296",
              "version_major": 2,
              "version_minor": 0
            },
            "text/plain": [
              "Measuring metrics:   0%|          | 0/10 [00:00<?, ?it/s]"
            ]
          },
          "metadata": {},
          "output_type": "display_data"
        },
        {
          "data": {
            "application/vnd.jupyter.widget-view+json": {
              "model_id": "fd49cebc867142fe91af284cb835dc8d",
              "version_major": 2,
              "version_minor": 0
            },
            "text/plain": [
              "Measuring metrics:   0%|          | 0/10 [00:00<?, ?it/s]"
            ]
          },
          "metadata": {},
          "output_type": "display_data"
        },
        {
          "data": {
            "application/vnd.jupyter.widget-view+json": {
              "model_id": "3418281036be4184889b190b5a12562c",
              "version_major": 2,
              "version_minor": 0
            },
            "text/plain": [
              "Mini-batches:   0%|          | 0/60000 [00:00<?, ?it/s]"
            ]
          },
          "metadata": {},
          "output_type": "display_data"
        },
        {
          "data": {
            "application/vnd.jupyter.widget-view+json": {
              "model_id": "37173d7ad99d438ea3f21651fe477423",
              "version_major": 2,
              "version_minor": 0
            },
            "text/plain": [
              "Measuring metrics:   0%|          | 0/10 [00:00<?, ?it/s]"
            ]
          },
          "metadata": {},
          "output_type": "display_data"
        },
        {
          "data": {
            "application/vnd.jupyter.widget-view+json": {
              "model_id": "7e4acf42f9f64125947458d45691fb87",
              "version_major": 2,
              "version_minor": 0
            },
            "text/plain": [
              "Measuring metrics:   0%|          | 0/10 [00:00<?, ?it/s]"
            ]
          },
          "metadata": {},
          "output_type": "display_data"
        },
        {
          "data": {
            "application/vnd.jupyter.widget-view+json": {
              "model_id": "700bd4bf1713446b83fe5de60407cf02",
              "version_major": 2,
              "version_minor": 0
            },
            "text/plain": [
              "Measuring metrics:   0%|          | 0/10 [00:00<?, ?it/s]"
            ]
          },
          "metadata": {},
          "output_type": "display_data"
        },
        {
          "data": {
            "application/vnd.jupyter.widget-view+json": {
              "model_id": "83c06a8cebd143378986b1bbb41d9e60",
              "version_major": 2,
              "version_minor": 0
            },
            "text/plain": [
              "Measuring metrics:   0%|          | 0/10 [00:00<?, ?it/s]"
            ]
          },
          "metadata": {},
          "output_type": "display_data"
        },
        {
          "data": {
            "application/vnd.jupyter.widget-view+json": {
              "model_id": "77f0b63e501543679306a62c2c5c345b",
              "version_major": 2,
              "version_minor": 0
            },
            "text/plain": [
              "Measuring metrics:   0%|          | 0/10 [00:00<?, ?it/s]"
            ]
          },
          "metadata": {},
          "output_type": "display_data"
        },
        {
          "data": {
            "application/vnd.jupyter.widget-view+json": {
              "model_id": "05f9b075c29746a2b5127fbc0e8e6f30",
              "version_major": 2,
              "version_minor": 0
            },
            "text/plain": [
              "Measuring metrics:   0%|          | 0/10 [00:00<?, ?it/s]"
            ]
          },
          "metadata": {},
          "output_type": "display_data"
        },
        {
          "data": {
            "application/vnd.jupyter.widget-view+json": {
              "model_id": "5874521aa1454b4ca535eae2d7474ee2",
              "version_major": 2,
              "version_minor": 0
            },
            "text/plain": [
              "Measuring metrics:   0%|          | 0/10 [00:00<?, ?it/s]"
            ]
          },
          "metadata": {},
          "output_type": "display_data"
        },
        {
          "data": {
            "application/vnd.jupyter.widget-view+json": {
              "model_id": "ea89d375a00644079ea027b2e4bead90",
              "version_major": 2,
              "version_minor": 0
            },
            "text/plain": [
              "Measuring metrics:   0%|          | 0/10 [00:00<?, ?it/s]"
            ]
          },
          "metadata": {},
          "output_type": "display_data"
        },
        {
          "data": {
            "application/vnd.jupyter.widget-view+json": {
              "model_id": "5c60db241fee4df1bcac27801d419457",
              "version_major": 2,
              "version_minor": 0
            },
            "text/plain": [
              "Measuring metrics:   0%|          | 0/10 [00:00<?, ?it/s]"
            ]
          },
          "metadata": {},
          "output_type": "display_data"
        },
        {
          "data": {
            "application/vnd.jupyter.widget-view+json": {
              "model_id": "e335eb36271248da9fa4a36625cc1a68",
              "version_major": 2,
              "version_minor": 0
            },
            "text/plain": [
              "Mini-batches:   0%|          | 0/60000 [00:00<?, ?it/s]"
            ]
          },
          "metadata": {},
          "output_type": "display_data"
        },
        {
          "data": {
            "application/vnd.jupyter.widget-view+json": {
              "model_id": "2823993b15794b7295f33b37616aa711",
              "version_major": 2,
              "version_minor": 0
            },
            "text/plain": [
              "Measuring metrics:   0%|          | 0/10 [00:00<?, ?it/s]"
            ]
          },
          "metadata": {},
          "output_type": "display_data"
        },
        {
          "data": {
            "application/vnd.jupyter.widget-view+json": {
              "model_id": "2d94de5b969e45a097ead7c32e9f8868",
              "version_major": 2,
              "version_minor": 0
            },
            "text/plain": [
              "Measuring metrics:   0%|          | 0/10 [00:00<?, ?it/s]"
            ]
          },
          "metadata": {},
          "output_type": "display_data"
        },
        {
          "data": {
            "application/vnd.jupyter.widget-view+json": {
              "model_id": "ddab3fe1108b4f93a3b2a3698c5ce0b4",
              "version_major": 2,
              "version_minor": 0
            },
            "text/plain": [
              "Measuring metrics:   0%|          | 0/10 [00:00<?, ?it/s]"
            ]
          },
          "metadata": {},
          "output_type": "display_data"
        },
        {
          "data": {
            "application/vnd.jupyter.widget-view+json": {
              "model_id": "f4d3823cc0654cf58cb75636f47a90b1",
              "version_major": 2,
              "version_minor": 0
            },
            "text/plain": [
              "Measuring metrics:   0%|          | 0/10 [00:00<?, ?it/s]"
            ]
          },
          "metadata": {},
          "output_type": "display_data"
        },
        {
          "data": {
            "application/vnd.jupyter.widget-view+json": {
              "model_id": "98db19fff1ec4d8f89c099b1632d357d",
              "version_major": 2,
              "version_minor": 0
            },
            "text/plain": [
              "Measuring metrics:   0%|          | 0/10 [00:00<?, ?it/s]"
            ]
          },
          "metadata": {},
          "output_type": "display_data"
        },
        {
          "data": {
            "application/vnd.jupyter.widget-view+json": {
              "model_id": "acfd4fc6b55544e786dabc7b498f96b3",
              "version_major": 2,
              "version_minor": 0
            },
            "text/plain": [
              "Measuring metrics:   0%|          | 0/10 [00:00<?, ?it/s]"
            ]
          },
          "metadata": {},
          "output_type": "display_data"
        },
        {
          "data": {
            "application/vnd.jupyter.widget-view+json": {
              "model_id": "c24c29adf599434b8daf605e7492e40f",
              "version_major": 2,
              "version_minor": 0
            },
            "text/plain": [
              "Measuring metrics:   0%|          | 0/10 [00:00<?, ?it/s]"
            ]
          },
          "metadata": {},
          "output_type": "display_data"
        },
        {
          "data": {
            "application/vnd.jupyter.widget-view+json": {
              "model_id": "236edbca492b4288a3d5d4028d11a567",
              "version_major": 2,
              "version_minor": 0
            },
            "text/plain": [
              "Measuring metrics:   0%|          | 0/10 [00:00<?, ?it/s]"
            ]
          },
          "metadata": {},
          "output_type": "display_data"
        },
        {
          "data": {
            "application/vnd.jupyter.widget-view+json": {
              "model_id": "6e2b98d59cbf4826bba65d686e649f73",
              "version_major": 2,
              "version_minor": 0
            },
            "text/plain": [
              "Measuring metrics:   0%|          | 0/10 [00:00<?, ?it/s]"
            ]
          },
          "metadata": {},
          "output_type": "display_data"
        },
        {
          "data": {
            "application/vnd.jupyter.widget-view+json": {
              "model_id": "8f8c22fcba064c4390b94f2aa246fef4",
              "version_major": 2,
              "version_minor": 0
            },
            "text/plain": [
              "Measuring metrics:   0%|          | 0/10 [00:00<?, ?it/s]"
            ]
          },
          "metadata": {},
          "output_type": "display_data"
        },
        {
          "data": {
            "text/html": [
              "Waiting for W&B process to finish... <strong style=\"color:green\">(success).</strong>"
            ],
            "text/plain": [
              "<IPython.core.display.HTML object>"
            ]
          },
          "metadata": {},
          "output_type": "display_data"
        },
        {
          "data": {
            "application/vnd.jupyter.widget-view+json": {
              "model_id": "ad4db3a7b0464482a71b37212cf82c27",
              "version_major": 2,
              "version_minor": 0
            },
            "text/plain": [
              "VBox(children=(Label(value='0.001 MB of 0.001 MB uploaded (0.000 MB deduped)\\r'), FloatProgress(value=1.0, max…"
            ]
          },
          "metadata": {},
          "output_type": "display_data"
        },
        {
          "data": {
            "text/html": [
              "<style>\n",
              "    table.wandb td:nth-child(1) { padding: 0 10px; text-align: left ; width: auto;} td:nth-child(2) {text-align: left ; width: 100%}\n",
              "    .wandb-row { display: flex; flex-direction: row; flex-wrap: wrap; justify-content: flex-start; width: 100% }\n",
              "    .wandb-col { display: flex; flex-direction: column; flex-basis: 100%; flex: 1; padding: 10px; }\n",
              "    </style>\n",
              "<div class=\"wandb-row\"><div class=\"wandb-col\"><h3>Run history:</h3><br/><table class=\"wandb\"><tr><td>test/accuracy/0</td><td>██▁▁▁▁▁▁▁▁▁▁▁▁▁▁▁▁▁▁▁▁▁▁▁▁▁▁▁▁▁▁▁▁▁▁▁▁▁▁</td></tr><tr><td>test/accuracy/1</td><td>▁█▁██████▁██████████████████████████████</td></tr><tr><td>test/accuracy/2</td><td>▁▁█▁▁▁▁▁▁▁▁▁▁▁▁▁▁▁▁▁▁▁▁▁▁▁▁▁▁▁▁▁▁▁▁▁▁▁▁▁</td></tr><tr><td>test/accuracy/3</td><td>▁▁▁▁▁▁▁▁▁▁▁▁▁▁▁▁▁▁▁▁▁▁▁▁▁▁▁▁▁▁▁▁▁▁▁▁▁▁▁▁</td></tr><tr><td>test/accuracy/4</td><td>▁▁▁▁▁▁▁▁▁█▁▁▁▁▁▁▁▁▁▁▁▁▁▁▁▁▁▁▁▁▁▁▁▁▁▁▁▁▁▁</td></tr><tr><td>test/accuracy/5</td><td>▁▁▁▁▁▁▁▁▁▁▁▁▁▁▁▁▁▁▁▁▁▁▁▁▁▁▁▁▁▁▁▁▁▁▁▁▁▁▁▁</td></tr><tr><td>test/accuracy/6</td><td>▁▁▁▁▁▁▁▁▁▁▁▁▁▁▁▁▁▁▁▁▁▁▁▁▁▁▁▁▁▁▁▁▁▁▁▁▁▁▁▁</td></tr><tr><td>test/accuracy/7</td><td>▁▁▁▁▁▁▁▁▁▁▁▁▁▁▁▁▁▁▁▁▁▁▁▁▁▁▁▁▁▁▁▁▁▁▁▁▁▁▁▁</td></tr><tr><td>test/accuracy/8</td><td>▁▁▁▁▁▁▁▁▁▁▁▁▁▁▁▁▁▁▁▁▁▁▁▁▁▁▁▁▁▁▁▁▁▁▁▁▁▁▁▁</td></tr><tr><td>test/accuracy/9</td><td>▁▁▁▁▁▁▁▁▁▁▁▁▁▁▁▁▁▁▁▁▁▁▁▁▁▁▁▁▁▁▁▁▁▁▁▁▁▁▁▁</td></tr><tr><td>test/accuracy/total</td><td>▁█▁▂▂▂▂▂▂▁▂▂▂▂▂▂▂▂▂▂▂▂▂▂▂▂▂▂▂▂▂▂▂▂▂▂▂▂▂▂</td></tr><tr><td>test/loss/0</td><td>▁▁▅▅▅▅▅▆▆▆▆▆▆▇▆▆▇▇▇▇▇▇▇▇▇▇▇█████████████</td></tr><tr><td>test/loss/1</td><td>█▁▁▁▁▁▁▁▁▁▁▁▁▁▁▁▂▂▂▂▂▂▂▂▂▂▂▂▂▂▂▂▂▂▂▂▂▂▂▂</td></tr><tr><td>test/loss/2</td><td>█▄▁▁▁▁▁▁▁▁▁▁▁▁▁▁▁▁▁▁▁▁▁▁▁▁▁▁▁▁▁▁▁▁▁▁▁▁▁▁</td></tr><tr><td>test/loss/3</td><td>█▄▂▃▃▁▁▁▁▁▁▁▁▁▁▁▁▁▁▁▁▁▁▁▁▁▁▁▁▁▁▁▁▁▁▁▁▁▁▁</td></tr><tr><td>test/loss/4</td><td>█▅▂▃▃▃▃▁▁▁▁▁▁▁▁▁▁▁▁▁▁▁▁▁▁▁▁▁▁▁▁▁▁▁▁▁▁▁▁▁</td></tr><tr><td>test/loss/5</td><td>█▄▂▃▃▃▃▂▃▃▃▃▁▁▁▁▁▁▁▁▁▁▁▁▁▁▁▁▁▁▁▁▁▁▁▁▁▁▁▁</td></tr><tr><td>test/loss/6</td><td>█▄▁▂▂▂▂▂▂▂▂▂▂▂▂▂▁▁▁▁▁▁▁▁▁▁▁▁▁▁▁▁▁▁▁▁▁▁▁▁</td></tr><tr><td>test/loss/7</td><td>█▅▂▃▃▃▃▂▃▃▃▃▂▂▂▂▂▂▂▂▂▁▁▁▁▁▁▁▁▁▁▁▁▁▁▁▁▁▁▁</td></tr><tr><td>test/loss/8</td><td>█▄▁▂▂▂▂▂▂▂▃▃▂▂▂▂▂▂▂▂▂▂▂▂▂▂▂▁▁▁▁▁▁▁▁▁▁▁▁▁</td></tr><tr><td>test/loss/9</td><td>█▄▁▂▃▂▃▂▃▃▃▃▂▂▂▂▂▂▂▂▂▂▂▂▂▂▂▂▂▂▂▂▂▁▁▁▁▁▁▁</td></tr><tr><td>test/loss/total</td><td>█▄▁▂▂▂▂▁▂▂▂▂▁▁▁▁▁▁▁▁▁▁▁▁▁▁▁▁▁▁▁▁▁▁▁▁▁▁▁▁</td></tr><tr><td>train/accuracy/0</td><td>██▁▁▁▁▁▁▁▁▁▁▁▁▁▁▁▁▁▁▁▁▁▁▁▁▁▁▁▁▁▁▁▁▁▁▁▁▁▁</td></tr><tr><td>train/accuracy/1</td><td>▁█▁██████▁██████████████████████████████</td></tr><tr><td>train/accuracy/2</td><td>▁▁█▁▁▁▁▁▁▁▁▁▁▁▁▁▁▁▁▁▁▁▁▁▁▁▁▁▁▁▁▁▁▁▁▁▁▁▁▁</td></tr><tr><td>train/accuracy/3</td><td>▁▁▁▁▁▁▁▁▁▁▁▁▁▁▁▁▁▁▁▁▁▁▁▁▁▁▁▁▁▁▁▁▁▁▁▁▁▁▁▁</td></tr><tr><td>train/accuracy/4</td><td>▁▁▁▁▁▁▁▁▁█▁▁▁▁▁▁▁▁▁▁▁▁▁▁▁▁▁▁▁▁▁▁▁▁▁▁▁▁▁▁</td></tr><tr><td>train/accuracy/5</td><td>▁▁▁▁▁▁▁▁▁▁▁▁▁▁▁▁▁▁▁▁▁▁▁▁▁▁▁▁▁▁▁▁▁▁▁▁▁▁▁▁</td></tr><tr><td>train/accuracy/6</td><td>▁▁▁▁▁▁▁▁▁▁▁▁▁▁▁▁▁▁▁▁▁▁▁▁▁▁▁▁▁▁▁▁▁▁▁▁▁▁▁▁</td></tr><tr><td>train/accuracy/7</td><td>▁▁▁▁▁▁▁▁▁▁▁▁▁▁▁▁▁▁▁▁▁▁▁▁▁▁▁▁▁▁▁▁▁▁▁▁▁▁▁▁</td></tr><tr><td>train/accuracy/8</td><td>▁▁▁▁▁▁▁▁▁▁▁▁▁▁▁▁▁▁▁▁▁▁▁▁▁▁▁▁▁▁▁▁▁▁▁▁▁▁▁▁</td></tr><tr><td>train/accuracy/9</td><td>▁▁▁▁▁▁▁▁▁▁▁▁▁▁▁▁▁▁▁▁▁▁▁▁▁▁▁▁▁▁▁▁▁▁▁▁▁▁▁▁</td></tr><tr><td>train/accuracy/total</td><td>▁█▁▂▂▂▂▂▂▁▂▂▂▂▂▂▂▂▂▂▂▂▂▂▂▂▂▂▂▂▂▂▂▂▂▂▂▂▂▂</td></tr><tr><td>train/loss/0</td><td>▁▁▅▅▅▅▅▆▆▆▆▆▆▇▆▆▇▇▇▇▇▇▇▇▇▇▇█████████████</td></tr><tr><td>train/loss/1</td><td>█▁▁▁▁▁▁▁▁▁▁▁▁▁▁▁▂▂▂▂▂▂▂▂▂▂▂▂▂▂▂▂▂▂▂▂▂▂▂▂</td></tr><tr><td>train/loss/2</td><td>█▄▁▁▁▁▁▁▁▁▁▁▁▁▁▁▁▁▁▁▁▁▁▁▁▁▁▁▁▁▁▁▁▁▁▁▁▁▁▁</td></tr><tr><td>train/loss/3</td><td>█▄▂▃▃▁▁▁▁▁▁▁▁▁▁▁▁▁▁▁▁▁▁▁▁▁▁▁▁▁▁▁▁▁▁▁▁▁▁▁</td></tr><tr><td>train/loss/4</td><td>█▅▂▃▃▃▃▁▁▁▁▁▁▁▁▁▁▁▁▁▁▁▁▁▁▁▁▁▁▁▁▁▁▁▁▁▁▁▁▁</td></tr><tr><td>train/loss/5</td><td>█▄▂▃▃▃▃▂▃▃▃▃▁▁▁▁▁▁▁▁▁▁▁▁▁▁▁▁▁▁▁▁▁▁▁▁▁▁▁▁</td></tr><tr><td>train/loss/6</td><td>█▄▁▂▂▂▂▂▂▂▃▃▂▂▂▂▁▁▁▁▁▁▁▁▁▁▁▁▁▁▁▁▁▁▁▁▁▁▁▁</td></tr><tr><td>train/loss/7</td><td>█▅▂▃▃▃▃▂▃▃▃▃▂▂▂▂▂▂▂▂▂▁▁▁▁▁▁▁▁▁▁▁▁▁▁▁▁▁▁▁</td></tr><tr><td>train/loss/8</td><td>█▄▁▂▂▂▂▂▂▃▃▃▂▂▂▂▂▂▂▂▂▂▂▂▂▂▂▁▁▁▁▁▁▁▁▁▁▁▁▁</td></tr><tr><td>train/loss/9</td><td>█▄▁▂▃▃▃▂▃▃▃▃▂▂▂▂▂▂▂▂▂▂▂▂▂▂▂▂▂▂▂▂▂▁▁▁▁▁▁▁</td></tr><tr><td>train/loss/total</td><td>█▄▁▂▂▂▂▁▂▂▂▂▁▁▁▁▁▁▁▁▁▁▁▁▁▁▁▁▁▁▁▁▁▁▁▁▁▁▁▁</td></tr></table><br/></div><div class=\"wandb-col\"><h3>Run summary:</h3><br/><table class=\"wandb\"><tr><td>test/accuracy/0</td><td>0.0</td></tr><tr><td>test/accuracy/1</td><td>1.0</td></tr><tr><td>test/accuracy/2</td><td>0.0</td></tr><tr><td>test/accuracy/3</td><td>0.0</td></tr><tr><td>test/accuracy/4</td><td>0.0</td></tr><tr><td>test/accuracy/5</td><td>0.0</td></tr><tr><td>test/accuracy/6</td><td>0.0</td></tr><tr><td>test/accuracy/7</td><td>0.0</td></tr><tr><td>test/accuracy/8</td><td>0.0</td></tr><tr><td>test/accuracy/9</td><td>0.0</td></tr><tr><td>test/accuracy/total</td><td>0.1135</td></tr><tr><td>test/loss/0</td><td>2.33845</td></tr><tr><td>test/loss/1</td><td>2.1825</td></tr><tr><td>test/loss/2</td><td>2.33649</td></tr><tr><td>test/loss/3</td><td>2.24824</td></tr><tr><td>test/loss/4</td><td>2.32379</td></tr><tr><td>test/loss/5</td><td>2.42232</td></tr><tr><td>test/loss/6</td><td>2.30746</td></tr><tr><td>test/loss/7</td><td>2.2639</td></tr><tr><td>test/loss/8</td><td>2.32689</td></tr><tr><td>test/loss/9</td><td>2.29424</td></tr><tr><td>test/loss/total</td><td>2.30126</td></tr><tr><td>train/accuracy/0</td><td>0.0</td></tr><tr><td>train/accuracy/1</td><td>1.0</td></tr><tr><td>train/accuracy/2</td><td>0.0</td></tr><tr><td>train/accuracy/3</td><td>0.0</td></tr><tr><td>train/accuracy/4</td><td>0.0</td></tr><tr><td>train/accuracy/5</td><td>0.0</td></tr><tr><td>train/accuracy/6</td><td>0.0</td></tr><tr><td>train/accuracy/7</td><td>0.0</td></tr><tr><td>train/accuracy/8</td><td>0.0</td></tr><tr><td>train/accuracy/9</td><td>0.0</td></tr><tr><td>train/accuracy/total</td><td>0.11237</td></tr><tr><td>train/loss/0</td><td>2.33845</td></tr><tr><td>train/loss/1</td><td>2.1825</td></tr><tr><td>train/loss/2</td><td>2.33649</td></tr><tr><td>train/loss/3</td><td>2.24824</td></tr><tr><td>train/loss/4</td><td>2.32379</td></tr><tr><td>train/loss/5</td><td>2.42232</td></tr><tr><td>train/loss/6</td><td>2.30746</td></tr><tr><td>train/loss/7</td><td>2.2639</td></tr><tr><td>train/loss/8</td><td>2.32689</td></tr><tr><td>train/loss/9</td><td>2.29424</td></tr><tr><td>train/loss/total</td><td>2.30131</td></tr></table><br/></div></div>"
            ],
            "text/plain": [
              "<IPython.core.display.HTML object>"
            ]
          },
          "metadata": {},
          "output_type": "display_data"
        },
        {
          "data": {
            "text/html": [
              "Synced <strong style=\"color:#cdcd00\">exalted-gorge-20</strong>: <a href=\"https://wandb.ai/jqhoogland/detecting-phase-transitions-sandbox/runs/1c56f8sd\" target=\"_blank\">https://wandb.ai/jqhoogland/detecting-phase-transitions-sandbox/runs/1c56f8sd</a><br/>Synced 5 W&B file(s), 0 media file(s), 0 artifact file(s) and 0 other file(s)"
            ],
            "text/plain": [
              "<IPython.core.display.HTML object>"
            ]
          },
          "metadata": {},
          "output_type": "display_data"
        },
        {
          "data": {
            "text/html": [
              "Find logs at: <code>./wandb/run-20230415_171411-1c56f8sd/logs</code>"
            ],
            "text/plain": [
              "<IPython.core.display.HTML object>"
            ]
          },
          "metadata": {},
          "output_type": "display_data"
        }
      ],
      "source": [
        "import wandb\n",
        "\n",
        "def train(model: nn.Module, loss_fn, optimizer, subsets_loader: SubsetsLoader, metrics: Metrics):\n",
        "    wandb.init(\"detecting-phase-transitions\")\n",
        "\n",
        "    epoch = 0\n",
        "    step = 0\n",
        "\n",
        "    subsets_loader.to_subset(0)\n",
        "\n",
        "    def measure(step):\n",
        "        metrics.reset()\n",
        "        metrics.measure(model)\n",
        "        wandb.log(metrics.as_dict(), step=step)\n",
        "\n",
        "    def save(step):\n",
        "        t.save(model.state_dict(), f\"./snapshots/model-{step}.pt\")\n",
        "    \n",
        "    # Epochs change in size, so we want to keep the number of steps constant between changes\n",
        "    for epoch in tqdm(range(100), desc=\"Epochs\"): \n",
        "        train_loss = 0.\n",
        "        \n",
        "        if epoch % 10 == 0 and step > 0:\n",
        "            subsets_loader.next_subset()\n",
        "            print(\"Next subset:\", subsets_loader.dataset)\n",
        "\n",
        "        # Round to the nearest multiple of 24\n",
        "        num_steps = len(subsets_loader)\n",
        "        num_steps = (num_steps // 24) * 24\n",
        "\n",
        "        # Training loop for mini-batches\n",
        "        for batch_idx, (x, y) in tqdm(enumerate(subsets_loader), desc=\"Mini-batches\", total=num_steps):            \n",
        "            if step % 24 == 0:\n",
        "                measure(step)\n",
        "                save(step)\n",
        "            \n",
        "            # Make predictions with the current parameters.\n",
        "            x, y = x.to(DEVICE), y.to(DEVICE)\n",
        "            y_pred = model(x)\n",
        "\n",
        "            # Compute the loss value.\n",
        "            loss = loss_fn(y_pred, y)\n",
        "            train_loss += loss.item()\n",
        "\n",
        "            # Update the parameters.\n",
        "            optimizer.zero_grad()\n",
        "            loss.backward()\n",
        "            optimizer.step()\n",
        "\n",
        "            step += 1\n",
        "\n",
        "            if batch_idx == num_steps:\n",
        "                break\n",
        "\n",
        "    wandb.finish()\n",
        "\n",
        "model = MNISTConvNet()\n",
        "loss_fn = nn.CrossEntropyLoss(size_average=False)\n",
        "optimizer = optim.SGD(model.parameters(), lr=0.001)\n",
        "metrics = Metrics(per_label_train_loader, per_label_test_loader, loss_fn)\n",
        "\n",
        "train(model, loss_fn, optimizer, subsets_loader, metrics)"
      ]
    },
    {
      "attachments": {},
      "cell_type": "markdown",
      "metadata": {},
      "source": [
        "# Structural probes"
      ]
    },
    {
      "cell_type": "code",
      "execution_count": null,
      "metadata": {},
      "outputs": [],
      "source": [
        "from typing import Iterable\n",
        "\n",
        "\n",
        "NUM_STEPS = 792\n",
        "IVL = 24\n",
        "\n",
        "class Probe:\n",
        "    __probes__ = [\n",
        "        \"weight_norms\",\n",
        "    ]\n",
        "\n",
        "    def measure(self, cls: Type[nn.Module], steps: Iterable[int]):\n",
        "        model = cls()  # MNISTConvNet\n",
        "        measurements = []\n",
        "\n",
        "        for i in steps:\n",
        "            # Load model from snapshot\n",
        "            model.load_state_dict(t.load(f\"./snapshots/model-{i}.pt\"))\n",
        "\n",
        "            # Measure metrics\n",
        "            measurements.append(self._measure(model, i))\n",
        "\n",
        "        return measurements\n",
        "    \n",
        "    def _measure(self, model, step):\n",
        "        d = {\n",
        "            \"step\": step,\n",
        "        }\n",
        "\n",
        "        for probe in self.__probes__:\n",
        "            d[probe] = getattr(self, probe)(model)\n",
        "    \n",
        "    @classmethod\n",
        "    def weight_norms(cls, model: nn.Module):\n",
        "        norms = []\n",
        "\n",
        "        for p in model.parameters():\n",
        "            norms.append(p.norm().item())\n",
        "\n",
        "        return norms\n",
        "\n",
        "\n",
        "probe = Probe()\n",
        "probe.measure(MNISTConvNet, range(0, NUM_STEPS, IVL))"
      ]
    }
  ],
  "metadata": {
    "accelerator": "GPU",
    "colab": {
      "provenance": []
    },
    "kernelspec": {
      "display_name": "Python 3",
      "name": "python3"
    },
    "language_info": {
      "codemirror_mode": {
        "name": "ipython",
        "version": 3
      },
      "file_extension": ".py",
      "mimetype": "text/x-python",
      "name": "python",
      "nbconvert_exporter": "python",
      "pygments_lexer": "ipython3",
      "version": "3.9.16"
    }
  },
  "nbformat": 4,
  "nbformat_minor": 0
}
