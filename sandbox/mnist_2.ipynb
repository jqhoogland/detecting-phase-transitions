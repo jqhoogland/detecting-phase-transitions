{
  "cells": [
    {
      "cell_type": "code",
      "execution_count": 21,
      "metadata": {
        "colab": {
          "base_uri": "https://localhost:8080/"
        },
        "id": "h8U839iGXCH3",
        "outputId": "88f12940-8c9e-4cb7-c312-dabd92be351e"
      },
      "outputs": [
        {
          "name": "stdout",
          "output_type": "stream",
          "text": [
            "Defaulting to user installation because normal site-packages is not writeable\n",
            "Requirement already satisfied: torch in /home/paperspace/.local/lib/python3.9/site-packages (1.13.1)\n",
            "Requirement already satisfied: torchvision in /home/paperspace/.local/lib/python3.9/site-packages (0.14.1)\n",
            "Requirement already satisfied: livelossplot in /home/paperspace/.local/lib/python3.9/site-packages (0.5.5)\n",
            "Requirement already satisfied: wandb in /home/paperspace/.local/lib/python3.9/site-packages (0.13.4)\n",
            "Requirement already satisfied: torchtyping in /home/paperspace/.local/lib/python3.9/site-packages (0.1.4)\n",
            "Requirement already satisfied: tqdm in /home/paperspace/.local/lib/python3.9/site-packages (4.64.1)\n",
            "Requirement already satisfied: typing-extensions in /home/paperspace/.local/lib/python3.9/site-packages (from torch) (4.4.0)\n",
            "Requirement already satisfied: nvidia-cudnn-cu11==8.5.0.96 in /home/paperspace/.local/lib/python3.9/site-packages (from torch) (8.5.0.96)\n",
            "Requirement already satisfied: nvidia-cublas-cu11==11.10.3.66 in /home/paperspace/.local/lib/python3.9/site-packages (from torch) (11.10.3.66)\n",
            "Requirement already satisfied: nvidia-cuda-nvrtc-cu11==11.7.99 in /home/paperspace/.local/lib/python3.9/site-packages (from torch) (11.7.99)\n",
            "Requirement already satisfied: nvidia-cuda-runtime-cu11==11.7.99 in /home/paperspace/.local/lib/python3.9/site-packages (from torch) (11.7.99)\n",
            "Requirement already satisfied: setuptools in /usr/lib/python3/dist-packages (from nvidia-cublas-cu11==11.10.3.66->torch) (45.2.0)\n",
            "Requirement already satisfied: wheel in /home/paperspace/.local/lib/python3.9/site-packages (from nvidia-cublas-cu11==11.10.3.66->torch) (0.35.1)\n",
            "Requirement already satisfied: numpy in /home/paperspace/.local/lib/python3.9/site-packages (from torchvision) (1.24.1)\n",
            "Requirement already satisfied: requests in /home/paperspace/.local/lib/python3.9/site-packages (from torchvision) (2.28.2)\n",
            "Requirement already satisfied: pillow!=8.3.*,>=5.3.0 in /home/paperspace/.local/lib/python3.9/site-packages (from torchvision) (9.4.0)\n",
            "Requirement already satisfied: matplotlib in /home/paperspace/.local/lib/python3.9/site-packages (from livelossplot) (3.6.3)\n",
            "Requirement already satisfied: bokeh in /home/paperspace/.local/lib/python3.9/site-packages (from livelossplot) (3.1.0)\n",
            "Requirement already satisfied: setproctitle in /home/paperspace/.local/lib/python3.9/site-packages (from wandb) (1.3.2)\n",
            "Requirement already satisfied: Click!=8.0.0,>=7.0 in /home/paperspace/.local/lib/python3.9/site-packages (from wandb) (8.1.3)\n",
            "Requirement already satisfied: pathtools in /home/paperspace/.local/lib/python3.9/site-packages (from wandb) (0.1.2)\n",
            "Requirement already satisfied: promise<3,>=2.0 in /home/paperspace/.local/lib/python3.9/site-packages (from wandb) (2.3)\n",
            "Requirement already satisfied: protobuf!=4.0.*,!=4.21.0,<5,>=3.12.0 in /home/paperspace/.local/lib/python3.9/site-packages (from wandb) (3.19.6)\n",
            "Requirement already satisfied: PyYAML in /home/paperspace/.local/lib/python3.9/site-packages (from wandb) (6.0)\n",
            "Requirement already satisfied: psutil>=5.0.0 in /home/paperspace/.local/lib/python3.9/site-packages (from wandb) (5.9.4)\n",
            "Requirement already satisfied: GitPython>=1.0.0 in /home/paperspace/.local/lib/python3.9/site-packages (from wandb) (3.1.30)\n",
            "Requirement already satisfied: docker-pycreds>=0.4.0 in /home/paperspace/.local/lib/python3.9/site-packages (from wandb) (0.4.0)\n",
            "Requirement already satisfied: shortuuid>=0.5.0 in /home/paperspace/.local/lib/python3.9/site-packages (from wandb) (1.0.11)\n",
            "Requirement already satisfied: six>=1.13.0 in /home/paperspace/.local/lib/python3.9/site-packages (from wandb) (1.16.0)\n",
            "Requirement already satisfied: sentry-sdk>=1.0.0 in /home/paperspace/.local/lib/python3.9/site-packages (from wandb) (1.13.0)\n",
            "Requirement already satisfied: typeguard>=2.11.1 in /home/paperspace/.local/lib/python3.9/site-packages (from torchtyping) (3.0.2)\n",
            "Requirement already satisfied: gitdb<5,>=4.0.1 in /home/paperspace/.local/lib/python3.9/site-packages (from GitPython>=1.0.0->wandb) (4.0.10)\n",
            "Requirement already satisfied: idna<4,>=2.5 in /home/paperspace/.local/lib/python3.9/site-packages (from requests->torchvision) (3.4)\n",
            "Requirement already satisfied: urllib3<1.27,>=1.21.1 in /home/paperspace/.local/lib/python3.9/site-packages (from requests->torchvision) (1.26.14)\n",
            "Requirement already satisfied: charset-normalizer<4,>=2 in /home/paperspace/.local/lib/python3.9/site-packages (from requests->torchvision) (3.0.1)\n",
            "Requirement already satisfied: certifi>=2017.4.17 in /home/paperspace/.local/lib/python3.9/site-packages (from requests->torchvision) (2022.12.7)\n",
            "Requirement already satisfied: importlib-metadata>=3.6 in /home/paperspace/.local/lib/python3.9/site-packages (from typeguard>=2.11.1->torchtyping) (6.0.0)\n",
            "Requirement already satisfied: Jinja2>=2.9 in /home/paperspace/.local/lib/python3.9/site-packages (from bokeh->livelossplot) (3.1.2)\n",
            "Requirement already satisfied: xyzservices>=2021.09.1 in /home/paperspace/.local/lib/python3.9/site-packages (from bokeh->livelossplot) (2023.2.0)\n",
            "Requirement already satisfied: packaging>=16.8 in /home/paperspace/.local/lib/python3.9/site-packages (from bokeh->livelossplot) (23.0)\n",
            "Requirement already satisfied: pandas>=1.2 in /home/paperspace/.local/lib/python3.9/site-packages (from bokeh->livelossplot) (1.5.3)\n",
            "Requirement already satisfied: tornado>=5.1 in /home/paperspace/.local/lib/python3.9/site-packages (from bokeh->livelossplot) (6.2)\n",
            "Requirement already satisfied: contourpy>=1 in /home/paperspace/.local/lib/python3.9/site-packages (from bokeh->livelossplot) (1.0.7)\n",
            "Requirement already satisfied: fonttools>=4.22.0 in /home/paperspace/.local/lib/python3.9/site-packages (from matplotlib->livelossplot) (4.38.0)\n",
            "Requirement already satisfied: pyparsing>=2.2.1 in /home/paperspace/.local/lib/python3.9/site-packages (from matplotlib->livelossplot) (3.0.9)\n",
            "Requirement already satisfied: kiwisolver>=1.0.1 in /home/paperspace/.local/lib/python3.9/site-packages (from matplotlib->livelossplot) (1.4.4)\n",
            "Requirement already satisfied: python-dateutil>=2.7 in /home/paperspace/.local/lib/python3.9/site-packages (from matplotlib->livelossplot) (2.8.2)\n",
            "Requirement already satisfied: cycler>=0.10 in /home/paperspace/.local/lib/python3.9/site-packages (from matplotlib->livelossplot) (0.11.0)\n",
            "Requirement already satisfied: smmap<6,>=3.0.1 in /home/paperspace/.local/lib/python3.9/site-packages (from gitdb<5,>=4.0.1->GitPython>=1.0.0->wandb) (5.0.0)\n",
            "Requirement already satisfied: zipp>=0.5 in /home/paperspace/.local/lib/python3.9/site-packages (from importlib-metadata>=3.6->typeguard>=2.11.1->torchtyping) (3.12.0)\n",
            "Requirement already satisfied: MarkupSafe>=2.0 in /home/paperspace/.local/lib/python3.9/site-packages (from Jinja2>=2.9->bokeh->livelossplot) (2.1.2)\n",
            "Requirement already satisfied: pytz>=2020.1 in /home/paperspace/.local/lib/python3.9/site-packages (from pandas>=1.2->bokeh->livelossplot) (2022.7.1)\n",
            "\n",
            "\u001b[1m[\u001b[0m\u001b[34;49mnotice\u001b[0m\u001b[1;39;49m]\u001b[0m\u001b[39;49m A new release of pip is available: \u001b[0m\u001b[31;49m23.0\u001b[0m\u001b[39;49m -> \u001b[0m\u001b[32;49m23.1\u001b[0m\n",
            "\u001b[1m[\u001b[0m\u001b[34;49mnotice\u001b[0m\u001b[1;39;49m]\u001b[0m\u001b[39;49m To update, run: \u001b[0m\u001b[32;49mpython3.9 -m pip install --upgrade pip\u001b[0m\n"
          ]
        }
      ],
      "source": [
        "!pip install torch torchvision livelossplot wandb torchtyping tqdm"
      ]
    },
    {
      "cell_type": "markdown",
      "metadata": {
        "id": "hMX1Jjrj0CzB"
      },
      "source": [
        "## Libraries"
      ]
    },
    {
      "cell_type": "code",
      "execution_count": 22,
      "metadata": {},
      "outputs": [],
      "source": [
        "import sys\n",
        "import os\n",
        "# Add spectroscope to the path\n",
        "sys.path.append(os.path.abspath(os.path.join(os.getcwd(), os.pardir)))"
      ]
    },
    {
      "cell_type": "code",
      "execution_count": 23,
      "metadata": {
        "id": "k66YJP740uCR"
      },
      "outputs": [
        {
          "ename": "ModuleNotFoundError",
          "evalue": "No module named 't'",
          "output_type": "error",
          "traceback": [
            "\u001b[0;31m---------------------------------------------------------------------------\u001b[0m",
            "\u001b[0;31mModuleNotFoundError\u001b[0m                       Traceback (most recent call last)",
            "Cell \u001b[0;32mIn[23], line 3\u001b[0m\n\u001b[1;32m      1\u001b[0m \u001b[39mimport\u001b[39;00m \u001b[39mnumpy\u001b[39;00m \u001b[39mas\u001b[39;00m \u001b[39mnp\u001b[39;00m\n\u001b[1;32m      2\u001b[0m \u001b[39mimport\u001b[39;00m \u001b[39mtorch\u001b[39;00m \u001b[39mas\u001b[39;00m \u001b[39mt\u001b[39;00m\n\u001b[0;32m----> 3\u001b[0m \u001b[39mimport\u001b[39;00m \u001b[39mt\u001b[39;00m\u001b[39m.\u001b[39;00m\u001b[39mnn\u001b[39;00m \u001b[39mas\u001b[39;00m \u001b[39mnn\u001b[39;00m\n\u001b[1;32m      4\u001b[0m \u001b[39mimport\u001b[39;00m \u001b[39mt\u001b[39;00m\u001b[39m.\u001b[39;00m\u001b[39moptim\u001b[39;00m \u001b[39mas\u001b[39;00m \u001b[39moptim\u001b[39;00m\n\u001b[1;32m      5\u001b[0m \u001b[39mfrom\u001b[39;00m \u001b[39mt\u001b[39;00m\u001b[39m.\u001b[39;00m\u001b[39mutils\u001b[39;00m\u001b[39m.\u001b[39;00m\u001b[39mdata\u001b[39;00m \u001b[39mimport\u001b[39;00m TensorDataset, DataLoader\n",
            "\u001b[0;31mModuleNotFoundError\u001b[0m: No module named 't'"
          ]
        }
      ],
      "source": [
        "import numpy as np\n",
        "import torch as t\n",
        "import t.nn as nn\n",
        "import t.optim as optim\n",
        "from t.utils.data import TensorDataset, DataLoader\n",
        "from torchvision.datasets import MNIST\n",
        "import torchvision.transforms as transforms\n",
        "from livelossplot import PlotLosses\n",
        "from tqdm.notebook import tqdm\n",
        "\n",
        "from spectroscope.data import SubsetsLoader, get_filtered_dataset\n",
        "\n",
        "DEVICE = t.device(\"cuda\" if t.cuda.is_available() else \"cpu\")"
      ]
    },
    {
      "attachments": {},
      "cell_type": "markdown",
      "metadata": {},
      "source": [
        "# Data"
      ]
    },
    {
      "cell_type": "code",
      "execution_count": null,
      "metadata": {},
      "outputs": [],
      "source": [
        "# Load the data\n",
        "mnist_train = MNIST('./data', train=True, download=True, transform=transforms.ToTensor())\n",
        "mnist_test = MNIST('./data', train=False, download=True, transform=transforms.ToTensor())"
      ]
    },
    {
      "attachments": {},
      "cell_type": "markdown",
      "metadata": {
        "id": "Sr0ejX6YM7ej"
      },
      "source": [
        "## Simple ConvNet\n",
        "\n",
        "This an unmodified mnist learner"
      ]
    },
    {
      "cell_type": "code",
      "execution_count": null,
      "metadata": {
        "id": "cTkt86amTqCP"
      },
      "outputs": [],
      "source": [
        "class MNISTConvNet(nn.Module):\n",
        "    def __init__(self):\n",
        "        super().__init__()\n",
        "        self.conv1 = nn.Conv2d(1, 8, kernel_size=5, stride=1)\n",
        "        self.conv2 = nn.Conv2d(8, 16, kernel_size=5, stride=1)\n",
        "        self.fc1 = nn.Linear(16 * 4 * 4, 10)\n",
        "\n",
        "        self.to(DEVICE)\n",
        "\n",
        "    def forward(self, x):\n",
        "        x = x.view(-1, 1, 28, 28)\n",
        "        x = nn.functional.relu(self.conv1(x))\n",
        "        x = nn.functional.max_pool2d(x, 2)\n",
        "        x = nn.functional.relu(self.conv2(x))\n",
        "        x = nn.functional.max_pool2d(x, 2)\n",
        "        x = x.view(-1, 16 * 4 * 4)\n",
        "        x = self.fc1(x)\n",
        "        return x"
      ]
    },
    {
      "cell_type": "markdown",
      "metadata": {
        "id": "MkWi8PD9pEGx"
      },
      "source": [
        "# START OF IDEA: Introduction of new digits in training\n",
        "\n",
        "The section aims to see if introducing new digits later in the Epoch gives discontinuous boosts in peformance. I expect it shouldn't, since if we have the model say learn just 0 and 1 in the first half of training, then introduce the number 2, the parameters will be fitted only to (0,1) and do terrible on 2, so I expect a massive dip in accuracy in the middle, then some recovery at the end once it's seen some 0,1,2s but nowhere near the 90%+ as if we just did all 10 from the start. It's highly possible I may have misunderstood the setup, since I don't see how this could give a phase transition in decrease of loss. "
      ]
    },
    {
      "cell_type": "markdown",
      "metadata": {
        "id": "CkWDKPrZWCOv"
      },
      "source": [
        "The code below is simply testing the filter digit function does as expected"
      ]
    },
    {
      "cell_type": "code",
      "execution_count": null,
      "metadata": {
        "colab": {
          "base_uri": "https://localhost:8080/"
        },
        "id": "2Ux2HiG7QPlA",
        "outputId": "45a8af81-62ee-47d5-8781-8802f03a209f"
      },
      "outputs": [
        {
          "data": {
            "text/plain": [
              "SubsetsLoader((Subset(MNIST, len=5923, labels=(0,)), Subset(MNIST, len=12665, labels=(0, 1)), Subset(MNIST, len=18623, labels=(0, 1, 2)), Subset(MNIST, len=24754, labels=(0, 1, 2, 3)), Subset(MNIST, len=30596, labels=(0, 1, 2, 3, 4)), Subset(MNIST, len=36017, labels=(0, 1, 2, 3, 4, 5)), Subset(MNIST, len=41935, labels=(0, 1, 2, 3, 4, 5, 6)), Subset(MNIST, len=48200, labels=(0, 1, 2, 3, 4, 5, 6, 7)), Subset(MNIST, len=54051, labels=(0, 1, 2, 3, 4, 5, 6, 7, 8)), Subset(MNIST, len=60000, labels=(0, 1, 2, 3, 4, 5, 6, 7, 8, 9))), batch_size=256)"
            ]
          },
          "execution_count": 6,
          "metadata": {},
          "output_type": "execute_result"
        }
      ],
      "source": [
        "\n",
        "from typing import Any, Tuple, Type\n",
        "\n",
        "import torch\n",
        "from t.utils.data import DataLoader, Dataset\n",
        "from torchtyping import TensorType\n",
        "\n",
        "\n",
        "def as_subset(cls: Type[Dataset]):\n",
        "    \"\"\"\n",
        "    Wrapper for a dataset class that adds a labels attribute to the dataset,\n",
        "    and a __repr__ method that prints the labels.\n",
        "    \"\"\"\n",
        "    class Subset(cls):\n",
        "        def __init__(self, data, targets, train: bool, labels: Tuple[int, ...], **kwargs):\n",
        "            self.labels = labels\n",
        "            self.data = data\n",
        "            self.targets = targets\n",
        "\n",
        "            self.train = train\n",
        "\n",
        "        def __len__(self):\n",
        "            return len(self.data)\n",
        "\n",
        "        def __repr__(self):\n",
        "            return f\"Subset({cls.__name__}, len={len(self)}, labels={self.labels})\"\n",
        "        \n",
        "        def __getitem__(self, index: int) -> Tuple[Any, Any]:\n",
        "            \"\"\"\n",
        "            Args:\n",
        "                index (int): Index\n",
        "\n",
        "            Returns:\n",
        "                tuple: (image, target) where target is index of the target class.\n",
        "            \"\"\"\n",
        "            return self.data[index], int(self.targets[index])\n",
        "    \n",
        "    return Subset\n",
        "\n",
        "\n",
        "def filter_by_labels(dataset: Dataset, labels: Tuple[int, ...]):\n",
        "    \"\"\"\n",
        "    Returns an iterator over the dataset, yielding only the images and labels in labels.\n",
        "    \"\"\"\n",
        "    for image, label in dataset:\n",
        "        if label in labels:\n",
        "            yield image, label\n",
        "\n",
        "\n",
        "def get_filtered_dataset(dataset: Dataset, labels: Tuple[int, ...]):\n",
        "    \"\"\"\n",
        "    Returns a new dataset with only the images and labels in labels.\n",
        "    \"\"\"\n",
        "    dataset_cls = as_subset(type(dataset))\n",
        "    data, targets = zip(*((x, y) for x, y in filter_by_labels(dataset, labels)))\n",
        "    return dataset_cls(data, targets, train=dataset.train, labels=labels)  # type: ignore\n",
        "\n",
        "\n",
        "class SubsetsLoader:\n",
        "    \"\"\"\n",
        "    A data loader that trains on different subsets of the dataset \n",
        "    depending on the active subset.\n",
        "\n",
        "    Note: it's up to you to call next_subset() when you want to move to the next subset.\n",
        "    \"\"\"\n",
        "\n",
        "    def __init__(\n",
        "        self,\n",
        "        subsets: Tuple[Dataset],\n",
        "        *args,\n",
        "        **kwargs,\n",
        "    ):\n",
        "        self.subsets = subsets\n",
        "        self.subset_idx = 0\n",
        "        self.subloaders = tuple(DataLoader(subset, *args, **kwargs) for subset in subsets)\n",
        "\n",
        "    def next_subset(self):\n",
        "        \"\"\"Moves to the next subset.\"\"\"\n",
        "        if self.subset_idx < len(self.subsets):\n",
        "            self.subset_idx += 1\n",
        "        else:\n",
        "            raise StopIteration\n",
        "         \n",
        "    def to_subset(self, subset_idx: int):\n",
        "        \"\"\"Moves to the subset with index subset_idx.\"\"\"\n",
        "        if subset_idx < len(self.subsets):\n",
        "            self.subset_idx = subset_idx\n",
        "        else:\n",
        "            raise IndexError(f\"Subset index {subset_idx} out of range\")\n",
        "    \n",
        "    @property\n",
        "    def dataset(self):\n",
        "        return self.subsets[self.subset_idx]\n",
        "    \n",
        "    @property\n",
        "    def loader(self):\n",
        "        return self.subloaders[self.subset_idx]\n",
        "    \n",
        "    @property\n",
        "    def batch_size(self):\n",
        "        return self.loader.batch_size\n",
        "\n",
        "    @classmethod\n",
        "    def from_filters(cls, dataset: Dataset, labels_per_subset: Tuple[Tuple[int, ...]], **kwargs):\n",
        "        \"\"\"\n",
        "        Returns a SubsetsLoader that trains on different subsets of the dataset \n",
        "        depending on the active subset.\n",
        "        \"\"\"\n",
        "        subsets = tuple(get_filtered_dataset(dataset, labels) for labels in labels_per_subset)\n",
        "        return cls(subsets, **kwargs)\n",
        "        \n",
        "    def __repr__(self):\n",
        "        return f\"SubsetsLoader({self.subsets}, batch_size={self.batch_size})\"\n",
        "    \n",
        "    def __iter__(self):\n",
        "        return iter(self.subloaders[self.subset_idx])\n",
        "\n",
        "    def __len__(self):\n",
        "        return len(self.dataset)\n",
        "\n",
        "subsets_loader = SubsetsLoader.from_filters(\n",
        "    mnist_train,\n",
        "    labels_per_subset=tuple(tuple(range(i+1)) for i in range(0, 10)),\n",
        "    batch_size=256,\n",
        "    shuffle=True, \n",
        ")\n",
        "\n",
        "subsets_loader"
      ]
    },
    {
      "cell_type": "code",
      "execution_count": null,
      "metadata": {},
      "outputs": [],
      "source": [
        "per_label_train_loader = SubsetsLoader.from_filters(\n",
        "    mnist_train,\n",
        "    labels_per_subset=tuple((i,) for i in range(0, 10)),\n",
        "    batch_size=256,\n",
        ")\n",
        "\n",
        "per_label_test_loader = SubsetsLoader.from_filters(\n",
        "    mnist_test,\n",
        "    labels_per_subset=tuple((i,) for i in range(0, 10)),\n",
        "    batch_size=256,\n",
        ")"
      ]
    },
    {
      "cell_type": "code",
      "execution_count": null,
      "metadata": {},
      "outputs": [],
      "source": [
        "class Metrics:\n",
        "    def __init__(self, per_label_train_loader, per_label_test_loader, loss_fn):\n",
        "        self.per_label_train_loader = per_label_train_loader\n",
        "        self.per_label_test_loader = per_label_test_loader\n",
        "        self.loss_fn = loss_fn\n",
        "\n",
        "        # Track loss & accuracy for each label\n",
        "        self.train_loss = t.zeros(10, dtype=t.float32, device=DEVICE)\n",
        "        self.train_accuracy = t.zeros(10, dtype=t.float32, device=DEVICE)\n",
        "        self.test_loss = t.zeros(10, dtype=t.float32, device=DEVICE)\n",
        "        self.test_accuracy = t.zeros(10, dtype=t.float32, device=DEVICE)\n",
        "\n",
        "        # Needed to compute the total loss & accuracy (so each subloss is weighted by the size of the subset)\n",
        "        self.trainset_sizes = t.tensor([len(subset) for subset in per_label_train_loader.subsets], device=DEVICE)\n",
        "        self.testset_sizes = t.tensor([len(subset) for subset in per_label_test_loader.subsets], device=DEVICE)\n",
        "\n",
        "    def measure(self, model: nn.Module):\n",
        "        with t.no_grad():\n",
        "            # Loop over each specific-label-restricted subset of data\n",
        "            for l in tqdm(range(10), desc=\"Measuring metrics\"):\n",
        "                self.per_label_train_loader.to_subset(l)\n",
        "                self.per_label_test_loader.to_subset(l)\n",
        "\n",
        "                for i, (x, y) in enumerate(self.per_label_train_loader):\n",
        "                    x, y = x.to(DEVICE), y.to(DEVICE)\n",
        "                    y_pred = model(x)\n",
        "                    predicted = t.argmax(y_pred, dim=1)\n",
        "                    self.train_accuracy[l] += (predicted == y).sum()\n",
        "                    self.train_loss[l] += self.loss_fn(y_pred, y)\n",
        "\n",
        "                self.train_accuracy[l] /= self.trainset_sizes[l]\n",
        "                self.train_loss[l] /= self.trainset_sizes[l]\n",
        "\n",
        "                for i, (x, y) in enumerate(self.per_label_test_loader):\n",
        "                    x, y = x.to(DEVICE), y.to(DEVICE)\n",
        "                    y_pred = model(x)\n",
        "                    predicted = t.argmax(y_pred, dim=1)\n",
        "                    self.test_accuracy[l] += (predicted == y).sum()\n",
        "                    self.test_loss[l] += self.loss_fn(y_pred, y) \n",
        "\n",
        "                self.test_accuracy[l] /= self.testset_sizes[l]\n",
        "                self.test_loss[l] /= self.testset_sizes[l]\n",
        "\n",
        "    def reset(self):\n",
        "        self.train_loss *= 0\n",
        "        self.train_accuracy *= 0\n",
        "        self.test_loss *= 0\n",
        "        self.test_accuracy *= 0\n",
        "\n",
        "    @property\n",
        "    def total_train_size(self):\n",
        "        return self.trainset_sizes.sum() \n",
        "    \n",
        "    @property\n",
        "    def total_test_size(self):\n",
        "        return self.testset_sizes.sum()\n",
        "\n",
        "    @property\n",
        "    def total_train_loss(self):\n",
        "        return (self.train_loss * self.trainset_sizes).sum() / self.total_train_size\n",
        "    \n",
        "    @property\n",
        "    def total_test_loss(self):\n",
        "        return (self.test_loss * self.testset_sizes).sum() / self.total_test_size\n",
        "\n",
        "    @property\n",
        "    def total_train_accuracy(self):\n",
        "        return (self.train_accuracy * self.trainset_sizes).sum() / self.total_train_size\n",
        "    \n",
        "    @property\n",
        "    def total_test_accuracy(self):\n",
        "        return (self.test_accuracy * self.testset_sizes).sum() / self.total_test_size\n",
        "\n",
        "    def as_dict(self):\n",
        "        d = {\n",
        "            \"train/loss/total\": self.total_train_loss,\n",
        "            \"test/loss/total\": self.total_test_loss,\n",
        "            \"train/accuracy/total\": self.total_train_accuracy,\n",
        "            \"test/accuracy/total\": self.total_test_accuracy,\n",
        "        }\n",
        "\n",
        "        for l in range(10):\n",
        "            d[f\"train/loss/{l}\"] = self.train_loss[l]\n",
        "            d[f\"test/loss/{l}\"] = self.test_loss[l]\n",
        "            d[f\"train/accuracy/{l}\"] = self.train_accuracy[l]\n",
        "            d[f\"test/accuracy/{l}\"] = self.test_accuracy[l]\n",
        "\n",
        "        return d      "
      ]
    },
    {
      "cell_type": "markdown",
      "metadata": {
        "id": "fIEtfSdVWM1P"
      },
      "source": [
        "Now we check whether we still get good accuracy with only 0, 1 and 2 in the dataset\n"
      ]
    },
    {
      "cell_type": "markdown",
      "metadata": {
        "id": "eCRR4gtvxzCe"
      },
      "source": [
        "So as we can see we still get good accuracy with less digits, althought there appears to be much more variation in the accuracy which was not expected, and that it takes longer to get to a good accuracy which doesnt make much sense to me. Now we will try to train this model to learn on 0s and 1s only, then we introduce 2 halfway into the second half of training (Epoch 50) to see if there is discontinuity in performance"
      ]
    },
    {
      "cell_type": "code",
      "execution_count": 26,
      "metadata": {
        "colab": {
          "base_uri": "https://localhost:8080/",
          "height": 929
        },
        "id": "bEYUIhm5x-r5",
        "outputId": "d7bd74dd-db69-45be-e9d8-6f20ad5a5e33"
      },
      "outputs": [
        {
          "name": "stderr",
          "output_type": "stream",
          "text": [
            "/home/paperspace/.local/lib/python3.9/site-packages/torch/nn/_reduction.py:42: UserWarning: size_average and reduce args will be deprecated, please use reduction='sum' instead.\n",
            "  warnings.warn(warning.format(ret))\n"
          ]
        },
        {
          "data": {
            "text/html": [
              "Finishing last run (ID:2iy308z1) before initializing another..."
            ],
            "text/plain": [
              "<IPython.core.display.HTML object>"
            ]
          },
          "metadata": {},
          "output_type": "display_data"
        },
        {
          "data": {
            "text/html": [
              "Waiting for W&B process to finish... <strong style=\"color:green\">(success).</strong>"
            ],
            "text/plain": [
              "<IPython.core.display.HTML object>"
            ]
          },
          "metadata": {},
          "output_type": "display_data"
        },
        {
          "data": {
            "application/vnd.jupyter.widget-view+json": {
              "model_id": "09695c5344084112ba2e8a622442da9b",
              "version_major": 2,
              "version_minor": 0
            },
            "text/plain": [
              "VBox(children=(Label(value='0.001 MB of 0.001 MB uploaded (0.000 MB deduped)\\r'), FloatProgress(value=1.0, max…"
            ]
          },
          "metadata": {},
          "output_type": "display_data"
        },
        {
          "data": {
            "text/html": [
              "<style>\n",
              "    table.wandb td:nth-child(1) { padding: 0 10px; text-align: left ; width: auto;} td:nth-child(2) {text-align: left ; width: 100%}\n",
              "    .wandb-row { display: flex; flex-direction: row; flex-wrap: wrap; justify-content: flex-start; width: 100% }\n",
              "    .wandb-col { display: flex; flex-direction: column; flex-basis: 100%; flex: 1; padding: 10px; }\n",
              "    </style>\n",
              "<div class=\"wandb-row\"><div class=\"wandb-col\"><h3>Run history:</h3><br/><table class=\"wandb\"><tr><td>test/accuracy/0</td><td>███▁█▁██████████████████████████████████</td></tr><tr><td>test/accuracy/1</td><td>▁▁▁█▁███████████████████████████████████</td></tr><tr><td>test/accuracy/2</td><td>▁▁▁▁▁▁▁▁▇██████▇████████████████████████</td></tr><tr><td>test/accuracy/3</td><td>▁▁▁▁▁▁▁▁▁▁▁▁▁▁▁█████████████████████████</td></tr><tr><td>test/accuracy/4</td><td>▁▁▁▁▁▁▁▁▁▁▁▁▁▁▁▁▁▁▁▁▁▁▁▁▁███████████████</td></tr><tr><td>test/accuracy/5</td><td>▁▁▁▁▁▁▁▁▁▁▁▁▁▁▁▁▁▁▁▁▁▁▁▁▁▁▁▁▁▁▁▁▁▁▁▁▁███</td></tr><tr><td>test/accuracy/6</td><td>▁▁▁▁▁▁▁▁▁▁▁▁▁▁▁▁▁▁▁▁▁▁▁▁▁▁▁▁▁▁▁▁▁▁▁▁▁▁▁▁</td></tr><tr><td>test/accuracy/7</td><td>▁▁▁▁▁▁▁▁▁▁▁▁▁▁▁▁▁▁▁▁▁▁▁▁▁▁▁▁▁▁▁▁▁▁▁▁▁▁▁▁</td></tr><tr><td>test/accuracy/8</td><td>▁▁▁▁▁▁▁▁▁▁▁▁▁▁▁▁▁▁▁▁▁▁▁▁▁▁▁▁▁▁▁▁▁▁▁▁▁▁▁▁</td></tr><tr><td>test/accuracy/9</td><td>▁▁▁▁▁▁▁▁▁▁▁▁▁▁▁▁▁▁▁▁▁▁▁▁▁▁▁▁▁▁▁▁▁▁▁▁▁▁▁▁</td></tr><tr><td>test/accuracy/total</td><td>▁▁▁▁▁▁▃▃▄▄▄▄▄▄▄▅▅▅▆▆▆▆▆▆▆▇▇▇▇▇▇▇▇▇▇▇▇███</td></tr><tr><td>test/loss/0</td><td>▁▁▁█▆▇▁▁▁▁▁▁▁▁▁▂▁▁▁▁▁▁▁▁▁▁▁▁▁▁▁▁▁▁▁▁▁▁▁▁</td></tr><tr><td>test/loss/1</td><td>███▁▁▁▁▁▁▁▁▁▁▁▁▁▁▁▁▁▁▁▁▁▁▁▁▁▁▁▁▁▁▁▁▁▁▁▁▁</td></tr><tr><td>test/loss/2</td><td>███▃▃▄▄▅▁▁▁▁▁▁▁▁▁▁▁▁▁▁▁▁▁▁▁▁▁▁▁▁▁▁▁▁▁▁▁▁</td></tr><tr><td>test/loss/3</td><td>███▃▃▃▃▄▄▆▇▇▇▇▇▁▁▁▁▁▁▁▁▁▁▁▁▁▁▁▁▁▁▁▁▁▁▁▁▁</td></tr><tr><td>test/loss/4</td><td>███▄▄▄▄▆▅▆█▇▇▇▇▄▄▄▄▄▄▄▄▄▅▁▁▁▁▁▁▁▁▁▁▁▁▁▁▁</td></tr><tr><td>test/loss/5</td><td>███▃▃▄▄▅▄▆▇▇▇▇▇▄▄▅▅▅▆▅▆▆▇▆▇▅▅▅▅▅▅▆▆▅▅▁▁▁</td></tr><tr><td>test/loss/6</td><td>███▁▁▁▂▄▃▆█▇█▇▇▁▂▂▂▂▃▂▃▃▃▂▃▂▃▃▃▃▃▃▃▃▃▃▃▃</td></tr><tr><td>test/loss/7</td><td>███▁▁▁▂▃▃▆█▇██▇▂▁▂▂▂▃▂▂▃▃▂▃▂▂▃▂▃▃▃▃▂▃▂▃▃</td></tr><tr><td>test/loss/8</td><td>███▁▁▁▂▃▃▅▇▆▇▇▆▂▁▂▂▂▃▂▂▃▃▂▃▂▂▂▂▂▂▃▃▂▃▂▂▂</td></tr><tr><td>test/loss/9</td><td>███▁▁▁▂▄▃▅▇▇▇▇▇▂▂▃▃▃▃▃▃▃▄▃▃▂▃▃▃▃▃▃▃▃▃▂▃▃</td></tr><tr><td>test/loss/total</td><td>███▂▂▂▂▃▃▄▅▅▅▅▅▁▁▂▂▂▂▂▂▂▂▂▂▁▂▂▁▂▂▂▂▂▂▁▁▁</td></tr><tr><td>train/accuracy/0</td><td>███▁█▁██████████████████████████████████</td></tr><tr><td>train/accuracy/1</td><td>▁▁▁█▁███████████████████████████████████</td></tr><tr><td>train/accuracy/2</td><td>▁▁▁▁▁▁▁▁▇██████▇████████████████████████</td></tr><tr><td>train/accuracy/3</td><td>▁▁▁▁▁▁▁▁▁▁▁▁▁▁▁█████████████████████████</td></tr><tr><td>train/accuracy/4</td><td>▁▁▁▁▁▁▁▁▁▁▁▁▁▁▁▁▁▁▁▁▁▁▁▁▁███████████████</td></tr><tr><td>train/accuracy/5</td><td>▁▁▁▁▁▁▁▁▁▁▁▁▁▁▁▁▁▁▁▁▁▁▁▁▁▁▁▁▁▁▁▁▁▁▁▁▁███</td></tr><tr><td>train/accuracy/6</td><td>▁▁▁▁▁▁▁▁▁▁▁▁▁▁▁▁▁▁▁▁▁▁▁▁▁▁▁▁▁▁▁▁▁▁▁▁▁▁▁▁</td></tr><tr><td>train/accuracy/7</td><td>▁▁▁▁▁▁▁▁▁▁▁▁▁▁▁▁▁▁▁▁▁▁▁▁▁▁▁▁▁▁▁▁▁▁▁▁▁▁▁▁</td></tr><tr><td>train/accuracy/8</td><td>▁▁▁▁▁▁▁▁▁▁▁▁▁▁▁▁▁▁▁▁▁▁▁▁▁▁▁▁▁▁▁▁▁▁▁▁▁▁▁▁</td></tr><tr><td>train/accuracy/9</td><td>▁▁▁▁▁▁▁▁▁▁▁▁▁▁▁▁▁▁▁▁▁▁▁▁▁▁▁▁▁▁▁▁▁▁▁▁▁▁▁▁</td></tr><tr><td>train/accuracy/total</td><td>▁▁▁▁▁▁▃▃▄▄▄▄▄▄▄▅▅▅▅▅▅▅▅▅▅▇▇▇▇▇▇▇▇▇▇▇▇███</td></tr><tr><td>train/loss/0</td><td>▁▁▁█▆▇▁▁▂▁▁▁▁▁▁▂▁▁▁▁▁▁▁▁▁▁▁▁▁▁▁▁▁▁▁▁▁▁▁▁</td></tr><tr><td>train/loss/1</td><td>███▁▁▁▁▁▁▁▁▁▁▁▁▁▁▁▁▁▁▁▁▁▁▁▁▁▁▁▁▁▁▁▁▁▁▁▁▁</td></tr><tr><td>train/loss/2</td><td>███▃▃▄▄▅▁▁▁▁▁▁▁▁▁▁▁▁▁▁▁▁▁▁▁▁▁▁▁▁▁▁▁▁▁▁▁▁</td></tr><tr><td>train/loss/3</td><td>███▃▃▄▃▄▄▆▇▇▇▇▇▁▁▁▁▁▁▁▁▁▁▁▁▁▁▁▁▁▁▁▁▁▁▁▁▁</td></tr><tr><td>train/loss/4</td><td>███▄▄▄▄▆▅▆▇▇▇▇▇▄▄▄▄▄▄▄▄▄▅▁▁▁▁▁▁▁▁▁▁▁▁▁▁▁</td></tr><tr><td>train/loss/5</td><td>███▃▃▄▄▅▄▆▇▇▇▇▇▄▄▅▅▅▆▅▅▆▆▆▆▅▅▅▅▅▅▅▆▅▅▁▁▁</td></tr><tr><td>train/loss/6</td><td>███▁▁▁▂▃▃▆█▇▇▇▇▁▂▂▂▂▃▂▃▃▃▂▂▂▃▃▃▃▃▃▃▃▃▃▃▃</td></tr><tr><td>train/loss/7</td><td>███▁▁▁▂▃▃▆█▇██▇▂▁▂▂▂▃▂▂▃▃▂▃▂▂▂▂▃▂▃▃▂▃▂▃▃</td></tr><tr><td>train/loss/8</td><td>███▁▁▁▂▃▂▅▇▆▇▇▆▂▁▂▂▂▃▂▂▃▃▂▃▂▂▂▂▂▂▃▃▂▃▂▂▂</td></tr><tr><td>train/loss/9</td><td>███▁▁▁▂▄▃▅▇▇▇▇▇▂▂▂▃▃▃▃▃▃▄▃▃▂▃▃▃▃▃▃▃▂▃▂▃▃</td></tr><tr><td>train/loss/total</td><td>███▂▂▂▂▃▃▄▆▅▅▅▅▁▁▂▂▂▂▂▂▂▂▂▂▁▂▂▁▂▂▂▂▂▂▁▁▁</td></tr></table><br/></div><div class=\"wandb-col\"><h3>Run summary:</h3><br/><table class=\"wandb\"><tr><td>test/accuracy/0</td><td>0.99184</td></tr><tr><td>test/accuracy/1</td><td>0.99471</td></tr><tr><td>test/accuracy/2</td><td>0.95736</td></tr><tr><td>test/accuracy/3</td><td>0.94356</td></tr><tr><td>test/accuracy/4</td><td>0.9888</td></tr><tr><td>test/accuracy/5</td><td>0.91928</td></tr><tr><td>test/accuracy/6</td><td>0.0</td></tr><tr><td>test/accuracy/7</td><td>0.0</td></tr><tr><td>test/accuracy/8</td><td>0.0</td></tr><tr><td>test/accuracy/9</td><td>0.0</td></tr><tr><td>test/accuracy/total</td><td>0.5833</td></tr><tr><td>test/loss/0</td><td>0.03209</td></tr><tr><td>test/loss/1</td><td>0.01612</td></tr><tr><td>test/loss/2</td><td>0.12659</td></tr><tr><td>test/loss/3</td><td>0.16645</td></tr><tr><td>test/loss/4</td><td>0.03322</td></tr><tr><td>test/loss/5</td><td>0.22285</td></tr><tr><td>test/loss/6</td><td>12.39416</td></tr><tr><td>test/loss/7</td><td>10.51058</td></tr><tr><td>test/loss/8</td><td>10.50461</td></tr><tr><td>test/loss/9</td><td>11.77469</td></tr><tr><td>test/loss/total</td><td>4.53705</td></tr><tr><td>train/accuracy/0</td><td>0.98768</td></tr><tr><td>train/accuracy/1</td><td>0.99155</td></tr><tr><td>train/accuracy/2</td><td>0.9483</td></tr><tr><td>train/accuracy/3</td><td>0.93476</td></tr><tr><td>train/accuracy/4</td><td>0.99093</td></tr><tr><td>train/accuracy/5</td><td>0.92363</td></tr><tr><td>train/accuracy/6</td><td>0.0</td></tr><tr><td>train/accuracy/7</td><td>0.0</td></tr><tr><td>train/accuracy/8</td><td>0.0</td></tr><tr><td>train/accuracy/9</td><td>0.0</td></tr><tr><td>train/accuracy/total</td><td>0.57853</td></tr><tr><td>train/loss/0</td><td>0.04335</td></tr><tr><td>train/loss/1</td><td>0.02675</td></tr><tr><td>train/loss/2</td><td>0.14738</td></tr><tr><td>train/loss/3</td><td>0.19667</td></tr><tr><td>train/loss/4</td><td>0.03466</td></tr><tr><td>train/loss/5</td><td>0.20836</td></tr><tr><td>train/loss/6</td><td>12.06098</td></tr><tr><td>train/loss/7</td><td>10.29253</td></tr><tr><td>train/loss/8</td><td>10.33745</td></tr><tr><td>train/loss/9</td><td>11.43093</td></tr><tr><td>train/loss/total</td><td>4.47</td></tr></table><br/></div></div>"
            ],
            "text/plain": [
              "<IPython.core.display.HTML object>"
            ]
          },
          "metadata": {},
          "output_type": "display_data"
        },
        {
          "data": {
            "text/html": [
              "Synced <strong style=\"color:#cdcd00\">fearless-wildflower-24</strong>: <a href=\"https://wandb.ai/jqhoogland/detecting-phase-transitions-sandbox/runs/2iy308z1\" target=\"_blank\">https://wandb.ai/jqhoogland/detecting-phase-transitions-sandbox/runs/2iy308z1</a><br/>Synced 5 W&B file(s), 0 media file(s), 0 artifact file(s) and 0 other file(s)"
            ],
            "text/plain": [
              "<IPython.core.display.HTML object>"
            ]
          },
          "metadata": {},
          "output_type": "display_data"
        },
        {
          "data": {
            "text/html": [
              "Find logs at: <code>./wandb/run-20230415_194745-2iy308z1/logs</code>"
            ],
            "text/plain": [
              "<IPython.core.display.HTML object>"
            ]
          },
          "metadata": {},
          "output_type": "display_data"
        },
        {
          "data": {
            "text/html": [
              "Successfully finished last run (ID:2iy308z1). Initializing new run:<br/>"
            ],
            "text/plain": [
              "<IPython.core.display.HTML object>"
            ]
          },
          "metadata": {},
          "output_type": "display_data"
        },
        {
          "data": {
            "application/vnd.jupyter.widget-view+json": {
              "model_id": "dcb43621dd0c49a08c57d8d9e276b4e0",
              "version_major": 2,
              "version_minor": 0
            },
            "text/plain": [
              "VBox(children=(Label(value='Waiting for wandb.init()...\\r'), FloatProgress(value=0.016670252483345395, max=1.0…"
            ]
          },
          "metadata": {},
          "output_type": "display_data"
        },
        {
          "data": {
            "text/html": [
              "wandb version 0.14.2 is available!  To upgrade, please run:\n",
              " $ pip install wandb --upgrade"
            ],
            "text/plain": [
              "<IPython.core.display.HTML object>"
            ]
          },
          "metadata": {},
          "output_type": "display_data"
        },
        {
          "data": {
            "text/html": [
              "Tracking run with wandb version 0.13.4"
            ],
            "text/plain": [
              "<IPython.core.display.HTML object>"
            ]
          },
          "metadata": {},
          "output_type": "display_data"
        },
        {
          "data": {
            "text/html": [
              "Run data is saved locally in <code>/home/paperspace/Projects/detecting-phase-transitions/sandbox/wandb/run-20230415_195321-3r9cyjh3</code>"
            ],
            "text/plain": [
              "<IPython.core.display.HTML object>"
            ]
          },
          "metadata": {},
          "output_type": "display_data"
        },
        {
          "data": {
            "text/html": [
              "Syncing run <strong><a href=\"https://wandb.ai/jqhoogland/detecting-phase-transitions-sandbox/runs/3r9cyjh3\" target=\"_blank\">peach-shadow-25</a></strong> to <a href=\"https://wandb.ai/jqhoogland/detecting-phase-transitions-sandbox\" target=\"_blank\">Weights & Biases</a> (<a href=\"https://wandb.me/run\" target=\"_blank\">docs</a>)<br/>"
            ],
            "text/plain": [
              "<IPython.core.display.HTML object>"
            ]
          },
          "metadata": {},
          "output_type": "display_data"
        },
        {
          "data": {
            "application/vnd.jupyter.widget-view+json": {
              "model_id": "909780f3c06d4fb8b32f621fbc0bf3c7",
              "version_major": 2,
              "version_minor": 0
            },
            "text/plain": [
              "Epochs:   0%|          | 0/100 [00:00<?, ?it/s]"
            ]
          },
          "metadata": {},
          "output_type": "display_data"
        },
        {
          "data": {
            "application/vnd.jupyter.widget-view+json": {
              "model_id": "4666431de6fc4dbda22859e70f966d31",
              "version_major": 2,
              "version_minor": 0
            },
            "text/plain": [
              "Mini-batches:   0%|          | 0/5904 [00:00<?, ?it/s]"
            ]
          },
          "metadata": {},
          "output_type": "display_data"
        },
        {
          "data": {
            "application/vnd.jupyter.widget-view+json": {
              "model_id": "815a712b46b14315921721444cb4b1c0",
              "version_major": 2,
              "version_minor": 0
            },
            "text/plain": [
              "Measuring metrics:   0%|          | 0/10 [00:00<?, ?it/s]"
            ]
          },
          "metadata": {},
          "output_type": "display_data"
        },
        {
          "data": {
            "application/vnd.jupyter.widget-view+json": {
              "model_id": "78e316eada05498db7a65d06aa9bfa31",
              "version_major": 2,
              "version_minor": 0
            },
            "text/plain": [
              "Mini-batches:   0%|          | 0/5904 [00:00<?, ?it/s]"
            ]
          },
          "metadata": {},
          "output_type": "display_data"
        },
        {
          "data": {
            "application/vnd.jupyter.widget-view+json": {
              "model_id": "cf95c2b2dc73499693d6a8c939dbafef",
              "version_major": 2,
              "version_minor": 0
            },
            "text/plain": [
              "Measuring metrics:   0%|          | 0/10 [00:00<?, ?it/s]"
            ]
          },
          "metadata": {},
          "output_type": "display_data"
        },
        {
          "data": {
            "application/vnd.jupyter.widget-view+json": {
              "model_id": "4bbd18fbfd1240a8a6e15bfa636e6d70",
              "version_major": 2,
              "version_minor": 0
            },
            "text/plain": [
              "Mini-batches:   0%|          | 0/5904 [00:00<?, ?it/s]"
            ]
          },
          "metadata": {},
          "output_type": "display_data"
        },
        {
          "data": {
            "application/vnd.jupyter.widget-view+json": {
              "model_id": "170b533db4944350877fb1f6d8ee6564",
              "version_major": 2,
              "version_minor": 0
            },
            "text/plain": [
              "Measuring metrics:   0%|          | 0/10 [00:00<?, ?it/s]"
            ]
          },
          "metadata": {},
          "output_type": "display_data"
        },
        {
          "data": {
            "application/vnd.jupyter.widget-view+json": {
              "model_id": "ec5c5fa6b292439a9c9986bc963971cb",
              "version_major": 2,
              "version_minor": 0
            },
            "text/plain": [
              "Mini-batches:   0%|          | 0/5904 [00:00<?, ?it/s]"
            ]
          },
          "metadata": {},
          "output_type": "display_data"
        },
        {
          "data": {
            "application/vnd.jupyter.widget-view+json": {
              "model_id": "a60107c0292e4df281ea5c621d486c91",
              "version_major": 2,
              "version_minor": 0
            },
            "text/plain": [
              "Measuring metrics:   0%|          | 0/10 [00:00<?, ?it/s]"
            ]
          },
          "metadata": {},
          "output_type": "display_data"
        },
        {
          "data": {
            "application/vnd.jupyter.widget-view+json": {
              "model_id": "40445f1a221945e99457e23b4f7f28bb",
              "version_major": 2,
              "version_minor": 0
            },
            "text/plain": [
              "Mini-batches:   0%|          | 0/5904 [00:00<?, ?it/s]"
            ]
          },
          "metadata": {},
          "output_type": "display_data"
        },
        {
          "data": {
            "application/vnd.jupyter.widget-view+json": {
              "model_id": "1c35ec9e421c495da9de43a006661b0b",
              "version_major": 2,
              "version_minor": 0
            },
            "text/plain": [
              "Measuring metrics:   0%|          | 0/10 [00:00<?, ?it/s]"
            ]
          },
          "metadata": {},
          "output_type": "display_data"
        },
        {
          "data": {
            "application/vnd.jupyter.widget-view+json": {
              "model_id": "274ce9a21eef4e6ca1863c684c3f276b",
              "version_major": 2,
              "version_minor": 0
            },
            "text/plain": [
              "Mini-batches:   0%|          | 0/5904 [00:00<?, ?it/s]"
            ]
          },
          "metadata": {},
          "output_type": "display_data"
        },
        {
          "data": {
            "application/vnd.jupyter.widget-view+json": {
              "model_id": "223ea22267bb4b5998736a7d3027aa0e",
              "version_major": 2,
              "version_minor": 0
            },
            "text/plain": [
              "Measuring metrics:   0%|          | 0/10 [00:00<?, ?it/s]"
            ]
          },
          "metadata": {},
          "output_type": "display_data"
        },
        {
          "data": {
            "application/vnd.jupyter.widget-view+json": {
              "model_id": "bec4c62ba1a24164bedae0950a2cb984",
              "version_major": 2,
              "version_minor": 0
            },
            "text/plain": [
              "Mini-batches:   0%|          | 0/5904 [00:00<?, ?it/s]"
            ]
          },
          "metadata": {},
          "output_type": "display_data"
        },
        {
          "data": {
            "application/vnd.jupyter.widget-view+json": {
              "model_id": "ebb7fda299904f77ab3d65b29c406a67",
              "version_major": 2,
              "version_minor": 0
            },
            "text/plain": [
              "Measuring metrics:   0%|          | 0/10 [00:00<?, ?it/s]"
            ]
          },
          "metadata": {},
          "output_type": "display_data"
        },
        {
          "data": {
            "application/vnd.jupyter.widget-view+json": {
              "model_id": "4dbf07bfb94a48688aecde58e2bc0954",
              "version_major": 2,
              "version_minor": 0
            },
            "text/plain": [
              "Mini-batches:   0%|          | 0/5904 [00:00<?, ?it/s]"
            ]
          },
          "metadata": {},
          "output_type": "display_data"
        },
        {
          "data": {
            "application/vnd.jupyter.widget-view+json": {
              "model_id": "bb82480fa5944ae08ceef65a49bb0716",
              "version_major": 2,
              "version_minor": 0
            },
            "text/plain": [
              "Measuring metrics:   0%|          | 0/10 [00:00<?, ?it/s]"
            ]
          },
          "metadata": {},
          "output_type": "display_data"
        },
        {
          "data": {
            "application/vnd.jupyter.widget-view+json": {
              "model_id": "aecdf405b3b94af9b00891a365e1f1eb",
              "version_major": 2,
              "version_minor": 0
            },
            "text/plain": [
              "Mini-batches:   0%|          | 0/5904 [00:00<?, ?it/s]"
            ]
          },
          "metadata": {},
          "output_type": "display_data"
        },
        {
          "data": {
            "application/vnd.jupyter.widget-view+json": {
              "model_id": "632c2d1419be4c71812119067cbb2675",
              "version_major": 2,
              "version_minor": 0
            },
            "text/plain": [
              "Measuring metrics:   0%|          | 0/10 [00:00<?, ?it/s]"
            ]
          },
          "metadata": {},
          "output_type": "display_data"
        },
        {
          "data": {
            "application/vnd.jupyter.widget-view+json": {
              "model_id": "a689c0d00d454dc3895d4a7f56cc1616",
              "version_major": 2,
              "version_minor": 0
            },
            "text/plain": [
              "Mini-batches:   0%|          | 0/5904 [00:00<?, ?it/s]"
            ]
          },
          "metadata": {},
          "output_type": "display_data"
        },
        {
          "data": {
            "application/vnd.jupyter.widget-view+json": {
              "model_id": "dd89078a9c614fa19186d4a64370d372",
              "version_major": 2,
              "version_minor": 0
            },
            "text/plain": [
              "Measuring metrics:   0%|          | 0/10 [00:00<?, ?it/s]"
            ]
          },
          "metadata": {},
          "output_type": "display_data"
        },
        {
          "name": "stdout",
          "output_type": "stream",
          "text": [
            "Next subset: Subset(MNIST, len=12665, labels=(0, 1))\n"
          ]
        },
        {
          "data": {
            "application/vnd.jupyter.widget-view+json": {
              "model_id": "2fbd6c0ce37f4c6fab10783f8fb1c511",
              "version_major": 2,
              "version_minor": 0
            },
            "text/plain": [
              "Mini-batches:   0%|          | 0/12648 [00:00<?, ?it/s]"
            ]
          },
          "metadata": {},
          "output_type": "display_data"
        },
        {
          "data": {
            "application/vnd.jupyter.widget-view+json": {
              "model_id": "fc44f3e5c0964f01bd56ec0eafdd4251",
              "version_major": 2,
              "version_minor": 0
            },
            "text/plain": [
              "Measuring metrics:   0%|          | 0/10 [00:00<?, ?it/s]"
            ]
          },
          "metadata": {},
          "output_type": "display_data"
        },
        {
          "data": {
            "application/vnd.jupyter.widget-view+json": {
              "model_id": "0bad33ba8aaa4fa482b514644b486fbe",
              "version_major": 2,
              "version_minor": 0
            },
            "text/plain": [
              "Measuring metrics:   0%|          | 0/10 [00:00<?, ?it/s]"
            ]
          },
          "metadata": {},
          "output_type": "display_data"
        },
        {
          "data": {
            "application/vnd.jupyter.widget-view+json": {
              "model_id": "a327046ef26d4af1875f5b792a541769",
              "version_major": 2,
              "version_minor": 0
            },
            "text/plain": [
              "Measuring metrics:   0%|          | 0/10 [00:00<?, ?it/s]"
            ]
          },
          "metadata": {},
          "output_type": "display_data"
        },
        {
          "data": {
            "application/vnd.jupyter.widget-view+json": {
              "model_id": "dfd1ec392d814045a5cf15b3cd50bf67",
              "version_major": 2,
              "version_minor": 0
            },
            "text/plain": [
              "Mini-batches:   0%|          | 0/12648 [00:00<?, ?it/s]"
            ]
          },
          "metadata": {},
          "output_type": "display_data"
        },
        {
          "data": {
            "application/vnd.jupyter.widget-view+json": {
              "model_id": "d26e9c5bb7da47abbaa5c1906f51ca30",
              "version_major": 2,
              "version_minor": 0
            },
            "text/plain": [
              "Measuring metrics:   0%|          | 0/10 [00:00<?, ?it/s]"
            ]
          },
          "metadata": {},
          "output_type": "display_data"
        },
        {
          "data": {
            "application/vnd.jupyter.widget-view+json": {
              "model_id": "d820a42f908d4bed8f4eb348cfb1465c",
              "version_major": 2,
              "version_minor": 0
            },
            "text/plain": [
              "Measuring metrics:   0%|          | 0/10 [00:00<?, ?it/s]"
            ]
          },
          "metadata": {},
          "output_type": "display_data"
        },
        {
          "data": {
            "application/vnd.jupyter.widget-view+json": {
              "model_id": "57b3d0528d0f4b05840c94f51bddff48",
              "version_major": 2,
              "version_minor": 0
            },
            "text/plain": [
              "Mini-batches:   0%|          | 0/12648 [00:00<?, ?it/s]"
            ]
          },
          "metadata": {},
          "output_type": "display_data"
        },
        {
          "data": {
            "application/vnd.jupyter.widget-view+json": {
              "model_id": "307f3c6a2c1943449d472621c10b5560",
              "version_major": 2,
              "version_minor": 0
            },
            "text/plain": [
              "Measuring metrics:   0%|          | 0/10 [00:00<?, ?it/s]"
            ]
          },
          "metadata": {},
          "output_type": "display_data"
        },
        {
          "data": {
            "application/vnd.jupyter.widget-view+json": {
              "model_id": "9e15cd5348af4cf6bf871aeb97cadc74",
              "version_major": 2,
              "version_minor": 0
            },
            "text/plain": [
              "Measuring metrics:   0%|          | 0/10 [00:00<?, ?it/s]"
            ]
          },
          "metadata": {},
          "output_type": "display_data"
        },
        {
          "data": {
            "application/vnd.jupyter.widget-view+json": {
              "model_id": "2f8935a1092543c89b8288ba86be5002",
              "version_major": 2,
              "version_minor": 0
            },
            "text/plain": [
              "Mini-batches:   0%|          | 0/12648 [00:00<?, ?it/s]"
            ]
          },
          "metadata": {},
          "output_type": "display_data"
        },
        {
          "data": {
            "application/vnd.jupyter.widget-view+json": {
              "model_id": "30a58af89c304299a42cf80c3efbbc64",
              "version_major": 2,
              "version_minor": 0
            },
            "text/plain": [
              "Measuring metrics:   0%|          | 0/10 [00:00<?, ?it/s]"
            ]
          },
          "metadata": {},
          "output_type": "display_data"
        },
        {
          "data": {
            "application/vnd.jupyter.widget-view+json": {
              "model_id": "4b151ca8aa7d4f79a60b5451c15abb57",
              "version_major": 2,
              "version_minor": 0
            },
            "text/plain": [
              "Measuring metrics:   0%|          | 0/10 [00:00<?, ?it/s]"
            ]
          },
          "metadata": {},
          "output_type": "display_data"
        },
        {
          "data": {
            "application/vnd.jupyter.widget-view+json": {
              "model_id": "0aa545a1b8ca4e338abd3ee4cf853cd2",
              "version_major": 2,
              "version_minor": 0
            },
            "text/plain": [
              "Mini-batches:   0%|          | 0/12648 [00:00<?, ?it/s]"
            ]
          },
          "metadata": {},
          "output_type": "display_data"
        },
        {
          "data": {
            "application/vnd.jupyter.widget-view+json": {
              "model_id": "ec730e01bd834d1ab4baeb20534df87d",
              "version_major": 2,
              "version_minor": 0
            },
            "text/plain": [
              "Measuring metrics:   0%|          | 0/10 [00:00<?, ?it/s]"
            ]
          },
          "metadata": {},
          "output_type": "display_data"
        },
        {
          "data": {
            "application/vnd.jupyter.widget-view+json": {
              "model_id": "b5cd6286d19247159e9c71572d35d039",
              "version_major": 2,
              "version_minor": 0
            },
            "text/plain": [
              "Measuring metrics:   0%|          | 0/10 [00:00<?, ?it/s]"
            ]
          },
          "metadata": {},
          "output_type": "display_data"
        },
        {
          "data": {
            "application/vnd.jupyter.widget-view+json": {
              "model_id": "470f8ad56fc5438d974da6826d342098",
              "version_major": 2,
              "version_minor": 0
            },
            "text/plain": [
              "Mini-batches:   0%|          | 0/12648 [00:00<?, ?it/s]"
            ]
          },
          "metadata": {},
          "output_type": "display_data"
        },
        {
          "data": {
            "application/vnd.jupyter.widget-view+json": {
              "model_id": "9aacff5158ec463fb453e836e63c65d4",
              "version_major": 2,
              "version_minor": 0
            },
            "text/plain": [
              "Measuring metrics:   0%|          | 0/10 [00:00<?, ?it/s]"
            ]
          },
          "metadata": {},
          "output_type": "display_data"
        },
        {
          "data": {
            "application/vnd.jupyter.widget-view+json": {
              "model_id": "47811c600dd840a2ac346feadeeb8ef7",
              "version_major": 2,
              "version_minor": 0
            },
            "text/plain": [
              "Measuring metrics:   0%|          | 0/10 [00:00<?, ?it/s]"
            ]
          },
          "metadata": {},
          "output_type": "display_data"
        },
        {
          "data": {
            "application/vnd.jupyter.widget-view+json": {
              "model_id": "a57b443a48f8440baa6b6c3a5210b064",
              "version_major": 2,
              "version_minor": 0
            },
            "text/plain": [
              "Mini-batches:   0%|          | 0/12648 [00:00<?, ?it/s]"
            ]
          },
          "metadata": {},
          "output_type": "display_data"
        },
        {
          "data": {
            "application/vnd.jupyter.widget-view+json": {
              "model_id": "65f4de308e7a432e9e01f7eeb26e6df8",
              "version_major": 2,
              "version_minor": 0
            },
            "text/plain": [
              "Measuring metrics:   0%|          | 0/10 [00:00<?, ?it/s]"
            ]
          },
          "metadata": {},
          "output_type": "display_data"
        },
        {
          "data": {
            "application/vnd.jupyter.widget-view+json": {
              "model_id": "cf81b6ee9911450893593d7b7f6d71ba",
              "version_major": 2,
              "version_minor": 0
            },
            "text/plain": [
              "Measuring metrics:   0%|          | 0/10 [00:00<?, ?it/s]"
            ]
          },
          "metadata": {},
          "output_type": "display_data"
        },
        {
          "data": {
            "application/vnd.jupyter.widget-view+json": {
              "model_id": "8210b3d58cf949ebbe048eae05b7636c",
              "version_major": 2,
              "version_minor": 0
            },
            "text/plain": [
              "Mini-batches:   0%|          | 0/12648 [00:00<?, ?it/s]"
            ]
          },
          "metadata": {},
          "output_type": "display_data"
        },
        {
          "data": {
            "application/vnd.jupyter.widget-view+json": {
              "model_id": "6b47897d18444ea7a20157c68adad302",
              "version_major": 2,
              "version_minor": 0
            },
            "text/plain": [
              "Measuring metrics:   0%|          | 0/10 [00:00<?, ?it/s]"
            ]
          },
          "metadata": {},
          "output_type": "display_data"
        },
        {
          "data": {
            "application/vnd.jupyter.widget-view+json": {
              "model_id": "9e8b13d110004fbd8c2d0175e325f7b4",
              "version_major": 2,
              "version_minor": 0
            },
            "text/plain": [
              "Measuring metrics:   0%|          | 0/10 [00:00<?, ?it/s]"
            ]
          },
          "metadata": {},
          "output_type": "display_data"
        },
        {
          "data": {
            "application/vnd.jupyter.widget-view+json": {
              "model_id": "e4f022f278e3463093f65f707f1b5a44",
              "version_major": 2,
              "version_minor": 0
            },
            "text/plain": [
              "Mini-batches:   0%|          | 0/12648 [00:00<?, ?it/s]"
            ]
          },
          "metadata": {},
          "output_type": "display_data"
        },
        {
          "data": {
            "application/vnd.jupyter.widget-view+json": {
              "model_id": "b601e81b1f3e4970865f37e37797dba7",
              "version_major": 2,
              "version_minor": 0
            },
            "text/plain": [
              "Measuring metrics:   0%|          | 0/10 [00:00<?, ?it/s]"
            ]
          },
          "metadata": {},
          "output_type": "display_data"
        },
        {
          "data": {
            "application/vnd.jupyter.widget-view+json": {
              "model_id": "13e23830d68941eabc50bcb0e156e451",
              "version_major": 2,
              "version_minor": 0
            },
            "text/plain": [
              "Measuring metrics:   0%|          | 0/10 [00:00<?, ?it/s]"
            ]
          },
          "metadata": {},
          "output_type": "display_data"
        },
        {
          "data": {
            "application/vnd.jupyter.widget-view+json": {
              "model_id": "3fcae18acbe947d0af953e2bc9c47488",
              "version_major": 2,
              "version_minor": 0
            },
            "text/plain": [
              "Mini-batches:   0%|          | 0/12648 [00:00<?, ?it/s]"
            ]
          },
          "metadata": {},
          "output_type": "display_data"
        },
        {
          "data": {
            "application/vnd.jupyter.widget-view+json": {
              "model_id": "a562e273493547a9ad03f714bed2ac74",
              "version_major": 2,
              "version_minor": 0
            },
            "text/plain": [
              "Measuring metrics:   0%|          | 0/10 [00:00<?, ?it/s]"
            ]
          },
          "metadata": {},
          "output_type": "display_data"
        },
        {
          "data": {
            "application/vnd.jupyter.widget-view+json": {
              "model_id": "48b557f153834ff4b2c3b7bd121ea882",
              "version_major": 2,
              "version_minor": 0
            },
            "text/plain": [
              "Measuring metrics:   0%|          | 0/10 [00:00<?, ?it/s]"
            ]
          },
          "metadata": {},
          "output_type": "display_data"
        },
        {
          "name": "stdout",
          "output_type": "stream",
          "text": [
            "Next subset: Subset(MNIST, len=18623, labels=(0, 1, 2))\n"
          ]
        },
        {
          "data": {
            "application/vnd.jupyter.widget-view+json": {
              "model_id": "1d71003b10224ce68055eb795829454d",
              "version_major": 2,
              "version_minor": 0
            },
            "text/plain": [
              "Mini-batches:   0%|          | 0/18600 [00:00<?, ?it/s]"
            ]
          },
          "metadata": {},
          "output_type": "display_data"
        },
        {
          "data": {
            "application/vnd.jupyter.widget-view+json": {
              "model_id": "c70e5e0f6e9f4ffe8e56d113f80f2e81",
              "version_major": 2,
              "version_minor": 0
            },
            "text/plain": [
              "Measuring metrics:   0%|          | 0/10 [00:00<?, ?it/s]"
            ]
          },
          "metadata": {},
          "output_type": "display_data"
        },
        {
          "data": {
            "application/vnd.jupyter.widget-view+json": {
              "model_id": "10f07d4f2b5f46a5b3841ff5b6bc002a",
              "version_major": 2,
              "version_minor": 0
            },
            "text/plain": [
              "Measuring metrics:   0%|          | 0/10 [00:00<?, ?it/s]"
            ]
          },
          "metadata": {},
          "output_type": "display_data"
        },
        {
          "data": {
            "application/vnd.jupyter.widget-view+json": {
              "model_id": "6e08075d174644188ca1b12bb512a76b",
              "version_major": 2,
              "version_minor": 0
            },
            "text/plain": [
              "Measuring metrics:   0%|          | 0/10 [00:00<?, ?it/s]"
            ]
          },
          "metadata": {},
          "output_type": "display_data"
        },
        {
          "data": {
            "application/vnd.jupyter.widget-view+json": {
              "model_id": "756d95b197b4405899bc370b14b13f00",
              "version_major": 2,
              "version_minor": 0
            },
            "text/plain": [
              "Mini-batches:   0%|          | 0/18600 [00:00<?, ?it/s]"
            ]
          },
          "metadata": {},
          "output_type": "display_data"
        },
        {
          "data": {
            "application/vnd.jupyter.widget-view+json": {
              "model_id": "142f86b8c1594ee1a09ea4a5f32176be",
              "version_major": 2,
              "version_minor": 0
            },
            "text/plain": [
              "Measuring metrics:   0%|          | 0/10 [00:00<?, ?it/s]"
            ]
          },
          "metadata": {},
          "output_type": "display_data"
        },
        {
          "data": {
            "application/vnd.jupyter.widget-view+json": {
              "model_id": "ea9b38786d6e47f6aa3f4e3eb6ecfd2e",
              "version_major": 2,
              "version_minor": 0
            },
            "text/plain": [
              "Measuring metrics:   0%|          | 0/10 [00:00<?, ?it/s]"
            ]
          },
          "metadata": {},
          "output_type": "display_data"
        },
        {
          "data": {
            "application/vnd.jupyter.widget-view+json": {
              "model_id": "04d9acfa5d714455b3698718fe077781",
              "version_major": 2,
              "version_minor": 0
            },
            "text/plain": [
              "Measuring metrics:   0%|          | 0/10 [00:00<?, ?it/s]"
            ]
          },
          "metadata": {},
          "output_type": "display_data"
        },
        {
          "data": {
            "application/vnd.jupyter.widget-view+json": {
              "model_id": "9da6ac0d30f74f589fc8305a66a7f6d4",
              "version_major": 2,
              "version_minor": 0
            },
            "text/plain": [
              "Mini-batches:   0%|          | 0/18600 [00:00<?, ?it/s]"
            ]
          },
          "metadata": {},
          "output_type": "display_data"
        },
        {
          "data": {
            "application/vnd.jupyter.widget-view+json": {
              "model_id": "4bf18524f0e34a2f8371af74b6e773c1",
              "version_major": 2,
              "version_minor": 0
            },
            "text/plain": [
              "Measuring metrics:   0%|          | 0/10 [00:00<?, ?it/s]"
            ]
          },
          "metadata": {},
          "output_type": "display_data"
        },
        {
          "data": {
            "application/vnd.jupyter.widget-view+json": {
              "model_id": "0151223546934ea2b59fdbcf129044ab",
              "version_major": 2,
              "version_minor": 0
            },
            "text/plain": [
              "Measuring metrics:   0%|          | 0/10 [00:00<?, ?it/s]"
            ]
          },
          "metadata": {},
          "output_type": "display_data"
        },
        {
          "data": {
            "application/vnd.jupyter.widget-view+json": {
              "model_id": "ae14cab7f06b4d02a004f5e9d04b01a3",
              "version_major": 2,
              "version_minor": 0
            },
            "text/plain": [
              "Measuring metrics:   0%|          | 0/10 [00:00<?, ?it/s]"
            ]
          },
          "metadata": {},
          "output_type": "display_data"
        },
        {
          "data": {
            "application/vnd.jupyter.widget-view+json": {
              "model_id": "5c38976b711d410cb56c8ecffbf4c7c8",
              "version_major": 2,
              "version_minor": 0
            },
            "text/plain": [
              "Mini-batches:   0%|          | 0/18600 [00:00<?, ?it/s]"
            ]
          },
          "metadata": {},
          "output_type": "display_data"
        },
        {
          "data": {
            "application/vnd.jupyter.widget-view+json": {
              "model_id": "700339ffc10b4895b0b90131f4dd5c4b",
              "version_major": 2,
              "version_minor": 0
            },
            "text/plain": [
              "Measuring metrics:   0%|          | 0/10 [00:00<?, ?it/s]"
            ]
          },
          "metadata": {},
          "output_type": "display_data"
        },
        {
          "data": {
            "application/vnd.jupyter.widget-view+json": {
              "model_id": "f2a59c101b474ac297368889d960d0c6",
              "version_major": 2,
              "version_minor": 0
            },
            "text/plain": [
              "Measuring metrics:   0%|          | 0/10 [00:00<?, ?it/s]"
            ]
          },
          "metadata": {},
          "output_type": "display_data"
        },
        {
          "data": {
            "application/vnd.jupyter.widget-view+json": {
              "model_id": "a9a64f2d7e9f44afaf8773f97f9f5dd3",
              "version_major": 2,
              "version_minor": 0
            },
            "text/plain": [
              "Measuring metrics:   0%|          | 0/10 [00:00<?, ?it/s]"
            ]
          },
          "metadata": {},
          "output_type": "display_data"
        },
        {
          "data": {
            "application/vnd.jupyter.widget-view+json": {
              "model_id": "bd4ecfc629d7424ca5839d459d01a5e1",
              "version_major": 2,
              "version_minor": 0
            },
            "text/plain": [
              "Mini-batches:   0%|          | 0/18600 [00:00<?, ?it/s]"
            ]
          },
          "metadata": {},
          "output_type": "display_data"
        },
        {
          "data": {
            "application/vnd.jupyter.widget-view+json": {
              "model_id": "0b0caccf364e4920b1edb2859ad6f036",
              "version_major": 2,
              "version_minor": 0
            },
            "text/plain": [
              "Measuring metrics:   0%|          | 0/10 [00:00<?, ?it/s]"
            ]
          },
          "metadata": {},
          "output_type": "display_data"
        },
        {
          "data": {
            "application/vnd.jupyter.widget-view+json": {
              "model_id": "4998af9eea9e43468f391afd63cecc4d",
              "version_major": 2,
              "version_minor": 0
            },
            "text/plain": [
              "Measuring metrics:   0%|          | 0/10 [00:00<?, ?it/s]"
            ]
          },
          "metadata": {},
          "output_type": "display_data"
        },
        {
          "data": {
            "application/vnd.jupyter.widget-view+json": {
              "model_id": "3ddfc84c0b35453aa58d7862d65831c2",
              "version_major": 2,
              "version_minor": 0
            },
            "text/plain": [
              "Measuring metrics:   0%|          | 0/10 [00:00<?, ?it/s]"
            ]
          },
          "metadata": {},
          "output_type": "display_data"
        },
        {
          "data": {
            "application/vnd.jupyter.widget-view+json": {
              "model_id": "b5157ff509004c72a71c91bdb6092447",
              "version_major": 2,
              "version_minor": 0
            },
            "text/plain": [
              "Measuring metrics:   0%|          | 0/10 [00:00<?, ?it/s]"
            ]
          },
          "metadata": {},
          "output_type": "display_data"
        },
        {
          "data": {
            "application/vnd.jupyter.widget-view+json": {
              "model_id": "03678b69c862431982c7b047dc76a855",
              "version_major": 2,
              "version_minor": 0
            },
            "text/plain": [
              "Mini-batches:   0%|          | 0/18600 [00:00<?, ?it/s]"
            ]
          },
          "metadata": {},
          "output_type": "display_data"
        },
        {
          "data": {
            "application/vnd.jupyter.widget-view+json": {
              "model_id": "e4335173dda24a1dad778f9c776f777d",
              "version_major": 2,
              "version_minor": 0
            },
            "text/plain": [
              "Measuring metrics:   0%|          | 0/10 [00:00<?, ?it/s]"
            ]
          },
          "metadata": {},
          "output_type": "display_data"
        },
        {
          "data": {
            "application/vnd.jupyter.widget-view+json": {
              "model_id": "b0a4f3fca6bd4befae63804faad9d0d6",
              "version_major": 2,
              "version_minor": 0
            },
            "text/plain": [
              "Measuring metrics:   0%|          | 0/10 [00:00<?, ?it/s]"
            ]
          },
          "metadata": {},
          "output_type": "display_data"
        },
        {
          "data": {
            "application/vnd.jupyter.widget-view+json": {
              "model_id": "eeebc84060944f49b6af3b5340165639",
              "version_major": 2,
              "version_minor": 0
            },
            "text/plain": [
              "Measuring metrics:   0%|          | 0/10 [00:00<?, ?it/s]"
            ]
          },
          "metadata": {},
          "output_type": "display_data"
        },
        {
          "data": {
            "application/vnd.jupyter.widget-view+json": {
              "model_id": "530f21d9490741ed9c2097be50290b58",
              "version_major": 2,
              "version_minor": 0
            },
            "text/plain": [
              "Mini-batches:   0%|          | 0/18600 [00:00<?, ?it/s]"
            ]
          },
          "metadata": {},
          "output_type": "display_data"
        },
        {
          "data": {
            "application/vnd.jupyter.widget-view+json": {
              "model_id": "69d9d7a885c84a929174c6ff19e3a1d4",
              "version_major": 2,
              "version_minor": 0
            },
            "text/plain": [
              "Measuring metrics:   0%|          | 0/10 [00:00<?, ?it/s]"
            ]
          },
          "metadata": {},
          "output_type": "display_data"
        },
        {
          "data": {
            "application/vnd.jupyter.widget-view+json": {
              "model_id": "87b68d9cc6234d6d87c16df8c5b7c04a",
              "version_major": 2,
              "version_minor": 0
            },
            "text/plain": [
              "Measuring metrics:   0%|          | 0/10 [00:00<?, ?it/s]"
            ]
          },
          "metadata": {},
          "output_type": "display_data"
        },
        {
          "data": {
            "application/vnd.jupyter.widget-view+json": {
              "model_id": "3c8a01badcec43c280634ee85664f6a6",
              "version_major": 2,
              "version_minor": 0
            },
            "text/plain": [
              "Measuring metrics:   0%|          | 0/10 [00:00<?, ?it/s]"
            ]
          },
          "metadata": {},
          "output_type": "display_data"
        },
        {
          "data": {
            "application/vnd.jupyter.widget-view+json": {
              "model_id": "896fab5c790d428c9b5c1c907e01f78c",
              "version_major": 2,
              "version_minor": 0
            },
            "text/plain": [
              "Mini-batches:   0%|          | 0/18600 [00:00<?, ?it/s]"
            ]
          },
          "metadata": {},
          "output_type": "display_data"
        },
        {
          "data": {
            "application/vnd.jupyter.widget-view+json": {
              "model_id": "6a29f3a73d72448b8e2a1032102df315",
              "version_major": 2,
              "version_minor": 0
            },
            "text/plain": [
              "Measuring metrics:   0%|          | 0/10 [00:00<?, ?it/s]"
            ]
          },
          "metadata": {},
          "output_type": "display_data"
        },
        {
          "data": {
            "application/vnd.jupyter.widget-view+json": {
              "model_id": "bf3b712b739b45329ae3594207066368",
              "version_major": 2,
              "version_minor": 0
            },
            "text/plain": [
              "Measuring metrics:   0%|          | 0/10 [00:00<?, ?it/s]"
            ]
          },
          "metadata": {},
          "output_type": "display_data"
        },
        {
          "data": {
            "application/vnd.jupyter.widget-view+json": {
              "model_id": "7b2e72f8bedc47b49a38e18efd05733e",
              "version_major": 2,
              "version_minor": 0
            },
            "text/plain": [
              "Measuring metrics:   0%|          | 0/10 [00:00<?, ?it/s]"
            ]
          },
          "metadata": {},
          "output_type": "display_data"
        },
        {
          "data": {
            "application/vnd.jupyter.widget-view+json": {
              "model_id": "66a73ee7d6584411bb6bc1c1e88fd7e3",
              "version_major": 2,
              "version_minor": 0
            },
            "text/plain": [
              "Mini-batches:   0%|          | 0/18600 [00:00<?, ?it/s]"
            ]
          },
          "metadata": {},
          "output_type": "display_data"
        },
        {
          "data": {
            "application/vnd.jupyter.widget-view+json": {
              "model_id": "e2f93c3c0a0d4447bd757ed0abd2b5ba",
              "version_major": 2,
              "version_minor": 0
            },
            "text/plain": [
              "Measuring metrics:   0%|          | 0/10 [00:00<?, ?it/s]"
            ]
          },
          "metadata": {},
          "output_type": "display_data"
        },
        {
          "data": {
            "application/vnd.jupyter.widget-view+json": {
              "model_id": "b5663187aa6f46ba9141feea0501aa65",
              "version_major": 2,
              "version_minor": 0
            },
            "text/plain": [
              "Measuring metrics:   0%|          | 0/10 [00:00<?, ?it/s]"
            ]
          },
          "metadata": {},
          "output_type": "display_data"
        },
        {
          "data": {
            "application/vnd.jupyter.widget-view+json": {
              "model_id": "a1f343595a23476ab98141e789132b47",
              "version_major": 2,
              "version_minor": 0
            },
            "text/plain": [
              "Measuring metrics:   0%|          | 0/10 [00:00<?, ?it/s]"
            ]
          },
          "metadata": {},
          "output_type": "display_data"
        },
        {
          "data": {
            "application/vnd.jupyter.widget-view+json": {
              "model_id": "c99df4f4bd4648798be8ac748c0f1186",
              "version_major": 2,
              "version_minor": 0
            },
            "text/plain": [
              "Mini-batches:   0%|          | 0/18600 [00:00<?, ?it/s]"
            ]
          },
          "metadata": {},
          "output_type": "display_data"
        },
        {
          "data": {
            "application/vnd.jupyter.widget-view+json": {
              "model_id": "dab9c9ef1fbf493d887506e9b6b1e582",
              "version_major": 2,
              "version_minor": 0
            },
            "text/plain": [
              "Measuring metrics:   0%|          | 0/10 [00:00<?, ?it/s]"
            ]
          },
          "metadata": {},
          "output_type": "display_data"
        },
        {
          "data": {
            "application/vnd.jupyter.widget-view+json": {
              "model_id": "9e9d9c46a97a4c1385707e8518de5ec8",
              "version_major": 2,
              "version_minor": 0
            },
            "text/plain": [
              "Measuring metrics:   0%|          | 0/10 [00:00<?, ?it/s]"
            ]
          },
          "metadata": {},
          "output_type": "display_data"
        },
        {
          "data": {
            "application/vnd.jupyter.widget-view+json": {
              "model_id": "aa9ac81befc641d99aae64045930f7da",
              "version_major": 2,
              "version_minor": 0
            },
            "text/plain": [
              "Measuring metrics:   0%|          | 0/10 [00:00<?, ?it/s]"
            ]
          },
          "metadata": {},
          "output_type": "display_data"
        },
        {
          "name": "stdout",
          "output_type": "stream",
          "text": [
            "Next subset: Subset(MNIST, len=24754, labels=(0, 1, 2, 3))\n"
          ]
        },
        {
          "data": {
            "application/vnd.jupyter.widget-view+json": {
              "model_id": "e416fca760eb42a7836cd2c3064f45cf",
              "version_major": 2,
              "version_minor": 0
            },
            "text/plain": [
              "Mini-batches:   0%|          | 0/24744 [00:00<?, ?it/s]"
            ]
          },
          "metadata": {},
          "output_type": "display_data"
        },
        {
          "data": {
            "application/vnd.jupyter.widget-view+json": {
              "model_id": "3a30f2560e6b40429e9afb6dec1da043",
              "version_major": 2,
              "version_minor": 0
            },
            "text/plain": [
              "Measuring metrics:   0%|          | 0/10 [00:00<?, ?it/s]"
            ]
          },
          "metadata": {},
          "output_type": "display_data"
        },
        {
          "data": {
            "application/vnd.jupyter.widget-view+json": {
              "model_id": "f706202f17db4c1a98731eaec027c5f3",
              "version_major": 2,
              "version_minor": 0
            },
            "text/plain": [
              "Measuring metrics:   0%|          | 0/10 [00:00<?, ?it/s]"
            ]
          },
          "metadata": {},
          "output_type": "display_data"
        },
        {
          "data": {
            "application/vnd.jupyter.widget-view+json": {
              "model_id": "a28c48e43ad34d14924716d640f442e5",
              "version_major": 2,
              "version_minor": 0
            },
            "text/plain": [
              "Measuring metrics:   0%|          | 0/10 [00:00<?, ?it/s]"
            ]
          },
          "metadata": {},
          "output_type": "display_data"
        },
        {
          "data": {
            "application/vnd.jupyter.widget-view+json": {
              "model_id": "baf930a54fe6454fbc36a51edb8b7303",
              "version_major": 2,
              "version_minor": 0
            },
            "text/plain": [
              "Measuring metrics:   0%|          | 0/10 [00:00<?, ?it/s]"
            ]
          },
          "metadata": {},
          "output_type": "display_data"
        },
        {
          "data": {
            "application/vnd.jupyter.widget-view+json": {
              "model_id": "2a3ebe7f8eee49f3a128d61f11e39f4a",
              "version_major": 2,
              "version_minor": 0
            },
            "text/plain": [
              "Mini-batches:   0%|          | 0/24744 [00:00<?, ?it/s]"
            ]
          },
          "metadata": {},
          "output_type": "display_data"
        },
        {
          "data": {
            "application/vnd.jupyter.widget-view+json": {
              "model_id": "faa00bf405884e3fb7ff08046b0cb3c2",
              "version_major": 2,
              "version_minor": 0
            },
            "text/plain": [
              "Measuring metrics:   0%|          | 0/10 [00:00<?, ?it/s]"
            ]
          },
          "metadata": {},
          "output_type": "display_data"
        },
        {
          "data": {
            "application/vnd.jupyter.widget-view+json": {
              "model_id": "356886b1abfd49e4a11a6e5469efec11",
              "version_major": 2,
              "version_minor": 0
            },
            "text/plain": [
              "Measuring metrics:   0%|          | 0/10 [00:00<?, ?it/s]"
            ]
          },
          "metadata": {},
          "output_type": "display_data"
        },
        {
          "data": {
            "application/vnd.jupyter.widget-view+json": {
              "model_id": "d0cfbf0d64e0470a8f315af4c3151ebc",
              "version_major": 2,
              "version_minor": 0
            },
            "text/plain": [
              "Measuring metrics:   0%|          | 0/10 [00:00<?, ?it/s]"
            ]
          },
          "metadata": {},
          "output_type": "display_data"
        },
        {
          "data": {
            "application/vnd.jupyter.widget-view+json": {
              "model_id": "4f8c1a5309774aa09e141c797b12091a",
              "version_major": 2,
              "version_minor": 0
            },
            "text/plain": [
              "Measuring metrics:   0%|          | 0/10 [00:00<?, ?it/s]"
            ]
          },
          "metadata": {},
          "output_type": "display_data"
        },
        {
          "data": {
            "application/vnd.jupyter.widget-view+json": {
              "model_id": "2717c56bc98a445abb73ff5f1ca659e9",
              "version_major": 2,
              "version_minor": 0
            },
            "text/plain": [
              "Mini-batches:   0%|          | 0/24744 [00:00<?, ?it/s]"
            ]
          },
          "metadata": {},
          "output_type": "display_data"
        },
        {
          "data": {
            "application/vnd.jupyter.widget-view+json": {
              "model_id": "4c0cdb7f858b4a2781aa8904e2fa59f4",
              "version_major": 2,
              "version_minor": 0
            },
            "text/plain": [
              "Measuring metrics:   0%|          | 0/10 [00:00<?, ?it/s]"
            ]
          },
          "metadata": {},
          "output_type": "display_data"
        },
        {
          "data": {
            "application/vnd.jupyter.widget-view+json": {
              "model_id": "7627b19f0ea64fd2be09f65d14649233",
              "version_major": 2,
              "version_minor": 0
            },
            "text/plain": [
              "Measuring metrics:   0%|          | 0/10 [00:00<?, ?it/s]"
            ]
          },
          "metadata": {},
          "output_type": "display_data"
        },
        {
          "data": {
            "application/vnd.jupyter.widget-view+json": {
              "model_id": "cf67d0b510f0484592f08d355c0dcf53",
              "version_major": 2,
              "version_minor": 0
            },
            "text/plain": [
              "Measuring metrics:   0%|          | 0/10 [00:00<?, ?it/s]"
            ]
          },
          "metadata": {},
          "output_type": "display_data"
        },
        {
          "data": {
            "application/vnd.jupyter.widget-view+json": {
              "model_id": "b87cfe2d13de4d9da6fd0c18fd64e7a8",
              "version_major": 2,
              "version_minor": 0
            },
            "text/plain": [
              "Measuring metrics:   0%|          | 0/10 [00:00<?, ?it/s]"
            ]
          },
          "metadata": {},
          "output_type": "display_data"
        },
        {
          "data": {
            "application/vnd.jupyter.widget-view+json": {
              "model_id": "095eb3a3717649679e7b9870bb8a2273",
              "version_major": 2,
              "version_minor": 0
            },
            "text/plain": [
              "Mini-batches:   0%|          | 0/24744 [00:00<?, ?it/s]"
            ]
          },
          "metadata": {},
          "output_type": "display_data"
        },
        {
          "data": {
            "application/vnd.jupyter.widget-view+json": {
              "model_id": "3f7f181eb01d499f8081258bfce51438",
              "version_major": 2,
              "version_minor": 0
            },
            "text/plain": [
              "Measuring metrics:   0%|          | 0/10 [00:00<?, ?it/s]"
            ]
          },
          "metadata": {},
          "output_type": "display_data"
        },
        {
          "data": {
            "application/vnd.jupyter.widget-view+json": {
              "model_id": "0d8dbc152a36482a952f5a2b4cf277d0",
              "version_major": 2,
              "version_minor": 0
            },
            "text/plain": [
              "Measuring metrics:   0%|          | 0/10 [00:00<?, ?it/s]"
            ]
          },
          "metadata": {},
          "output_type": "display_data"
        },
        {
          "data": {
            "application/vnd.jupyter.widget-view+json": {
              "model_id": "3d5813f2dcc043ecaaaf84f0a79f09a3",
              "version_major": 2,
              "version_minor": 0
            },
            "text/plain": [
              "Measuring metrics:   0%|          | 0/10 [00:00<?, ?it/s]"
            ]
          },
          "metadata": {},
          "output_type": "display_data"
        },
        {
          "data": {
            "application/vnd.jupyter.widget-view+json": {
              "model_id": "72d18f2a811a450d9455604d35000cfc",
              "version_major": 2,
              "version_minor": 0
            },
            "text/plain": [
              "Measuring metrics:   0%|          | 0/10 [00:00<?, ?it/s]"
            ]
          },
          "metadata": {},
          "output_type": "display_data"
        },
        {
          "data": {
            "application/vnd.jupyter.widget-view+json": {
              "model_id": "bcef609274954365964c6378547535e4",
              "version_major": 2,
              "version_minor": 0
            },
            "text/plain": [
              "Mini-batches:   0%|          | 0/24744 [00:00<?, ?it/s]"
            ]
          },
          "metadata": {},
          "output_type": "display_data"
        },
        {
          "data": {
            "application/vnd.jupyter.widget-view+json": {
              "model_id": "b723b105c3d0416290c7cc6444f1cd8a",
              "version_major": 2,
              "version_minor": 0
            },
            "text/plain": [
              "Measuring metrics:   0%|          | 0/10 [00:00<?, ?it/s]"
            ]
          },
          "metadata": {},
          "output_type": "display_data"
        },
        {
          "data": {
            "application/vnd.jupyter.widget-view+json": {
              "model_id": "4a9da1e08b4b42c2a5f2495f6d3053b4",
              "version_major": 2,
              "version_minor": 0
            },
            "text/plain": [
              "Measuring metrics:   0%|          | 0/10 [00:00<?, ?it/s]"
            ]
          },
          "metadata": {},
          "output_type": "display_data"
        },
        {
          "data": {
            "application/vnd.jupyter.widget-view+json": {
              "model_id": "c859bdd74348445fb6bed571c827854f",
              "version_major": 2,
              "version_minor": 0
            },
            "text/plain": [
              "Measuring metrics:   0%|          | 0/10 [00:00<?, ?it/s]"
            ]
          },
          "metadata": {},
          "output_type": "display_data"
        },
        {
          "data": {
            "application/vnd.jupyter.widget-view+json": {
              "model_id": "c166c963aa5e4dbc9ba8382914d5f593",
              "version_major": 2,
              "version_minor": 0
            },
            "text/plain": [
              "Measuring metrics:   0%|          | 0/10 [00:00<?, ?it/s]"
            ]
          },
          "metadata": {},
          "output_type": "display_data"
        },
        {
          "data": {
            "application/vnd.jupyter.widget-view+json": {
              "model_id": "05695ef1dad54bc8ad452f532ce2667f",
              "version_major": 2,
              "version_minor": 0
            },
            "text/plain": [
              "Mini-batches:   0%|          | 0/24744 [00:00<?, ?it/s]"
            ]
          },
          "metadata": {},
          "output_type": "display_data"
        },
        {
          "data": {
            "application/vnd.jupyter.widget-view+json": {
              "model_id": "57fcbb2616d244b48b089e16c51d8a22",
              "version_major": 2,
              "version_minor": 0
            },
            "text/plain": [
              "Measuring metrics:   0%|          | 0/10 [00:00<?, ?it/s]"
            ]
          },
          "metadata": {},
          "output_type": "display_data"
        },
        {
          "data": {
            "application/vnd.jupyter.widget-view+json": {
              "model_id": "c4827c5e19824ec1bf3daeaa6454d6ec",
              "version_major": 2,
              "version_minor": 0
            },
            "text/plain": [
              "Measuring metrics:   0%|          | 0/10 [00:00<?, ?it/s]"
            ]
          },
          "metadata": {},
          "output_type": "display_data"
        },
        {
          "data": {
            "application/vnd.jupyter.widget-view+json": {
              "model_id": "f520ab041ddf4da2a041199400204776",
              "version_major": 2,
              "version_minor": 0
            },
            "text/plain": [
              "Measuring metrics:   0%|          | 0/10 [00:00<?, ?it/s]"
            ]
          },
          "metadata": {},
          "output_type": "display_data"
        },
        {
          "data": {
            "application/vnd.jupyter.widget-view+json": {
              "model_id": "5deea06a82424343ba0f0a2b4a75b3ba",
              "version_major": 2,
              "version_minor": 0
            },
            "text/plain": [
              "Measuring metrics:   0%|          | 0/10 [00:00<?, ?it/s]"
            ]
          },
          "metadata": {},
          "output_type": "display_data"
        },
        {
          "data": {
            "application/vnd.jupyter.widget-view+json": {
              "model_id": "64719a2c7c6544b195b279eeb3dfe0bd",
              "version_major": 2,
              "version_minor": 0
            },
            "text/plain": [
              "Mini-batches:   0%|          | 0/24744 [00:00<?, ?it/s]"
            ]
          },
          "metadata": {},
          "output_type": "display_data"
        },
        {
          "data": {
            "application/vnd.jupyter.widget-view+json": {
              "model_id": "e8ebdda97cd64929a8f052ced2542cd1",
              "version_major": 2,
              "version_minor": 0
            },
            "text/plain": [
              "Measuring metrics:   0%|          | 0/10 [00:00<?, ?it/s]"
            ]
          },
          "metadata": {},
          "output_type": "display_data"
        },
        {
          "data": {
            "application/vnd.jupyter.widget-view+json": {
              "model_id": "604d49da033b429190380f77c5a7e133",
              "version_major": 2,
              "version_minor": 0
            },
            "text/plain": [
              "Measuring metrics:   0%|          | 0/10 [00:00<?, ?it/s]"
            ]
          },
          "metadata": {},
          "output_type": "display_data"
        },
        {
          "data": {
            "application/vnd.jupyter.widget-view+json": {
              "model_id": "fecdea14938a4e00b31ce702834288f6",
              "version_major": 2,
              "version_minor": 0
            },
            "text/plain": [
              "Measuring metrics:   0%|          | 0/10 [00:00<?, ?it/s]"
            ]
          },
          "metadata": {},
          "output_type": "display_data"
        },
        {
          "data": {
            "application/vnd.jupyter.widget-view+json": {
              "model_id": "6537e5be446b4e6593042cf16c6ce844",
              "version_major": 2,
              "version_minor": 0
            },
            "text/plain": [
              "Measuring metrics:   0%|          | 0/10 [00:00<?, ?it/s]"
            ]
          },
          "metadata": {},
          "output_type": "display_data"
        },
        {
          "data": {
            "application/vnd.jupyter.widget-view+json": {
              "model_id": "823adcc3cf324460a8fa27faa5d2ef89",
              "version_major": 2,
              "version_minor": 0
            },
            "text/plain": [
              "Mini-batches:   0%|          | 0/24744 [00:00<?, ?it/s]"
            ]
          },
          "metadata": {},
          "output_type": "display_data"
        },
        {
          "data": {
            "application/vnd.jupyter.widget-view+json": {
              "model_id": "9a8669123d8c44c3935fe5068cfbed1f",
              "version_major": 2,
              "version_minor": 0
            },
            "text/plain": [
              "Measuring metrics:   0%|          | 0/10 [00:00<?, ?it/s]"
            ]
          },
          "metadata": {},
          "output_type": "display_data"
        },
        {
          "data": {
            "application/vnd.jupyter.widget-view+json": {
              "model_id": "4f49b0a31e3b48828ebb8387f75e3719",
              "version_major": 2,
              "version_minor": 0
            },
            "text/plain": [
              "Measuring metrics:   0%|          | 0/10 [00:00<?, ?it/s]"
            ]
          },
          "metadata": {},
          "output_type": "display_data"
        },
        {
          "data": {
            "application/vnd.jupyter.widget-view+json": {
              "model_id": "bf726821a17c45d3905770366d218659",
              "version_major": 2,
              "version_minor": 0
            },
            "text/plain": [
              "Measuring metrics:   0%|          | 0/10 [00:00<?, ?it/s]"
            ]
          },
          "metadata": {},
          "output_type": "display_data"
        },
        {
          "data": {
            "application/vnd.jupyter.widget-view+json": {
              "model_id": "6b84aacb87a7416ead97eb86141e2094",
              "version_major": 2,
              "version_minor": 0
            },
            "text/plain": [
              "Measuring metrics:   0%|          | 0/10 [00:00<?, ?it/s]"
            ]
          },
          "metadata": {},
          "output_type": "display_data"
        },
        {
          "data": {
            "application/vnd.jupyter.widget-view+json": {
              "model_id": "e4e32743189f4a898e2bf506faf862bc",
              "version_major": 2,
              "version_minor": 0
            },
            "text/plain": [
              "Mini-batches:   0%|          | 0/24744 [00:00<?, ?it/s]"
            ]
          },
          "metadata": {},
          "output_type": "display_data"
        },
        {
          "data": {
            "application/vnd.jupyter.widget-view+json": {
              "model_id": "0e0e0f91f43e497abcc3715f957954c7",
              "version_major": 2,
              "version_minor": 0
            },
            "text/plain": [
              "Measuring metrics:   0%|          | 0/10 [00:00<?, ?it/s]"
            ]
          },
          "metadata": {},
          "output_type": "display_data"
        },
        {
          "data": {
            "application/vnd.jupyter.widget-view+json": {
              "model_id": "878b06337dc149f0b2a1dd073cf74ee8",
              "version_major": 2,
              "version_minor": 0
            },
            "text/plain": [
              "Measuring metrics:   0%|          | 0/10 [00:00<?, ?it/s]"
            ]
          },
          "metadata": {},
          "output_type": "display_data"
        },
        {
          "data": {
            "application/vnd.jupyter.widget-view+json": {
              "model_id": "2846290f91db41b0a0c944293156a2a6",
              "version_major": 2,
              "version_minor": 0
            },
            "text/plain": [
              "Measuring metrics:   0%|          | 0/10 [00:00<?, ?it/s]"
            ]
          },
          "metadata": {},
          "output_type": "display_data"
        },
        {
          "data": {
            "application/vnd.jupyter.widget-view+json": {
              "model_id": "4f7a0fc9827f45e99f2b5d0bdbf07372",
              "version_major": 2,
              "version_minor": 0
            },
            "text/plain": [
              "Measuring metrics:   0%|          | 0/10 [00:00<?, ?it/s]"
            ]
          },
          "metadata": {},
          "output_type": "display_data"
        },
        {
          "data": {
            "application/vnd.jupyter.widget-view+json": {
              "model_id": "cd6bf0e9cabc4ed5ac2981237fd8376a",
              "version_major": 2,
              "version_minor": 0
            },
            "text/plain": [
              "Mini-batches:   0%|          | 0/24744 [00:00<?, ?it/s]"
            ]
          },
          "metadata": {},
          "output_type": "display_data"
        },
        {
          "data": {
            "application/vnd.jupyter.widget-view+json": {
              "model_id": "a9d29a688d49448b875f39883f65b79d",
              "version_major": 2,
              "version_minor": 0
            },
            "text/plain": [
              "Measuring metrics:   0%|          | 0/10 [00:00<?, ?it/s]"
            ]
          },
          "metadata": {},
          "output_type": "display_data"
        },
        {
          "data": {
            "application/vnd.jupyter.widget-view+json": {
              "model_id": "8024c722b1184af6afc1539f6558f9fc",
              "version_major": 2,
              "version_minor": 0
            },
            "text/plain": [
              "Measuring metrics:   0%|          | 0/10 [00:00<?, ?it/s]"
            ]
          },
          "metadata": {},
          "output_type": "display_data"
        },
        {
          "data": {
            "application/vnd.jupyter.widget-view+json": {
              "model_id": "169a5aee4fdc45a6aa15a91f9943aaad",
              "version_major": 2,
              "version_minor": 0
            },
            "text/plain": [
              "Measuring metrics:   0%|          | 0/10 [00:00<?, ?it/s]"
            ]
          },
          "metadata": {},
          "output_type": "display_data"
        },
        {
          "data": {
            "application/vnd.jupyter.widget-view+json": {
              "model_id": "fb2fac23892940a28e186423b28f1671",
              "version_major": 2,
              "version_minor": 0
            },
            "text/plain": [
              "Measuring metrics:   0%|          | 0/10 [00:00<?, ?it/s]"
            ]
          },
          "metadata": {},
          "output_type": "display_data"
        },
        {
          "name": "stdout",
          "output_type": "stream",
          "text": [
            "Next subset: Subset(MNIST, len=30596, labels=(0, 1, 2, 3, 4))\n"
          ]
        },
        {
          "data": {
            "application/vnd.jupyter.widget-view+json": {
              "model_id": "36bba2f3bc0c47e1b7a1a8dfb86a7c2d",
              "version_major": 2,
              "version_minor": 0
            },
            "text/plain": [
              "Mini-batches:   0%|          | 0/30576 [00:00<?, ?it/s]"
            ]
          },
          "metadata": {},
          "output_type": "display_data"
        },
        {
          "data": {
            "application/vnd.jupyter.widget-view+json": {
              "model_id": "5645ef754d184de59724393da6abfbc6",
              "version_major": 2,
              "version_minor": 0
            },
            "text/plain": [
              "Measuring metrics:   0%|          | 0/10 [00:00<?, ?it/s]"
            ]
          },
          "metadata": {},
          "output_type": "display_data"
        },
        {
          "data": {
            "application/vnd.jupyter.widget-view+json": {
              "model_id": "ef69f42df62a4560a61e8cf40cf5e978",
              "version_major": 2,
              "version_minor": 0
            },
            "text/plain": [
              "Measuring metrics:   0%|          | 0/10 [00:00<?, ?it/s]"
            ]
          },
          "metadata": {},
          "output_type": "display_data"
        },
        {
          "data": {
            "application/vnd.jupyter.widget-view+json": {
              "model_id": "f9c06b09e20d46f395725106dd3f4cb3",
              "version_major": 2,
              "version_minor": 0
            },
            "text/plain": [
              "Measuring metrics:   0%|          | 0/10 [00:00<?, ?it/s]"
            ]
          },
          "metadata": {},
          "output_type": "display_data"
        },
        {
          "data": {
            "application/vnd.jupyter.widget-view+json": {
              "model_id": "1537ba3e079f4c28a1535d1b3d127693",
              "version_major": 2,
              "version_minor": 0
            },
            "text/plain": [
              "Measuring metrics:   0%|          | 0/10 [00:00<?, ?it/s]"
            ]
          },
          "metadata": {},
          "output_type": "display_data"
        },
        {
          "data": {
            "application/vnd.jupyter.widget-view+json": {
              "model_id": "24e53c327ca54161b79dac5c9fed9419",
              "version_major": 2,
              "version_minor": 0
            },
            "text/plain": [
              "Measuring metrics:   0%|          | 0/10 [00:00<?, ?it/s]"
            ]
          },
          "metadata": {},
          "output_type": "display_data"
        },
        {
          "data": {
            "application/vnd.jupyter.widget-view+json": {
              "model_id": "703a448df5c2442e890cdb8e4ba59cce",
              "version_major": 2,
              "version_minor": 0
            },
            "text/plain": [
              "Mini-batches:   0%|          | 0/30576 [00:00<?, ?it/s]"
            ]
          },
          "metadata": {},
          "output_type": "display_data"
        },
        {
          "data": {
            "application/vnd.jupyter.widget-view+json": {
              "model_id": "064dd48f878f42d89816f623231f5e46",
              "version_major": 2,
              "version_minor": 0
            },
            "text/plain": [
              "Measuring metrics:   0%|          | 0/10 [00:00<?, ?it/s]"
            ]
          },
          "metadata": {},
          "output_type": "display_data"
        },
        {
          "data": {
            "application/vnd.jupyter.widget-view+json": {
              "model_id": "6296d9f6d8a34d48b27f567e0ff9aeb7",
              "version_major": 2,
              "version_minor": 0
            },
            "text/plain": [
              "Measuring metrics:   0%|          | 0/10 [00:00<?, ?it/s]"
            ]
          },
          "metadata": {},
          "output_type": "display_data"
        },
        {
          "data": {
            "application/vnd.jupyter.widget-view+json": {
              "model_id": "fc6172b9f4404a9f893379c0d98fbcce",
              "version_major": 2,
              "version_minor": 0
            },
            "text/plain": [
              "Measuring metrics:   0%|          | 0/10 [00:00<?, ?it/s]"
            ]
          },
          "metadata": {},
          "output_type": "display_data"
        },
        {
          "data": {
            "application/vnd.jupyter.widget-view+json": {
              "model_id": "ecc8c041e91048ef8d4754d83b306f26",
              "version_major": 2,
              "version_minor": 0
            },
            "text/plain": [
              "Measuring metrics:   0%|          | 0/10 [00:00<?, ?it/s]"
            ]
          },
          "metadata": {},
          "output_type": "display_data"
        },
        {
          "data": {
            "application/vnd.jupyter.widget-view+json": {
              "model_id": "e46842d5f91246b598b2630bb6b7b8ab",
              "version_major": 2,
              "version_minor": 0
            },
            "text/plain": [
              "Measuring metrics:   0%|          | 0/10 [00:00<?, ?it/s]"
            ]
          },
          "metadata": {},
          "output_type": "display_data"
        },
        {
          "data": {
            "application/vnd.jupyter.widget-view+json": {
              "model_id": "5ae5033ac60846e8a1db9412bb4b849e",
              "version_major": 2,
              "version_minor": 0
            },
            "text/plain": [
              "Mini-batches:   0%|          | 0/30576 [00:00<?, ?it/s]"
            ]
          },
          "metadata": {},
          "output_type": "display_data"
        },
        {
          "data": {
            "application/vnd.jupyter.widget-view+json": {
              "model_id": "3d377a59ac484bd28d42f19a55099bec",
              "version_major": 2,
              "version_minor": 0
            },
            "text/plain": [
              "Measuring metrics:   0%|          | 0/10 [00:00<?, ?it/s]"
            ]
          },
          "metadata": {},
          "output_type": "display_data"
        },
        {
          "data": {
            "application/vnd.jupyter.widget-view+json": {
              "model_id": "4a081e5248b94448bad58d8493530f81",
              "version_major": 2,
              "version_minor": 0
            },
            "text/plain": [
              "Measuring metrics:   0%|          | 0/10 [00:00<?, ?it/s]"
            ]
          },
          "metadata": {},
          "output_type": "display_data"
        },
        {
          "data": {
            "application/vnd.jupyter.widget-view+json": {
              "model_id": "606b8c7813d248b0a3ad4599277707b5",
              "version_major": 2,
              "version_minor": 0
            },
            "text/plain": [
              "Measuring metrics:   0%|          | 0/10 [00:00<?, ?it/s]"
            ]
          },
          "metadata": {},
          "output_type": "display_data"
        },
        {
          "data": {
            "application/vnd.jupyter.widget-view+json": {
              "model_id": "65bd7ebe3ca64fa384e3269ffa0de9e4",
              "version_major": 2,
              "version_minor": 0
            },
            "text/plain": [
              "Measuring metrics:   0%|          | 0/10 [00:00<?, ?it/s]"
            ]
          },
          "metadata": {},
          "output_type": "display_data"
        },
        {
          "data": {
            "application/vnd.jupyter.widget-view+json": {
              "model_id": "deda81ec8b43487d920e12023a825190",
              "version_major": 2,
              "version_minor": 0
            },
            "text/plain": [
              "Measuring metrics:   0%|          | 0/10 [00:00<?, ?it/s]"
            ]
          },
          "metadata": {},
          "output_type": "display_data"
        },
        {
          "data": {
            "application/vnd.jupyter.widget-view+json": {
              "model_id": "66d899d429e64a80afa3d75709420244",
              "version_major": 2,
              "version_minor": 0
            },
            "text/plain": [
              "Mini-batches:   0%|          | 0/30576 [00:00<?, ?it/s]"
            ]
          },
          "metadata": {},
          "output_type": "display_data"
        },
        {
          "data": {
            "application/vnd.jupyter.widget-view+json": {
              "model_id": "312986afd71b49bf97f0f1ea8a2df9ff",
              "version_major": 2,
              "version_minor": 0
            },
            "text/plain": [
              "Measuring metrics:   0%|          | 0/10 [00:00<?, ?it/s]"
            ]
          },
          "metadata": {},
          "output_type": "display_data"
        },
        {
          "data": {
            "application/vnd.jupyter.widget-view+json": {
              "model_id": "211a44d6a7b6422a9c622200293acd6c",
              "version_major": 2,
              "version_minor": 0
            },
            "text/plain": [
              "Measuring metrics:   0%|          | 0/10 [00:00<?, ?it/s]"
            ]
          },
          "metadata": {},
          "output_type": "display_data"
        },
        {
          "data": {
            "application/vnd.jupyter.widget-view+json": {
              "model_id": "d9f53085bcd84afe86721991ac0bd6f0",
              "version_major": 2,
              "version_minor": 0
            },
            "text/plain": [
              "Measuring metrics:   0%|          | 0/10 [00:00<?, ?it/s]"
            ]
          },
          "metadata": {},
          "output_type": "display_data"
        },
        {
          "data": {
            "application/vnd.jupyter.widget-view+json": {
              "model_id": "214bf63c7dc14bd394652ddceb6ec2d1",
              "version_major": 2,
              "version_minor": 0
            },
            "text/plain": [
              "Measuring metrics:   0%|          | 0/10 [00:00<?, ?it/s]"
            ]
          },
          "metadata": {},
          "output_type": "display_data"
        },
        {
          "data": {
            "application/vnd.jupyter.widget-view+json": {
              "model_id": "e012e694d65d4f169ce405cb32c5c7a0",
              "version_major": 2,
              "version_minor": 0
            },
            "text/plain": [
              "Measuring metrics:   0%|          | 0/10 [00:00<?, ?it/s]"
            ]
          },
          "metadata": {},
          "output_type": "display_data"
        },
        {
          "data": {
            "application/vnd.jupyter.widget-view+json": {
              "model_id": "af7d480650254551972f6986fdb678e4",
              "version_major": 2,
              "version_minor": 0
            },
            "text/plain": [
              "Mini-batches:   0%|          | 0/30576 [00:00<?, ?it/s]"
            ]
          },
          "metadata": {},
          "output_type": "display_data"
        },
        {
          "data": {
            "application/vnd.jupyter.widget-view+json": {
              "model_id": "f85aa22702424fa992a2ff2f07730159",
              "version_major": 2,
              "version_minor": 0
            },
            "text/plain": [
              "Measuring metrics:   0%|          | 0/10 [00:00<?, ?it/s]"
            ]
          },
          "metadata": {},
          "output_type": "display_data"
        },
        {
          "data": {
            "application/vnd.jupyter.widget-view+json": {
              "model_id": "2f714d35192441ebbe6f4b9f0b25bac0",
              "version_major": 2,
              "version_minor": 0
            },
            "text/plain": [
              "Measuring metrics:   0%|          | 0/10 [00:00<?, ?it/s]"
            ]
          },
          "metadata": {},
          "output_type": "display_data"
        },
        {
          "data": {
            "application/vnd.jupyter.widget-view+json": {
              "model_id": "9e34b77878434ef695a93088b3db70d4",
              "version_major": 2,
              "version_minor": 0
            },
            "text/plain": [
              "Measuring metrics:   0%|          | 0/10 [00:00<?, ?it/s]"
            ]
          },
          "metadata": {},
          "output_type": "display_data"
        },
        {
          "data": {
            "application/vnd.jupyter.widget-view+json": {
              "model_id": "298e587aea5d4e769e8f5b980d409cca",
              "version_major": 2,
              "version_minor": 0
            },
            "text/plain": [
              "Measuring metrics:   0%|          | 0/10 [00:00<?, ?it/s]"
            ]
          },
          "metadata": {},
          "output_type": "display_data"
        },
        {
          "data": {
            "application/vnd.jupyter.widget-view+json": {
              "model_id": "79e5330f39734395905e4d9d69b28a25",
              "version_major": 2,
              "version_minor": 0
            },
            "text/plain": [
              "Measuring metrics:   0%|          | 0/10 [00:00<?, ?it/s]"
            ]
          },
          "metadata": {},
          "output_type": "display_data"
        },
        {
          "data": {
            "application/vnd.jupyter.widget-view+json": {
              "model_id": "e6ad5b40fc5248eca82e669a7825fc87",
              "version_major": 2,
              "version_minor": 0
            },
            "text/plain": [
              "Mini-batches:   0%|          | 0/30576 [00:00<?, ?it/s]"
            ]
          },
          "metadata": {},
          "output_type": "display_data"
        },
        {
          "data": {
            "application/vnd.jupyter.widget-view+json": {
              "model_id": "dbd801546d29400c8f60e31042a6398e",
              "version_major": 2,
              "version_minor": 0
            },
            "text/plain": [
              "Measuring metrics:   0%|          | 0/10 [00:00<?, ?it/s]"
            ]
          },
          "metadata": {},
          "output_type": "display_data"
        },
        {
          "data": {
            "application/vnd.jupyter.widget-view+json": {
              "model_id": "bf1b479e081c468587a6d862121cb228",
              "version_major": 2,
              "version_minor": 0
            },
            "text/plain": [
              "Measuring metrics:   0%|          | 0/10 [00:00<?, ?it/s]"
            ]
          },
          "metadata": {},
          "output_type": "display_data"
        },
        {
          "data": {
            "application/vnd.jupyter.widget-view+json": {
              "model_id": "1874b53f93ce49158b90fee3fdd01776",
              "version_major": 2,
              "version_minor": 0
            },
            "text/plain": [
              "Measuring metrics:   0%|          | 0/10 [00:00<?, ?it/s]"
            ]
          },
          "metadata": {},
          "output_type": "display_data"
        },
        {
          "data": {
            "application/vnd.jupyter.widget-view+json": {
              "model_id": "c958fb23325243b79dcce68603a52c76",
              "version_major": 2,
              "version_minor": 0
            },
            "text/plain": [
              "Measuring metrics:   0%|          | 0/10 [00:00<?, ?it/s]"
            ]
          },
          "metadata": {},
          "output_type": "display_data"
        },
        {
          "data": {
            "application/vnd.jupyter.widget-view+json": {
              "model_id": "5953b24bd2c440518b47fba49540812b",
              "version_major": 2,
              "version_minor": 0
            },
            "text/plain": [
              "Measuring metrics:   0%|          | 0/10 [00:00<?, ?it/s]"
            ]
          },
          "metadata": {},
          "output_type": "display_data"
        },
        {
          "data": {
            "application/vnd.jupyter.widget-view+json": {
              "model_id": "91c3ba2876f4406c8cdd1ea65151e4d2",
              "version_major": 2,
              "version_minor": 0
            },
            "text/plain": [
              "Mini-batches:   0%|          | 0/30576 [00:00<?, ?it/s]"
            ]
          },
          "metadata": {},
          "output_type": "display_data"
        },
        {
          "data": {
            "application/vnd.jupyter.widget-view+json": {
              "model_id": "a83485f315944858a00c4e6f6c80101c",
              "version_major": 2,
              "version_minor": 0
            },
            "text/plain": [
              "Measuring metrics:   0%|          | 0/10 [00:00<?, ?it/s]"
            ]
          },
          "metadata": {},
          "output_type": "display_data"
        },
        {
          "data": {
            "application/vnd.jupyter.widget-view+json": {
              "model_id": "04d430c1a2374d37a22d35e853ded872",
              "version_major": 2,
              "version_minor": 0
            },
            "text/plain": [
              "Measuring metrics:   0%|          | 0/10 [00:00<?, ?it/s]"
            ]
          },
          "metadata": {},
          "output_type": "display_data"
        },
        {
          "data": {
            "application/vnd.jupyter.widget-view+json": {
              "model_id": "26448ffccc4f4f7a926a440072b8e859",
              "version_major": 2,
              "version_minor": 0
            },
            "text/plain": [
              "Measuring metrics:   0%|          | 0/10 [00:00<?, ?it/s]"
            ]
          },
          "metadata": {},
          "output_type": "display_data"
        },
        {
          "data": {
            "application/vnd.jupyter.widget-view+json": {
              "model_id": "0e43a256251144fc8121cd07066eb286",
              "version_major": 2,
              "version_minor": 0
            },
            "text/plain": [
              "Measuring metrics:   0%|          | 0/10 [00:00<?, ?it/s]"
            ]
          },
          "metadata": {},
          "output_type": "display_data"
        },
        {
          "data": {
            "application/vnd.jupyter.widget-view+json": {
              "model_id": "40960e50d27f4cd58d0345b9c9155cff",
              "version_major": 2,
              "version_minor": 0
            },
            "text/plain": [
              "Measuring metrics:   0%|          | 0/10 [00:00<?, ?it/s]"
            ]
          },
          "metadata": {},
          "output_type": "display_data"
        },
        {
          "data": {
            "application/vnd.jupyter.widget-view+json": {
              "model_id": "f662069a7fdb414b9c12297ea16cc6ec",
              "version_major": 2,
              "version_minor": 0
            },
            "text/plain": [
              "Mini-batches:   0%|          | 0/30576 [00:00<?, ?it/s]"
            ]
          },
          "metadata": {},
          "output_type": "display_data"
        },
        {
          "data": {
            "application/vnd.jupyter.widget-view+json": {
              "model_id": "cbd83fc060d94408acb05858c72162c7",
              "version_major": 2,
              "version_minor": 0
            },
            "text/plain": [
              "Measuring metrics:   0%|          | 0/10 [00:00<?, ?it/s]"
            ]
          },
          "metadata": {},
          "output_type": "display_data"
        },
        {
          "data": {
            "application/vnd.jupyter.widget-view+json": {
              "model_id": "5ec6e98670294d64a1c3a9dbe786b4f0",
              "version_major": 2,
              "version_minor": 0
            },
            "text/plain": [
              "Measuring metrics:   0%|          | 0/10 [00:00<?, ?it/s]"
            ]
          },
          "metadata": {},
          "output_type": "display_data"
        },
        {
          "data": {
            "application/vnd.jupyter.widget-view+json": {
              "model_id": "beac4ab2b49542ec9096369c2338219a",
              "version_major": 2,
              "version_minor": 0
            },
            "text/plain": [
              "Measuring metrics:   0%|          | 0/10 [00:00<?, ?it/s]"
            ]
          },
          "metadata": {},
          "output_type": "display_data"
        },
        {
          "data": {
            "application/vnd.jupyter.widget-view+json": {
              "model_id": "6e5189b3a2954c81b48d4a503aab3fdc",
              "version_major": 2,
              "version_minor": 0
            },
            "text/plain": [
              "Measuring metrics:   0%|          | 0/10 [00:00<?, ?it/s]"
            ]
          },
          "metadata": {},
          "output_type": "display_data"
        },
        {
          "data": {
            "application/vnd.jupyter.widget-view+json": {
              "model_id": "7a9a0b0779ac490987a30f3611620905",
              "version_major": 2,
              "version_minor": 0
            },
            "text/plain": [
              "Measuring metrics:   0%|          | 0/10 [00:00<?, ?it/s]"
            ]
          },
          "metadata": {},
          "output_type": "display_data"
        },
        {
          "data": {
            "application/vnd.jupyter.widget-view+json": {
              "model_id": "16fa794d76ee467ea3ccc710c9c5ed9e",
              "version_major": 2,
              "version_minor": 0
            },
            "text/plain": [
              "Mini-batches:   0%|          | 0/30576 [00:00<?, ?it/s]"
            ]
          },
          "metadata": {},
          "output_type": "display_data"
        },
        {
          "data": {
            "application/vnd.jupyter.widget-view+json": {
              "model_id": "4cc9979ca43148c689aadf13602afc18",
              "version_major": 2,
              "version_minor": 0
            },
            "text/plain": [
              "Measuring metrics:   0%|          | 0/10 [00:00<?, ?it/s]"
            ]
          },
          "metadata": {},
          "output_type": "display_data"
        },
        {
          "data": {
            "application/vnd.jupyter.widget-view+json": {
              "model_id": "4cd125b487ed4774a889b3ae55d6c901",
              "version_major": 2,
              "version_minor": 0
            },
            "text/plain": [
              "Measuring metrics:   0%|          | 0/10 [00:00<?, ?it/s]"
            ]
          },
          "metadata": {},
          "output_type": "display_data"
        },
        {
          "data": {
            "application/vnd.jupyter.widget-view+json": {
              "model_id": "f934a70e87d54c37bee340f12edcd906",
              "version_major": 2,
              "version_minor": 0
            },
            "text/plain": [
              "Measuring metrics:   0%|          | 0/10 [00:00<?, ?it/s]"
            ]
          },
          "metadata": {},
          "output_type": "display_data"
        },
        {
          "data": {
            "application/vnd.jupyter.widget-view+json": {
              "model_id": "c421a2493af84150874ff69ec44e944a",
              "version_major": 2,
              "version_minor": 0
            },
            "text/plain": [
              "Measuring metrics:   0%|          | 0/10 [00:00<?, ?it/s]"
            ]
          },
          "metadata": {},
          "output_type": "display_data"
        },
        {
          "data": {
            "application/vnd.jupyter.widget-view+json": {
              "model_id": "27939077664c4f6a8def515d5515c90f",
              "version_major": 2,
              "version_minor": 0
            },
            "text/plain": [
              "Measuring metrics:   0%|          | 0/10 [00:00<?, ?it/s]"
            ]
          },
          "metadata": {},
          "output_type": "display_data"
        },
        {
          "data": {
            "application/vnd.jupyter.widget-view+json": {
              "model_id": "63061b651abf46fd9b5d3910eda49cb8",
              "version_major": 2,
              "version_minor": 0
            },
            "text/plain": [
              "Mini-batches:   0%|          | 0/30576 [00:00<?, ?it/s]"
            ]
          },
          "metadata": {},
          "output_type": "display_data"
        },
        {
          "data": {
            "application/vnd.jupyter.widget-view+json": {
              "model_id": "3a0e0c1680944037aeff466938664528",
              "version_major": 2,
              "version_minor": 0
            },
            "text/plain": [
              "Measuring metrics:   0%|          | 0/10 [00:00<?, ?it/s]"
            ]
          },
          "metadata": {},
          "output_type": "display_data"
        },
        {
          "data": {
            "application/vnd.jupyter.widget-view+json": {
              "model_id": "637eee33e20d473ebeb7a43fb7d03f7d",
              "version_major": 2,
              "version_minor": 0
            },
            "text/plain": [
              "Measuring metrics:   0%|          | 0/10 [00:00<?, ?it/s]"
            ]
          },
          "metadata": {},
          "output_type": "display_data"
        },
        {
          "data": {
            "application/vnd.jupyter.widget-view+json": {
              "model_id": "5f9c9455e4394b91b7b59c54b3b214fb",
              "version_major": 2,
              "version_minor": 0
            },
            "text/plain": [
              "Measuring metrics:   0%|          | 0/10 [00:00<?, ?it/s]"
            ]
          },
          "metadata": {},
          "output_type": "display_data"
        },
        {
          "data": {
            "application/vnd.jupyter.widget-view+json": {
              "model_id": "06161cae4a4044d6bed2076d58cf1990",
              "version_major": 2,
              "version_minor": 0
            },
            "text/plain": [
              "Measuring metrics:   0%|          | 0/10 [00:00<?, ?it/s]"
            ]
          },
          "metadata": {},
          "output_type": "display_data"
        },
        {
          "data": {
            "application/vnd.jupyter.widget-view+json": {
              "model_id": "91caf49fee5c4a40a3c0f3c3c44a4216",
              "version_major": 2,
              "version_minor": 0
            },
            "text/plain": [
              "Measuring metrics:   0%|          | 0/10 [00:00<?, ?it/s]"
            ]
          },
          "metadata": {},
          "output_type": "display_data"
        },
        {
          "name": "stdout",
          "output_type": "stream",
          "text": [
            "Next subset: Subset(MNIST, len=36017, labels=(0, 1, 2, 3, 4, 5))\n"
          ]
        },
        {
          "data": {
            "application/vnd.jupyter.widget-view+json": {
              "model_id": "56346d4eddc34465a614ef641493653c",
              "version_major": 2,
              "version_minor": 0
            },
            "text/plain": [
              "Mini-batches:   0%|          | 0/36000 [00:00<?, ?it/s]"
            ]
          },
          "metadata": {},
          "output_type": "display_data"
        },
        {
          "data": {
            "application/vnd.jupyter.widget-view+json": {
              "model_id": "0c2240b7995b416e902403c5663ca0d2",
              "version_major": 2,
              "version_minor": 0
            },
            "text/plain": [
              "Measuring metrics:   0%|          | 0/10 [00:00<?, ?it/s]"
            ]
          },
          "metadata": {},
          "output_type": "display_data"
        },
        {
          "data": {
            "application/vnd.jupyter.widget-view+json": {
              "model_id": "a7e3cac3c7f347a3beca198304a857f6",
              "version_major": 2,
              "version_minor": 0
            },
            "text/plain": [
              "Measuring metrics:   0%|          | 0/10 [00:00<?, ?it/s]"
            ]
          },
          "metadata": {},
          "output_type": "display_data"
        },
        {
          "data": {
            "application/vnd.jupyter.widget-view+json": {
              "model_id": "70931bfd8fc9435bae3975101cecac2a",
              "version_major": 2,
              "version_minor": 0
            },
            "text/plain": [
              "Measuring metrics:   0%|          | 0/10 [00:00<?, ?it/s]"
            ]
          },
          "metadata": {},
          "output_type": "display_data"
        },
        {
          "data": {
            "application/vnd.jupyter.widget-view+json": {
              "model_id": "4c9f22a088b54e96b40d652bd14c6975",
              "version_major": 2,
              "version_minor": 0
            },
            "text/plain": [
              "Measuring metrics:   0%|          | 0/10 [00:00<?, ?it/s]"
            ]
          },
          "metadata": {},
          "output_type": "display_data"
        },
        {
          "data": {
            "application/vnd.jupyter.widget-view+json": {
              "model_id": "0e36104d460843779055965065fca4e2",
              "version_major": 2,
              "version_minor": 0
            },
            "text/plain": [
              "Measuring metrics:   0%|          | 0/10 [00:00<?, ?it/s]"
            ]
          },
          "metadata": {},
          "output_type": "display_data"
        },
        {
          "data": {
            "application/vnd.jupyter.widget-view+json": {
              "model_id": "5e8322256d634e158a1b05ff7b9dd105",
              "version_major": 2,
              "version_minor": 0
            },
            "text/plain": [
              "Measuring metrics:   0%|          | 0/10 [00:00<?, ?it/s]"
            ]
          },
          "metadata": {},
          "output_type": "display_data"
        },
        {
          "data": {
            "application/vnd.jupyter.widget-view+json": {
              "model_id": "e9b5b8209d4946b2b0448913799544a2",
              "version_major": 2,
              "version_minor": 0
            },
            "text/plain": [
              "Mini-batches:   0%|          | 0/36000 [00:00<?, ?it/s]"
            ]
          },
          "metadata": {},
          "output_type": "display_data"
        },
        {
          "data": {
            "application/vnd.jupyter.widget-view+json": {
              "model_id": "bae34b78375947d3a2c2a8078f36f463",
              "version_major": 2,
              "version_minor": 0
            },
            "text/plain": [
              "Measuring metrics:   0%|          | 0/10 [00:00<?, ?it/s]"
            ]
          },
          "metadata": {},
          "output_type": "display_data"
        },
        {
          "data": {
            "application/vnd.jupyter.widget-view+json": {
              "model_id": "90ccbff15d4844ad8a975070d022c482",
              "version_major": 2,
              "version_minor": 0
            },
            "text/plain": [
              "Measuring metrics:   0%|          | 0/10 [00:00<?, ?it/s]"
            ]
          },
          "metadata": {},
          "output_type": "display_data"
        },
        {
          "data": {
            "application/vnd.jupyter.widget-view+json": {
              "model_id": "df08b7e3fcff410ba78ee234d31a15fa",
              "version_major": 2,
              "version_minor": 0
            },
            "text/plain": [
              "Measuring metrics:   0%|          | 0/10 [00:00<?, ?it/s]"
            ]
          },
          "metadata": {},
          "output_type": "display_data"
        },
        {
          "data": {
            "application/vnd.jupyter.widget-view+json": {
              "model_id": "97393edbce6e4f4e9def878980f6d184",
              "version_major": 2,
              "version_minor": 0
            },
            "text/plain": [
              "Measuring metrics:   0%|          | 0/10 [00:00<?, ?it/s]"
            ]
          },
          "metadata": {},
          "output_type": "display_data"
        },
        {
          "data": {
            "application/vnd.jupyter.widget-view+json": {
              "model_id": "29be4b5647fa433e868daa511218c967",
              "version_major": 2,
              "version_minor": 0
            },
            "text/plain": [
              "Measuring metrics:   0%|          | 0/10 [00:00<?, ?it/s]"
            ]
          },
          "metadata": {},
          "output_type": "display_data"
        },
        {
          "data": {
            "application/vnd.jupyter.widget-view+json": {
              "model_id": "c5bf9b52bdc44f7d9c48209ad1569d1b",
              "version_major": 2,
              "version_minor": 0
            },
            "text/plain": [
              "Measuring metrics:   0%|          | 0/10 [00:00<?, ?it/s]"
            ]
          },
          "metadata": {},
          "output_type": "display_data"
        },
        {
          "data": {
            "application/vnd.jupyter.widget-view+json": {
              "model_id": "4f5880df98ae468fb23cc855c667dde2",
              "version_major": 2,
              "version_minor": 0
            },
            "text/plain": [
              "Mini-batches:   0%|          | 0/36000 [00:00<?, ?it/s]"
            ]
          },
          "metadata": {},
          "output_type": "display_data"
        },
        {
          "data": {
            "application/vnd.jupyter.widget-view+json": {
              "model_id": "9a6eb3144a2f472e8553be69418691c7",
              "version_major": 2,
              "version_minor": 0
            },
            "text/plain": [
              "Measuring metrics:   0%|          | 0/10 [00:00<?, ?it/s]"
            ]
          },
          "metadata": {},
          "output_type": "display_data"
        },
        {
          "data": {
            "application/vnd.jupyter.widget-view+json": {
              "model_id": "c08ef3d49e9d47ab8b27e047f33b28a4",
              "version_major": 2,
              "version_minor": 0
            },
            "text/plain": [
              "Measuring metrics:   0%|          | 0/10 [00:00<?, ?it/s]"
            ]
          },
          "metadata": {},
          "output_type": "display_data"
        },
        {
          "data": {
            "application/vnd.jupyter.widget-view+json": {
              "model_id": "6fc7539a509945dbbd7cbf87243f571e",
              "version_major": 2,
              "version_minor": 0
            },
            "text/plain": [
              "Measuring metrics:   0%|          | 0/10 [00:00<?, ?it/s]"
            ]
          },
          "metadata": {},
          "output_type": "display_data"
        },
        {
          "data": {
            "application/vnd.jupyter.widget-view+json": {
              "model_id": "4f5c47b6a5b849b9acd6466a982bdee4",
              "version_major": 2,
              "version_minor": 0
            },
            "text/plain": [
              "Measuring metrics:   0%|          | 0/10 [00:00<?, ?it/s]"
            ]
          },
          "metadata": {},
          "output_type": "display_data"
        },
        {
          "data": {
            "application/vnd.jupyter.widget-view+json": {
              "model_id": "4d02706336e84b0d8af8a4f1378a7ec8",
              "version_major": 2,
              "version_minor": 0
            },
            "text/plain": [
              "Measuring metrics:   0%|          | 0/10 [00:00<?, ?it/s]"
            ]
          },
          "metadata": {},
          "output_type": "display_data"
        },
        {
          "data": {
            "application/vnd.jupyter.widget-view+json": {
              "model_id": "0b331f6bb0e440f4867831e6e2d76a20",
              "version_major": 2,
              "version_minor": 0
            },
            "text/plain": [
              "Measuring metrics:   0%|          | 0/10 [00:00<?, ?it/s]"
            ]
          },
          "metadata": {},
          "output_type": "display_data"
        },
        {
          "data": {
            "application/vnd.jupyter.widget-view+json": {
              "model_id": "10b39f085ed846c2a3b0fbc6dd75d9e7",
              "version_major": 2,
              "version_minor": 0
            },
            "text/plain": [
              "Mini-batches:   0%|          | 0/36000 [00:00<?, ?it/s]"
            ]
          },
          "metadata": {},
          "output_type": "display_data"
        },
        {
          "data": {
            "application/vnd.jupyter.widget-view+json": {
              "model_id": "34f86d5ea5b64320ac823ebb75162983",
              "version_major": 2,
              "version_minor": 0
            },
            "text/plain": [
              "Measuring metrics:   0%|          | 0/10 [00:00<?, ?it/s]"
            ]
          },
          "metadata": {},
          "output_type": "display_data"
        },
        {
          "data": {
            "application/vnd.jupyter.widget-view+json": {
              "model_id": "fdf715e29d0240218b448c1589b23a4d",
              "version_major": 2,
              "version_minor": 0
            },
            "text/plain": [
              "Measuring metrics:   0%|          | 0/10 [00:00<?, ?it/s]"
            ]
          },
          "metadata": {},
          "output_type": "display_data"
        },
        {
          "data": {
            "application/vnd.jupyter.widget-view+json": {
              "model_id": "57c4093079114ac49209cd4d766d7c3c",
              "version_major": 2,
              "version_minor": 0
            },
            "text/plain": [
              "Measuring metrics:   0%|          | 0/10 [00:00<?, ?it/s]"
            ]
          },
          "metadata": {},
          "output_type": "display_data"
        },
        {
          "data": {
            "application/vnd.jupyter.widget-view+json": {
              "model_id": "8b27895590cf47c28ff204aa1be43804",
              "version_major": 2,
              "version_minor": 0
            },
            "text/plain": [
              "Measuring metrics:   0%|          | 0/10 [00:00<?, ?it/s]"
            ]
          },
          "metadata": {},
          "output_type": "display_data"
        },
        {
          "data": {
            "application/vnd.jupyter.widget-view+json": {
              "model_id": "b6bbb7d6a06b4e2e85900069420323a0",
              "version_major": 2,
              "version_minor": 0
            },
            "text/plain": [
              "Measuring metrics:   0%|          | 0/10 [00:00<?, ?it/s]"
            ]
          },
          "metadata": {},
          "output_type": "display_data"
        },
        {
          "data": {
            "application/vnd.jupyter.widget-view+json": {
              "model_id": "9f3f0c0c536248e390a1feae0ee9c8ab",
              "version_major": 2,
              "version_minor": 0
            },
            "text/plain": [
              "Measuring metrics:   0%|          | 0/10 [00:00<?, ?it/s]"
            ]
          },
          "metadata": {},
          "output_type": "display_data"
        },
        {
          "data": {
            "application/vnd.jupyter.widget-view+json": {
              "model_id": "6832e544e60b4cb9ac02829d8b191326",
              "version_major": 2,
              "version_minor": 0
            },
            "text/plain": [
              "Mini-batches:   0%|          | 0/36000 [00:00<?, ?it/s]"
            ]
          },
          "metadata": {},
          "output_type": "display_data"
        },
        {
          "data": {
            "application/vnd.jupyter.widget-view+json": {
              "model_id": "3b50592ce1624bcaa25c9f1f6358d5a2",
              "version_major": 2,
              "version_minor": 0
            },
            "text/plain": [
              "Measuring metrics:   0%|          | 0/10 [00:00<?, ?it/s]"
            ]
          },
          "metadata": {},
          "output_type": "display_data"
        },
        {
          "data": {
            "application/vnd.jupyter.widget-view+json": {
              "model_id": "a03e94ddef04458a9ecfb396368aed7c",
              "version_major": 2,
              "version_minor": 0
            },
            "text/plain": [
              "Measuring metrics:   0%|          | 0/10 [00:00<?, ?it/s]"
            ]
          },
          "metadata": {},
          "output_type": "display_data"
        },
        {
          "data": {
            "application/vnd.jupyter.widget-view+json": {
              "model_id": "db85cb5985d442d8984dbad89b1f7512",
              "version_major": 2,
              "version_minor": 0
            },
            "text/plain": [
              "Measuring metrics:   0%|          | 0/10 [00:00<?, ?it/s]"
            ]
          },
          "metadata": {},
          "output_type": "display_data"
        },
        {
          "data": {
            "application/vnd.jupyter.widget-view+json": {
              "model_id": "297f2c36e1714236abaac0e997b0c2d0",
              "version_major": 2,
              "version_minor": 0
            },
            "text/plain": [
              "Measuring metrics:   0%|          | 0/10 [00:00<?, ?it/s]"
            ]
          },
          "metadata": {},
          "output_type": "display_data"
        },
        {
          "data": {
            "application/vnd.jupyter.widget-view+json": {
              "model_id": "3472971f705847689ecaf781e209a2a9",
              "version_major": 2,
              "version_minor": 0
            },
            "text/plain": [
              "Measuring metrics:   0%|          | 0/10 [00:00<?, ?it/s]"
            ]
          },
          "metadata": {},
          "output_type": "display_data"
        },
        {
          "data": {
            "application/vnd.jupyter.widget-view+json": {
              "model_id": "c5a620bbae484e54ab6bee5c1f807f17",
              "version_major": 2,
              "version_minor": 0
            },
            "text/plain": [
              "Measuring metrics:   0%|          | 0/10 [00:00<?, ?it/s]"
            ]
          },
          "metadata": {},
          "output_type": "display_data"
        },
        {
          "data": {
            "application/vnd.jupyter.widget-view+json": {
              "model_id": "5ed786935484411e8189b27ffddbcc3b",
              "version_major": 2,
              "version_minor": 0
            },
            "text/plain": [
              "Mini-batches:   0%|          | 0/36000 [00:00<?, ?it/s]"
            ]
          },
          "metadata": {},
          "output_type": "display_data"
        },
        {
          "data": {
            "application/vnd.jupyter.widget-view+json": {
              "model_id": "dae4c7bd3a7042cb98df8c7f4aa7d7bc",
              "version_major": 2,
              "version_minor": 0
            },
            "text/plain": [
              "Measuring metrics:   0%|          | 0/10 [00:00<?, ?it/s]"
            ]
          },
          "metadata": {},
          "output_type": "display_data"
        },
        {
          "data": {
            "application/vnd.jupyter.widget-view+json": {
              "model_id": "951403e469c649d8bcc576980b9df6c4",
              "version_major": 2,
              "version_minor": 0
            },
            "text/plain": [
              "Measuring metrics:   0%|          | 0/10 [00:00<?, ?it/s]"
            ]
          },
          "metadata": {},
          "output_type": "display_data"
        },
        {
          "data": {
            "application/vnd.jupyter.widget-view+json": {
              "model_id": "bef08dccdc2e4ed4a8993633b2195e5c",
              "version_major": 2,
              "version_minor": 0
            },
            "text/plain": [
              "Measuring metrics:   0%|          | 0/10 [00:00<?, ?it/s]"
            ]
          },
          "metadata": {},
          "output_type": "display_data"
        },
        {
          "data": {
            "application/vnd.jupyter.widget-view+json": {
              "model_id": "45c411767ae34697a199f433d5c051a1",
              "version_major": 2,
              "version_minor": 0
            },
            "text/plain": [
              "Measuring metrics:   0%|          | 0/10 [00:00<?, ?it/s]"
            ]
          },
          "metadata": {},
          "output_type": "display_data"
        },
        {
          "data": {
            "application/vnd.jupyter.widget-view+json": {
              "model_id": "194d1830f4c4428ea7fd0d7bdf9f9348",
              "version_major": 2,
              "version_minor": 0
            },
            "text/plain": [
              "Measuring metrics:   0%|          | 0/10 [00:00<?, ?it/s]"
            ]
          },
          "metadata": {},
          "output_type": "display_data"
        },
        {
          "data": {
            "application/vnd.jupyter.widget-view+json": {
              "model_id": "3f4f6245767a494fb14a9f0b1635ec2a",
              "version_major": 2,
              "version_minor": 0
            },
            "text/plain": [
              "Mini-batches:   0%|          | 0/36000 [00:00<?, ?it/s]"
            ]
          },
          "metadata": {},
          "output_type": "display_data"
        },
        {
          "data": {
            "application/vnd.jupyter.widget-view+json": {
              "model_id": "8054f1d92c09431c84cae09326efc312",
              "version_major": 2,
              "version_minor": 0
            },
            "text/plain": [
              "Measuring metrics:   0%|          | 0/10 [00:00<?, ?it/s]"
            ]
          },
          "metadata": {},
          "output_type": "display_data"
        },
        {
          "data": {
            "application/vnd.jupyter.widget-view+json": {
              "model_id": "4f0abc36df2c42f589fd9eb590de8fd5",
              "version_major": 2,
              "version_minor": 0
            },
            "text/plain": [
              "Measuring metrics:   0%|          | 0/10 [00:00<?, ?it/s]"
            ]
          },
          "metadata": {},
          "output_type": "display_data"
        },
        {
          "data": {
            "application/vnd.jupyter.widget-view+json": {
              "model_id": "5b6383f22ffb4a2eaa01a3165c8b1080",
              "version_major": 2,
              "version_minor": 0
            },
            "text/plain": [
              "Measuring metrics:   0%|          | 0/10 [00:00<?, ?it/s]"
            ]
          },
          "metadata": {},
          "output_type": "display_data"
        },
        {
          "data": {
            "application/vnd.jupyter.widget-view+json": {
              "model_id": "506636cebe194536a2d08db2a9a7b4ad",
              "version_major": 2,
              "version_minor": 0
            },
            "text/plain": [
              "Measuring metrics:   0%|          | 0/10 [00:00<?, ?it/s]"
            ]
          },
          "metadata": {},
          "output_type": "display_data"
        },
        {
          "data": {
            "application/vnd.jupyter.widget-view+json": {
              "model_id": "c88399c6cc314a09ad77a4b2c78734b6",
              "version_major": 2,
              "version_minor": 0
            },
            "text/plain": [
              "Measuring metrics:   0%|          | 0/10 [00:00<?, ?it/s]"
            ]
          },
          "metadata": {},
          "output_type": "display_data"
        },
        {
          "data": {
            "application/vnd.jupyter.widget-view+json": {
              "model_id": "afeda6826ade487882bb161fc86ab86f",
              "version_major": 2,
              "version_minor": 0
            },
            "text/plain": [
              "Measuring metrics:   0%|          | 0/10 [00:00<?, ?it/s]"
            ]
          },
          "metadata": {},
          "output_type": "display_data"
        },
        {
          "data": {
            "application/vnd.jupyter.widget-view+json": {
              "model_id": "7943f3cebe124ba79652e60e5013ec8b",
              "version_major": 2,
              "version_minor": 0
            },
            "text/plain": [
              "Mini-batches:   0%|          | 0/36000 [00:00<?, ?it/s]"
            ]
          },
          "metadata": {},
          "output_type": "display_data"
        },
        {
          "data": {
            "application/vnd.jupyter.widget-view+json": {
              "model_id": "6ebb72e1c75f41419e5ae7b871c3edd2",
              "version_major": 2,
              "version_minor": 0
            },
            "text/plain": [
              "Measuring metrics:   0%|          | 0/10 [00:00<?, ?it/s]"
            ]
          },
          "metadata": {},
          "output_type": "display_data"
        },
        {
          "data": {
            "application/vnd.jupyter.widget-view+json": {
              "model_id": "81617ba8764645828198cc33520c2319",
              "version_major": 2,
              "version_minor": 0
            },
            "text/plain": [
              "Measuring metrics:   0%|          | 0/10 [00:00<?, ?it/s]"
            ]
          },
          "metadata": {},
          "output_type": "display_data"
        },
        {
          "data": {
            "application/vnd.jupyter.widget-view+json": {
              "model_id": "8ea9f7349f25445f9213611923b2eabb",
              "version_major": 2,
              "version_minor": 0
            },
            "text/plain": [
              "Measuring metrics:   0%|          | 0/10 [00:00<?, ?it/s]"
            ]
          },
          "metadata": {},
          "output_type": "display_data"
        },
        {
          "data": {
            "application/vnd.jupyter.widget-view+json": {
              "model_id": "5a6901c5cf464da8bfe1e86e84797a89",
              "version_major": 2,
              "version_minor": 0
            },
            "text/plain": [
              "Measuring metrics:   0%|          | 0/10 [00:00<?, ?it/s]"
            ]
          },
          "metadata": {},
          "output_type": "display_data"
        },
        {
          "data": {
            "application/vnd.jupyter.widget-view+json": {
              "model_id": "fab4b51437ce40e08cce9fe52cd99b29",
              "version_major": 2,
              "version_minor": 0
            },
            "text/plain": [
              "Measuring metrics:   0%|          | 0/10 [00:00<?, ?it/s]"
            ]
          },
          "metadata": {},
          "output_type": "display_data"
        },
        {
          "data": {
            "application/vnd.jupyter.widget-view+json": {
              "model_id": "ff3fd564162b43a28b4caddbab147656",
              "version_major": 2,
              "version_minor": 0
            },
            "text/plain": [
              "Measuring metrics:   0%|          | 0/10 [00:00<?, ?it/s]"
            ]
          },
          "metadata": {},
          "output_type": "display_data"
        },
        {
          "data": {
            "application/vnd.jupyter.widget-view+json": {
              "model_id": "87be598c40e14c71ab6020627bb56ede",
              "version_major": 2,
              "version_minor": 0
            },
            "text/plain": [
              "Mini-batches:   0%|          | 0/36000 [00:00<?, ?it/s]"
            ]
          },
          "metadata": {},
          "output_type": "display_data"
        },
        {
          "data": {
            "application/vnd.jupyter.widget-view+json": {
              "model_id": "089ff855663c4abb935a26862cae477d",
              "version_major": 2,
              "version_minor": 0
            },
            "text/plain": [
              "Measuring metrics:   0%|          | 0/10 [00:00<?, ?it/s]"
            ]
          },
          "metadata": {},
          "output_type": "display_data"
        },
        {
          "data": {
            "application/vnd.jupyter.widget-view+json": {
              "model_id": "92c86dce06f04bbdbbf3780c13085ba3",
              "version_major": 2,
              "version_minor": 0
            },
            "text/plain": [
              "Measuring metrics:   0%|          | 0/10 [00:00<?, ?it/s]"
            ]
          },
          "metadata": {},
          "output_type": "display_data"
        },
        {
          "data": {
            "application/vnd.jupyter.widget-view+json": {
              "model_id": "b1aea9fabcd94a0483012e053697eccd",
              "version_major": 2,
              "version_minor": 0
            },
            "text/plain": [
              "Measuring metrics:   0%|          | 0/10 [00:00<?, ?it/s]"
            ]
          },
          "metadata": {},
          "output_type": "display_data"
        },
        {
          "data": {
            "application/vnd.jupyter.widget-view+json": {
              "model_id": "110a6fc16b3f46898bf281b13a645079",
              "version_major": 2,
              "version_minor": 0
            },
            "text/plain": [
              "Measuring metrics:   0%|          | 0/10 [00:00<?, ?it/s]"
            ]
          },
          "metadata": {},
          "output_type": "display_data"
        },
        {
          "data": {
            "application/vnd.jupyter.widget-view+json": {
              "model_id": "8467622b896e4d298db4e166b47cfc32",
              "version_major": 2,
              "version_minor": 0
            },
            "text/plain": [
              "Measuring metrics:   0%|          | 0/10 [00:00<?, ?it/s]"
            ]
          },
          "metadata": {},
          "output_type": "display_data"
        },
        {
          "data": {
            "application/vnd.jupyter.widget-view+json": {
              "model_id": "419905f4d6cf43d6aa55885d8fba2c2b",
              "version_major": 2,
              "version_minor": 0
            },
            "text/plain": [
              "Measuring metrics:   0%|          | 0/10 [00:00<?, ?it/s]"
            ]
          },
          "metadata": {},
          "output_type": "display_data"
        },
        {
          "data": {
            "application/vnd.jupyter.widget-view+json": {
              "model_id": "0ba390192b2c4b6b837cbda0904e5c38",
              "version_major": 2,
              "version_minor": 0
            },
            "text/plain": [
              "Mini-batches:   0%|          | 0/36000 [00:00<?, ?it/s]"
            ]
          },
          "metadata": {},
          "output_type": "display_data"
        },
        {
          "data": {
            "application/vnd.jupyter.widget-view+json": {
              "model_id": "aef2f5782ca04b46a9fa49b92cdd4c94",
              "version_major": 2,
              "version_minor": 0
            },
            "text/plain": [
              "Measuring metrics:   0%|          | 0/10 [00:00<?, ?it/s]"
            ]
          },
          "metadata": {},
          "output_type": "display_data"
        },
        {
          "data": {
            "application/vnd.jupyter.widget-view+json": {
              "model_id": "c20ddc959df341bdbb9c7e2ece8f9080",
              "version_major": 2,
              "version_minor": 0
            },
            "text/plain": [
              "Measuring metrics:   0%|          | 0/10 [00:00<?, ?it/s]"
            ]
          },
          "metadata": {},
          "output_type": "display_data"
        },
        {
          "data": {
            "application/vnd.jupyter.widget-view+json": {
              "model_id": "b90a6e24a2334618a908e3cec6bfc6b8",
              "version_major": 2,
              "version_minor": 0
            },
            "text/plain": [
              "Measuring metrics:   0%|          | 0/10 [00:00<?, ?it/s]"
            ]
          },
          "metadata": {},
          "output_type": "display_data"
        },
        {
          "data": {
            "application/vnd.jupyter.widget-view+json": {
              "model_id": "b3ebc19f766c4df6b4233e34172a4409",
              "version_major": 2,
              "version_minor": 0
            },
            "text/plain": [
              "Measuring metrics:   0%|          | 0/10 [00:00<?, ?it/s]"
            ]
          },
          "metadata": {},
          "output_type": "display_data"
        },
        {
          "data": {
            "application/vnd.jupyter.widget-view+json": {
              "model_id": "b838d38bc1c240478b81db09a83334ee",
              "version_major": 2,
              "version_minor": 0
            },
            "text/plain": [
              "Measuring metrics:   0%|          | 0/10 [00:00<?, ?it/s]"
            ]
          },
          "metadata": {},
          "output_type": "display_data"
        },
        {
          "data": {
            "application/vnd.jupyter.widget-view+json": {
              "model_id": "4d1dec7bfd1d41b4ac11a7d9873f94a0",
              "version_major": 2,
              "version_minor": 0
            },
            "text/plain": [
              "Measuring metrics:   0%|          | 0/10 [00:00<?, ?it/s]"
            ]
          },
          "metadata": {},
          "output_type": "display_data"
        },
        {
          "name": "stdout",
          "output_type": "stream",
          "text": [
            "Next subset: Subset(MNIST, len=41935, labels=(0, 1, 2, 3, 4, 5, 6))\n"
          ]
        },
        {
          "data": {
            "application/vnd.jupyter.widget-view+json": {
              "model_id": "99d59843b80849db9c0c6080c5cb98d5",
              "version_major": 2,
              "version_minor": 0
            },
            "text/plain": [
              "Mini-batches:   0%|          | 0/41928 [00:00<?, ?it/s]"
            ]
          },
          "metadata": {},
          "output_type": "display_data"
        },
        {
          "data": {
            "application/vnd.jupyter.widget-view+json": {
              "model_id": "f46a1467ecf54af590ca3484dbdf5127",
              "version_major": 2,
              "version_minor": 0
            },
            "text/plain": [
              "Measuring metrics:   0%|          | 0/10 [00:00<?, ?it/s]"
            ]
          },
          "metadata": {},
          "output_type": "display_data"
        },
        {
          "data": {
            "application/vnd.jupyter.widget-view+json": {
              "model_id": "616d766181f84246bcb6f45a638068ea",
              "version_major": 2,
              "version_minor": 0
            },
            "text/plain": [
              "Measuring metrics:   0%|          | 0/10 [00:00<?, ?it/s]"
            ]
          },
          "metadata": {},
          "output_type": "display_data"
        },
        {
          "data": {
            "application/vnd.jupyter.widget-view+json": {
              "model_id": "add4f9222f7b45cb93f03022dd213411",
              "version_major": 2,
              "version_minor": 0
            },
            "text/plain": [
              "Measuring metrics:   0%|          | 0/10 [00:00<?, ?it/s]"
            ]
          },
          "metadata": {},
          "output_type": "display_data"
        },
        {
          "data": {
            "application/vnd.jupyter.widget-view+json": {
              "model_id": "2b007c366b2e4e1981c275b5bb7b51fd",
              "version_major": 2,
              "version_minor": 0
            },
            "text/plain": [
              "Measuring metrics:   0%|          | 0/10 [00:00<?, ?it/s]"
            ]
          },
          "metadata": {},
          "output_type": "display_data"
        },
        {
          "data": {
            "application/vnd.jupyter.widget-view+json": {
              "model_id": "ad0f28218c424e3f8819c4538491d3a2",
              "version_major": 2,
              "version_minor": 0
            },
            "text/plain": [
              "Measuring metrics:   0%|          | 0/10 [00:00<?, ?it/s]"
            ]
          },
          "metadata": {},
          "output_type": "display_data"
        },
        {
          "data": {
            "application/vnd.jupyter.widget-view+json": {
              "model_id": "0efdace4e44442998edcb975f6d47cfe",
              "version_major": 2,
              "version_minor": 0
            },
            "text/plain": [
              "Measuring metrics:   0%|          | 0/10 [00:00<?, ?it/s]"
            ]
          },
          "metadata": {},
          "output_type": "display_data"
        },
        {
          "data": {
            "application/vnd.jupyter.widget-view+json": {
              "model_id": "aaa5477d3d8149d3a3e795f5b5165663",
              "version_major": 2,
              "version_minor": 0
            },
            "text/plain": [
              "Measuring metrics:   0%|          | 0/10 [00:00<?, ?it/s]"
            ]
          },
          "metadata": {},
          "output_type": "display_data"
        },
        {
          "data": {
            "application/vnd.jupyter.widget-view+json": {
              "model_id": "4d8a5c59e65a45e0af3dc204fde93279",
              "version_major": 2,
              "version_minor": 0
            },
            "text/plain": [
              "Mini-batches:   0%|          | 0/41928 [00:00<?, ?it/s]"
            ]
          },
          "metadata": {},
          "output_type": "display_data"
        },
        {
          "data": {
            "application/vnd.jupyter.widget-view+json": {
              "model_id": "2f6229c0fad748f5bd1dca99dc2bb855",
              "version_major": 2,
              "version_minor": 0
            },
            "text/plain": [
              "Measuring metrics:   0%|          | 0/10 [00:00<?, ?it/s]"
            ]
          },
          "metadata": {},
          "output_type": "display_data"
        },
        {
          "data": {
            "application/vnd.jupyter.widget-view+json": {
              "model_id": "52dab5f7d52d419680070ebb2d3a3d5a",
              "version_major": 2,
              "version_minor": 0
            },
            "text/plain": [
              "Measuring metrics:   0%|          | 0/10 [00:00<?, ?it/s]"
            ]
          },
          "metadata": {},
          "output_type": "display_data"
        },
        {
          "data": {
            "application/vnd.jupyter.widget-view+json": {
              "model_id": "de96c686c66b4a06b9c741a63f92f0a1",
              "version_major": 2,
              "version_minor": 0
            },
            "text/plain": [
              "Measuring metrics:   0%|          | 0/10 [00:00<?, ?it/s]"
            ]
          },
          "metadata": {},
          "output_type": "display_data"
        },
        {
          "data": {
            "application/vnd.jupyter.widget-view+json": {
              "model_id": "d9f7eda7143f4aa5b83216c430391aaa",
              "version_major": 2,
              "version_minor": 0
            },
            "text/plain": [
              "Measuring metrics:   0%|          | 0/10 [00:00<?, ?it/s]"
            ]
          },
          "metadata": {},
          "output_type": "display_data"
        },
        {
          "data": {
            "application/vnd.jupyter.widget-view+json": {
              "model_id": "970a9e9abef943c69b1f7f9bb46aa660",
              "version_major": 2,
              "version_minor": 0
            },
            "text/plain": [
              "Measuring metrics:   0%|          | 0/10 [00:00<?, ?it/s]"
            ]
          },
          "metadata": {},
          "output_type": "display_data"
        },
        {
          "data": {
            "application/vnd.jupyter.widget-view+json": {
              "model_id": "1b41f78e6e5a481193ee80cf9a08dc38",
              "version_major": 2,
              "version_minor": 0
            },
            "text/plain": [
              "Measuring metrics:   0%|          | 0/10 [00:00<?, ?it/s]"
            ]
          },
          "metadata": {},
          "output_type": "display_data"
        },
        {
          "data": {
            "application/vnd.jupyter.widget-view+json": {
              "model_id": "7ea07fc41a444554b2df9328dce0f83c",
              "version_major": 2,
              "version_minor": 0
            },
            "text/plain": [
              "Measuring metrics:   0%|          | 0/10 [00:00<?, ?it/s]"
            ]
          },
          "metadata": {},
          "output_type": "display_data"
        },
        {
          "data": {
            "application/vnd.jupyter.widget-view+json": {
              "model_id": "5c34516dde6f46e380e536deb21bdf61",
              "version_major": 2,
              "version_minor": 0
            },
            "text/plain": [
              "Mini-batches:   0%|          | 0/41928 [00:00<?, ?it/s]"
            ]
          },
          "metadata": {},
          "output_type": "display_data"
        },
        {
          "data": {
            "application/vnd.jupyter.widget-view+json": {
              "model_id": "65d54d8e45d541e599ece5fc13dc77e2",
              "version_major": 2,
              "version_minor": 0
            },
            "text/plain": [
              "Measuring metrics:   0%|          | 0/10 [00:00<?, ?it/s]"
            ]
          },
          "metadata": {},
          "output_type": "display_data"
        },
        {
          "data": {
            "application/vnd.jupyter.widget-view+json": {
              "model_id": "cf63fd429e5d4ccab61d3dfc478445bb",
              "version_major": 2,
              "version_minor": 0
            },
            "text/plain": [
              "Measuring metrics:   0%|          | 0/10 [00:00<?, ?it/s]"
            ]
          },
          "metadata": {},
          "output_type": "display_data"
        },
        {
          "data": {
            "application/vnd.jupyter.widget-view+json": {
              "model_id": "352e3ea7139647419d251605d189aef2",
              "version_major": 2,
              "version_minor": 0
            },
            "text/plain": [
              "Measuring metrics:   0%|          | 0/10 [00:00<?, ?it/s]"
            ]
          },
          "metadata": {},
          "output_type": "display_data"
        },
        {
          "data": {
            "application/vnd.jupyter.widget-view+json": {
              "model_id": "16d798dccc4045b8b79386e83d173187",
              "version_major": 2,
              "version_minor": 0
            },
            "text/plain": [
              "Measuring metrics:   0%|          | 0/10 [00:00<?, ?it/s]"
            ]
          },
          "metadata": {},
          "output_type": "display_data"
        },
        {
          "data": {
            "application/vnd.jupyter.widget-view+json": {
              "model_id": "b375391049e742a69bd1f53d6664ef77",
              "version_major": 2,
              "version_minor": 0
            },
            "text/plain": [
              "Measuring metrics:   0%|          | 0/10 [00:00<?, ?it/s]"
            ]
          },
          "metadata": {},
          "output_type": "display_data"
        },
        {
          "data": {
            "application/vnd.jupyter.widget-view+json": {
              "model_id": "773257ac76214267a7eedf03e040e887",
              "version_major": 2,
              "version_minor": 0
            },
            "text/plain": [
              "Measuring metrics:   0%|          | 0/10 [00:00<?, ?it/s]"
            ]
          },
          "metadata": {},
          "output_type": "display_data"
        },
        {
          "data": {
            "application/vnd.jupyter.widget-view+json": {
              "model_id": "2c23f4d3f1f54df7bfc1fce48291d78b",
              "version_major": 2,
              "version_minor": 0
            },
            "text/plain": [
              "Mini-batches:   0%|          | 0/41928 [00:00<?, ?it/s]"
            ]
          },
          "metadata": {},
          "output_type": "display_data"
        },
        {
          "data": {
            "application/vnd.jupyter.widget-view+json": {
              "model_id": "638bd8957d9b49f69b3f0a867930fe16",
              "version_major": 2,
              "version_minor": 0
            },
            "text/plain": [
              "Measuring metrics:   0%|          | 0/10 [00:00<?, ?it/s]"
            ]
          },
          "metadata": {},
          "output_type": "display_data"
        },
        {
          "data": {
            "application/vnd.jupyter.widget-view+json": {
              "model_id": "34f662b92e8140748c9ffc7e4ebfb1dc",
              "version_major": 2,
              "version_minor": 0
            },
            "text/plain": [
              "Measuring metrics:   0%|          | 0/10 [00:00<?, ?it/s]"
            ]
          },
          "metadata": {},
          "output_type": "display_data"
        },
        {
          "data": {
            "application/vnd.jupyter.widget-view+json": {
              "model_id": "4430251e374c441f80359aba259fdd9b",
              "version_major": 2,
              "version_minor": 0
            },
            "text/plain": [
              "Measuring metrics:   0%|          | 0/10 [00:00<?, ?it/s]"
            ]
          },
          "metadata": {},
          "output_type": "display_data"
        },
        {
          "data": {
            "application/vnd.jupyter.widget-view+json": {
              "model_id": "c4c671ed956a49b8b616524f16d95d92",
              "version_major": 2,
              "version_minor": 0
            },
            "text/plain": [
              "Measuring metrics:   0%|          | 0/10 [00:00<?, ?it/s]"
            ]
          },
          "metadata": {},
          "output_type": "display_data"
        },
        {
          "data": {
            "application/vnd.jupyter.widget-view+json": {
              "model_id": "afefb89c02814518acc4c364024f10ce",
              "version_major": 2,
              "version_minor": 0
            },
            "text/plain": [
              "Measuring metrics:   0%|          | 0/10 [00:00<?, ?it/s]"
            ]
          },
          "metadata": {},
          "output_type": "display_data"
        },
        {
          "data": {
            "application/vnd.jupyter.widget-view+json": {
              "model_id": "c2f7dad3f8c44e4f9c0d502ac9d4c4d3",
              "version_major": 2,
              "version_minor": 0
            },
            "text/plain": [
              "Measuring metrics:   0%|          | 0/10 [00:00<?, ?it/s]"
            ]
          },
          "metadata": {},
          "output_type": "display_data"
        },
        {
          "data": {
            "application/vnd.jupyter.widget-view+json": {
              "model_id": "2545ebee74b040889ee8a8957c5f6490",
              "version_major": 2,
              "version_minor": 0
            },
            "text/plain": [
              "Measuring metrics:   0%|          | 0/10 [00:00<?, ?it/s]"
            ]
          },
          "metadata": {},
          "output_type": "display_data"
        },
        {
          "data": {
            "application/vnd.jupyter.widget-view+json": {
              "model_id": "3103640a3ef442e78fa3ca14a1e8bd38",
              "version_major": 2,
              "version_minor": 0
            },
            "text/plain": [
              "Mini-batches:   0%|          | 0/41928 [00:00<?, ?it/s]"
            ]
          },
          "metadata": {},
          "output_type": "display_data"
        },
        {
          "data": {
            "application/vnd.jupyter.widget-view+json": {
              "model_id": "ababd9ee021c488f97e5fae003c22dd2",
              "version_major": 2,
              "version_minor": 0
            },
            "text/plain": [
              "Measuring metrics:   0%|          | 0/10 [00:00<?, ?it/s]"
            ]
          },
          "metadata": {},
          "output_type": "display_data"
        },
        {
          "data": {
            "application/vnd.jupyter.widget-view+json": {
              "model_id": "7a3297c3f31c477c9034c2acb58f4401",
              "version_major": 2,
              "version_minor": 0
            },
            "text/plain": [
              "Measuring metrics:   0%|          | 0/10 [00:00<?, ?it/s]"
            ]
          },
          "metadata": {},
          "output_type": "display_data"
        },
        {
          "data": {
            "application/vnd.jupyter.widget-view+json": {
              "model_id": "f1e04e06a9ee4b16811ea48417a8e2ad",
              "version_major": 2,
              "version_minor": 0
            },
            "text/plain": [
              "Measuring metrics:   0%|          | 0/10 [00:00<?, ?it/s]"
            ]
          },
          "metadata": {},
          "output_type": "display_data"
        },
        {
          "data": {
            "application/vnd.jupyter.widget-view+json": {
              "model_id": "c438c7e4f28b450a9e9146c7e4f94848",
              "version_major": 2,
              "version_minor": 0
            },
            "text/plain": [
              "Measuring metrics:   0%|          | 0/10 [00:00<?, ?it/s]"
            ]
          },
          "metadata": {},
          "output_type": "display_data"
        },
        {
          "data": {
            "application/vnd.jupyter.widget-view+json": {
              "model_id": "bf6e48e761dc48bab83295051bb3c365",
              "version_major": 2,
              "version_minor": 0
            },
            "text/plain": [
              "Measuring metrics:   0%|          | 0/10 [00:00<?, ?it/s]"
            ]
          },
          "metadata": {},
          "output_type": "display_data"
        },
        {
          "data": {
            "application/vnd.jupyter.widget-view+json": {
              "model_id": "17a6c54f57e74429860bdfa6b1f96a4a",
              "version_major": 2,
              "version_minor": 0
            },
            "text/plain": [
              "Measuring metrics:   0%|          | 0/10 [00:00<?, ?it/s]"
            ]
          },
          "metadata": {},
          "output_type": "display_data"
        },
        {
          "data": {
            "application/vnd.jupyter.widget-view+json": {
              "model_id": "62dde57acb734062b6b429c704266fea",
              "version_major": 2,
              "version_minor": 0
            },
            "text/plain": [
              "Measuring metrics:   0%|          | 0/10 [00:00<?, ?it/s]"
            ]
          },
          "metadata": {},
          "output_type": "display_data"
        },
        {
          "data": {
            "application/vnd.jupyter.widget-view+json": {
              "model_id": "a69b07c43616456db11fb47d27cd8850",
              "version_major": 2,
              "version_minor": 0
            },
            "text/plain": [
              "Mini-batches:   0%|          | 0/41928 [00:00<?, ?it/s]"
            ]
          },
          "metadata": {},
          "output_type": "display_data"
        },
        {
          "data": {
            "application/vnd.jupyter.widget-view+json": {
              "model_id": "f58e9b9d352340b8b13a950326ddad97",
              "version_major": 2,
              "version_minor": 0
            },
            "text/plain": [
              "Measuring metrics:   0%|          | 0/10 [00:00<?, ?it/s]"
            ]
          },
          "metadata": {},
          "output_type": "display_data"
        },
        {
          "data": {
            "application/vnd.jupyter.widget-view+json": {
              "model_id": "821080b6006c443e8d83f598290a2df5",
              "version_major": 2,
              "version_minor": 0
            },
            "text/plain": [
              "Measuring metrics:   0%|          | 0/10 [00:00<?, ?it/s]"
            ]
          },
          "metadata": {},
          "output_type": "display_data"
        },
        {
          "data": {
            "application/vnd.jupyter.widget-view+json": {
              "model_id": "b835f1e13f6e49079cf95bce0a6f4f41",
              "version_major": 2,
              "version_minor": 0
            },
            "text/plain": [
              "Measuring metrics:   0%|          | 0/10 [00:00<?, ?it/s]"
            ]
          },
          "metadata": {},
          "output_type": "display_data"
        },
        {
          "data": {
            "application/vnd.jupyter.widget-view+json": {
              "model_id": "e74700c4988f4733969ef601586d6fb2",
              "version_major": 2,
              "version_minor": 0
            },
            "text/plain": [
              "Measuring metrics:   0%|          | 0/10 [00:00<?, ?it/s]"
            ]
          },
          "metadata": {},
          "output_type": "display_data"
        },
        {
          "data": {
            "application/vnd.jupyter.widget-view+json": {
              "model_id": "6d0cc563cf8049a1b45f52107930f5d8",
              "version_major": 2,
              "version_minor": 0
            },
            "text/plain": [
              "Measuring metrics:   0%|          | 0/10 [00:00<?, ?it/s]"
            ]
          },
          "metadata": {},
          "output_type": "display_data"
        },
        {
          "data": {
            "application/vnd.jupyter.widget-view+json": {
              "model_id": "f5c0b9c65a02418d97920674ff482c29",
              "version_major": 2,
              "version_minor": 0
            },
            "text/plain": [
              "Measuring metrics:   0%|          | 0/10 [00:00<?, ?it/s]"
            ]
          },
          "metadata": {},
          "output_type": "display_data"
        },
        {
          "data": {
            "application/vnd.jupyter.widget-view+json": {
              "model_id": "58015146d36d42558b4f063e4c3269ca",
              "version_major": 2,
              "version_minor": 0
            },
            "text/plain": [
              "Measuring metrics:   0%|          | 0/10 [00:00<?, ?it/s]"
            ]
          },
          "metadata": {},
          "output_type": "display_data"
        },
        {
          "data": {
            "application/vnd.jupyter.widget-view+json": {
              "model_id": "81e15c697c02401eb1a0717facaa71d9",
              "version_major": 2,
              "version_minor": 0
            },
            "text/plain": [
              "Mini-batches:   0%|          | 0/41928 [00:00<?, ?it/s]"
            ]
          },
          "metadata": {},
          "output_type": "display_data"
        },
        {
          "data": {
            "application/vnd.jupyter.widget-view+json": {
              "model_id": "d41f52867a324da4bd4d7086f017d26f",
              "version_major": 2,
              "version_minor": 0
            },
            "text/plain": [
              "Measuring metrics:   0%|          | 0/10 [00:00<?, ?it/s]"
            ]
          },
          "metadata": {},
          "output_type": "display_data"
        },
        {
          "data": {
            "application/vnd.jupyter.widget-view+json": {
              "model_id": "38231514db2b4548876aba0d9d7c752e",
              "version_major": 2,
              "version_minor": 0
            },
            "text/plain": [
              "Measuring metrics:   0%|          | 0/10 [00:00<?, ?it/s]"
            ]
          },
          "metadata": {},
          "output_type": "display_data"
        },
        {
          "data": {
            "application/vnd.jupyter.widget-view+json": {
              "model_id": "06ba0baeb9af4c8abf6a440aff2e2a51",
              "version_major": 2,
              "version_minor": 0
            },
            "text/plain": [
              "Measuring metrics:   0%|          | 0/10 [00:00<?, ?it/s]"
            ]
          },
          "metadata": {},
          "output_type": "display_data"
        },
        {
          "data": {
            "application/vnd.jupyter.widget-view+json": {
              "model_id": "09e03c1380f14f6ca466ed7cc49a187f",
              "version_major": 2,
              "version_minor": 0
            },
            "text/plain": [
              "Measuring metrics:   0%|          | 0/10 [00:00<?, ?it/s]"
            ]
          },
          "metadata": {},
          "output_type": "display_data"
        },
        {
          "data": {
            "application/vnd.jupyter.widget-view+json": {
              "model_id": "975cddc4ce5a4639a455769b526b0af7",
              "version_major": 2,
              "version_minor": 0
            },
            "text/plain": [
              "Measuring metrics:   0%|          | 0/10 [00:00<?, ?it/s]"
            ]
          },
          "metadata": {},
          "output_type": "display_data"
        },
        {
          "data": {
            "application/vnd.jupyter.widget-view+json": {
              "model_id": "415d2d0c42d24637b6ece07c231a7efe",
              "version_major": 2,
              "version_minor": 0
            },
            "text/plain": [
              "Measuring metrics:   0%|          | 0/10 [00:00<?, ?it/s]"
            ]
          },
          "metadata": {},
          "output_type": "display_data"
        },
        {
          "data": {
            "application/vnd.jupyter.widget-view+json": {
              "model_id": "75cb8cdd54194e93b7104e1eba58cebf",
              "version_major": 2,
              "version_minor": 0
            },
            "text/plain": [
              "Measuring metrics:   0%|          | 0/10 [00:00<?, ?it/s]"
            ]
          },
          "metadata": {},
          "output_type": "display_data"
        },
        {
          "data": {
            "application/vnd.jupyter.widget-view+json": {
              "model_id": "a740eacf432a472a9888aba44c4ba837",
              "version_major": 2,
              "version_minor": 0
            },
            "text/plain": [
              "Mini-batches:   0%|          | 0/41928 [00:00<?, ?it/s]"
            ]
          },
          "metadata": {},
          "output_type": "display_data"
        },
        {
          "data": {
            "application/vnd.jupyter.widget-view+json": {
              "model_id": "114f7efaeadf49be91a268d3e4c50076",
              "version_major": 2,
              "version_minor": 0
            },
            "text/plain": [
              "Measuring metrics:   0%|          | 0/10 [00:00<?, ?it/s]"
            ]
          },
          "metadata": {},
          "output_type": "display_data"
        },
        {
          "data": {
            "application/vnd.jupyter.widget-view+json": {
              "model_id": "77732509265e4ce083328f84c2889251",
              "version_major": 2,
              "version_minor": 0
            },
            "text/plain": [
              "Measuring metrics:   0%|          | 0/10 [00:00<?, ?it/s]"
            ]
          },
          "metadata": {},
          "output_type": "display_data"
        },
        {
          "data": {
            "application/vnd.jupyter.widget-view+json": {
              "model_id": "4daca84103c54a8aabe0c2c9c2050475",
              "version_major": 2,
              "version_minor": 0
            },
            "text/plain": [
              "Measuring metrics:   0%|          | 0/10 [00:00<?, ?it/s]"
            ]
          },
          "metadata": {},
          "output_type": "display_data"
        },
        {
          "data": {
            "application/vnd.jupyter.widget-view+json": {
              "model_id": "2432a1d62f4749809e62971f17ca100a",
              "version_major": 2,
              "version_minor": 0
            },
            "text/plain": [
              "Measuring metrics:   0%|          | 0/10 [00:00<?, ?it/s]"
            ]
          },
          "metadata": {},
          "output_type": "display_data"
        },
        {
          "data": {
            "application/vnd.jupyter.widget-view+json": {
              "model_id": "e532040039cf4d4e925e417aa9cb4944",
              "version_major": 2,
              "version_minor": 0
            },
            "text/plain": [
              "Measuring metrics:   0%|          | 0/10 [00:00<?, ?it/s]"
            ]
          },
          "metadata": {},
          "output_type": "display_data"
        },
        {
          "data": {
            "application/vnd.jupyter.widget-view+json": {
              "model_id": "9a22a59f797b4a5599fee4b7d998d8b2",
              "version_major": 2,
              "version_minor": 0
            },
            "text/plain": [
              "Measuring metrics:   0%|          | 0/10 [00:00<?, ?it/s]"
            ]
          },
          "metadata": {},
          "output_type": "display_data"
        },
        {
          "data": {
            "application/vnd.jupyter.widget-view+json": {
              "model_id": "3c003f9057e14ae8b3c53bf183372fa8",
              "version_major": 2,
              "version_minor": 0
            },
            "text/plain": [
              "Measuring metrics:   0%|          | 0/10 [00:00<?, ?it/s]"
            ]
          },
          "metadata": {},
          "output_type": "display_data"
        },
        {
          "data": {
            "application/vnd.jupyter.widget-view+json": {
              "model_id": "3dfece193e664f57886e5f8469787e20",
              "version_major": 2,
              "version_minor": 0
            },
            "text/plain": [
              "Mini-batches:   0%|          | 0/41928 [00:00<?, ?it/s]"
            ]
          },
          "metadata": {},
          "output_type": "display_data"
        },
        {
          "data": {
            "application/vnd.jupyter.widget-view+json": {
              "model_id": "2a205f515e614f649552142519494959",
              "version_major": 2,
              "version_minor": 0
            },
            "text/plain": [
              "Measuring metrics:   0%|          | 0/10 [00:00<?, ?it/s]"
            ]
          },
          "metadata": {},
          "output_type": "display_data"
        },
        {
          "data": {
            "application/vnd.jupyter.widget-view+json": {
              "model_id": "2b63b2d3f34945019f5abec2b8c773e9",
              "version_major": 2,
              "version_minor": 0
            },
            "text/plain": [
              "Measuring metrics:   0%|          | 0/10 [00:00<?, ?it/s]"
            ]
          },
          "metadata": {},
          "output_type": "display_data"
        },
        {
          "data": {
            "application/vnd.jupyter.widget-view+json": {
              "model_id": "6a9184ffa05e401a945761896073de39",
              "version_major": 2,
              "version_minor": 0
            },
            "text/plain": [
              "Measuring metrics:   0%|          | 0/10 [00:00<?, ?it/s]"
            ]
          },
          "metadata": {},
          "output_type": "display_data"
        },
        {
          "data": {
            "application/vnd.jupyter.widget-view+json": {
              "model_id": "2b30658994654784b865cb41e20c58b8",
              "version_major": 2,
              "version_minor": 0
            },
            "text/plain": [
              "Measuring metrics:   0%|          | 0/10 [00:00<?, ?it/s]"
            ]
          },
          "metadata": {},
          "output_type": "display_data"
        },
        {
          "data": {
            "application/vnd.jupyter.widget-view+json": {
              "model_id": "39a3ea4305994dc9be4b6ea8cd3958bc",
              "version_major": 2,
              "version_minor": 0
            },
            "text/plain": [
              "Measuring metrics:   0%|          | 0/10 [00:00<?, ?it/s]"
            ]
          },
          "metadata": {},
          "output_type": "display_data"
        },
        {
          "data": {
            "application/vnd.jupyter.widget-view+json": {
              "model_id": "cf1b8cf45dbe4105a22501258ed89eca",
              "version_major": 2,
              "version_minor": 0
            },
            "text/plain": [
              "Measuring metrics:   0%|          | 0/10 [00:00<?, ?it/s]"
            ]
          },
          "metadata": {},
          "output_type": "display_data"
        },
        {
          "data": {
            "application/vnd.jupyter.widget-view+json": {
              "model_id": "9c1d31f79bf847f69837dfa453a62fce",
              "version_major": 2,
              "version_minor": 0
            },
            "text/plain": [
              "Mini-batches:   0%|          | 0/41928 [00:00<?, ?it/s]"
            ]
          },
          "metadata": {},
          "output_type": "display_data"
        },
        {
          "data": {
            "application/vnd.jupyter.widget-view+json": {
              "model_id": "59108240c5cb461499b5b661077df94c",
              "version_major": 2,
              "version_minor": 0
            },
            "text/plain": [
              "Measuring metrics:   0%|          | 0/10 [00:00<?, ?it/s]"
            ]
          },
          "metadata": {},
          "output_type": "display_data"
        },
        {
          "data": {
            "application/vnd.jupyter.widget-view+json": {
              "model_id": "c911401efaa441a28367ae098a304f55",
              "version_major": 2,
              "version_minor": 0
            },
            "text/plain": [
              "Measuring metrics:   0%|          | 0/10 [00:00<?, ?it/s]"
            ]
          },
          "metadata": {},
          "output_type": "display_data"
        },
        {
          "data": {
            "application/vnd.jupyter.widget-view+json": {
              "model_id": "396c4614030f44728d9d9f5a1af3901c",
              "version_major": 2,
              "version_minor": 0
            },
            "text/plain": [
              "Measuring metrics:   0%|          | 0/10 [00:00<?, ?it/s]"
            ]
          },
          "metadata": {},
          "output_type": "display_data"
        },
        {
          "data": {
            "application/vnd.jupyter.widget-view+json": {
              "model_id": "6ccf0ffdfc3d4f4f831f3c71ea825f16",
              "version_major": 2,
              "version_minor": 0
            },
            "text/plain": [
              "Measuring metrics:   0%|          | 0/10 [00:00<?, ?it/s]"
            ]
          },
          "metadata": {},
          "output_type": "display_data"
        },
        {
          "data": {
            "application/vnd.jupyter.widget-view+json": {
              "model_id": "6416b73d20954765a5cc29cb62544b07",
              "version_major": 2,
              "version_minor": 0
            },
            "text/plain": [
              "Measuring metrics:   0%|          | 0/10 [00:00<?, ?it/s]"
            ]
          },
          "metadata": {},
          "output_type": "display_data"
        },
        {
          "data": {
            "application/vnd.jupyter.widget-view+json": {
              "model_id": "9ee994ce8fda4b2eb5ef7519e62684b1",
              "version_major": 2,
              "version_minor": 0
            },
            "text/plain": [
              "Measuring metrics:   0%|          | 0/10 [00:00<?, ?it/s]"
            ]
          },
          "metadata": {},
          "output_type": "display_data"
        },
        {
          "data": {
            "application/vnd.jupyter.widget-view+json": {
              "model_id": "ccbf190d89a24cbfab0a056ea6b4c093",
              "version_major": 2,
              "version_minor": 0
            },
            "text/plain": [
              "Measuring metrics:   0%|          | 0/10 [00:00<?, ?it/s]"
            ]
          },
          "metadata": {},
          "output_type": "display_data"
        },
        {
          "name": "stdout",
          "output_type": "stream",
          "text": [
            "Next subset: Subset(MNIST, len=48200, labels=(0, 1, 2, 3, 4, 5, 6, 7))\n"
          ]
        },
        {
          "data": {
            "application/vnd.jupyter.widget-view+json": {
              "model_id": "c811ff9eb14f4a0bb58ee23f9642528c",
              "version_major": 2,
              "version_minor": 0
            },
            "text/plain": [
              "Mini-batches:   0%|          | 0/48192 [00:00<?, ?it/s]"
            ]
          },
          "metadata": {},
          "output_type": "display_data"
        },
        {
          "data": {
            "application/vnd.jupyter.widget-view+json": {
              "model_id": "451185ca82ab44b28032fcbf20ee3c0f",
              "version_major": 2,
              "version_minor": 0
            },
            "text/plain": [
              "Measuring metrics:   0%|          | 0/10 [00:00<?, ?it/s]"
            ]
          },
          "metadata": {},
          "output_type": "display_data"
        },
        {
          "data": {
            "application/vnd.jupyter.widget-view+json": {
              "model_id": "f20b1b363c0a4e969f39dfd28010d0a9",
              "version_major": 2,
              "version_minor": 0
            },
            "text/plain": [
              "Measuring metrics:   0%|          | 0/10 [00:00<?, ?it/s]"
            ]
          },
          "metadata": {},
          "output_type": "display_data"
        },
        {
          "data": {
            "application/vnd.jupyter.widget-view+json": {
              "model_id": "9bf587c18a754a8d832111d71cbdd137",
              "version_major": 2,
              "version_minor": 0
            },
            "text/plain": [
              "Measuring metrics:   0%|          | 0/10 [00:00<?, ?it/s]"
            ]
          },
          "metadata": {},
          "output_type": "display_data"
        },
        {
          "data": {
            "application/vnd.jupyter.widget-view+json": {
              "model_id": "9ece5a46985948b9a01c5fe872c95250",
              "version_major": 2,
              "version_minor": 0
            },
            "text/plain": [
              "Measuring metrics:   0%|          | 0/10 [00:00<?, ?it/s]"
            ]
          },
          "metadata": {},
          "output_type": "display_data"
        },
        {
          "data": {
            "application/vnd.jupyter.widget-view+json": {
              "model_id": "a9ff4087ff50406bb27d2830f634bfd3",
              "version_major": 2,
              "version_minor": 0
            },
            "text/plain": [
              "Measuring metrics:   0%|          | 0/10 [00:00<?, ?it/s]"
            ]
          },
          "metadata": {},
          "output_type": "display_data"
        },
        {
          "data": {
            "application/vnd.jupyter.widget-view+json": {
              "model_id": "23f266914ecc44088f5fa26415da6b85",
              "version_major": 2,
              "version_minor": 0
            },
            "text/plain": [
              "Measuring metrics:   0%|          | 0/10 [00:00<?, ?it/s]"
            ]
          },
          "metadata": {},
          "output_type": "display_data"
        },
        {
          "data": {
            "application/vnd.jupyter.widget-view+json": {
              "model_id": "a79503b0da3842a58f58e81e66ebd63e",
              "version_major": 2,
              "version_minor": 0
            },
            "text/plain": [
              "Measuring metrics:   0%|          | 0/10 [00:00<?, ?it/s]"
            ]
          },
          "metadata": {},
          "output_type": "display_data"
        },
        {
          "data": {
            "application/vnd.jupyter.widget-view+json": {
              "model_id": "5641c56b0e504060af044d331102eb52",
              "version_major": 2,
              "version_minor": 0
            },
            "text/plain": [
              "Measuring metrics:   0%|          | 0/10 [00:00<?, ?it/s]"
            ]
          },
          "metadata": {},
          "output_type": "display_data"
        },
        {
          "data": {
            "application/vnd.jupyter.widget-view+json": {
              "model_id": "c42fd4ba9f704cf9bd2e3d9a765106fd",
              "version_major": 2,
              "version_minor": 0
            },
            "text/plain": [
              "Mini-batches:   0%|          | 0/48192 [00:00<?, ?it/s]"
            ]
          },
          "metadata": {},
          "output_type": "display_data"
        },
        {
          "data": {
            "application/vnd.jupyter.widget-view+json": {
              "model_id": "9de73140cae9449083709f14623ab3e3",
              "version_major": 2,
              "version_minor": 0
            },
            "text/plain": [
              "Measuring metrics:   0%|          | 0/10 [00:00<?, ?it/s]"
            ]
          },
          "metadata": {},
          "output_type": "display_data"
        },
        {
          "data": {
            "application/vnd.jupyter.widget-view+json": {
              "model_id": "7f51df4bae0e4bd496ba1d7841ae5b29",
              "version_major": 2,
              "version_minor": 0
            },
            "text/plain": [
              "Measuring metrics:   0%|          | 0/10 [00:00<?, ?it/s]"
            ]
          },
          "metadata": {},
          "output_type": "display_data"
        },
        {
          "data": {
            "application/vnd.jupyter.widget-view+json": {
              "model_id": "bd1c3fcffcc24eb89af4724a80e4f6cf",
              "version_major": 2,
              "version_minor": 0
            },
            "text/plain": [
              "Measuring metrics:   0%|          | 0/10 [00:00<?, ?it/s]"
            ]
          },
          "metadata": {},
          "output_type": "display_data"
        },
        {
          "data": {
            "application/vnd.jupyter.widget-view+json": {
              "model_id": "1b0f89487c0b43d3826c37c30b8393e1",
              "version_major": 2,
              "version_minor": 0
            },
            "text/plain": [
              "Measuring metrics:   0%|          | 0/10 [00:00<?, ?it/s]"
            ]
          },
          "metadata": {},
          "output_type": "display_data"
        },
        {
          "data": {
            "application/vnd.jupyter.widget-view+json": {
              "model_id": "e4426c9bfbea424a8c1237f2692fd8f1",
              "version_major": 2,
              "version_minor": 0
            },
            "text/plain": [
              "Measuring metrics:   0%|          | 0/10 [00:00<?, ?it/s]"
            ]
          },
          "metadata": {},
          "output_type": "display_data"
        },
        {
          "data": {
            "application/vnd.jupyter.widget-view+json": {
              "model_id": "e8af16e1ea01489f9f12cc5e8767213e",
              "version_major": 2,
              "version_minor": 0
            },
            "text/plain": [
              "Measuring metrics:   0%|          | 0/10 [00:00<?, ?it/s]"
            ]
          },
          "metadata": {},
          "output_type": "display_data"
        },
        {
          "data": {
            "application/vnd.jupyter.widget-view+json": {
              "model_id": "13f9332c11df42c68e370ccf44a4df1e",
              "version_major": 2,
              "version_minor": 0
            },
            "text/plain": [
              "Measuring metrics:   0%|          | 0/10 [00:00<?, ?it/s]"
            ]
          },
          "metadata": {},
          "output_type": "display_data"
        },
        {
          "data": {
            "application/vnd.jupyter.widget-view+json": {
              "model_id": "4836f18405a74b1cb0c3a691b67bfaea",
              "version_major": 2,
              "version_minor": 0
            },
            "text/plain": [
              "Measuring metrics:   0%|          | 0/10 [00:00<?, ?it/s]"
            ]
          },
          "metadata": {},
          "output_type": "display_data"
        },
        {
          "data": {
            "application/vnd.jupyter.widget-view+json": {
              "model_id": "3c98c36de24744fcac6d5de12fb0dccf",
              "version_major": 2,
              "version_minor": 0
            },
            "text/plain": [
              "Mini-batches:   0%|          | 0/48192 [00:00<?, ?it/s]"
            ]
          },
          "metadata": {},
          "output_type": "display_data"
        },
        {
          "data": {
            "application/vnd.jupyter.widget-view+json": {
              "model_id": "de7de22e62c248dcab8676dfecd1aa93",
              "version_major": 2,
              "version_minor": 0
            },
            "text/plain": [
              "Measuring metrics:   0%|          | 0/10 [00:00<?, ?it/s]"
            ]
          },
          "metadata": {},
          "output_type": "display_data"
        },
        {
          "data": {
            "application/vnd.jupyter.widget-view+json": {
              "model_id": "5822811f1d2e4b0c8b8de8efe2d1ca03",
              "version_major": 2,
              "version_minor": 0
            },
            "text/plain": [
              "Measuring metrics:   0%|          | 0/10 [00:00<?, ?it/s]"
            ]
          },
          "metadata": {},
          "output_type": "display_data"
        },
        {
          "data": {
            "application/vnd.jupyter.widget-view+json": {
              "model_id": "3c322a12f0c7499a9050161b584e15be",
              "version_major": 2,
              "version_minor": 0
            },
            "text/plain": [
              "Measuring metrics:   0%|          | 0/10 [00:00<?, ?it/s]"
            ]
          },
          "metadata": {},
          "output_type": "display_data"
        },
        {
          "data": {
            "application/vnd.jupyter.widget-view+json": {
              "model_id": "e741436cc4b946449e0b1fcd18508795",
              "version_major": 2,
              "version_minor": 0
            },
            "text/plain": [
              "Measuring metrics:   0%|          | 0/10 [00:00<?, ?it/s]"
            ]
          },
          "metadata": {},
          "output_type": "display_data"
        },
        {
          "data": {
            "application/vnd.jupyter.widget-view+json": {
              "model_id": "15a28f47b6544e1eb9bdde4b5a413ef7",
              "version_major": 2,
              "version_minor": 0
            },
            "text/plain": [
              "Measuring metrics:   0%|          | 0/10 [00:00<?, ?it/s]"
            ]
          },
          "metadata": {},
          "output_type": "display_data"
        },
        {
          "data": {
            "application/vnd.jupyter.widget-view+json": {
              "model_id": "b5541414f9944d5a8af630a84491c6c3",
              "version_major": 2,
              "version_minor": 0
            },
            "text/plain": [
              "Measuring metrics:   0%|          | 0/10 [00:00<?, ?it/s]"
            ]
          },
          "metadata": {},
          "output_type": "display_data"
        },
        {
          "data": {
            "application/vnd.jupyter.widget-view+json": {
              "model_id": "e9d6259f2da34da390a944287143dbc2",
              "version_major": 2,
              "version_minor": 0
            },
            "text/plain": [
              "Measuring metrics:   0%|          | 0/10 [00:00<?, ?it/s]"
            ]
          },
          "metadata": {},
          "output_type": "display_data"
        },
        {
          "data": {
            "application/vnd.jupyter.widget-view+json": {
              "model_id": "1ff8e7feae8d4b88a3e4a8f4dd4e0859",
              "version_major": 2,
              "version_minor": 0
            },
            "text/plain": [
              "Measuring metrics:   0%|          | 0/10 [00:00<?, ?it/s]"
            ]
          },
          "metadata": {},
          "output_type": "display_data"
        },
        {
          "data": {
            "application/vnd.jupyter.widget-view+json": {
              "model_id": "3a48a176537e4524a052fd968258ca2f",
              "version_major": 2,
              "version_minor": 0
            },
            "text/plain": [
              "Mini-batches:   0%|          | 0/48192 [00:00<?, ?it/s]"
            ]
          },
          "metadata": {},
          "output_type": "display_data"
        },
        {
          "data": {
            "application/vnd.jupyter.widget-view+json": {
              "model_id": "617ded0851314104a75069c334646192",
              "version_major": 2,
              "version_minor": 0
            },
            "text/plain": [
              "Measuring metrics:   0%|          | 0/10 [00:00<?, ?it/s]"
            ]
          },
          "metadata": {},
          "output_type": "display_data"
        },
        {
          "data": {
            "application/vnd.jupyter.widget-view+json": {
              "model_id": "303f36d94e8444d4809caf3aae94b0d1",
              "version_major": 2,
              "version_minor": 0
            },
            "text/plain": [
              "Measuring metrics:   0%|          | 0/10 [00:00<?, ?it/s]"
            ]
          },
          "metadata": {},
          "output_type": "display_data"
        },
        {
          "data": {
            "application/vnd.jupyter.widget-view+json": {
              "model_id": "665ffb6f569d4b7a95ea561f843f87ff",
              "version_major": 2,
              "version_minor": 0
            },
            "text/plain": [
              "Measuring metrics:   0%|          | 0/10 [00:00<?, ?it/s]"
            ]
          },
          "metadata": {},
          "output_type": "display_data"
        },
        {
          "data": {
            "application/vnd.jupyter.widget-view+json": {
              "model_id": "6435aa0ef71e4cc2a518c5e88603fdf1",
              "version_major": 2,
              "version_minor": 0
            },
            "text/plain": [
              "Measuring metrics:   0%|          | 0/10 [00:00<?, ?it/s]"
            ]
          },
          "metadata": {},
          "output_type": "display_data"
        },
        {
          "data": {
            "application/vnd.jupyter.widget-view+json": {
              "model_id": "c4218e54c072474586e74dd9f3b6ea35",
              "version_major": 2,
              "version_minor": 0
            },
            "text/plain": [
              "Measuring metrics:   0%|          | 0/10 [00:00<?, ?it/s]"
            ]
          },
          "metadata": {},
          "output_type": "display_data"
        },
        {
          "data": {
            "application/vnd.jupyter.widget-view+json": {
              "model_id": "6a1c71f597c849a78aa0b20caeb53f27",
              "version_major": 2,
              "version_minor": 0
            },
            "text/plain": [
              "Measuring metrics:   0%|          | 0/10 [00:00<?, ?it/s]"
            ]
          },
          "metadata": {},
          "output_type": "display_data"
        },
        {
          "data": {
            "application/vnd.jupyter.widget-view+json": {
              "model_id": "163ecabc5e4c4013aaaf893be5eb285a",
              "version_major": 2,
              "version_minor": 0
            },
            "text/plain": [
              "Measuring metrics:   0%|          | 0/10 [00:00<?, ?it/s]"
            ]
          },
          "metadata": {},
          "output_type": "display_data"
        },
        {
          "data": {
            "application/vnd.jupyter.widget-view+json": {
              "model_id": "2edf247f6f0b48748173e05b17dc34ec",
              "version_major": 2,
              "version_minor": 0
            },
            "text/plain": [
              "Measuring metrics:   0%|          | 0/10 [00:00<?, ?it/s]"
            ]
          },
          "metadata": {},
          "output_type": "display_data"
        },
        {
          "data": {
            "application/vnd.jupyter.widget-view+json": {
              "model_id": "b7f6ad82fbff44dd800e8a2b10d1f2f4",
              "version_major": 2,
              "version_minor": 0
            },
            "text/plain": [
              "Mini-batches:   0%|          | 0/48192 [00:00<?, ?it/s]"
            ]
          },
          "metadata": {},
          "output_type": "display_data"
        },
        {
          "data": {
            "application/vnd.jupyter.widget-view+json": {
              "model_id": "37bfc5de9b0d4affb95157e4ecd3faa0",
              "version_major": 2,
              "version_minor": 0
            },
            "text/plain": [
              "Measuring metrics:   0%|          | 0/10 [00:00<?, ?it/s]"
            ]
          },
          "metadata": {},
          "output_type": "display_data"
        },
        {
          "data": {
            "application/vnd.jupyter.widget-view+json": {
              "model_id": "010dedd26aa6448390efb78a1727cac0",
              "version_major": 2,
              "version_minor": 0
            },
            "text/plain": [
              "Measuring metrics:   0%|          | 0/10 [00:00<?, ?it/s]"
            ]
          },
          "metadata": {},
          "output_type": "display_data"
        },
        {
          "data": {
            "application/vnd.jupyter.widget-view+json": {
              "model_id": "0c5c1e61b27c4512b9e29ae797e8b30e",
              "version_major": 2,
              "version_minor": 0
            },
            "text/plain": [
              "Measuring metrics:   0%|          | 0/10 [00:00<?, ?it/s]"
            ]
          },
          "metadata": {},
          "output_type": "display_data"
        },
        {
          "data": {
            "application/vnd.jupyter.widget-view+json": {
              "model_id": "66e97fe1cf104867a5a61a2bace39892",
              "version_major": 2,
              "version_minor": 0
            },
            "text/plain": [
              "Measuring metrics:   0%|          | 0/10 [00:00<?, ?it/s]"
            ]
          },
          "metadata": {},
          "output_type": "display_data"
        },
        {
          "data": {
            "application/vnd.jupyter.widget-view+json": {
              "model_id": "5af2cf0dedf341a980a3c52ad88efb7e",
              "version_major": 2,
              "version_minor": 0
            },
            "text/plain": [
              "Measuring metrics:   0%|          | 0/10 [00:00<?, ?it/s]"
            ]
          },
          "metadata": {},
          "output_type": "display_data"
        },
        {
          "data": {
            "application/vnd.jupyter.widget-view+json": {
              "model_id": "c391f66d676847a4a798cc58489bbcb2",
              "version_major": 2,
              "version_minor": 0
            },
            "text/plain": [
              "Measuring metrics:   0%|          | 0/10 [00:00<?, ?it/s]"
            ]
          },
          "metadata": {},
          "output_type": "display_data"
        },
        {
          "data": {
            "application/vnd.jupyter.widget-view+json": {
              "model_id": "eb2edd6cab464503bc9cbb36100b4928",
              "version_major": 2,
              "version_minor": 0
            },
            "text/plain": [
              "Measuring metrics:   0%|          | 0/10 [00:00<?, ?it/s]"
            ]
          },
          "metadata": {},
          "output_type": "display_data"
        },
        {
          "data": {
            "application/vnd.jupyter.widget-view+json": {
              "model_id": "78bcedd68374412cbc3d9f982c2c4579",
              "version_major": 2,
              "version_minor": 0
            },
            "text/plain": [
              "Measuring metrics:   0%|          | 0/10 [00:00<?, ?it/s]"
            ]
          },
          "metadata": {},
          "output_type": "display_data"
        },
        {
          "data": {
            "application/vnd.jupyter.widget-view+json": {
              "model_id": "779217796e584208a1129c936e650283",
              "version_major": 2,
              "version_minor": 0
            },
            "text/plain": [
              "Mini-batches:   0%|          | 0/48192 [00:00<?, ?it/s]"
            ]
          },
          "metadata": {},
          "output_type": "display_data"
        },
        {
          "data": {
            "application/vnd.jupyter.widget-view+json": {
              "model_id": "21c51ef335d24ca4a8cefaef99985b5f",
              "version_major": 2,
              "version_minor": 0
            },
            "text/plain": [
              "Measuring metrics:   0%|          | 0/10 [00:00<?, ?it/s]"
            ]
          },
          "metadata": {},
          "output_type": "display_data"
        },
        {
          "data": {
            "application/vnd.jupyter.widget-view+json": {
              "model_id": "c52d06b408cc40be8276dfd999e67f9b",
              "version_major": 2,
              "version_minor": 0
            },
            "text/plain": [
              "Measuring metrics:   0%|          | 0/10 [00:00<?, ?it/s]"
            ]
          },
          "metadata": {},
          "output_type": "display_data"
        },
        {
          "data": {
            "application/vnd.jupyter.widget-view+json": {
              "model_id": "3fba6921448747919ae419d7165773c5",
              "version_major": 2,
              "version_minor": 0
            },
            "text/plain": [
              "Measuring metrics:   0%|          | 0/10 [00:00<?, ?it/s]"
            ]
          },
          "metadata": {},
          "output_type": "display_data"
        },
        {
          "data": {
            "application/vnd.jupyter.widget-view+json": {
              "model_id": "c1787133a0184d1fb472b200eaa6d291",
              "version_major": 2,
              "version_minor": 0
            },
            "text/plain": [
              "Measuring metrics:   0%|          | 0/10 [00:00<?, ?it/s]"
            ]
          },
          "metadata": {},
          "output_type": "display_data"
        },
        {
          "data": {
            "application/vnd.jupyter.widget-view+json": {
              "model_id": "6ef916834d2f417ab1065d44aa2216f1",
              "version_major": 2,
              "version_minor": 0
            },
            "text/plain": [
              "Measuring metrics:   0%|          | 0/10 [00:00<?, ?it/s]"
            ]
          },
          "metadata": {},
          "output_type": "display_data"
        },
        {
          "data": {
            "application/vnd.jupyter.widget-view+json": {
              "model_id": "844ed83e07e3439981520b4621e14126",
              "version_major": 2,
              "version_minor": 0
            },
            "text/plain": [
              "Measuring metrics:   0%|          | 0/10 [00:00<?, ?it/s]"
            ]
          },
          "metadata": {},
          "output_type": "display_data"
        },
        {
          "data": {
            "application/vnd.jupyter.widget-view+json": {
              "model_id": "9008511a2fad4267bb8d903c3d538b3a",
              "version_major": 2,
              "version_minor": 0
            },
            "text/plain": [
              "Measuring metrics:   0%|          | 0/10 [00:00<?, ?it/s]"
            ]
          },
          "metadata": {},
          "output_type": "display_data"
        },
        {
          "data": {
            "application/vnd.jupyter.widget-view+json": {
              "model_id": "8e66b2011c9c4d0c80b2538b1d496e30",
              "version_major": 2,
              "version_minor": 0
            },
            "text/plain": [
              "Mini-batches:   0%|          | 0/48192 [00:00<?, ?it/s]"
            ]
          },
          "metadata": {},
          "output_type": "display_data"
        },
        {
          "data": {
            "application/vnd.jupyter.widget-view+json": {
              "model_id": "8ae32e562b5c4a9eba748ba09e189523",
              "version_major": 2,
              "version_minor": 0
            },
            "text/plain": [
              "Measuring metrics:   0%|          | 0/10 [00:00<?, ?it/s]"
            ]
          },
          "metadata": {},
          "output_type": "display_data"
        },
        {
          "data": {
            "application/vnd.jupyter.widget-view+json": {
              "model_id": "5358637e6fe1412f9b927decc538abf8",
              "version_major": 2,
              "version_minor": 0
            },
            "text/plain": [
              "Measuring metrics:   0%|          | 0/10 [00:00<?, ?it/s]"
            ]
          },
          "metadata": {},
          "output_type": "display_data"
        },
        {
          "data": {
            "application/vnd.jupyter.widget-view+json": {
              "model_id": "29c154b1f4194605889665f3ec72a180",
              "version_major": 2,
              "version_minor": 0
            },
            "text/plain": [
              "Measuring metrics:   0%|          | 0/10 [00:00<?, ?it/s]"
            ]
          },
          "metadata": {},
          "output_type": "display_data"
        },
        {
          "data": {
            "application/vnd.jupyter.widget-view+json": {
              "model_id": "80d7f064701644968e81c57143be5a96",
              "version_major": 2,
              "version_minor": 0
            },
            "text/plain": [
              "Measuring metrics:   0%|          | 0/10 [00:00<?, ?it/s]"
            ]
          },
          "metadata": {},
          "output_type": "display_data"
        },
        {
          "data": {
            "application/vnd.jupyter.widget-view+json": {
              "model_id": "61a0ae79549f4c04921161293e9ff86c",
              "version_major": 2,
              "version_minor": 0
            },
            "text/plain": [
              "Measuring metrics:   0%|          | 0/10 [00:00<?, ?it/s]"
            ]
          },
          "metadata": {},
          "output_type": "display_data"
        },
        {
          "data": {
            "application/vnd.jupyter.widget-view+json": {
              "model_id": "2ef4fc275f544bd28e3ce55a7aa23979",
              "version_major": 2,
              "version_minor": 0
            },
            "text/plain": [
              "Measuring metrics:   0%|          | 0/10 [00:00<?, ?it/s]"
            ]
          },
          "metadata": {},
          "output_type": "display_data"
        },
        {
          "data": {
            "application/vnd.jupyter.widget-view+json": {
              "model_id": "13c04a6d888f43ef95be8bb17713f287",
              "version_major": 2,
              "version_minor": 0
            },
            "text/plain": [
              "Measuring metrics:   0%|          | 0/10 [00:00<?, ?it/s]"
            ]
          },
          "metadata": {},
          "output_type": "display_data"
        },
        {
          "data": {
            "application/vnd.jupyter.widget-view+json": {
              "model_id": "8b09d297f9f2445c8fff993fc16e3842",
              "version_major": 2,
              "version_minor": 0
            },
            "text/plain": [
              "Measuring metrics:   0%|          | 0/10 [00:00<?, ?it/s]"
            ]
          },
          "metadata": {},
          "output_type": "display_data"
        },
        {
          "data": {
            "application/vnd.jupyter.widget-view+json": {
              "model_id": "c82005e6ad444458999dc1a84c07daac",
              "version_major": 2,
              "version_minor": 0
            },
            "text/plain": [
              "Mini-batches:   0%|          | 0/48192 [00:00<?, ?it/s]"
            ]
          },
          "metadata": {},
          "output_type": "display_data"
        },
        {
          "data": {
            "application/vnd.jupyter.widget-view+json": {
              "model_id": "e440029aa6f54a76aa14bfc6b97f23ec",
              "version_major": 2,
              "version_minor": 0
            },
            "text/plain": [
              "Measuring metrics:   0%|          | 0/10 [00:00<?, ?it/s]"
            ]
          },
          "metadata": {},
          "output_type": "display_data"
        },
        {
          "data": {
            "application/vnd.jupyter.widget-view+json": {
              "model_id": "326dc18f805c48a4a2158b59fe67b33e",
              "version_major": 2,
              "version_minor": 0
            },
            "text/plain": [
              "Measuring metrics:   0%|          | 0/10 [00:00<?, ?it/s]"
            ]
          },
          "metadata": {},
          "output_type": "display_data"
        },
        {
          "data": {
            "application/vnd.jupyter.widget-view+json": {
              "model_id": "27ac17904ca849a7a384e944b9b95e71",
              "version_major": 2,
              "version_minor": 0
            },
            "text/plain": [
              "Measuring metrics:   0%|          | 0/10 [00:00<?, ?it/s]"
            ]
          },
          "metadata": {},
          "output_type": "display_data"
        },
        {
          "data": {
            "application/vnd.jupyter.widget-view+json": {
              "model_id": "14e72f411898486e84590c0cc8446590",
              "version_major": 2,
              "version_minor": 0
            },
            "text/plain": [
              "Measuring metrics:   0%|          | 0/10 [00:00<?, ?it/s]"
            ]
          },
          "metadata": {},
          "output_type": "display_data"
        },
        {
          "data": {
            "application/vnd.jupyter.widget-view+json": {
              "model_id": "73a03f1a3b354e9089acebbbc0bf5e7a",
              "version_major": 2,
              "version_minor": 0
            },
            "text/plain": [
              "Measuring metrics:   0%|          | 0/10 [00:00<?, ?it/s]"
            ]
          },
          "metadata": {},
          "output_type": "display_data"
        },
        {
          "data": {
            "application/vnd.jupyter.widget-view+json": {
              "model_id": "348634bc967a450186e72ef7a4bf9592",
              "version_major": 2,
              "version_minor": 0
            },
            "text/plain": [
              "Measuring metrics:   0%|          | 0/10 [00:00<?, ?it/s]"
            ]
          },
          "metadata": {},
          "output_type": "display_data"
        },
        {
          "data": {
            "application/vnd.jupyter.widget-view+json": {
              "model_id": "105726268a854b019b5d2ede865e8a86",
              "version_major": 2,
              "version_minor": 0
            },
            "text/plain": [
              "Measuring metrics:   0%|          | 0/10 [00:00<?, ?it/s]"
            ]
          },
          "metadata": {},
          "output_type": "display_data"
        },
        {
          "data": {
            "application/vnd.jupyter.widget-view+json": {
              "model_id": "92652ec62ea945a090741bc4e39cd91b",
              "version_major": 2,
              "version_minor": 0
            },
            "text/plain": [
              "Measuring metrics:   0%|          | 0/10 [00:00<?, ?it/s]"
            ]
          },
          "metadata": {},
          "output_type": "display_data"
        },
        {
          "data": {
            "application/vnd.jupyter.widget-view+json": {
              "model_id": "081f1a8529c840ad84d5352b8018a2c3",
              "version_major": 2,
              "version_minor": 0
            },
            "text/plain": [
              "Mini-batches:   0%|          | 0/48192 [00:00<?, ?it/s]"
            ]
          },
          "metadata": {},
          "output_type": "display_data"
        },
        {
          "data": {
            "application/vnd.jupyter.widget-view+json": {
              "model_id": "5700397b463247f892c91b09719e555f",
              "version_major": 2,
              "version_minor": 0
            },
            "text/plain": [
              "Measuring metrics:   0%|          | 0/10 [00:00<?, ?it/s]"
            ]
          },
          "metadata": {},
          "output_type": "display_data"
        },
        {
          "data": {
            "application/vnd.jupyter.widget-view+json": {
              "model_id": "783f1cc1f4104969b3faafbd5c564c46",
              "version_major": 2,
              "version_minor": 0
            },
            "text/plain": [
              "Measuring metrics:   0%|          | 0/10 [00:00<?, ?it/s]"
            ]
          },
          "metadata": {},
          "output_type": "display_data"
        },
        {
          "data": {
            "application/vnd.jupyter.widget-view+json": {
              "model_id": "3faf932ae5314716bbf2107f53677acf",
              "version_major": 2,
              "version_minor": 0
            },
            "text/plain": [
              "Measuring metrics:   0%|          | 0/10 [00:00<?, ?it/s]"
            ]
          },
          "metadata": {},
          "output_type": "display_data"
        },
        {
          "data": {
            "application/vnd.jupyter.widget-view+json": {
              "model_id": "8da6614e25e04cf2940fedeb1b90b4d4",
              "version_major": 2,
              "version_minor": 0
            },
            "text/plain": [
              "Measuring metrics:   0%|          | 0/10 [00:00<?, ?it/s]"
            ]
          },
          "metadata": {},
          "output_type": "display_data"
        },
        {
          "data": {
            "application/vnd.jupyter.widget-view+json": {
              "model_id": "655dbb8b97a1430ca8a9e9dc2922ed92",
              "version_major": 2,
              "version_minor": 0
            },
            "text/plain": [
              "Measuring metrics:   0%|          | 0/10 [00:00<?, ?it/s]"
            ]
          },
          "metadata": {},
          "output_type": "display_data"
        },
        {
          "data": {
            "application/vnd.jupyter.widget-view+json": {
              "model_id": "727a9fa37e304c73bea1ff8eb30ce386",
              "version_major": 2,
              "version_minor": 0
            },
            "text/plain": [
              "Measuring metrics:   0%|          | 0/10 [00:00<?, ?it/s]"
            ]
          },
          "metadata": {},
          "output_type": "display_data"
        },
        {
          "data": {
            "application/vnd.jupyter.widget-view+json": {
              "model_id": "e2042304ca7d455fbb105b640d6ab13c",
              "version_major": 2,
              "version_minor": 0
            },
            "text/plain": [
              "Measuring metrics:   0%|          | 0/10 [00:00<?, ?it/s]"
            ]
          },
          "metadata": {},
          "output_type": "display_data"
        },
        {
          "data": {
            "application/vnd.jupyter.widget-view+json": {
              "model_id": "50078c5731b644a390b251f6fdf968df",
              "version_major": 2,
              "version_minor": 0
            },
            "text/plain": [
              "Measuring metrics:   0%|          | 0/10 [00:00<?, ?it/s]"
            ]
          },
          "metadata": {},
          "output_type": "display_data"
        },
        {
          "data": {
            "application/vnd.jupyter.widget-view+json": {
              "model_id": "9efc73f6a2d44a8f81146b9942f862cd",
              "version_major": 2,
              "version_minor": 0
            },
            "text/plain": [
              "Mini-batches:   0%|          | 0/48192 [00:00<?, ?it/s]"
            ]
          },
          "metadata": {},
          "output_type": "display_data"
        },
        {
          "data": {
            "application/vnd.jupyter.widget-view+json": {
              "model_id": "9cb8822914764b8fb4ff420923a4e5d1",
              "version_major": 2,
              "version_minor": 0
            },
            "text/plain": [
              "Measuring metrics:   0%|          | 0/10 [00:00<?, ?it/s]"
            ]
          },
          "metadata": {},
          "output_type": "display_data"
        },
        {
          "data": {
            "application/vnd.jupyter.widget-view+json": {
              "model_id": "cb40ad7cbb6b4169b363cf6230bad0f4",
              "version_major": 2,
              "version_minor": 0
            },
            "text/plain": [
              "Measuring metrics:   0%|          | 0/10 [00:00<?, ?it/s]"
            ]
          },
          "metadata": {},
          "output_type": "display_data"
        },
        {
          "data": {
            "application/vnd.jupyter.widget-view+json": {
              "model_id": "e79e91bed5f2429fb9a44d1011fd6376",
              "version_major": 2,
              "version_minor": 0
            },
            "text/plain": [
              "Measuring metrics:   0%|          | 0/10 [00:00<?, ?it/s]"
            ]
          },
          "metadata": {},
          "output_type": "display_data"
        },
        {
          "data": {
            "application/vnd.jupyter.widget-view+json": {
              "model_id": "87fc4801ab0744278e5dde667033a15e",
              "version_major": 2,
              "version_minor": 0
            },
            "text/plain": [
              "Measuring metrics:   0%|          | 0/10 [00:00<?, ?it/s]"
            ]
          },
          "metadata": {},
          "output_type": "display_data"
        },
        {
          "data": {
            "application/vnd.jupyter.widget-view+json": {
              "model_id": "edb11fd089f443bc889e29047968500b",
              "version_major": 2,
              "version_minor": 0
            },
            "text/plain": [
              "Measuring metrics:   0%|          | 0/10 [00:00<?, ?it/s]"
            ]
          },
          "metadata": {},
          "output_type": "display_data"
        },
        {
          "data": {
            "application/vnd.jupyter.widget-view+json": {
              "model_id": "2a7651161c6240e384b87e6aa3576fb6",
              "version_major": 2,
              "version_minor": 0
            },
            "text/plain": [
              "Measuring metrics:   0%|          | 0/10 [00:00<?, ?it/s]"
            ]
          },
          "metadata": {},
          "output_type": "display_data"
        },
        {
          "data": {
            "application/vnd.jupyter.widget-view+json": {
              "model_id": "59d1e6262c524bb0b51b8a96259fb9c7",
              "version_major": 2,
              "version_minor": 0
            },
            "text/plain": [
              "Measuring metrics:   0%|          | 0/10 [00:00<?, ?it/s]"
            ]
          },
          "metadata": {},
          "output_type": "display_data"
        },
        {
          "data": {
            "application/vnd.jupyter.widget-view+json": {
              "model_id": "f81ba1be355543b9af975c0dfe4fd51a",
              "version_major": 2,
              "version_minor": 0
            },
            "text/plain": [
              "Measuring metrics:   0%|          | 0/10 [00:00<?, ?it/s]"
            ]
          },
          "metadata": {},
          "output_type": "display_data"
        },
        {
          "name": "stdout",
          "output_type": "stream",
          "text": [
            "Next subset: Subset(MNIST, len=54051, labels=(0, 1, 2, 3, 4, 5, 6, 7, 8))\n"
          ]
        },
        {
          "data": {
            "application/vnd.jupyter.widget-view+json": {
              "model_id": "09e8eaa2644742cf9e8b35b6beae6734",
              "version_major": 2,
              "version_minor": 0
            },
            "text/plain": [
              "Mini-batches:   0%|          | 0/54048 [00:00<?, ?it/s]"
            ]
          },
          "metadata": {},
          "output_type": "display_data"
        },
        {
          "data": {
            "application/vnd.jupyter.widget-view+json": {
              "model_id": "bf6ee70902e54246a59fca5859790e60",
              "version_major": 2,
              "version_minor": 0
            },
            "text/plain": [
              "Measuring metrics:   0%|          | 0/10 [00:00<?, ?it/s]"
            ]
          },
          "metadata": {},
          "output_type": "display_data"
        },
        {
          "data": {
            "application/vnd.jupyter.widget-view+json": {
              "model_id": "6a2a5d83f3054902b0d61a58918421d7",
              "version_major": 2,
              "version_minor": 0
            },
            "text/plain": [
              "Measuring metrics:   0%|          | 0/10 [00:00<?, ?it/s]"
            ]
          },
          "metadata": {},
          "output_type": "display_data"
        },
        {
          "data": {
            "application/vnd.jupyter.widget-view+json": {
              "model_id": "66f9b9475c1b4868a590fadf586d6090",
              "version_major": 2,
              "version_minor": 0
            },
            "text/plain": [
              "Measuring metrics:   0%|          | 0/10 [00:00<?, ?it/s]"
            ]
          },
          "metadata": {},
          "output_type": "display_data"
        },
        {
          "data": {
            "application/vnd.jupyter.widget-view+json": {
              "model_id": "ebbaf321528744459b39660b2d8b2954",
              "version_major": 2,
              "version_minor": 0
            },
            "text/plain": [
              "Measuring metrics:   0%|          | 0/10 [00:00<?, ?it/s]"
            ]
          },
          "metadata": {},
          "output_type": "display_data"
        },
        {
          "data": {
            "application/vnd.jupyter.widget-view+json": {
              "model_id": "04b334a016284c318a0ba7f7ecf3e31f",
              "version_major": 2,
              "version_minor": 0
            },
            "text/plain": [
              "Measuring metrics:   0%|          | 0/10 [00:00<?, ?it/s]"
            ]
          },
          "metadata": {},
          "output_type": "display_data"
        },
        {
          "data": {
            "application/vnd.jupyter.widget-view+json": {
              "model_id": "6a8593a93cbc443bba5deefab40ade55",
              "version_major": 2,
              "version_minor": 0
            },
            "text/plain": [
              "Measuring metrics:   0%|          | 0/10 [00:00<?, ?it/s]"
            ]
          },
          "metadata": {},
          "output_type": "display_data"
        },
        {
          "data": {
            "application/vnd.jupyter.widget-view+json": {
              "model_id": "2da5c6b5bac64f4088caa5ffe76c1bdd",
              "version_major": 2,
              "version_minor": 0
            },
            "text/plain": [
              "Measuring metrics:   0%|          | 0/10 [00:00<?, ?it/s]"
            ]
          },
          "metadata": {},
          "output_type": "display_data"
        },
        {
          "data": {
            "application/vnd.jupyter.widget-view+json": {
              "model_id": "73ff5f1a06b342e2a4819bb43e43a093",
              "version_major": 2,
              "version_minor": 0
            },
            "text/plain": [
              "Measuring metrics:   0%|          | 0/10 [00:00<?, ?it/s]"
            ]
          },
          "metadata": {},
          "output_type": "display_data"
        },
        {
          "data": {
            "application/vnd.jupyter.widget-view+json": {
              "model_id": "56296686fde24d0dba5eef53633ec7f8",
              "version_major": 2,
              "version_minor": 0
            },
            "text/plain": [
              "Measuring metrics:   0%|          | 0/10 [00:00<?, ?it/s]"
            ]
          },
          "metadata": {},
          "output_type": "display_data"
        },
        {
          "data": {
            "application/vnd.jupyter.widget-view+json": {
              "model_id": "fcbddeb23572420797189d17acf57b4b",
              "version_major": 2,
              "version_minor": 0
            },
            "text/plain": [
              "Mini-batches:   0%|          | 0/54048 [00:00<?, ?it/s]"
            ]
          },
          "metadata": {},
          "output_type": "display_data"
        },
        {
          "data": {
            "application/vnd.jupyter.widget-view+json": {
              "model_id": "01c26201659243478b5cf1f0476ec164",
              "version_major": 2,
              "version_minor": 0
            },
            "text/plain": [
              "Measuring metrics:   0%|          | 0/10 [00:00<?, ?it/s]"
            ]
          },
          "metadata": {},
          "output_type": "display_data"
        },
        {
          "data": {
            "application/vnd.jupyter.widget-view+json": {
              "model_id": "3c888be43937404dbd9d8b7dd1057c58",
              "version_major": 2,
              "version_minor": 0
            },
            "text/plain": [
              "Measuring metrics:   0%|          | 0/10 [00:00<?, ?it/s]"
            ]
          },
          "metadata": {},
          "output_type": "display_data"
        },
        {
          "data": {
            "application/vnd.jupyter.widget-view+json": {
              "model_id": "de49a68ac40249748d91efaade00897e",
              "version_major": 2,
              "version_minor": 0
            },
            "text/plain": [
              "Measuring metrics:   0%|          | 0/10 [00:00<?, ?it/s]"
            ]
          },
          "metadata": {},
          "output_type": "display_data"
        },
        {
          "data": {
            "application/vnd.jupyter.widget-view+json": {
              "model_id": "d2b786d2ef9c4dc1b74f0f4975e24b3e",
              "version_major": 2,
              "version_minor": 0
            },
            "text/plain": [
              "Measuring metrics:   0%|          | 0/10 [00:00<?, ?it/s]"
            ]
          },
          "metadata": {},
          "output_type": "display_data"
        },
        {
          "data": {
            "application/vnd.jupyter.widget-view+json": {
              "model_id": "8aeec0a739bb421792d1934393d42fb1",
              "version_major": 2,
              "version_minor": 0
            },
            "text/plain": [
              "Measuring metrics:   0%|          | 0/10 [00:00<?, ?it/s]"
            ]
          },
          "metadata": {},
          "output_type": "display_data"
        },
        {
          "data": {
            "application/vnd.jupyter.widget-view+json": {
              "model_id": "e407dded29a44f2e991bc96a33037577",
              "version_major": 2,
              "version_minor": 0
            },
            "text/plain": [
              "Measuring metrics:   0%|          | 0/10 [00:00<?, ?it/s]"
            ]
          },
          "metadata": {},
          "output_type": "display_data"
        },
        {
          "data": {
            "application/vnd.jupyter.widget-view+json": {
              "model_id": "a8f3ce26ca7444b295b4059f61c783bc",
              "version_major": 2,
              "version_minor": 0
            },
            "text/plain": [
              "Measuring metrics:   0%|          | 0/10 [00:00<?, ?it/s]"
            ]
          },
          "metadata": {},
          "output_type": "display_data"
        },
        {
          "data": {
            "application/vnd.jupyter.widget-view+json": {
              "model_id": "eb53cd8f66134f8699233110bab7293b",
              "version_major": 2,
              "version_minor": 0
            },
            "text/plain": [
              "Measuring metrics:   0%|          | 0/10 [00:00<?, ?it/s]"
            ]
          },
          "metadata": {},
          "output_type": "display_data"
        },
        {
          "data": {
            "application/vnd.jupyter.widget-view+json": {
              "model_id": "7498f4b25ca342d8aa60f6ee466b1f0c",
              "version_major": 2,
              "version_minor": 0
            },
            "text/plain": [
              "Measuring metrics:   0%|          | 0/10 [00:00<?, ?it/s]"
            ]
          },
          "metadata": {},
          "output_type": "display_data"
        },
        {
          "data": {
            "application/vnd.jupyter.widget-view+json": {
              "model_id": "073ff253d75e47738d3ed960c157d0f5",
              "version_major": 2,
              "version_minor": 0
            },
            "text/plain": [
              "Mini-batches:   0%|          | 0/54048 [00:00<?, ?it/s]"
            ]
          },
          "metadata": {},
          "output_type": "display_data"
        },
        {
          "data": {
            "application/vnd.jupyter.widget-view+json": {
              "model_id": "060c3f962b5a43608f0166ae6cd6527a",
              "version_major": 2,
              "version_minor": 0
            },
            "text/plain": [
              "Measuring metrics:   0%|          | 0/10 [00:00<?, ?it/s]"
            ]
          },
          "metadata": {},
          "output_type": "display_data"
        },
        {
          "data": {
            "application/vnd.jupyter.widget-view+json": {
              "model_id": "9ba1f045a9054023a3b414de50913ab8",
              "version_major": 2,
              "version_minor": 0
            },
            "text/plain": [
              "Measuring metrics:   0%|          | 0/10 [00:00<?, ?it/s]"
            ]
          },
          "metadata": {},
          "output_type": "display_data"
        },
        {
          "data": {
            "application/vnd.jupyter.widget-view+json": {
              "model_id": "8312f4de9b7345bab22cbf2c04d0f95d",
              "version_major": 2,
              "version_minor": 0
            },
            "text/plain": [
              "Measuring metrics:   0%|          | 0/10 [00:00<?, ?it/s]"
            ]
          },
          "metadata": {},
          "output_type": "display_data"
        },
        {
          "data": {
            "application/vnd.jupyter.widget-view+json": {
              "model_id": "08d6ffa74d3b494a8089dce2ec3907e7",
              "version_major": 2,
              "version_minor": 0
            },
            "text/plain": [
              "Measuring metrics:   0%|          | 0/10 [00:00<?, ?it/s]"
            ]
          },
          "metadata": {},
          "output_type": "display_data"
        },
        {
          "data": {
            "application/vnd.jupyter.widget-view+json": {
              "model_id": "1d1488b554e643b6bb103455df153b3b",
              "version_major": 2,
              "version_minor": 0
            },
            "text/plain": [
              "Measuring metrics:   0%|          | 0/10 [00:00<?, ?it/s]"
            ]
          },
          "metadata": {},
          "output_type": "display_data"
        },
        {
          "data": {
            "application/vnd.jupyter.widget-view+json": {
              "model_id": "41a738050bb64aaf8c26e742cd477776",
              "version_major": 2,
              "version_minor": 0
            },
            "text/plain": [
              "Measuring metrics:   0%|          | 0/10 [00:00<?, ?it/s]"
            ]
          },
          "metadata": {},
          "output_type": "display_data"
        },
        {
          "data": {
            "application/vnd.jupyter.widget-view+json": {
              "model_id": "bb5ef28553614a4b9e8c976e782c9979",
              "version_major": 2,
              "version_minor": 0
            },
            "text/plain": [
              "Measuring metrics:   0%|          | 0/10 [00:00<?, ?it/s]"
            ]
          },
          "metadata": {},
          "output_type": "display_data"
        },
        {
          "data": {
            "application/vnd.jupyter.widget-view+json": {
              "model_id": "9d9d60cecece4db1a9718f582a3263e3",
              "version_major": 2,
              "version_minor": 0
            },
            "text/plain": [
              "Measuring metrics:   0%|          | 0/10 [00:00<?, ?it/s]"
            ]
          },
          "metadata": {},
          "output_type": "display_data"
        },
        {
          "data": {
            "application/vnd.jupyter.widget-view+json": {
              "model_id": "cbb149e4960d4bb49c94ee31e8750413",
              "version_major": 2,
              "version_minor": 0
            },
            "text/plain": [
              "Mini-batches:   0%|          | 0/54048 [00:00<?, ?it/s]"
            ]
          },
          "metadata": {},
          "output_type": "display_data"
        },
        {
          "data": {
            "application/vnd.jupyter.widget-view+json": {
              "model_id": "97cd63c0c4c449ff8996cfb59e109cd5",
              "version_major": 2,
              "version_minor": 0
            },
            "text/plain": [
              "Measuring metrics:   0%|          | 0/10 [00:00<?, ?it/s]"
            ]
          },
          "metadata": {},
          "output_type": "display_data"
        },
        {
          "data": {
            "application/vnd.jupyter.widget-view+json": {
              "model_id": "53c5026ea9094dfe9a7067569e5e683a",
              "version_major": 2,
              "version_minor": 0
            },
            "text/plain": [
              "Measuring metrics:   0%|          | 0/10 [00:00<?, ?it/s]"
            ]
          },
          "metadata": {},
          "output_type": "display_data"
        },
        {
          "data": {
            "application/vnd.jupyter.widget-view+json": {
              "model_id": "b65fa14b150941dabb3db5ac6ad849a3",
              "version_major": 2,
              "version_minor": 0
            },
            "text/plain": [
              "Measuring metrics:   0%|          | 0/10 [00:00<?, ?it/s]"
            ]
          },
          "metadata": {},
          "output_type": "display_data"
        },
        {
          "data": {
            "application/vnd.jupyter.widget-view+json": {
              "model_id": "67f8f70130d845119d58db336100cb9a",
              "version_major": 2,
              "version_minor": 0
            },
            "text/plain": [
              "Measuring metrics:   0%|          | 0/10 [00:00<?, ?it/s]"
            ]
          },
          "metadata": {},
          "output_type": "display_data"
        },
        {
          "data": {
            "application/vnd.jupyter.widget-view+json": {
              "model_id": "a93e336cf9ee471d8977962279564f4a",
              "version_major": 2,
              "version_minor": 0
            },
            "text/plain": [
              "Measuring metrics:   0%|          | 0/10 [00:00<?, ?it/s]"
            ]
          },
          "metadata": {},
          "output_type": "display_data"
        },
        {
          "data": {
            "application/vnd.jupyter.widget-view+json": {
              "model_id": "b559e02fab1048e480e4006e9c510edb",
              "version_major": 2,
              "version_minor": 0
            },
            "text/plain": [
              "Measuring metrics:   0%|          | 0/10 [00:00<?, ?it/s]"
            ]
          },
          "metadata": {},
          "output_type": "display_data"
        },
        {
          "data": {
            "application/vnd.jupyter.widget-view+json": {
              "model_id": "9824fa6151814d9086de276f17fa2f1f",
              "version_major": 2,
              "version_minor": 0
            },
            "text/plain": [
              "Measuring metrics:   0%|          | 0/10 [00:00<?, ?it/s]"
            ]
          },
          "metadata": {},
          "output_type": "display_data"
        },
        {
          "data": {
            "application/vnd.jupyter.widget-view+json": {
              "model_id": "898d505a7c5c4bf2a833f6d6f8d2bc40",
              "version_major": 2,
              "version_minor": 0
            },
            "text/plain": [
              "Measuring metrics:   0%|          | 0/10 [00:00<?, ?it/s]"
            ]
          },
          "metadata": {},
          "output_type": "display_data"
        },
        {
          "data": {
            "application/vnd.jupyter.widget-view+json": {
              "model_id": "12a3ddb6cd3f440c8837f044e7776765",
              "version_major": 2,
              "version_minor": 0
            },
            "text/plain": [
              "Measuring metrics:   0%|          | 0/10 [00:00<?, ?it/s]"
            ]
          },
          "metadata": {},
          "output_type": "display_data"
        },
        {
          "data": {
            "application/vnd.jupyter.widget-view+json": {
              "model_id": "b30eaab7717340678cb217c3c6c721b8",
              "version_major": 2,
              "version_minor": 0
            },
            "text/plain": [
              "Mini-batches:   0%|          | 0/54048 [00:00<?, ?it/s]"
            ]
          },
          "metadata": {},
          "output_type": "display_data"
        },
        {
          "data": {
            "application/vnd.jupyter.widget-view+json": {
              "model_id": "ac0765aded32422fa8cc34664ae641c1",
              "version_major": 2,
              "version_minor": 0
            },
            "text/plain": [
              "Measuring metrics:   0%|          | 0/10 [00:00<?, ?it/s]"
            ]
          },
          "metadata": {},
          "output_type": "display_data"
        },
        {
          "data": {
            "application/vnd.jupyter.widget-view+json": {
              "model_id": "df3e7a5c7b83423ea0ed295e36103f8f",
              "version_major": 2,
              "version_minor": 0
            },
            "text/plain": [
              "Measuring metrics:   0%|          | 0/10 [00:00<?, ?it/s]"
            ]
          },
          "metadata": {},
          "output_type": "display_data"
        },
        {
          "data": {
            "application/vnd.jupyter.widget-view+json": {
              "model_id": "d849174766f2407ca5c5addf6edeb864",
              "version_major": 2,
              "version_minor": 0
            },
            "text/plain": [
              "Measuring metrics:   0%|          | 0/10 [00:00<?, ?it/s]"
            ]
          },
          "metadata": {},
          "output_type": "display_data"
        },
        {
          "data": {
            "application/vnd.jupyter.widget-view+json": {
              "model_id": "a55a016ec7a84691b079f8e17bc08b83",
              "version_major": 2,
              "version_minor": 0
            },
            "text/plain": [
              "Measuring metrics:   0%|          | 0/10 [00:00<?, ?it/s]"
            ]
          },
          "metadata": {},
          "output_type": "display_data"
        },
        {
          "data": {
            "application/vnd.jupyter.widget-view+json": {
              "model_id": "0b8c45fcc5444aa88f02123c13ca86af",
              "version_major": 2,
              "version_minor": 0
            },
            "text/plain": [
              "Measuring metrics:   0%|          | 0/10 [00:00<?, ?it/s]"
            ]
          },
          "metadata": {},
          "output_type": "display_data"
        },
        {
          "data": {
            "application/vnd.jupyter.widget-view+json": {
              "model_id": "caefb7bab0634c69954c44f9e7aa5fc4",
              "version_major": 2,
              "version_minor": 0
            },
            "text/plain": [
              "Measuring metrics:   0%|          | 0/10 [00:00<?, ?it/s]"
            ]
          },
          "metadata": {},
          "output_type": "display_data"
        },
        {
          "data": {
            "application/vnd.jupyter.widget-view+json": {
              "model_id": "466f831dcf2e4d05bced58d10d9c6ab2",
              "version_major": 2,
              "version_minor": 0
            },
            "text/plain": [
              "Measuring metrics:   0%|          | 0/10 [00:00<?, ?it/s]"
            ]
          },
          "metadata": {},
          "output_type": "display_data"
        },
        {
          "data": {
            "application/vnd.jupyter.widget-view+json": {
              "model_id": "dbc98487802843e291c4cd7e7f11c590",
              "version_major": 2,
              "version_minor": 0
            },
            "text/plain": [
              "Measuring metrics:   0%|          | 0/10 [00:00<?, ?it/s]"
            ]
          },
          "metadata": {},
          "output_type": "display_data"
        },
        {
          "data": {
            "application/vnd.jupyter.widget-view+json": {
              "model_id": "f3cad9d293c74facac119222d3eef4d3",
              "version_major": 2,
              "version_minor": 0
            },
            "text/plain": [
              "Measuring metrics:   0%|          | 0/10 [00:00<?, ?it/s]"
            ]
          },
          "metadata": {},
          "output_type": "display_data"
        },
        {
          "data": {
            "application/vnd.jupyter.widget-view+json": {
              "model_id": "87dd43cde1bb466ab1b1da01c7bfc0f0",
              "version_major": 2,
              "version_minor": 0
            },
            "text/plain": [
              "Mini-batches:   0%|          | 0/54048 [00:00<?, ?it/s]"
            ]
          },
          "metadata": {},
          "output_type": "display_data"
        },
        {
          "data": {
            "application/vnd.jupyter.widget-view+json": {
              "model_id": "6d558092e5f24bc59f61a46136bcc0c8",
              "version_major": 2,
              "version_minor": 0
            },
            "text/plain": [
              "Measuring metrics:   0%|          | 0/10 [00:00<?, ?it/s]"
            ]
          },
          "metadata": {},
          "output_type": "display_data"
        },
        {
          "data": {
            "application/vnd.jupyter.widget-view+json": {
              "model_id": "f6e2a7ce857a47fc9cad9b4d41be081e",
              "version_major": 2,
              "version_minor": 0
            },
            "text/plain": [
              "Measuring metrics:   0%|          | 0/10 [00:00<?, ?it/s]"
            ]
          },
          "metadata": {},
          "output_type": "display_data"
        },
        {
          "data": {
            "application/vnd.jupyter.widget-view+json": {
              "model_id": "576e592b97d3485b9cdbfed676aed4aa",
              "version_major": 2,
              "version_minor": 0
            },
            "text/plain": [
              "Measuring metrics:   0%|          | 0/10 [00:00<?, ?it/s]"
            ]
          },
          "metadata": {},
          "output_type": "display_data"
        },
        {
          "data": {
            "application/vnd.jupyter.widget-view+json": {
              "model_id": "e53d67042a904458b37e379c2e91a1bb",
              "version_major": 2,
              "version_minor": 0
            },
            "text/plain": [
              "Measuring metrics:   0%|          | 0/10 [00:00<?, ?it/s]"
            ]
          },
          "metadata": {},
          "output_type": "display_data"
        },
        {
          "data": {
            "application/vnd.jupyter.widget-view+json": {
              "model_id": "ba09745bc15043268ae819ad0c45b76c",
              "version_major": 2,
              "version_minor": 0
            },
            "text/plain": [
              "Measuring metrics:   0%|          | 0/10 [00:00<?, ?it/s]"
            ]
          },
          "metadata": {},
          "output_type": "display_data"
        },
        {
          "data": {
            "application/vnd.jupyter.widget-view+json": {
              "model_id": "a1d96286b1bc4278a754c3204c68b80d",
              "version_major": 2,
              "version_minor": 0
            },
            "text/plain": [
              "Measuring metrics:   0%|          | 0/10 [00:00<?, ?it/s]"
            ]
          },
          "metadata": {},
          "output_type": "display_data"
        },
        {
          "data": {
            "application/vnd.jupyter.widget-view+json": {
              "model_id": "40e28f5a13a940039faef6defbd47ab4",
              "version_major": 2,
              "version_minor": 0
            },
            "text/plain": [
              "Measuring metrics:   0%|          | 0/10 [00:00<?, ?it/s]"
            ]
          },
          "metadata": {},
          "output_type": "display_data"
        },
        {
          "data": {
            "application/vnd.jupyter.widget-view+json": {
              "model_id": "92953b116a574fcfaa3af864ea514383",
              "version_major": 2,
              "version_minor": 0
            },
            "text/plain": [
              "Measuring metrics:   0%|          | 0/10 [00:00<?, ?it/s]"
            ]
          },
          "metadata": {},
          "output_type": "display_data"
        },
        {
          "data": {
            "application/vnd.jupyter.widget-view+json": {
              "model_id": "561e7f3ede934079b4211cdf4877023e",
              "version_major": 2,
              "version_minor": 0
            },
            "text/plain": [
              "Measuring metrics:   0%|          | 0/10 [00:00<?, ?it/s]"
            ]
          },
          "metadata": {},
          "output_type": "display_data"
        },
        {
          "data": {
            "application/vnd.jupyter.widget-view+json": {
              "model_id": "6f258471fdef40d0881f694d4696ef76",
              "version_major": 2,
              "version_minor": 0
            },
            "text/plain": [
              "Mini-batches:   0%|          | 0/54048 [00:00<?, ?it/s]"
            ]
          },
          "metadata": {},
          "output_type": "display_data"
        },
        {
          "data": {
            "application/vnd.jupyter.widget-view+json": {
              "model_id": "b9c4423063f542e4b43de865ca351ab8",
              "version_major": 2,
              "version_minor": 0
            },
            "text/plain": [
              "Measuring metrics:   0%|          | 0/10 [00:00<?, ?it/s]"
            ]
          },
          "metadata": {},
          "output_type": "display_data"
        },
        {
          "data": {
            "application/vnd.jupyter.widget-view+json": {
              "model_id": "454ecab5d4ee4ec08cc3ae6953ffb1a9",
              "version_major": 2,
              "version_minor": 0
            },
            "text/plain": [
              "Measuring metrics:   0%|          | 0/10 [00:00<?, ?it/s]"
            ]
          },
          "metadata": {},
          "output_type": "display_data"
        },
        {
          "data": {
            "application/vnd.jupyter.widget-view+json": {
              "model_id": "afb3d8e0fe914ff39aecc3b6d66c1e74",
              "version_major": 2,
              "version_minor": 0
            },
            "text/plain": [
              "Measuring metrics:   0%|          | 0/10 [00:00<?, ?it/s]"
            ]
          },
          "metadata": {},
          "output_type": "display_data"
        },
        {
          "data": {
            "application/vnd.jupyter.widget-view+json": {
              "model_id": "11c5e0a9ceb340a2aba76231ec8ad0cb",
              "version_major": 2,
              "version_minor": 0
            },
            "text/plain": [
              "Measuring metrics:   0%|          | 0/10 [00:00<?, ?it/s]"
            ]
          },
          "metadata": {},
          "output_type": "display_data"
        },
        {
          "data": {
            "application/vnd.jupyter.widget-view+json": {
              "model_id": "aed59f87f0c94678b6d8107a1437dbde",
              "version_major": 2,
              "version_minor": 0
            },
            "text/plain": [
              "Measuring metrics:   0%|          | 0/10 [00:00<?, ?it/s]"
            ]
          },
          "metadata": {},
          "output_type": "display_data"
        },
        {
          "data": {
            "application/vnd.jupyter.widget-view+json": {
              "model_id": "99805db550524815af1f81e3dfcf63d8",
              "version_major": 2,
              "version_minor": 0
            },
            "text/plain": [
              "Measuring metrics:   0%|          | 0/10 [00:00<?, ?it/s]"
            ]
          },
          "metadata": {},
          "output_type": "display_data"
        },
        {
          "data": {
            "application/vnd.jupyter.widget-view+json": {
              "model_id": "3dfb6f314f5140b197e227613cb801dd",
              "version_major": 2,
              "version_minor": 0
            },
            "text/plain": [
              "Measuring metrics:   0%|          | 0/10 [00:00<?, ?it/s]"
            ]
          },
          "metadata": {},
          "output_type": "display_data"
        },
        {
          "data": {
            "application/vnd.jupyter.widget-view+json": {
              "model_id": "d0fab3eb62964d36b862d680cd5df8fd",
              "version_major": 2,
              "version_minor": 0
            },
            "text/plain": [
              "Measuring metrics:   0%|          | 0/10 [00:00<?, ?it/s]"
            ]
          },
          "metadata": {},
          "output_type": "display_data"
        },
        {
          "data": {
            "application/vnd.jupyter.widget-view+json": {
              "model_id": "b4b6ca30f7bd4f78a4b365e3c6344965",
              "version_major": 2,
              "version_minor": 0
            },
            "text/plain": [
              "Measuring metrics:   0%|          | 0/10 [00:00<?, ?it/s]"
            ]
          },
          "metadata": {},
          "output_type": "display_data"
        },
        {
          "data": {
            "application/vnd.jupyter.widget-view+json": {
              "model_id": "8cb540edb4474c78acfc511215ef5ab1",
              "version_major": 2,
              "version_minor": 0
            },
            "text/plain": [
              "Mini-batches:   0%|          | 0/54048 [00:00<?, ?it/s]"
            ]
          },
          "metadata": {},
          "output_type": "display_data"
        },
        {
          "data": {
            "application/vnd.jupyter.widget-view+json": {
              "model_id": "b4c024749a6f44e499e5c41bad99f341",
              "version_major": 2,
              "version_minor": 0
            },
            "text/plain": [
              "Measuring metrics:   0%|          | 0/10 [00:00<?, ?it/s]"
            ]
          },
          "metadata": {},
          "output_type": "display_data"
        },
        {
          "data": {
            "application/vnd.jupyter.widget-view+json": {
              "model_id": "da50b5c537004c699465913990a293b9",
              "version_major": 2,
              "version_minor": 0
            },
            "text/plain": [
              "Measuring metrics:   0%|          | 0/10 [00:00<?, ?it/s]"
            ]
          },
          "metadata": {},
          "output_type": "display_data"
        },
        {
          "data": {
            "application/vnd.jupyter.widget-view+json": {
              "model_id": "ee3f11e25d7940c5afd8991db80e3681",
              "version_major": 2,
              "version_minor": 0
            },
            "text/plain": [
              "Measuring metrics:   0%|          | 0/10 [00:00<?, ?it/s]"
            ]
          },
          "metadata": {},
          "output_type": "display_data"
        },
        {
          "data": {
            "application/vnd.jupyter.widget-view+json": {
              "model_id": "31e49fd95ac44816a6310958e0ae84e8",
              "version_major": 2,
              "version_minor": 0
            },
            "text/plain": [
              "Measuring metrics:   0%|          | 0/10 [00:00<?, ?it/s]"
            ]
          },
          "metadata": {},
          "output_type": "display_data"
        },
        {
          "data": {
            "application/vnd.jupyter.widget-view+json": {
              "model_id": "3840344fe0084c54ad764835d66b0a20",
              "version_major": 2,
              "version_minor": 0
            },
            "text/plain": [
              "Measuring metrics:   0%|          | 0/10 [00:00<?, ?it/s]"
            ]
          },
          "metadata": {},
          "output_type": "display_data"
        },
        {
          "data": {
            "application/vnd.jupyter.widget-view+json": {
              "model_id": "2c3a288ec6f94955b62556e6bda00186",
              "version_major": 2,
              "version_minor": 0
            },
            "text/plain": [
              "Measuring metrics:   0%|          | 0/10 [00:00<?, ?it/s]"
            ]
          },
          "metadata": {},
          "output_type": "display_data"
        },
        {
          "data": {
            "application/vnd.jupyter.widget-view+json": {
              "model_id": "afa48d13559b479393c13147713b17b5",
              "version_major": 2,
              "version_minor": 0
            },
            "text/plain": [
              "Measuring metrics:   0%|          | 0/10 [00:00<?, ?it/s]"
            ]
          },
          "metadata": {},
          "output_type": "display_data"
        },
        {
          "data": {
            "application/vnd.jupyter.widget-view+json": {
              "model_id": "03f7ab1eed1544f887a8deb0c9e04fef",
              "version_major": 2,
              "version_minor": 0
            },
            "text/plain": [
              "Measuring metrics:   0%|          | 0/10 [00:00<?, ?it/s]"
            ]
          },
          "metadata": {},
          "output_type": "display_data"
        },
        {
          "data": {
            "application/vnd.jupyter.widget-view+json": {
              "model_id": "8baa4d88e17845fa9548ce3fa31905f3",
              "version_major": 2,
              "version_minor": 0
            },
            "text/plain": [
              "Measuring metrics:   0%|          | 0/10 [00:00<?, ?it/s]"
            ]
          },
          "metadata": {},
          "output_type": "display_data"
        },
        {
          "data": {
            "application/vnd.jupyter.widget-view+json": {
              "model_id": "7556f8ae88534124ab182bf252cb8528",
              "version_major": 2,
              "version_minor": 0
            },
            "text/plain": [
              "Mini-batches:   0%|          | 0/54048 [00:00<?, ?it/s]"
            ]
          },
          "metadata": {},
          "output_type": "display_data"
        },
        {
          "data": {
            "application/vnd.jupyter.widget-view+json": {
              "model_id": "2cf00505cf9943719ca87b75ec54a300",
              "version_major": 2,
              "version_minor": 0
            },
            "text/plain": [
              "Measuring metrics:   0%|          | 0/10 [00:00<?, ?it/s]"
            ]
          },
          "metadata": {},
          "output_type": "display_data"
        },
        {
          "data": {
            "application/vnd.jupyter.widget-view+json": {
              "model_id": "06305d42f9854e1da88eb0a60f84999e",
              "version_major": 2,
              "version_minor": 0
            },
            "text/plain": [
              "Measuring metrics:   0%|          | 0/10 [00:00<?, ?it/s]"
            ]
          },
          "metadata": {},
          "output_type": "display_data"
        },
        {
          "data": {
            "application/vnd.jupyter.widget-view+json": {
              "model_id": "27049ea6db2d4e4e9704ec4150c034a3",
              "version_major": 2,
              "version_minor": 0
            },
            "text/plain": [
              "Measuring metrics:   0%|          | 0/10 [00:00<?, ?it/s]"
            ]
          },
          "metadata": {},
          "output_type": "display_data"
        },
        {
          "data": {
            "application/vnd.jupyter.widget-view+json": {
              "model_id": "a64ae2e0f6e54172ab8124dd499b4053",
              "version_major": 2,
              "version_minor": 0
            },
            "text/plain": [
              "Measuring metrics:   0%|          | 0/10 [00:00<?, ?it/s]"
            ]
          },
          "metadata": {},
          "output_type": "display_data"
        },
        {
          "data": {
            "application/vnd.jupyter.widget-view+json": {
              "model_id": "e6168b1a3e3e45b4a1baadc9a3b4e158",
              "version_major": 2,
              "version_minor": 0
            },
            "text/plain": [
              "Measuring metrics:   0%|          | 0/10 [00:00<?, ?it/s]"
            ]
          },
          "metadata": {},
          "output_type": "display_data"
        },
        {
          "data": {
            "application/vnd.jupyter.widget-view+json": {
              "model_id": "9f5cd8adaaf340b8996b7cfc5aca4f80",
              "version_major": 2,
              "version_minor": 0
            },
            "text/plain": [
              "Measuring metrics:   0%|          | 0/10 [00:00<?, ?it/s]"
            ]
          },
          "metadata": {},
          "output_type": "display_data"
        },
        {
          "data": {
            "application/vnd.jupyter.widget-view+json": {
              "model_id": "e61712d5c1e144f9915899fedcd3133e",
              "version_major": 2,
              "version_minor": 0
            },
            "text/plain": [
              "Measuring metrics:   0%|          | 0/10 [00:00<?, ?it/s]"
            ]
          },
          "metadata": {},
          "output_type": "display_data"
        },
        {
          "data": {
            "application/vnd.jupyter.widget-view+json": {
              "model_id": "bf515b10fb13431d8ec2572249a00f54",
              "version_major": 2,
              "version_minor": 0
            },
            "text/plain": [
              "Measuring metrics:   0%|          | 0/10 [00:00<?, ?it/s]"
            ]
          },
          "metadata": {},
          "output_type": "display_data"
        },
        {
          "data": {
            "application/vnd.jupyter.widget-view+json": {
              "model_id": "a43011f39b12419784d5272e882a18e5",
              "version_major": 2,
              "version_minor": 0
            },
            "text/plain": [
              "Mini-batches:   0%|          | 0/54048 [00:00<?, ?it/s]"
            ]
          },
          "metadata": {},
          "output_type": "display_data"
        },
        {
          "data": {
            "application/vnd.jupyter.widget-view+json": {
              "model_id": "3eb322a0a5674792a9e1389200b0dd4f",
              "version_major": 2,
              "version_minor": 0
            },
            "text/plain": [
              "Measuring metrics:   0%|          | 0/10 [00:00<?, ?it/s]"
            ]
          },
          "metadata": {},
          "output_type": "display_data"
        },
        {
          "data": {
            "application/vnd.jupyter.widget-view+json": {
              "model_id": "94be628948ad49d3ad3f6948ad4d7838",
              "version_major": 2,
              "version_minor": 0
            },
            "text/plain": [
              "Measuring metrics:   0%|          | 0/10 [00:00<?, ?it/s]"
            ]
          },
          "metadata": {},
          "output_type": "display_data"
        },
        {
          "data": {
            "application/vnd.jupyter.widget-view+json": {
              "model_id": "7670218e3f8045ffb0a64adb304c04f5",
              "version_major": 2,
              "version_minor": 0
            },
            "text/plain": [
              "Measuring metrics:   0%|          | 0/10 [00:00<?, ?it/s]"
            ]
          },
          "metadata": {},
          "output_type": "display_data"
        },
        {
          "data": {
            "application/vnd.jupyter.widget-view+json": {
              "model_id": "d2d132c8a6354a44bdd16225e9b062ab",
              "version_major": 2,
              "version_minor": 0
            },
            "text/plain": [
              "Measuring metrics:   0%|          | 0/10 [00:00<?, ?it/s]"
            ]
          },
          "metadata": {},
          "output_type": "display_data"
        },
        {
          "data": {
            "application/vnd.jupyter.widget-view+json": {
              "model_id": "364eecd45b8b4871bd64b79662314b13",
              "version_major": 2,
              "version_minor": 0
            },
            "text/plain": [
              "Measuring metrics:   0%|          | 0/10 [00:00<?, ?it/s]"
            ]
          },
          "metadata": {},
          "output_type": "display_data"
        },
        {
          "data": {
            "application/vnd.jupyter.widget-view+json": {
              "model_id": "623b5eb8ee2c4e0b9a601a8ce8342d80",
              "version_major": 2,
              "version_minor": 0
            },
            "text/plain": [
              "Measuring metrics:   0%|          | 0/10 [00:00<?, ?it/s]"
            ]
          },
          "metadata": {},
          "output_type": "display_data"
        },
        {
          "data": {
            "application/vnd.jupyter.widget-view+json": {
              "model_id": "a481c39e7c9c4a01a98d06b9321af470",
              "version_major": 2,
              "version_minor": 0
            },
            "text/plain": [
              "Measuring metrics:   0%|          | 0/10 [00:00<?, ?it/s]"
            ]
          },
          "metadata": {},
          "output_type": "display_data"
        },
        {
          "data": {
            "application/vnd.jupyter.widget-view+json": {
              "model_id": "4a158a71aca64d0cb0ba9862f9ad36ea",
              "version_major": 2,
              "version_minor": 0
            },
            "text/plain": [
              "Measuring metrics:   0%|          | 0/10 [00:00<?, ?it/s]"
            ]
          },
          "metadata": {},
          "output_type": "display_data"
        },
        {
          "data": {
            "application/vnd.jupyter.widget-view+json": {
              "model_id": "090519d3febd4944ba486d8285ba1b16",
              "version_major": 2,
              "version_minor": 0
            },
            "text/plain": [
              "Measuring metrics:   0%|          | 0/10 [00:00<?, ?it/s]"
            ]
          },
          "metadata": {},
          "output_type": "display_data"
        },
        {
          "name": "stdout",
          "output_type": "stream",
          "text": [
            "Next subset: Subset(MNIST, len=60000, labels=(0, 1, 2, 3, 4, 5, 6, 7, 8, 9))\n"
          ]
        },
        {
          "data": {
            "application/vnd.jupyter.widget-view+json": {
              "model_id": "9c85333afce049e0a78f66015ed0ff25",
              "version_major": 2,
              "version_minor": 0
            },
            "text/plain": [
              "Mini-batches:   0%|          | 0/60000 [00:00<?, ?it/s]"
            ]
          },
          "metadata": {},
          "output_type": "display_data"
        },
        {
          "data": {
            "application/vnd.jupyter.widget-view+json": {
              "model_id": "167377c03c53458eb3131fa05f7ee8ca",
              "version_major": 2,
              "version_minor": 0
            },
            "text/plain": [
              "Measuring metrics:   0%|          | 0/10 [00:00<?, ?it/s]"
            ]
          },
          "metadata": {},
          "output_type": "display_data"
        },
        {
          "data": {
            "application/vnd.jupyter.widget-view+json": {
              "model_id": "272e3df37213486ca95ffd04fa60b2ae",
              "version_major": 2,
              "version_minor": 0
            },
            "text/plain": [
              "Measuring metrics:   0%|          | 0/10 [00:00<?, ?it/s]"
            ]
          },
          "metadata": {},
          "output_type": "display_data"
        },
        {
          "data": {
            "application/vnd.jupyter.widget-view+json": {
              "model_id": "e8b9f12965174ff89d99c027c883c7aa",
              "version_major": 2,
              "version_minor": 0
            },
            "text/plain": [
              "Measuring metrics:   0%|          | 0/10 [00:00<?, ?it/s]"
            ]
          },
          "metadata": {},
          "output_type": "display_data"
        },
        {
          "data": {
            "application/vnd.jupyter.widget-view+json": {
              "model_id": "24aad12a54d34002a1f73ce514c09bf0",
              "version_major": 2,
              "version_minor": 0
            },
            "text/plain": [
              "Measuring metrics:   0%|          | 0/10 [00:00<?, ?it/s]"
            ]
          },
          "metadata": {},
          "output_type": "display_data"
        },
        {
          "data": {
            "application/vnd.jupyter.widget-view+json": {
              "model_id": "55a057c44da84fa295baba121464b6df",
              "version_major": 2,
              "version_minor": 0
            },
            "text/plain": [
              "Measuring metrics:   0%|          | 0/10 [00:00<?, ?it/s]"
            ]
          },
          "metadata": {},
          "output_type": "display_data"
        },
        {
          "data": {
            "application/vnd.jupyter.widget-view+json": {
              "model_id": "ee33443d619a4a879d5549aa6a71368a",
              "version_major": 2,
              "version_minor": 0
            },
            "text/plain": [
              "Measuring metrics:   0%|          | 0/10 [00:00<?, ?it/s]"
            ]
          },
          "metadata": {},
          "output_type": "display_data"
        },
        {
          "data": {
            "application/vnd.jupyter.widget-view+json": {
              "model_id": "1a40ee6612c043e6b49c8e091d7341a6",
              "version_major": 2,
              "version_minor": 0
            },
            "text/plain": [
              "Measuring metrics:   0%|          | 0/10 [00:00<?, ?it/s]"
            ]
          },
          "metadata": {},
          "output_type": "display_data"
        },
        {
          "data": {
            "application/vnd.jupyter.widget-view+json": {
              "model_id": "d1a60fd19bb94c529ac31905ad1f2e75",
              "version_major": 2,
              "version_minor": 0
            },
            "text/plain": [
              "Measuring metrics:   0%|          | 0/10 [00:00<?, ?it/s]"
            ]
          },
          "metadata": {},
          "output_type": "display_data"
        },
        {
          "data": {
            "application/vnd.jupyter.widget-view+json": {
              "model_id": "4ad29104908047cb8ba4a0d3bf3539be",
              "version_major": 2,
              "version_minor": 0
            },
            "text/plain": [
              "Measuring metrics:   0%|          | 0/10 [00:00<?, ?it/s]"
            ]
          },
          "metadata": {},
          "output_type": "display_data"
        },
        {
          "data": {
            "application/vnd.jupyter.widget-view+json": {
              "model_id": "6fa6cb8e3649421a973e70d998a5892c",
              "version_major": 2,
              "version_minor": 0
            },
            "text/plain": [
              "Measuring metrics:   0%|          | 0/10 [00:00<?, ?it/s]"
            ]
          },
          "metadata": {},
          "output_type": "display_data"
        },
        {
          "data": {
            "application/vnd.jupyter.widget-view+json": {
              "model_id": "414284568f8d4e8796062283a344c4a6",
              "version_major": 2,
              "version_minor": 0
            },
            "text/plain": [
              "Mini-batches:   0%|          | 0/60000 [00:00<?, ?it/s]"
            ]
          },
          "metadata": {},
          "output_type": "display_data"
        },
        {
          "data": {
            "application/vnd.jupyter.widget-view+json": {
              "model_id": "15fc0992216f4d5fb485d327a81efed3",
              "version_major": 2,
              "version_minor": 0
            },
            "text/plain": [
              "Measuring metrics:   0%|          | 0/10 [00:00<?, ?it/s]"
            ]
          },
          "metadata": {},
          "output_type": "display_data"
        },
        {
          "data": {
            "application/vnd.jupyter.widget-view+json": {
              "model_id": "953d4b287f59439bb8fccfe09ba3c9ce",
              "version_major": 2,
              "version_minor": 0
            },
            "text/plain": [
              "Measuring metrics:   0%|          | 0/10 [00:00<?, ?it/s]"
            ]
          },
          "metadata": {},
          "output_type": "display_data"
        },
        {
          "data": {
            "application/vnd.jupyter.widget-view+json": {
              "model_id": "11697721d602464f9091f936d30913e4",
              "version_major": 2,
              "version_minor": 0
            },
            "text/plain": [
              "Measuring metrics:   0%|          | 0/10 [00:00<?, ?it/s]"
            ]
          },
          "metadata": {},
          "output_type": "display_data"
        },
        {
          "data": {
            "application/vnd.jupyter.widget-view+json": {
              "model_id": "39e7fce5e73e4499a98696c96298644a",
              "version_major": 2,
              "version_minor": 0
            },
            "text/plain": [
              "Measuring metrics:   0%|          | 0/10 [00:00<?, ?it/s]"
            ]
          },
          "metadata": {},
          "output_type": "display_data"
        },
        {
          "data": {
            "application/vnd.jupyter.widget-view+json": {
              "model_id": "bc2a0cbc423e4e78b5b7e596ae7bfe4e",
              "version_major": 2,
              "version_minor": 0
            },
            "text/plain": [
              "Measuring metrics:   0%|          | 0/10 [00:00<?, ?it/s]"
            ]
          },
          "metadata": {},
          "output_type": "display_data"
        },
        {
          "data": {
            "application/vnd.jupyter.widget-view+json": {
              "model_id": "8b540b922e3f49fa91bf8b4ff69feb30",
              "version_major": 2,
              "version_minor": 0
            },
            "text/plain": [
              "Measuring metrics:   0%|          | 0/10 [00:00<?, ?it/s]"
            ]
          },
          "metadata": {},
          "output_type": "display_data"
        },
        {
          "data": {
            "application/vnd.jupyter.widget-view+json": {
              "model_id": "2957eb627e4a436f8e6876f4918402d3",
              "version_major": 2,
              "version_minor": 0
            },
            "text/plain": [
              "Measuring metrics:   0%|          | 0/10 [00:00<?, ?it/s]"
            ]
          },
          "metadata": {},
          "output_type": "display_data"
        },
        {
          "data": {
            "application/vnd.jupyter.widget-view+json": {
              "model_id": "ed30e3c8850345598b2341bdef662c75",
              "version_major": 2,
              "version_minor": 0
            },
            "text/plain": [
              "Measuring metrics:   0%|          | 0/10 [00:00<?, ?it/s]"
            ]
          },
          "metadata": {},
          "output_type": "display_data"
        },
        {
          "data": {
            "application/vnd.jupyter.widget-view+json": {
              "model_id": "495bef7f0ae9458983acdd8ca8743922",
              "version_major": 2,
              "version_minor": 0
            },
            "text/plain": [
              "Measuring metrics:   0%|          | 0/10 [00:00<?, ?it/s]"
            ]
          },
          "metadata": {},
          "output_type": "display_data"
        },
        {
          "data": {
            "application/vnd.jupyter.widget-view+json": {
              "model_id": "d05ad4e21bd645f59a4debcd18b64488",
              "version_major": 2,
              "version_minor": 0
            },
            "text/plain": [
              "Measuring metrics:   0%|          | 0/10 [00:00<?, ?it/s]"
            ]
          },
          "metadata": {},
          "output_type": "display_data"
        },
        {
          "data": {
            "application/vnd.jupyter.widget-view+json": {
              "model_id": "fb500de12fe2427ea029e29b8e77e00b",
              "version_major": 2,
              "version_minor": 0
            },
            "text/plain": [
              "Mini-batches:   0%|          | 0/60000 [00:00<?, ?it/s]"
            ]
          },
          "metadata": {},
          "output_type": "display_data"
        },
        {
          "data": {
            "application/vnd.jupyter.widget-view+json": {
              "model_id": "fb98ba007fd14ec18e79a567f28a6989",
              "version_major": 2,
              "version_minor": 0
            },
            "text/plain": [
              "Measuring metrics:   0%|          | 0/10 [00:00<?, ?it/s]"
            ]
          },
          "metadata": {},
          "output_type": "display_data"
        },
        {
          "data": {
            "application/vnd.jupyter.widget-view+json": {
              "model_id": "edcc65b3026142838fc89a39ccd94c78",
              "version_major": 2,
              "version_minor": 0
            },
            "text/plain": [
              "Measuring metrics:   0%|          | 0/10 [00:00<?, ?it/s]"
            ]
          },
          "metadata": {},
          "output_type": "display_data"
        },
        {
          "data": {
            "application/vnd.jupyter.widget-view+json": {
              "model_id": "fb0f10ae325f4fe390742539b233915b",
              "version_major": 2,
              "version_minor": 0
            },
            "text/plain": [
              "Measuring metrics:   0%|          | 0/10 [00:00<?, ?it/s]"
            ]
          },
          "metadata": {},
          "output_type": "display_data"
        },
        {
          "data": {
            "application/vnd.jupyter.widget-view+json": {
              "model_id": "00698d3b9a56484c8d80ef611d1f02dd",
              "version_major": 2,
              "version_minor": 0
            },
            "text/plain": [
              "Measuring metrics:   0%|          | 0/10 [00:00<?, ?it/s]"
            ]
          },
          "metadata": {},
          "output_type": "display_data"
        },
        {
          "data": {
            "application/vnd.jupyter.widget-view+json": {
              "model_id": "a3cb180e544440a9b535ef2a4ada1551",
              "version_major": 2,
              "version_minor": 0
            },
            "text/plain": [
              "Measuring metrics:   0%|          | 0/10 [00:00<?, ?it/s]"
            ]
          },
          "metadata": {},
          "output_type": "display_data"
        },
        {
          "data": {
            "application/vnd.jupyter.widget-view+json": {
              "model_id": "a51e0442806a46998743459b334df858",
              "version_major": 2,
              "version_minor": 0
            },
            "text/plain": [
              "Measuring metrics:   0%|          | 0/10 [00:00<?, ?it/s]"
            ]
          },
          "metadata": {},
          "output_type": "display_data"
        },
        {
          "data": {
            "application/vnd.jupyter.widget-view+json": {
              "model_id": "db65bfb3178445dcb4144761669870ce",
              "version_major": 2,
              "version_minor": 0
            },
            "text/plain": [
              "Measuring metrics:   0%|          | 0/10 [00:00<?, ?it/s]"
            ]
          },
          "metadata": {},
          "output_type": "display_data"
        },
        {
          "data": {
            "application/vnd.jupyter.widget-view+json": {
              "model_id": "f3a345d7e39c4c8684dd4d3bc8445d3b",
              "version_major": 2,
              "version_minor": 0
            },
            "text/plain": [
              "Measuring metrics:   0%|          | 0/10 [00:00<?, ?it/s]"
            ]
          },
          "metadata": {},
          "output_type": "display_data"
        },
        {
          "data": {
            "application/vnd.jupyter.widget-view+json": {
              "model_id": "81a5d446defb4fa29987ac2b4162ebbb",
              "version_major": 2,
              "version_minor": 0
            },
            "text/plain": [
              "Measuring metrics:   0%|          | 0/10 [00:00<?, ?it/s]"
            ]
          },
          "metadata": {},
          "output_type": "display_data"
        },
        {
          "data": {
            "application/vnd.jupyter.widget-view+json": {
              "model_id": "47f5553af60440ef9d78148e59b7e8b2",
              "version_major": 2,
              "version_minor": 0
            },
            "text/plain": [
              "Measuring metrics:   0%|          | 0/10 [00:00<?, ?it/s]"
            ]
          },
          "metadata": {},
          "output_type": "display_data"
        },
        {
          "data": {
            "application/vnd.jupyter.widget-view+json": {
              "model_id": "389d9185a72141ef9cbc5a62dd7817b6",
              "version_major": 2,
              "version_minor": 0
            },
            "text/plain": [
              "Mini-batches:   0%|          | 0/60000 [00:00<?, ?it/s]"
            ]
          },
          "metadata": {},
          "output_type": "display_data"
        },
        {
          "data": {
            "application/vnd.jupyter.widget-view+json": {
              "model_id": "95574ea4656e429a97504e858fa815c5",
              "version_major": 2,
              "version_minor": 0
            },
            "text/plain": [
              "Measuring metrics:   0%|          | 0/10 [00:00<?, ?it/s]"
            ]
          },
          "metadata": {},
          "output_type": "display_data"
        },
        {
          "data": {
            "application/vnd.jupyter.widget-view+json": {
              "model_id": "b2caebf0c4264db784828f36b4b730f7",
              "version_major": 2,
              "version_minor": 0
            },
            "text/plain": [
              "Measuring metrics:   0%|          | 0/10 [00:00<?, ?it/s]"
            ]
          },
          "metadata": {},
          "output_type": "display_data"
        },
        {
          "data": {
            "application/vnd.jupyter.widget-view+json": {
              "model_id": "0adb77d47a2740c7bda6e9b53e22df80",
              "version_major": 2,
              "version_minor": 0
            },
            "text/plain": [
              "Measuring metrics:   0%|          | 0/10 [00:00<?, ?it/s]"
            ]
          },
          "metadata": {},
          "output_type": "display_data"
        },
        {
          "data": {
            "application/vnd.jupyter.widget-view+json": {
              "model_id": "5293a4ec240c445c9024c02c270466d1",
              "version_major": 2,
              "version_minor": 0
            },
            "text/plain": [
              "Measuring metrics:   0%|          | 0/10 [00:00<?, ?it/s]"
            ]
          },
          "metadata": {},
          "output_type": "display_data"
        },
        {
          "data": {
            "application/vnd.jupyter.widget-view+json": {
              "model_id": "80fabb4ff8af44e19e367723c6d2a7cc",
              "version_major": 2,
              "version_minor": 0
            },
            "text/plain": [
              "Measuring metrics:   0%|          | 0/10 [00:00<?, ?it/s]"
            ]
          },
          "metadata": {},
          "output_type": "display_data"
        },
        {
          "data": {
            "application/vnd.jupyter.widget-view+json": {
              "model_id": "71cfc6a0ced54208aa815a58a3a98e22",
              "version_major": 2,
              "version_minor": 0
            },
            "text/plain": [
              "Measuring metrics:   0%|          | 0/10 [00:00<?, ?it/s]"
            ]
          },
          "metadata": {},
          "output_type": "display_data"
        },
        {
          "data": {
            "application/vnd.jupyter.widget-view+json": {
              "model_id": "8208a5505e2c4a04b5d248b3be513ffe",
              "version_major": 2,
              "version_minor": 0
            },
            "text/plain": [
              "Measuring metrics:   0%|          | 0/10 [00:00<?, ?it/s]"
            ]
          },
          "metadata": {},
          "output_type": "display_data"
        },
        {
          "data": {
            "application/vnd.jupyter.widget-view+json": {
              "model_id": "6658f95568f84897825fda86e5595958",
              "version_major": 2,
              "version_minor": 0
            },
            "text/plain": [
              "Measuring metrics:   0%|          | 0/10 [00:00<?, ?it/s]"
            ]
          },
          "metadata": {},
          "output_type": "display_data"
        },
        {
          "data": {
            "application/vnd.jupyter.widget-view+json": {
              "model_id": "362bd39fbda44fd694e7051f90f8f401",
              "version_major": 2,
              "version_minor": 0
            },
            "text/plain": [
              "Measuring metrics:   0%|          | 0/10 [00:00<?, ?it/s]"
            ]
          },
          "metadata": {},
          "output_type": "display_data"
        },
        {
          "data": {
            "application/vnd.jupyter.widget-view+json": {
              "model_id": "39da64c32d9e4ecfa7250a04ff13b411",
              "version_major": 2,
              "version_minor": 0
            },
            "text/plain": [
              "Mini-batches:   0%|          | 0/60000 [00:00<?, ?it/s]"
            ]
          },
          "metadata": {},
          "output_type": "display_data"
        },
        {
          "data": {
            "application/vnd.jupyter.widget-view+json": {
              "model_id": "67e8829f84cc400893e5042c7bade909",
              "version_major": 2,
              "version_minor": 0
            },
            "text/plain": [
              "Measuring metrics:   0%|          | 0/10 [00:00<?, ?it/s]"
            ]
          },
          "metadata": {},
          "output_type": "display_data"
        },
        {
          "data": {
            "application/vnd.jupyter.widget-view+json": {
              "model_id": "7c5c1e15e3f24df38397f548c95fa176",
              "version_major": 2,
              "version_minor": 0
            },
            "text/plain": [
              "Measuring metrics:   0%|          | 0/10 [00:00<?, ?it/s]"
            ]
          },
          "metadata": {},
          "output_type": "display_data"
        },
        {
          "data": {
            "application/vnd.jupyter.widget-view+json": {
              "model_id": "5a53f8d248614b7988d8bc3c89cfed4d",
              "version_major": 2,
              "version_minor": 0
            },
            "text/plain": [
              "Measuring metrics:   0%|          | 0/10 [00:00<?, ?it/s]"
            ]
          },
          "metadata": {},
          "output_type": "display_data"
        },
        {
          "data": {
            "application/vnd.jupyter.widget-view+json": {
              "model_id": "55a611534e864f4987be63521084f24c",
              "version_major": 2,
              "version_minor": 0
            },
            "text/plain": [
              "Measuring metrics:   0%|          | 0/10 [00:00<?, ?it/s]"
            ]
          },
          "metadata": {},
          "output_type": "display_data"
        },
        {
          "data": {
            "application/vnd.jupyter.widget-view+json": {
              "model_id": "67c2b47a583944f9bf289ca8f3d35039",
              "version_major": 2,
              "version_minor": 0
            },
            "text/plain": [
              "Measuring metrics:   0%|          | 0/10 [00:00<?, ?it/s]"
            ]
          },
          "metadata": {},
          "output_type": "display_data"
        },
        {
          "data": {
            "application/vnd.jupyter.widget-view+json": {
              "model_id": "36fd70128e7d43f382d29826708c39c9",
              "version_major": 2,
              "version_minor": 0
            },
            "text/plain": [
              "Measuring metrics:   0%|          | 0/10 [00:00<?, ?it/s]"
            ]
          },
          "metadata": {},
          "output_type": "display_data"
        },
        {
          "data": {
            "application/vnd.jupyter.widget-view+json": {
              "model_id": "fb7d361050c9476db858d8d30bbd3057",
              "version_major": 2,
              "version_minor": 0
            },
            "text/plain": [
              "Measuring metrics:   0%|          | 0/10 [00:00<?, ?it/s]"
            ]
          },
          "metadata": {},
          "output_type": "display_data"
        },
        {
          "data": {
            "application/vnd.jupyter.widget-view+json": {
              "model_id": "5c2c208d5d56452a96eda41a06526047",
              "version_major": 2,
              "version_minor": 0
            },
            "text/plain": [
              "Measuring metrics:   0%|          | 0/10 [00:00<?, ?it/s]"
            ]
          },
          "metadata": {},
          "output_type": "display_data"
        },
        {
          "data": {
            "application/vnd.jupyter.widget-view+json": {
              "model_id": "7cdecb72fba342f0803079569c2eae6d",
              "version_major": 2,
              "version_minor": 0
            },
            "text/plain": [
              "Measuring metrics:   0%|          | 0/10 [00:00<?, ?it/s]"
            ]
          },
          "metadata": {},
          "output_type": "display_data"
        },
        {
          "data": {
            "application/vnd.jupyter.widget-view+json": {
              "model_id": "d6a2d5a569a24670b2ae80a725a63ce2",
              "version_major": 2,
              "version_minor": 0
            },
            "text/plain": [
              "Measuring metrics:   0%|          | 0/10 [00:00<?, ?it/s]"
            ]
          },
          "metadata": {},
          "output_type": "display_data"
        },
        {
          "data": {
            "application/vnd.jupyter.widget-view+json": {
              "model_id": "a18993db4c214748975d97fc9b8bf5f0",
              "version_major": 2,
              "version_minor": 0
            },
            "text/plain": [
              "Mini-batches:   0%|          | 0/60000 [00:00<?, ?it/s]"
            ]
          },
          "metadata": {},
          "output_type": "display_data"
        },
        {
          "data": {
            "application/vnd.jupyter.widget-view+json": {
              "model_id": "ad1f2953337e428facb7eb5226693043",
              "version_major": 2,
              "version_minor": 0
            },
            "text/plain": [
              "Measuring metrics:   0%|          | 0/10 [00:00<?, ?it/s]"
            ]
          },
          "metadata": {},
          "output_type": "display_data"
        },
        {
          "data": {
            "application/vnd.jupyter.widget-view+json": {
              "model_id": "64d79929c74741b695f9aaf37d323b2d",
              "version_major": 2,
              "version_minor": 0
            },
            "text/plain": [
              "Measuring metrics:   0%|          | 0/10 [00:00<?, ?it/s]"
            ]
          },
          "metadata": {},
          "output_type": "display_data"
        },
        {
          "data": {
            "application/vnd.jupyter.widget-view+json": {
              "model_id": "70c874a398ea4e81a88febddc6e2fc9a",
              "version_major": 2,
              "version_minor": 0
            },
            "text/plain": [
              "Measuring metrics:   0%|          | 0/10 [00:00<?, ?it/s]"
            ]
          },
          "metadata": {},
          "output_type": "display_data"
        },
        {
          "data": {
            "application/vnd.jupyter.widget-view+json": {
              "model_id": "49fcc945f1634288bee82d8cbcb68600",
              "version_major": 2,
              "version_minor": 0
            },
            "text/plain": [
              "Measuring metrics:   0%|          | 0/10 [00:00<?, ?it/s]"
            ]
          },
          "metadata": {},
          "output_type": "display_data"
        },
        {
          "data": {
            "application/vnd.jupyter.widget-view+json": {
              "model_id": "2254cbf2a0f646f1917098581593c07a",
              "version_major": 2,
              "version_minor": 0
            },
            "text/plain": [
              "Measuring metrics:   0%|          | 0/10 [00:00<?, ?it/s]"
            ]
          },
          "metadata": {},
          "output_type": "display_data"
        },
        {
          "data": {
            "application/vnd.jupyter.widget-view+json": {
              "model_id": "a5003475d1684c7b8101a1a2f9dfb465",
              "version_major": 2,
              "version_minor": 0
            },
            "text/plain": [
              "Measuring metrics:   0%|          | 0/10 [00:00<?, ?it/s]"
            ]
          },
          "metadata": {},
          "output_type": "display_data"
        },
        {
          "data": {
            "application/vnd.jupyter.widget-view+json": {
              "model_id": "27a64ec2ffef4ddc9b665e898be74200",
              "version_major": 2,
              "version_minor": 0
            },
            "text/plain": [
              "Measuring metrics:   0%|          | 0/10 [00:00<?, ?it/s]"
            ]
          },
          "metadata": {},
          "output_type": "display_data"
        },
        {
          "data": {
            "application/vnd.jupyter.widget-view+json": {
              "model_id": "7bee9c9b1e7743ac9c533ed20c4720bf",
              "version_major": 2,
              "version_minor": 0
            },
            "text/plain": [
              "Measuring metrics:   0%|          | 0/10 [00:00<?, ?it/s]"
            ]
          },
          "metadata": {},
          "output_type": "display_data"
        },
        {
          "data": {
            "application/vnd.jupyter.widget-view+json": {
              "model_id": "0437e69588f347fb84519720ff11a3e6",
              "version_major": 2,
              "version_minor": 0
            },
            "text/plain": [
              "Measuring metrics:   0%|          | 0/10 [00:00<?, ?it/s]"
            ]
          },
          "metadata": {},
          "output_type": "display_data"
        },
        {
          "data": {
            "application/vnd.jupyter.widget-view+json": {
              "model_id": "04faff3cbea64eb592b122928797557e",
              "version_major": 2,
              "version_minor": 0
            },
            "text/plain": [
              "Measuring metrics:   0%|          | 0/10 [00:00<?, ?it/s]"
            ]
          },
          "metadata": {},
          "output_type": "display_data"
        },
        {
          "data": {
            "application/vnd.jupyter.widget-view+json": {
              "model_id": "a110df2d4abc492d98d8c82b0df36239",
              "version_major": 2,
              "version_minor": 0
            },
            "text/plain": [
              "Mini-batches:   0%|          | 0/60000 [00:00<?, ?it/s]"
            ]
          },
          "metadata": {},
          "output_type": "display_data"
        },
        {
          "data": {
            "application/vnd.jupyter.widget-view+json": {
              "model_id": "56c8628811c54233ae73d4c24c949990",
              "version_major": 2,
              "version_minor": 0
            },
            "text/plain": [
              "Measuring metrics:   0%|          | 0/10 [00:00<?, ?it/s]"
            ]
          },
          "metadata": {},
          "output_type": "display_data"
        },
        {
          "data": {
            "application/vnd.jupyter.widget-view+json": {
              "model_id": "2364ec8ef13a4b82a69349051152fc57",
              "version_major": 2,
              "version_minor": 0
            },
            "text/plain": [
              "Measuring metrics:   0%|          | 0/10 [00:00<?, ?it/s]"
            ]
          },
          "metadata": {},
          "output_type": "display_data"
        },
        {
          "data": {
            "application/vnd.jupyter.widget-view+json": {
              "model_id": "783723de6a2e4ac18a892d3cf8bc6fed",
              "version_major": 2,
              "version_minor": 0
            },
            "text/plain": [
              "Measuring metrics:   0%|          | 0/10 [00:00<?, ?it/s]"
            ]
          },
          "metadata": {},
          "output_type": "display_data"
        },
        {
          "data": {
            "application/vnd.jupyter.widget-view+json": {
              "model_id": "04c2dcff63fe4732889f31103549c6c8",
              "version_major": 2,
              "version_minor": 0
            },
            "text/plain": [
              "Measuring metrics:   0%|          | 0/10 [00:00<?, ?it/s]"
            ]
          },
          "metadata": {},
          "output_type": "display_data"
        },
        {
          "data": {
            "application/vnd.jupyter.widget-view+json": {
              "model_id": "c89e334c08e94e12813110a0b4a72ee9",
              "version_major": 2,
              "version_minor": 0
            },
            "text/plain": [
              "Measuring metrics:   0%|          | 0/10 [00:00<?, ?it/s]"
            ]
          },
          "metadata": {},
          "output_type": "display_data"
        },
        {
          "data": {
            "application/vnd.jupyter.widget-view+json": {
              "model_id": "03ebe51a4ad5459998f2fa18bd75ed0f",
              "version_major": 2,
              "version_minor": 0
            },
            "text/plain": [
              "Measuring metrics:   0%|          | 0/10 [00:00<?, ?it/s]"
            ]
          },
          "metadata": {},
          "output_type": "display_data"
        },
        {
          "data": {
            "application/vnd.jupyter.widget-view+json": {
              "model_id": "e64aa85d877c4aecb766715d7f70a4f6",
              "version_major": 2,
              "version_minor": 0
            },
            "text/plain": [
              "Measuring metrics:   0%|          | 0/10 [00:00<?, ?it/s]"
            ]
          },
          "metadata": {},
          "output_type": "display_data"
        },
        {
          "data": {
            "application/vnd.jupyter.widget-view+json": {
              "model_id": "67502206c5724ad9953670df019c1620",
              "version_major": 2,
              "version_minor": 0
            },
            "text/plain": [
              "Measuring metrics:   0%|          | 0/10 [00:00<?, ?it/s]"
            ]
          },
          "metadata": {},
          "output_type": "display_data"
        },
        {
          "data": {
            "application/vnd.jupyter.widget-view+json": {
              "model_id": "c8554173c443423fbde509467e7d0858",
              "version_major": 2,
              "version_minor": 0
            },
            "text/plain": [
              "Measuring metrics:   0%|          | 0/10 [00:00<?, ?it/s]"
            ]
          },
          "metadata": {},
          "output_type": "display_data"
        },
        {
          "data": {
            "application/vnd.jupyter.widget-view+json": {
              "model_id": "5970be67c34f46d491922217438c7e27",
              "version_major": 2,
              "version_minor": 0
            },
            "text/plain": [
              "Measuring metrics:   0%|          | 0/10 [00:00<?, ?it/s]"
            ]
          },
          "metadata": {},
          "output_type": "display_data"
        },
        {
          "data": {
            "application/vnd.jupyter.widget-view+json": {
              "model_id": "44e5f4b8927e4dbcae9708b455f46b56",
              "version_major": 2,
              "version_minor": 0
            },
            "text/plain": [
              "Mini-batches:   0%|          | 0/60000 [00:00<?, ?it/s]"
            ]
          },
          "metadata": {},
          "output_type": "display_data"
        },
        {
          "data": {
            "application/vnd.jupyter.widget-view+json": {
              "model_id": "39b72a7cfc444c2aa17a4ed139238320",
              "version_major": 2,
              "version_minor": 0
            },
            "text/plain": [
              "Measuring metrics:   0%|          | 0/10 [00:00<?, ?it/s]"
            ]
          },
          "metadata": {},
          "output_type": "display_data"
        },
        {
          "data": {
            "application/vnd.jupyter.widget-view+json": {
              "model_id": "a3cb14fe3e0c4f07a2e13ea0dfee6673",
              "version_major": 2,
              "version_minor": 0
            },
            "text/plain": [
              "Measuring metrics:   0%|          | 0/10 [00:00<?, ?it/s]"
            ]
          },
          "metadata": {},
          "output_type": "display_data"
        },
        {
          "data": {
            "application/vnd.jupyter.widget-view+json": {
              "model_id": "717766aa53404fe2a784500e265edba8",
              "version_major": 2,
              "version_minor": 0
            },
            "text/plain": [
              "Measuring metrics:   0%|          | 0/10 [00:00<?, ?it/s]"
            ]
          },
          "metadata": {},
          "output_type": "display_data"
        },
        {
          "data": {
            "application/vnd.jupyter.widget-view+json": {
              "model_id": "92fd35f00df64d899c228cf92559ac3c",
              "version_major": 2,
              "version_minor": 0
            },
            "text/plain": [
              "Measuring metrics:   0%|          | 0/10 [00:00<?, ?it/s]"
            ]
          },
          "metadata": {},
          "output_type": "display_data"
        },
        {
          "data": {
            "application/vnd.jupyter.widget-view+json": {
              "model_id": "91b2e19613c345949f106f44199728eb",
              "version_major": 2,
              "version_minor": 0
            },
            "text/plain": [
              "Measuring metrics:   0%|          | 0/10 [00:00<?, ?it/s]"
            ]
          },
          "metadata": {},
          "output_type": "display_data"
        },
        {
          "data": {
            "application/vnd.jupyter.widget-view+json": {
              "model_id": "b426633417ca4da493be3bf1cc431a28",
              "version_major": 2,
              "version_minor": 0
            },
            "text/plain": [
              "Measuring metrics:   0%|          | 0/10 [00:00<?, ?it/s]"
            ]
          },
          "metadata": {},
          "output_type": "display_data"
        },
        {
          "data": {
            "application/vnd.jupyter.widget-view+json": {
              "model_id": "1bc77d1c9cd44105acbe77f75425fbd4",
              "version_major": 2,
              "version_minor": 0
            },
            "text/plain": [
              "Measuring metrics:   0%|          | 0/10 [00:00<?, ?it/s]"
            ]
          },
          "metadata": {},
          "output_type": "display_data"
        },
        {
          "data": {
            "application/vnd.jupyter.widget-view+json": {
              "model_id": "52040fb40dfd46dab069fb6d956b3910",
              "version_major": 2,
              "version_minor": 0
            },
            "text/plain": [
              "Measuring metrics:   0%|          | 0/10 [00:00<?, ?it/s]"
            ]
          },
          "metadata": {},
          "output_type": "display_data"
        },
        {
          "data": {
            "application/vnd.jupyter.widget-view+json": {
              "model_id": "f6a857bc5ecf4b7ba87505041bdd8185",
              "version_major": 2,
              "version_minor": 0
            },
            "text/plain": [
              "Measuring metrics:   0%|          | 0/10 [00:00<?, ?it/s]"
            ]
          },
          "metadata": {},
          "output_type": "display_data"
        },
        {
          "data": {
            "application/vnd.jupyter.widget-view+json": {
              "model_id": "748f1c0d1d9a4545a6926b2db6b02597",
              "version_major": 2,
              "version_minor": 0
            },
            "text/plain": [
              "Measuring metrics:   0%|          | 0/10 [00:00<?, ?it/s]"
            ]
          },
          "metadata": {},
          "output_type": "display_data"
        },
        {
          "data": {
            "application/vnd.jupyter.widget-view+json": {
              "model_id": "96e4d4ed6c064f1283d3eedef4a824f7",
              "version_major": 2,
              "version_minor": 0
            },
            "text/plain": [
              "Mini-batches:   0%|          | 0/60000 [00:00<?, ?it/s]"
            ]
          },
          "metadata": {},
          "output_type": "display_data"
        },
        {
          "data": {
            "application/vnd.jupyter.widget-view+json": {
              "model_id": "952a113591bb4dab859e19f51f219ae9",
              "version_major": 2,
              "version_minor": 0
            },
            "text/plain": [
              "Measuring metrics:   0%|          | 0/10 [00:00<?, ?it/s]"
            ]
          },
          "metadata": {},
          "output_type": "display_data"
        },
        {
          "data": {
            "application/vnd.jupyter.widget-view+json": {
              "model_id": "915b97c90c4c4680abf6fa8727e98c35",
              "version_major": 2,
              "version_minor": 0
            },
            "text/plain": [
              "Measuring metrics:   0%|          | 0/10 [00:00<?, ?it/s]"
            ]
          },
          "metadata": {},
          "output_type": "display_data"
        },
        {
          "data": {
            "application/vnd.jupyter.widget-view+json": {
              "model_id": "74c037e10d4c4df083387b5415bcad8f",
              "version_major": 2,
              "version_minor": 0
            },
            "text/plain": [
              "Measuring metrics:   0%|          | 0/10 [00:00<?, ?it/s]"
            ]
          },
          "metadata": {},
          "output_type": "display_data"
        },
        {
          "data": {
            "application/vnd.jupyter.widget-view+json": {
              "model_id": "3e835f20c62b4246a1eb2bc04ae787b7",
              "version_major": 2,
              "version_minor": 0
            },
            "text/plain": [
              "Measuring metrics:   0%|          | 0/10 [00:00<?, ?it/s]"
            ]
          },
          "metadata": {},
          "output_type": "display_data"
        },
        {
          "data": {
            "application/vnd.jupyter.widget-view+json": {
              "model_id": "52beb57688f7459f835d5a541e10b656",
              "version_major": 2,
              "version_minor": 0
            },
            "text/plain": [
              "Measuring metrics:   0%|          | 0/10 [00:00<?, ?it/s]"
            ]
          },
          "metadata": {},
          "output_type": "display_data"
        },
        {
          "data": {
            "application/vnd.jupyter.widget-view+json": {
              "model_id": "f40039572fb74f03b0776673982d1376",
              "version_major": 2,
              "version_minor": 0
            },
            "text/plain": [
              "Measuring metrics:   0%|          | 0/10 [00:00<?, ?it/s]"
            ]
          },
          "metadata": {},
          "output_type": "display_data"
        },
        {
          "data": {
            "application/vnd.jupyter.widget-view+json": {
              "model_id": "bb16d3093eee445f841fb44ae6672bb6",
              "version_major": 2,
              "version_minor": 0
            },
            "text/plain": [
              "Measuring metrics:   0%|          | 0/10 [00:00<?, ?it/s]"
            ]
          },
          "metadata": {},
          "output_type": "display_data"
        },
        {
          "data": {
            "application/vnd.jupyter.widget-view+json": {
              "model_id": "3205b0369c1847eaba65acbe6540423b",
              "version_major": 2,
              "version_minor": 0
            },
            "text/plain": [
              "Measuring metrics:   0%|          | 0/10 [00:00<?, ?it/s]"
            ]
          },
          "metadata": {},
          "output_type": "display_data"
        },
        {
          "data": {
            "application/vnd.jupyter.widget-view+json": {
              "model_id": "69706a42a9ed4b41b63c35e22aa57024",
              "version_major": 2,
              "version_minor": 0
            },
            "text/plain": [
              "Measuring metrics:   0%|          | 0/10 [00:00<?, ?it/s]"
            ]
          },
          "metadata": {},
          "output_type": "display_data"
        },
        {
          "data": {
            "application/vnd.jupyter.widget-view+json": {
              "model_id": "d3968f816c564f00a41b9265249c23fe",
              "version_major": 2,
              "version_minor": 0
            },
            "text/plain": [
              "Mini-batches:   0%|          | 0/60000 [00:00<?, ?it/s]"
            ]
          },
          "metadata": {},
          "output_type": "display_data"
        },
        {
          "data": {
            "application/vnd.jupyter.widget-view+json": {
              "model_id": "21d60e6f846047a299a3b986ba63c55f",
              "version_major": 2,
              "version_minor": 0
            },
            "text/plain": [
              "Measuring metrics:   0%|          | 0/10 [00:00<?, ?it/s]"
            ]
          },
          "metadata": {},
          "output_type": "display_data"
        },
        {
          "data": {
            "application/vnd.jupyter.widget-view+json": {
              "model_id": "c5746b36d72b444d85a8266bf1c61856",
              "version_major": 2,
              "version_minor": 0
            },
            "text/plain": [
              "Measuring metrics:   0%|          | 0/10 [00:00<?, ?it/s]"
            ]
          },
          "metadata": {},
          "output_type": "display_data"
        },
        {
          "data": {
            "application/vnd.jupyter.widget-view+json": {
              "model_id": "a4d088b930f24cbc8ada9dc4973988da",
              "version_major": 2,
              "version_minor": 0
            },
            "text/plain": [
              "Measuring metrics:   0%|          | 0/10 [00:00<?, ?it/s]"
            ]
          },
          "metadata": {},
          "output_type": "display_data"
        },
        {
          "data": {
            "application/vnd.jupyter.widget-view+json": {
              "model_id": "ccb978b7bbe3403098f86c6b4f765d96",
              "version_major": 2,
              "version_minor": 0
            },
            "text/plain": [
              "Measuring metrics:   0%|          | 0/10 [00:00<?, ?it/s]"
            ]
          },
          "metadata": {},
          "output_type": "display_data"
        },
        {
          "data": {
            "application/vnd.jupyter.widget-view+json": {
              "model_id": "2cb2d2c115e4416f96c3650d2b768fd2",
              "version_major": 2,
              "version_minor": 0
            },
            "text/plain": [
              "Measuring metrics:   0%|          | 0/10 [00:00<?, ?it/s]"
            ]
          },
          "metadata": {},
          "output_type": "display_data"
        },
        {
          "data": {
            "application/vnd.jupyter.widget-view+json": {
              "model_id": "77aad02b577a4f3884301e76401a3735",
              "version_major": 2,
              "version_minor": 0
            },
            "text/plain": [
              "Measuring metrics:   0%|          | 0/10 [00:00<?, ?it/s]"
            ]
          },
          "metadata": {},
          "output_type": "display_data"
        },
        {
          "data": {
            "application/vnd.jupyter.widget-view+json": {
              "model_id": "b22532fee5a74822a35911ccb6417364",
              "version_major": 2,
              "version_minor": 0
            },
            "text/plain": [
              "Measuring metrics:   0%|          | 0/10 [00:00<?, ?it/s]"
            ]
          },
          "metadata": {},
          "output_type": "display_data"
        },
        {
          "data": {
            "application/vnd.jupyter.widget-view+json": {
              "model_id": "aaa65c4d1a4c40ccaaa43a48fa584ee0",
              "version_major": 2,
              "version_minor": 0
            },
            "text/plain": [
              "Measuring metrics:   0%|          | 0/10 [00:00<?, ?it/s]"
            ]
          },
          "metadata": {},
          "output_type": "display_data"
        },
        {
          "data": {
            "application/vnd.jupyter.widget-view+json": {
              "model_id": "c6fda098af17420b9d551b227f96ae7c",
              "version_major": 2,
              "version_minor": 0
            },
            "text/plain": [
              "Measuring metrics:   0%|          | 0/10 [00:00<?, ?it/s]"
            ]
          },
          "metadata": {},
          "output_type": "display_data"
        },
        {
          "data": {
            "application/vnd.jupyter.widget-view+json": {
              "model_id": "b8b48c2cef8e4d04a789e7360273a449",
              "version_major": 2,
              "version_minor": 0
            },
            "text/plain": [
              "Measuring metrics:   0%|          | 0/10 [00:00<?, ?it/s]"
            ]
          },
          "metadata": {},
          "output_type": "display_data"
        },
        {
          "data": {
            "text/html": [
              "Waiting for W&B process to finish... <strong style=\"color:green\">(success).</strong>"
            ],
            "text/plain": [
              "<IPython.core.display.HTML object>"
            ]
          },
          "metadata": {},
          "output_type": "display_data"
        },
        {
          "data": {
            "text/html": [
              "<style>\n",
              "    table.wandb td:nth-child(1) { padding: 0 10px; text-align: left ; width: auto;} td:nth-child(2) {text-align: left ; width: 100%}\n",
              "    .wandb-row { display: flex; flex-direction: row; flex-wrap: wrap; justify-content: flex-start; width: 100% }\n",
              "    .wandb-col { display: flex; flex-direction: column; flex-basis: 100%; flex: 1; padding: 10px; }\n",
              "    </style>\n",
              "<div class=\"wandb-row\"><div class=\"wandb-col\"><h3>Run history:</h3><br/><table class=\"wandb\"><tr><td>test/accuracy/0</td><td>██▁▆▇▆▇▇▇▇▇▇▇▇▇█▆▇▆▇▅▇▇▆▇▇▇▆▇▆▆▇▇▇▇▇▆▇▇▇</td></tr><tr><td>test/accuracy/1</td><td>▁███████████████████████████████████████</td></tr><tr><td>test/accuracy/2</td><td>▁▁▇█████████████████████████████████████</td></tr><tr><td>test/accuracy/3</td><td>▁▁▁▁▁███████████████████████████████████</td></tr><tr><td>test/accuracy/4</td><td>▁▁▁▁▁▁▁█████████████████████████████████</td></tr><tr><td>test/accuracy/5</td><td>▁▁▁▁▁▁▁▁▁▁▁▁████████████████████████████</td></tr><tr><td>test/accuracy/6</td><td>▁▁▁▁▁▁▁▁▁▁▁▁▁▁▁▁████████████████████████</td></tr><tr><td>test/accuracy/7</td><td>▁▁▁▁▁▁▁▁▁▁▁▁▁▁▁▁▁▁▁▁████████████████████</td></tr><tr><td>test/accuracy/8</td><td>▁▁▁▁▁▁▁▁▁▁▁▁▁▁▁▁▁▁▁▁▁▁▁▁▁▁██████████████</td></tr><tr><td>test/accuracy/9</td><td>▁▁▁▁▁▁▁▁▁▁▁▁▁▁▁▁▁▁▁▁▁▁▁▁▁▁▁▁▁▁▁▁▁███████</td></tr><tr><td>test/accuracy/total</td><td>▁▂▃▃▃▃▃▄▄▄▄▄▅▅▅▅▆▆▆▆▆▆▆▆▆▆▇▇▇▇▇▇▇███████</td></tr><tr><td>test/loss/0</td><td>▁▁█▃▂▂▂▂▁▂▂▂▂▂▂▁▃▂▂▂▃▂▂▂▂▂▂▃▂▃▂▂▂▂▂▂▂▂▂▂</td></tr><tr><td>test/loss/1</td><td>█▁▁▁▁▁▁▁▁▁▁▁▁▁▁▁▁▁▁▁▁▁▁▁▁▁▁▁▁▁▁▁▁▁▁▁▁▁▁▁</td></tr><tr><td>test/loss/2</td><td>▆█▁▁▁▁▁▁▁▁▁▁▁▁▁▁▁▁▁▁▁▁▁▁▁▁▁▁▁▁▁▁▁▁▁▁▁▁▁▁</td></tr><tr><td>test/loss/3</td><td>▆▇▅██▁▁▁▁▁▁▁▁▁▁▁▁▁▁▁▁▁▁▁▁▁▁▁▁▁▁▁▁▁▁▁▁▁▁▁</td></tr><tr><td>test/loss/4</td><td>▆▇▅██▇▇▁▁▁▁▁▁▁▁▁▁▁▁▁▁▁▁▁▁▁▁▁▁▁▁▁▁▁▁▁▁▁▁▁</td></tr><tr><td>test/loss/5</td><td>▆▇▅██▇▇▆▆▇▇█▁▁▁▁▁▁▁▁▁▁▁▁▁▁▁▁▁▁▁▁▁▁▁▁▁▁▁▁</td></tr><tr><td>test/loss/6</td><td>▅▇▄██▇▇▅▆▆▆▆▆▆▆▆▁▁▁▁▁▁▁▁▁▁▁▁▁▁▁▁▁▁▁▁▁▁▁▁</td></tr><tr><td>test/loss/7</td><td>▅▇▅██▇▇▆▆▇▇▇▆▇▇▇▇███▁▁▁▁▁▁▁▁▁▁▁▁▁▁▁▁▁▁▁▁</td></tr><tr><td>test/loss/8</td><td>▆▇▅██▇▇▅▆▆▇▇▆▆▇▇▆▇▇▇▇▇▇▇██▁▁▁▁▁▁▁▁▁▁▁▁▁▁</td></tr><tr><td>test/loss/9</td><td>▅▇▅██▇▇▆▇▇██▇▇▇█▇███▇▇████▇▇█████▁▁▁▁▁▁▁</td></tr><tr><td>test/loss/total</td><td>▇█▅██▆▆▄▅▅▅▅▄▄▄▅▄▄▄▄▃▃▃▃▃▃▂▂▂▂▂▂▂▁▁▁▁▁▁▁</td></tr><tr><td>train/accuracy/0</td><td>█▇▁▆▇▆▇▇▇▇▇▇▇▇▇█▆▇▇▇▆▇▇▇█▇▇▇▇▇▇▇▇█▇▇▇█▇▇</td></tr><tr><td>train/accuracy/1</td><td>▁███████████████████████████████████████</td></tr><tr><td>train/accuracy/2</td><td>▁▁▇█████████████████████████████████████</td></tr><tr><td>train/accuracy/3</td><td>▁▁▁▁▁███████████████████████████████████</td></tr><tr><td>train/accuracy/4</td><td>▁▁▁▁▁▁▁█████████████████████████████████</td></tr><tr><td>train/accuracy/5</td><td>▁▁▁▁▁▁▁▁▁▁▁▁████████████████████████████</td></tr><tr><td>train/accuracy/6</td><td>▁▁▁▁▁▁▁▁▁▁▁▁▁▁▁▁████████████████████████</td></tr><tr><td>train/accuracy/7</td><td>▁▁▁▁▁▁▁▁▁▁▁▁▁▁▁▁▁▁▁▁████████████████████</td></tr><tr><td>train/accuracy/8</td><td>▁▁▁▁▁▁▁▁▁▁▁▁▁▁▁▁▁▁▁▁▁▁▁▁▁▁██████████████</td></tr><tr><td>train/accuracy/9</td><td>▁▁▁▁▁▁▁▁▁▁▁▁▁▁▁▁▁▁▁▁▁▁▁▁▁▁▁▁▁▁▁▁▁███████</td></tr><tr><td>train/accuracy/total</td><td>▁▂▂▃▃▃▃▄▄▄▄▄▅▅▅▅▆▆▆▆▆▆▆▆▆▆▇▇▇▇▇▇▇███████</td></tr><tr><td>train/loss/0</td><td>▁▂█▃▂▃▂▃▂▂▂▂▂▂▂▂▃▂▂▂▃▂▂▂▂▂▂▂▂▂▂▂▂▂▂▂▂▁▂▂</td></tr><tr><td>train/loss/1</td><td>█▁▁▁▁▁▁▁▁▁▁▁▁▁▁▁▁▁▁▁▁▁▁▁▁▁▁▁▁▁▁▁▁▁▁▁▁▁▁▁</td></tr><tr><td>train/loss/2</td><td>▆█▁▁▁▁▁▁▁▁▁▁▁▁▁▁▁▁▁▁▁▁▁▁▁▁▁▁▁▁▁▁▁▁▁▁▁▁▁▁</td></tr><tr><td>train/loss/3</td><td>▆▇▅██▁▁▁▁▁▁▁▁▁▁▁▁▁▁▁▁▁▁▁▁▁▁▁▁▁▁▁▁▁▁▁▁▁▁▁</td></tr><tr><td>train/loss/4</td><td>▆▇▅██▇▇▁▁▁▁▁▁▁▁▁▁▁▁▁▁▁▁▁▁▁▁▁▁▁▁▁▁▁▁▁▁▁▁▁</td></tr><tr><td>train/loss/5</td><td>▆▇▅██▇▇▆▆▇▇█▁▁▁▁▁▁▁▁▁▁▁▁▁▁▁▁▁▁▁▁▁▁▁▁▁▁▁▁</td></tr><tr><td>train/loss/6</td><td>▅▇▄██▆▇▅▆▆▆▆▆▆▆▆▁▁▁▁▁▁▁▁▁▁▁▁▁▁▁▁▁▁▁▁▁▁▁▁</td></tr><tr><td>train/loss/7</td><td>▅▇▅██▇▇▆▆▇▇▇▆▇▇▇▇███▁▁▁▁▁▁▁▁▁▁▁▁▁▁▁▁▁▁▁▁</td></tr><tr><td>train/loss/8</td><td>▆▇▅██▆▇▅▆▆▇▇▆▆▇▇▆▇▇▇▆▇▇▇▇▇▁▁▁▁▁▁▁▁▁▁▁▁▁▁</td></tr><tr><td>train/loss/9</td><td>▅▇▅██▇▇▆▇▇██▇▇▇▇▇▇██▇▇████▇▇█████▁▁▁▁▁▁▁</td></tr><tr><td>train/loss/total</td><td>▇█▅██▆▆▄▅▅▅▅▄▄▄▅▄▄▄▄▃▃▃▃▃▃▂▂▂▂▂▂▂▁▁▁▁▁▁▁</td></tr></table><br/></div><div class=\"wandb-col\"><h3>Run summary:</h3><br/><table class=\"wandb\"><tr><td>test/accuracy/0</td><td>0.99286</td></tr><tr><td>test/accuracy/1</td><td>0.99471</td></tr><tr><td>test/accuracy/2</td><td>0.97771</td></tr><tr><td>test/accuracy/3</td><td>0.98812</td></tr><tr><td>test/accuracy/4</td><td>0.99287</td></tr><tr><td>test/accuracy/5</td><td>0.99103</td></tr><tr><td>test/accuracy/6</td><td>0.98225</td></tr><tr><td>test/accuracy/7</td><td>0.98249</td></tr><tr><td>test/accuracy/8</td><td>0.98152</td></tr><tr><td>test/accuracy/9</td><td>0.97027</td></tr><tr><td>test/accuracy/total</td><td>0.9854</td></tr><tr><td>test/loss/0</td><td>0.0287</td></tr><tr><td>test/loss/1</td><td>0.01729</td></tr><tr><td>test/loss/2</td><td>0.0584</td></tr><tr><td>test/loss/3</td><td>0.03198</td></tr><tr><td>test/loss/4</td><td>0.02702</td></tr><tr><td>test/loss/5</td><td>0.04647</td></tr><tr><td>test/loss/6</td><td>0.05028</td></tr><tr><td>test/loss/7</td><td>0.0518</td></tr><tr><td>test/loss/8</td><td>0.06637</td></tr><tr><td>test/loss/9</td><td>0.09119</td></tr><tr><td>test/loss/total</td><td>0.04664</td></tr><tr><td>train/accuracy/0</td><td>0.99257</td></tr><tr><td>train/accuracy/1</td><td>0.99407</td></tr><tr><td>train/accuracy/2</td><td>0.97969</td></tr><tr><td>train/accuracy/3</td><td>0.98483</td></tr><tr><td>train/accuracy/4</td><td>0.99178</td></tr><tr><td>train/accuracy/5</td><td>0.98321</td></tr><tr><td>train/accuracy/6</td><td>0.99442</td></tr><tr><td>train/accuracy/7</td><td>0.98627</td></tr><tr><td>train/accuracy/8</td><td>0.97761</td></tr><tr><td>train/accuracy/9</td><td>0.97142</td></tr><tr><td>train/accuracy/total</td><td>0.98572</td></tr><tr><td>train/loss/0</td><td>0.0231</td></tr><tr><td>train/loss/1</td><td>0.02114</td></tr><tr><td>train/loss/2</td><td>0.05862</td></tr><tr><td>train/loss/3</td><td>0.04776</td></tr><tr><td>train/loss/4</td><td>0.0373</td></tr><tr><td>train/loss/5</td><td>0.05295</td></tr><tr><td>train/loss/6</td><td>0.02072</td></tr><tr><td>train/loss/7</td><td>0.0401</td></tr><tr><td>train/loss/8</td><td>0.07036</td></tr><tr><td>train/loss/9</td><td>0.10011</td></tr><tr><td>train/loss/total</td><td>0.04679</td></tr></table><br/></div></div>"
            ],
            "text/plain": [
              "<IPython.core.display.HTML object>"
            ]
          },
          "metadata": {},
          "output_type": "display_data"
        },
        {
          "data": {
            "text/html": [
              "Synced <strong style=\"color:#cdcd00\">peach-shadow-25</strong>: <a href=\"https://wandb.ai/jqhoogland/detecting-phase-transitions-sandbox/runs/3r9cyjh3\" target=\"_blank\">https://wandb.ai/jqhoogland/detecting-phase-transitions-sandbox/runs/3r9cyjh3</a><br/>Synced 5 W&B file(s), 0 media file(s), 0 artifact file(s) and 0 other file(s)"
            ],
            "text/plain": [
              "<IPython.core.display.HTML object>"
            ]
          },
          "metadata": {},
          "output_type": "display_data"
        },
        {
          "data": {
            "text/html": [
              "Find logs at: <code>./wandb/run-20230415_195321-3r9cyjh3/logs</code>"
            ],
            "text/plain": [
              "<IPython.core.display.HTML object>"
            ]
          },
          "metadata": {},
          "output_type": "display_data"
        }
      ],
      "source": [
        "import wandb\n",
        "\n",
        "def train(model: nn.Module, loss_fn, optimizer, subsets_loader: SubsetsLoader, metrics: Metrics):\n",
        "    wandb.init(\"detecting-phase-transitions\")\n",
        "\n",
        "    epoch = 0\n",
        "    step = 0\n",
        "\n",
        "    subsets_loader.to_subset(0)\n",
        "\n",
        "    def measure(step):\n",
        "        metrics.reset()\n",
        "        metrics.measure(model)\n",
        "        wandb.log(metrics.as_dict(), step=step)\n",
        "\n",
        "    def save(step):\n",
        "        t.save(model.state_dict(), f\"./snapshots/model-{step}.pt\")\n",
        "    \n",
        "    # Epochs change in size, so we want to keep the number of steps constant between changes\n",
        "    for epoch in tqdm(range(100), desc=\"Epochs\"): \n",
        "        train_loss = 0.\n",
        "        \n",
        "        if epoch % 10 == 0 and step > 0:\n",
        "            subsets_loader.next_subset()\n",
        "            print(\"Next subset:\", subsets_loader.dataset)\n",
        "\n",
        "        # Round to the nearest multiple of 24\n",
        "        num_steps = len(subsets_loader)\n",
        "        num_steps = (num_steps // 24) * 24\n",
        "\n",
        "        # Training loop for mini-batches\n",
        "        for batch_idx, (x, y) in tqdm(enumerate(subsets_loader), desc=\"Mini-batches\", total=num_steps):            \n",
        "            if step % 24 == 0:\n",
        "                measure(step)\n",
        "                save(step)\n",
        "            \n",
        "            # Make predictions with the current parameters.\n",
        "            x, y = x.to(DEVICE), y.to(DEVICE)\n",
        "            y_pred = model(x)\n",
        "\n",
        "            # Compute the loss value.\n",
        "            loss = loss_fn(y_pred, y)\n",
        "            train_loss += loss.item()\n",
        "\n",
        "            # Update the parameters.\n",
        "            optimizer.zero_grad()\n",
        "            loss.backward()\n",
        "            optimizer.step()\n",
        "\n",
        "            step += 1\n",
        "\n",
        "            if batch_idx == num_steps:\n",
        "                break\n",
        "\n",
        "    wandb.finish()\n",
        "\n",
        "model = MNISTConvNet()\n",
        "loss_fn = nn.CrossEntropyLoss(size_average=False)\n",
        "optimizer = optim.SGD(model.parameters(), lr=0.0001)\n",
        "metrics = Metrics(per_label_train_loader, per_label_test_loader, loss_fn)\n",
        "\n",
        "train(model, loss_fn, optimizer, subsets_loader, metrics)"
      ]
    },
    {
      "attachments": {},
      "cell_type": "markdown",
      "metadata": {},
      "source": [
        "# Structural probes"
      ]
    },
    {
      "cell_type": "code",
      "execution_count": null,
      "metadata": {},
      "outputs": [],
      "source": [
        "from typing import Iterable\n",
        "\n",
        "\n",
        "NUM_STEPS = 792\n",
        "IVL = 24\n",
        "\n",
        "class WeightsAssay:\n",
        "    __probes__ = [\n",
        "        \"weight_norms\",\n",
        "        # TODO: Add more probes\n",
        "    ]\n",
        "\n",
        "    def measure(self, cls: Type[nn.Module], steps: Iterable[int]):\n",
        "        model = cls()  # MNISTConvNet\n",
        "        measurements = []\n",
        "\n",
        "        for i in steps:\n",
        "            # Load model from snapshot\n",
        "            model.load_state_dict(t.load(f\"./snapshots/model-{i}.pt\"))\n",
        "\n",
        "            # Measure metrics\n",
        "            measurements.append(self._measure(model, i))\n",
        "\n",
        "        return measurements\n",
        "    \n",
        "    def _measure(self, model, step):\n",
        "        d = {\n",
        "            \"step\": step,\n",
        "        }\n",
        "\n",
        "        for probe in self.__probes__:\n",
        "            d[probe] = getattr(self, probe)(model)\n",
        "    \n",
        "    @classmethod\n",
        "    def weight_norms(cls, model: nn.Module):\n",
        "        norms = []\n",
        "\n",
        "        for p in model.parameters():\n",
        "            norms.append(p.norm().item())\n",
        "\n",
        "        return norms\n",
        "\n",
        "    # TODO: Add more probes\n",
        "\n",
        "weights_assay = WeightsAssay()\n",
        "weights_assay.measure(MNISTConvNet, range(0, NUM_STEPS, IVL))"
      ]
    },
    {
      "cell_type": "code",
      "execution_count": 25,
      "metadata": {},
      "outputs": [
        {
          "data": {
            "text/plain": [
              "tensor([5923, 6742, 5958, 6131, 5842, 5421, 5918, 6265, 5851, 5949],\n",
              "       device='cuda:0')"
            ]
          },
          "execution_count": 25,
          "metadata": {},
          "output_type": "execute_result"
        }
      ],
      "source": [
        "metrics.trainset_sizes"
      ]
    },
    {
      "cell_type": "code",
      "execution_count": null,
      "metadata": {},
      "outputs": [],
      "source": []
    }
  ],
  "metadata": {
    "accelerator": "GPU",
    "colab": {
      "provenance": []
    },
    "kernelspec": {
      "display_name": "Python 3",
      "name": "python3"
    },
    "language_info": {
      "codemirror_mode": {
        "name": "ipython",
        "version": 3
      },
      "file_extension": ".py",
      "mimetype": "text/x-python",
      "name": "python",
      "nbconvert_exporter": "python",
      "pygments_lexer": "ipython3",
      "version": "3.9.16"
    }
  },
  "nbformat": 4,
  "nbformat_minor": 0
}
