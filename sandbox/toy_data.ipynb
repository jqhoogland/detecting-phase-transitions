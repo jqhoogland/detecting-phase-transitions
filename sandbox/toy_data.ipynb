{
  "cells": [
    {
      "cell_type": "code",
      "execution_count": 48,
      "metadata": {
        "colab": {
          "base_uri": "https://localhost:8080/"
        },
        "id": "h8U839iGXCH3",
        "outputId": "88f12940-8c9e-4cb7-c312-dabd92be351e"
      },
      "outputs": [
        {
          "name": "stdout",
          "output_type": "stream",
          "text": [
            "Defaulting to user installation because normal site-packages is not writeable\n",
            "Requirement already satisfied: torch in /home/paperspace/.local/lib/python3.9/site-packages (1.13.1)\n",
            "Requirement already satisfied: torchvision in /home/paperspace/.local/lib/python3.9/site-packages (0.14.1)\n",
            "Requirement already satisfied: livelossplot in /home/paperspace/.local/lib/python3.9/site-packages (0.5.5)\n",
            "Requirement already satisfied: wandb in /home/paperspace/.local/lib/python3.9/site-packages (0.13.4)\n",
            "Requirement already satisfied: torchtyping in /home/paperspace/.local/lib/python3.9/site-packages (0.1.4)\n",
            "Requirement already satisfied: tqdm in /home/paperspace/.local/lib/python3.9/site-packages (4.64.1)\n",
            "Requirement already satisfied: pandas in /home/paperspace/.local/lib/python3.9/site-packages (1.5.3)\n",
            "Requirement already satisfied: scipy in /home/paperspace/.local/lib/python3.9/site-packages (1.10.0)\n",
            "Requirement already satisfied: einops in /home/paperspace/.local/lib/python3.9/site-packages (0.6.0)\n",
            "Requirement already satisfied: nvidia-cuda-nvrtc-cu11==11.7.99 in /home/paperspace/.local/lib/python3.9/site-packages (from torch) (11.7.99)\n",
            "Requirement already satisfied: nvidia-cudnn-cu11==8.5.0.96 in /home/paperspace/.local/lib/python3.9/site-packages (from torch) (8.5.0.96)\n",
            "Requirement already satisfied: nvidia-cuda-runtime-cu11==11.7.99 in /home/paperspace/.local/lib/python3.9/site-packages (from torch) (11.7.99)\n",
            "Requirement already satisfied: nvidia-cublas-cu11==11.10.3.66 in /home/paperspace/.local/lib/python3.9/site-packages (from torch) (11.10.3.66)\n",
            "Requirement already satisfied: typing-extensions in /home/paperspace/.local/lib/python3.9/site-packages (from torch) (4.4.0)\n",
            "Requirement already satisfied: setuptools in /usr/lib/python3/dist-packages (from nvidia-cublas-cu11==11.10.3.66->torch) (45.2.0)\n",
            "Requirement already satisfied: wheel in /home/paperspace/.local/lib/python3.9/site-packages (from nvidia-cublas-cu11==11.10.3.66->torch) (0.35.1)\n",
            "Requirement already satisfied: numpy in /home/paperspace/.local/lib/python3.9/site-packages (from torchvision) (1.24.1)\n",
            "Requirement already satisfied: pillow!=8.3.*,>=5.3.0 in /home/paperspace/.local/lib/python3.9/site-packages (from torchvision) (9.4.0)\n",
            "Requirement already satisfied: requests in /home/paperspace/.local/lib/python3.9/site-packages (from torchvision) (2.28.2)\n",
            "Requirement already satisfied: matplotlib in /home/paperspace/.local/lib/python3.9/site-packages (from livelossplot) (3.6.3)\n",
            "Requirement already satisfied: bokeh in /home/paperspace/.local/lib/python3.9/site-packages (from livelossplot) (3.1.0)\n",
            "Requirement already satisfied: six>=1.13.0 in /home/paperspace/.local/lib/python3.9/site-packages (from wandb) (1.16.0)\n",
            "Requirement already satisfied: Click!=8.0.0,>=7.0 in /home/paperspace/.local/lib/python3.9/site-packages (from wandb) (8.1.3)\n",
            "Requirement already satisfied: pathtools in /home/paperspace/.local/lib/python3.9/site-packages (from wandb) (0.1.2)\n",
            "Requirement already satisfied: setproctitle in /home/paperspace/.local/lib/python3.9/site-packages (from wandb) (1.3.2)\n",
            "Requirement already satisfied: protobuf!=4.0.*,!=4.21.0,<5,>=3.12.0 in /home/paperspace/.local/lib/python3.9/site-packages (from wandb) (3.19.6)\n",
            "Requirement already satisfied: shortuuid>=0.5.0 in /home/paperspace/.local/lib/python3.9/site-packages (from wandb) (1.0.11)\n",
            "Requirement already satisfied: PyYAML in /home/paperspace/.local/lib/python3.9/site-packages (from wandb) (6.0)\n",
            "Requirement already satisfied: GitPython>=1.0.0 in /home/paperspace/.local/lib/python3.9/site-packages (from wandb) (3.1.30)\n",
            "Requirement already satisfied: psutil>=5.0.0 in /home/paperspace/.local/lib/python3.9/site-packages (from wandb) (5.9.4)\n",
            "Requirement already satisfied: promise<3,>=2.0 in /home/paperspace/.local/lib/python3.9/site-packages (from wandb) (2.3)\n",
            "Requirement already satisfied: docker-pycreds>=0.4.0 in /home/paperspace/.local/lib/python3.9/site-packages (from wandb) (0.4.0)\n",
            "Requirement already satisfied: sentry-sdk>=1.0.0 in /home/paperspace/.local/lib/python3.9/site-packages (from wandb) (1.13.0)\n",
            "Requirement already satisfied: typeguard>=2.11.1 in /home/paperspace/.local/lib/python3.9/site-packages (from torchtyping) (3.0.2)\n",
            "Requirement already satisfied: pytz>=2020.1 in /home/paperspace/.local/lib/python3.9/site-packages (from pandas) (2022.7.1)\n",
            "Requirement already satisfied: python-dateutil>=2.8.1 in /home/paperspace/.local/lib/python3.9/site-packages (from pandas) (2.8.2)\n",
            "Requirement already satisfied: gitdb<5,>=4.0.1 in /home/paperspace/.local/lib/python3.9/site-packages (from GitPython>=1.0.0->wandb) (4.0.10)\n",
            "Requirement already satisfied: certifi>=2017.4.17 in /home/paperspace/.local/lib/python3.9/site-packages (from requests->torchvision) (2022.12.7)\n",
            "Requirement already satisfied: idna<4,>=2.5 in /home/paperspace/.local/lib/python3.9/site-packages (from requests->torchvision) (3.4)\n",
            "Requirement already satisfied: charset-normalizer<4,>=2 in /home/paperspace/.local/lib/python3.9/site-packages (from requests->torchvision) (3.0.1)\n",
            "Requirement already satisfied: urllib3<1.27,>=1.21.1 in /home/paperspace/.local/lib/python3.9/site-packages (from requests->torchvision) (1.26.14)\n",
            "Requirement already satisfied: importlib-metadata>=3.6 in /home/paperspace/.local/lib/python3.9/site-packages (from typeguard>=2.11.1->torchtyping) (6.0.0)\n",
            "Requirement already satisfied: Jinja2>=2.9 in /home/paperspace/.local/lib/python3.9/site-packages (from bokeh->livelossplot) (3.1.2)\n",
            "Requirement already satisfied: contourpy>=1 in /home/paperspace/.local/lib/python3.9/site-packages (from bokeh->livelossplot) (1.0.7)\n",
            "Requirement already satisfied: packaging>=16.8 in /home/paperspace/.local/lib/python3.9/site-packages (from bokeh->livelossplot) (23.0)\n",
            "Requirement already satisfied: tornado>=5.1 in /home/paperspace/.local/lib/python3.9/site-packages (from bokeh->livelossplot) (6.2)\n",
            "Requirement already satisfied: xyzservices>=2021.09.1 in /home/paperspace/.local/lib/python3.9/site-packages (from bokeh->livelossplot) (2023.2.0)\n",
            "Requirement already satisfied: kiwisolver>=1.0.1 in /home/paperspace/.local/lib/python3.9/site-packages (from matplotlib->livelossplot) (1.4.4)\n",
            "Requirement already satisfied: pyparsing>=2.2.1 in /home/paperspace/.local/lib/python3.9/site-packages (from matplotlib->livelossplot) (3.0.9)\n",
            "Requirement already satisfied: cycler>=0.10 in /home/paperspace/.local/lib/python3.9/site-packages (from matplotlib->livelossplot) (0.11.0)\n",
            "Requirement already satisfied: fonttools>=4.22.0 in /home/paperspace/.local/lib/python3.9/site-packages (from matplotlib->livelossplot) (4.38.0)\n",
            "Requirement already satisfied: smmap<6,>=3.0.1 in /home/paperspace/.local/lib/python3.9/site-packages (from gitdb<5,>=4.0.1->GitPython>=1.0.0->wandb) (5.0.0)\n",
            "Requirement already satisfied: zipp>=0.5 in /home/paperspace/.local/lib/python3.9/site-packages (from importlib-metadata>=3.6->typeguard>=2.11.1->torchtyping) (3.12.0)\n",
            "Requirement already satisfied: MarkupSafe>=2.0 in /home/paperspace/.local/lib/python3.9/site-packages (from Jinja2>=2.9->bokeh->livelossplot) (2.1.2)\n",
            "\n",
            "\u001b[1m[\u001b[0m\u001b[34;49mnotice\u001b[0m\u001b[1;39;49m]\u001b[0m\u001b[39;49m A new release of pip is available: \u001b[0m\u001b[31;49m23.0\u001b[0m\u001b[39;49m -> \u001b[0m\u001b[32;49m23.1\u001b[0m\n",
            "\u001b[1m[\u001b[0m\u001b[34;49mnotice\u001b[0m\u001b[1;39;49m]\u001b[0m\u001b[39;49m To update, run: \u001b[0m\u001b[32;49mpython3.9 -m pip install --upgrade pip\u001b[0m\n"
          ]
        }
      ],
      "source": [
        "!pip install torch torchvision livelossplot wandb torchtyping tqdm pandas scipy einops"
      ]
    },
    {
      "cell_type": "markdown",
      "metadata": {
        "id": "hMX1Jjrj0CzB"
      },
      "source": [
        "## Libraries"
      ]
    },
    {
      "cell_type": "code",
      "execution_count": 1,
      "metadata": {},
      "outputs": [],
      "source": [
        "import sys\n",
        "import os\n",
        "# Add spectroscope to the path\n",
        "sys.path.append(os.path.abspath(os.path.join(os.getcwd(), os.pardir)))"
      ]
    },
    {
      "cell_type": "code",
      "execution_count": 2,
      "metadata": {
        "id": "k66YJP740uCR"
      },
      "outputs": [],
      "source": [
        "from typing import Any, Tuple, Type\n",
        "import numpy as np\n",
        "import torch as t\n",
        "import torch.nn as nn\n",
        "import torch.optim as optim\n",
        "from scipy.special import legendre\n",
        "from torchtyping import TensorType\n",
        "from torch.utils.data import DataLoader, Dataset, TensorDataset\n",
        "from torchvision.datasets import MNIST\n",
        "import torchvision.transforms as transforms\n",
        "from livelossplot import PlotLosses\n",
        "from tqdm.notebook import tqdm\n",
        "import pandas as pd\n",
        "import einops\n",
        "\n",
        "from spectroscope.data import SubsetsLoader, get_filtered_dataset\n",
        "\n",
        "DEVICE = t.device(\"cuda\" if t.cuda.is_available() else \"cpu\")"
      ]
    },
    {
      "attachments": {},
      "cell_type": "markdown",
      "metadata": {},
      "source": [
        "# Data"
      ]
    },
    {
      "cell_type": "code",
      "execution_count": null,
      "metadata": {},
      "outputs": [],
      "source": []
    },
    {
      "cell_type": "code",
      "execution_count": 3,
      "metadata": {},
      "outputs": [
        {
          "data": {
            "image/png": "[encoded data removed]",
            "text/plain": [
              "<Figure size 640x480 with 1 Axes>"
            ]
          },
          "metadata": {},
          "output_type": "display_data"
        }
      ],
      "source": [
        "from matplotlib import pyplot as plt\n",
        "\n",
        "\n",
        "def sample_legendre(degree=5, xlims=(-1., 1.), num_samples=100):\n",
        "    return legendre(np.linspace(*xlims, num_samples))\n",
        "\n",
        "\n",
        "def create_legendre_dataset(degrees, num_samples_per_degree):\n",
        "    \"\"\"\n",
        "    The first dimension contains the degree of the legendre polynomial,\n",
        "    the second dimension contains the input x. \n",
        "    \"\"\"\n",
        "\n",
        "    def _create_legendre_dataset(degree, num_samples):\n",
        "        x = np.stack([degree * np.ones(num_samples), np.linspace(-1, 1, num_samples)])\n",
        "        y = legendre(degree)(x[1, :])\n",
        "        return x, y\n",
        "\n",
        "    x = []\n",
        "    y = []\n",
        "    for degree, num_samples in zip(degrees, num_samples_per_degree):\n",
        "        _x, _y = _create_legendre_dataset(degree, num_samples)\n",
        "        x.append(_x)\n",
        "        y.append(_y)\n",
        "\n",
        "    x = np.stack(x)\n",
        "    y = np.stack(y)\n",
        "\n",
        "    x = einops.rearrange(x, \"degree inputs dim -> (degree dim) inputs\")\n",
        "    y = einops.rearrange(y, \"degree dim -> (degree dim)\")\n",
        "\n",
        "    return x, y\n",
        "\n",
        "x, y = create_legendre_dataset([0, 1, 2, 3, 4, 5], [100, 100, 100, 100, 100])\n",
        "\n",
        "# Shuffle\n",
        "idx = np.arange(x.shape[0])\n",
        "np.random.shuffle(idx)\n",
        "x = x[idx, :]\n",
        "y = y[idx]\n",
        "\n",
        "# Split into train and test\n",
        "train_idx = int(len(x) * 0.5)\n",
        "x_train, y_train = x[:train_idx], y[:train_idx]\n",
        "x_test, y_test = x[train_idx:], y[train_idx:]\n",
        "\n",
        "# Convert to datsets\n",
        "trainset = TensorDataset(t.from_numpy(x_train).float(), t.from_numpy(y_train).float())\n",
        "testset = TensorDataset(t.from_numpy(x_test).float(), t.from_numpy(y_test).float())\n",
        "\n",
        "plt.plot(x_train[:, 1], y_train, \"o\")\n",
        "plt.show()\n"
      ]
    },
    {
      "attachments": {},
      "cell_type": "markdown",
      "metadata": {
        "id": "Sr0ejX6YM7ej"
      },
      "source": [
        "## Simple Learner\n",
        "\n",
        "This an unmodified mnist learner"
      ]
    },
    {
      "cell_type": "code",
      "execution_count": 4,
      "metadata": {
        "id": "cTkt86amTqCP"
      },
      "outputs": [],
      "source": [
        "class LegendreNet(nn.Module):\n",
        "    \"\"\"Transformer based network for the legendre dataset\"\"\"\n",
        "\n",
        "    def __init__(self):\n",
        "        super().__init__()\n",
        "\n",
        "        self.net = nn.Sequential(\n",
        "            nn.Linear(2, 32),\n",
        "            nn.ReLU(),\n",
        "            nn.Linear(32, 32),\n",
        "            nn.ReLU(),\n",
        "            nn.Linear(32, 32),\n",
        "            nn.ReLU(),\n",
        "            nn.Linear(32, 32),\n",
        "            nn.ReLU(),\n",
        "            nn.Linear(32, 1),\n",
        "        )\n",
        "\n",
        "        self.to(DEVICE)\n",
        "\n",
        "    def forward(self, x: TensorType[\"batch\", \"degree\", \"x\"]) -> TensorType[\"batch\", \"degree\", \"y\"]:\n",
        "        return self.net(x)"
      ]
    },
    {
      "cell_type": "code",
      "execution_count": 14,
      "metadata": {
        "colab": {
          "base_uri": "https://localhost:8080/"
        },
        "id": "2Ux2HiG7QPlA",
        "outputId": "45a8af81-62ee-47d5-8781-8802f03a209f"
      },
      "outputs": [],
      "source": [
        "def as_subset(cls: Type[Dataset]):\n",
        "    \"\"\"\n",
        "    Wrapper for a dataset class that adds a labels attribute to the dataset,\n",
        "    and a __repr__ method that prints the labels.\n",
        "    \"\"\"\n",
        "    class Subset(cls):\n",
        "        def __init__(self, data, targets, labels: Tuple[int, ...], **kwargs):\n",
        "            self.labels = labels\n",
        "            self.data = data\n",
        "            self.targets = targets\n",
        "\n",
        "        def __len__(self):\n",
        "            return len(self.data)\n",
        "\n",
        "        def __repr__(self):\n",
        "            return f\"Subset({cls.__name__}, len={len(self)}, labels={self.labels})\"\n",
        "        \n",
        "        def __getitem__(self, index: int) -> Tuple[Any, Any]:\n",
        "            \"\"\"\n",
        "            Args:\n",
        "                index (int): Index\n",
        "\n",
        "            Returns:\n",
        "                tuple: (image, target) where target is index of the target class.\n",
        "            \"\"\"\n",
        "            return self.data[index], self.targets[index]\n",
        "    \n",
        "    return Subset\n",
        "\n",
        "\n",
        "def filter_by_labels(dataset: Dataset, labels: Tuple[int, ...]):\n",
        "    \"\"\"\n",
        "    Returns an iterator over the dataset, yielding only the images and labels in labels.\n",
        "    \"\"\"\n",
        "    for image, label in dataset:\n",
        "        if label in labels:\n",
        "            yield image, label\n",
        "\n",
        "\n",
        "def get_filtered_dataset(dataset: Dataset, labels: Tuple[int, ...]):\n",
        "    \"\"\"\n",
        "    Returns a new dataset with only the images and labels in labels.\n",
        "    \"\"\"\n",
        "    dataset_cls = as_subset(type(dataset))\n",
        "    data, targets = zip(*((x, y) for x, y in filter_by_labels(dataset, labels)))\n",
        "    return dataset_cls(data, targets, train=dataset.train, labels=labels)  # type: ignore\n",
        "\n",
        "\n",
        "class SubsetsLoader:\n",
        "    \"\"\"\n",
        "    A data loader that trains on different subsets of the dataset \n",
        "    depending on the active subset.\n",
        "\n",
        "    Note: it's up to you to call next_subset() when you want to move to the next subset.\n",
        "    \"\"\"\n",
        "\n",
        "    def __init__(\n",
        "        self,\n",
        "        subsets: Tuple[Dataset],\n",
        "        *args,\n",
        "        **kwargs,\n",
        "    ):\n",
        "        self.subsets = subsets\n",
        "        self.subset_idx = 0\n",
        "        self.subloaders = tuple(DataLoader(subset, *args, **kwargs) for subset in subsets)\n",
        "\n",
        "    def next_subset(self):\n",
        "        \"\"\"Moves to the next subset.\"\"\"\n",
        "        if self.subset_idx < len(self.subsets):\n",
        "            self.subset_idx += 1\n",
        "        else:\n",
        "            raise StopIteration\n",
        "         \n",
        "    def to_subset(self, subset_idx: int):\n",
        "        \"\"\"Moves to the subset with index subset_idx.\"\"\"\n",
        "        if subset_idx < len(self.subsets):\n",
        "            self.subset_idx = subset_idx\n",
        "        else:\n",
        "            raise IndexError(f\"Subset index {subset_idx} out of range\")\n",
        "    \n",
        "    @property\n",
        "    def dataset(self):\n",
        "        return self.subsets[self.subset_idx]\n",
        "    \n",
        "    @property\n",
        "    def loader(self):\n",
        "        return self.subloaders[self.subset_idx]\n",
        "    \n",
        "    @property\n",
        "    def batch_size(self):\n",
        "        return self.loader.batch_size\n",
        "\n",
        "    @classmethod\n",
        "    def from_filters(cls, dataset: Dataset, labels_per_subset: Tuple[Tuple[int, ...]], filter_fn=get_filtered_dataset, **kwargs):\n",
        "        \"\"\"\n",
        "        Returns a SubsetsLoader that trains on different subsets of the dataset \n",
        "        depending on the active subset.\n",
        "        \"\"\"\n",
        "        subsets = tuple(filter_fn(dataset, labels) for labels in labels_per_subset)\n",
        "        return cls(subsets, **kwargs)\n",
        "        \n",
        "    def __repr__(self):\n",
        "        return f\"SubsetsLoader({self.subsets}, batch_size={self.batch_size})\"\n",
        "    \n",
        "    def __iter__(self):\n",
        "        return iter(self.subloaders[self.subset_idx])\n",
        "\n",
        "    def __len__(self):\n",
        "        return len(self.dataset)"
      ]
    },
    {
      "cell_type": "code",
      "execution_count": 15,
      "metadata": {},
      "outputs": [
        {
          "data": {
            "text/plain": [
              "SubsetsLoader((Subset(TensorDataset, len=43, labels=((0,),)), Subset(TensorDataset, len=50, labels=((1,),)), Subset(TensorDataset, len=56, labels=((2,),)), Subset(TensorDataset, len=52, labels=((3,),)), Subset(TensorDataset, len=49, labels=((4,),))), batch_size=256)"
            ]
          },
          "execution_count": 15,
          "metadata": {},
          "output_type": "execute_result"
        }
      ],
      "source": [
        "train_loader = DataLoader(trainset, batch_size=64)\n",
        "\n",
        "def _filter_by_degree(dataset: Dataset, degree: int):\n",
        "    \"\"\"\n",
        "    Returns an iterator over the dataset, yielding only the images and labels in labels.\n",
        "    \"\"\"\n",
        "    for x, y in dataset:\n",
        "        if t.allclose(x[0], t.Tensor(degree)):\n",
        "            yield x, y\n",
        "\n",
        "\n",
        "def filter_by_degree(dataset: Dataset, degree: int):\n",
        "    data, targets = zip(*_filter_by_degree(dataset, degree))\n",
        "    return as_subset(type(dataset))(data, targets, labels=(degree,))\n",
        "\n",
        "\n",
        "per_label_train_loader = SubsetsLoader.from_filters(\n",
        "    trainset,\n",
        "    labels_per_subset=tuple((i,) for i in range(0, 5)),\n",
        "    filter_fn=filter_by_degree, \n",
        "    batch_size=256,\n",
        ")\n",
        "\n",
        "per_label_test_loader = SubsetsLoader.from_filters(\n",
        "    testset,\n",
        "    labels_per_subset=tuple((i,) for i in range(0, 5)),\n",
        "    filter_fn=filter_by_degree, \n",
        "    batch_size=256,\n",
        ")\n",
        "\n",
        "per_label_train_loader"
      ]
    },
    {
      "cell_type": "code",
      "execution_count": 16,
      "metadata": {},
      "outputs": [],
      "source": [
        "class Metrics:\n",
        "    def __init__(self, per_label_train_loader, per_label_test_loader, loss_fn, n_tasks=10):\n",
        "        self.per_label_train_loader = per_label_train_loader\n",
        "        self.per_label_test_loader = per_label_test_loader\n",
        "        self.loss_fn = loss_fn\n",
        "        self.n_tasks = n_tasks\n",
        "        \n",
        "        # Track loss & accuracy for each label\n",
        "        self.train_loss = t.zeros(self.n_tasks, dtype=t.float32, device=DEVICE)\n",
        "        self.train_accuracy = t.zeros(self.n_tasks, dtype=t.float32, device=DEVICE)\n",
        "        self.test_loss = t.zeros(self.n_tasks, dtype=t.float32, device=DEVICE)\n",
        "        self.test_accuracy = t.zeros(self.n_tasks, dtype=t.float32, device=DEVICE)\n",
        "\n",
        "        # Needed to compute the total loss & accuracy (so each subloss is weighted by the size of the subset)\n",
        "        self.trainset_sizes = t.tensor([len(subset) for subset in per_label_train_loader.subsets], device=DEVICE)\n",
        "        self.testset_sizes = t.tensor([len(subset) for subset in per_label_test_loader.subsets], device=DEVICE)\n",
        "        \n",
        "\n",
        "    def measure(self, model: nn.Module):\n",
        "        with t.no_grad():\n",
        "            # Loop over each specific-label-restricted subset of data\n",
        "            for l in tqdm(range(self.n_tasks), desc=\"Measuring metrics\"):\n",
        "                self.per_label_train_loader.to_subset(l)\n",
        "                self.per_label_test_loader.to_subset(l)\n",
        "\n",
        "                for i, (x, y) in enumerate(self.per_label_train_loader):\n",
        "                    x, y = x.to(DEVICE), y.to(DEVICE)\n",
        "                    print(x.shape, y.shape, x.dtype, y.dtype)\n",
        "                    \n",
        "                    y_pred = model(x)\n",
        "                    predicted = t.argmax(y_pred, dim=1)\n",
        "                    self.train_accuracy[l] += (predicted == y).sum()\n",
        "                    self.train_loss[l] += self.loss_fn(y_pred, y)\n",
        "\n",
        "                self.train_accuracy[l] /= self.trainset_sizes[l]\n",
        "                self.train_loss[l] /= self.trainset_sizes[l]\n",
        "\n",
        "                for i, (x, y) in enumerate(self.per_label_test_loader):\n",
        "                    x, y = x.to(DEVICE), y.to(DEVICE)\n",
        "                    y_pred = model(x)\n",
        "                    predicted = t.argmax(y_pred, dim=1)\n",
        "                    self.test_accuracy[l] += (predicted == y).sum()\n",
        "                    self.test_loss[l] += self.loss_fn(y_pred, y) \n",
        "\n",
        "                self.test_accuracy[l] /= self.testset_sizes[l]\n",
        "                self.test_loss[l] /= self.testset_sizes[l]\n",
        "\n",
        "    def reset(self):\n",
        "        self.train_loss *= 0\n",
        "        self.train_accuracy *= 0\n",
        "        self.test_loss *= 0\n",
        "        self.test_accuracy *= 0\n",
        "\n",
        "    @property\n",
        "    def total_train_size(self):\n",
        "        return self.trainset_sizes.sum() \n",
        "    \n",
        "    @property\n",
        "    def total_test_size(self):\n",
        "        return self.testset_sizes.sum()\n",
        "\n",
        "    @property\n",
        "    def total_train_loss(self):\n",
        "        return (self.train_loss * self.trainset_sizes).sum() / self.total_train_size\n",
        "    \n",
        "    @property\n",
        "    def total_test_loss(self):\n",
        "        return (self.test_loss * self.testset_sizes).sum() / self.total_test_size\n",
        "\n",
        "    @property\n",
        "    def total_train_accuracy(self):\n",
        "        return (self.train_accuracy * self.trainset_sizes).sum() / self.total_train_size\n",
        "    \n",
        "    @property\n",
        "    def total_test_accuracy(self):\n",
        "        return (self.test_accuracy * self.testset_sizes).sum() / self.total_test_size\n",
        "\n",
        "    def as_dict(self):\n",
        "        d = {\n",
        "            \"train/loss/total\": self.total_train_loss,\n",
        "            \"test/loss/total\": self.total_test_loss,\n",
        "            \"train/accuracy/total\": self.total_train_accuracy,\n",
        "            \"test/accuracy/total\": self.total_test_accuracy,\n",
        "        }\n",
        "\n",
        "        for l in range(self.n_tasks):\n",
        "            d[f\"train/loss/{l}\"] = self.train_loss[l]\n",
        "            d[f\"test/loss/{l}\"] = self.test_loss[l]\n",
        "            d[f\"train/accuracy/{l}\"] = self.train_accuracy[l]\n",
        "            d[f\"test/accuracy/{l}\"] = self.test_accuracy[l]\n",
        "\n",
        "        return d      "
      ]
    },
    {
      "cell_type": "markdown",
      "metadata": {
        "id": "fIEtfSdVWM1P"
      },
      "source": [
        "Now we check whether we still get good accuracy with only 0, 1 and 2 in the dataset\n"
      ]
    },
    {
      "cell_type": "markdown",
      "metadata": {
        "id": "eCRR4gtvxzCe"
      },
      "source": [
        "So as we can see we still get good accuracy with less digits, althought there appears to be much more variation in the accuracy which was not expected, and that it takes longer to get to a good accuracy which doesnt make much sense to me. Now we will try to train this model to learn on 0s and 1s only, then we introduce 2 halfway into the second half of training (Epoch 50) to see if there is discontinuity in performance"
      ]
    },
    {
      "cell_type": "code",
      "execution_count": 12,
      "metadata": {},
      "outputs": [
        {
          "data": {
            "text/plain": [
              "4"
            ]
          },
          "execution_count": 12,
          "metadata": {},
          "output_type": "execute_result"
        }
      ],
      "source": [
        "len(train_loader)"
      ]
    },
    {
      "cell_type": "code",
      "execution_count": 13,
      "metadata": {
        "colab": {
          "base_uri": "https://localhost:8080/",
          "height": 929
        },
        "id": "bEYUIhm5x-r5",
        "outputId": "d7bd74dd-db69-45be-e9d8-6f20ad5a5e33"
      },
      "outputs": [
        {
          "name": "stderr",
          "output_type": "stream",
          "text": [
            "/home/paperspace/.local/lib/python3.9/site-packages/torch/nn/_reduction.py:42: UserWarning: size_average and reduce args will be deprecated, please use reduction='sum' instead.\n",
            "  warnings.warn(warning.format(ret))\n"
          ]
        },
        {
          "data": {
            "text/html": [
              "Finishing last run (ID:r99grvgh) before initializing another..."
            ],
            "text/plain": [
              "<IPython.core.display.HTML object>"
            ]
          },
          "metadata": {},
          "output_type": "display_data"
        },
        {
          "data": {
            "text/html": [
              "Waiting for W&B process to finish... <strong style=\"color:green\">(success).</strong>"
            ],
            "text/plain": [
              "<IPython.core.display.HTML object>"
            ]
          },
          "metadata": {},
          "output_type": "display_data"
        },
        {
          "data": {
            "application/vnd.jupyter.widget-view+json": {
              "model_id": "1f97132249d648529b1579b2d3c7a064",
              "version_major": 2,
              "version_minor": 0
            },
            "text/plain": [
              "VBox(children=(Label(value='0.001 MB of 0.001 MB uploaded (0.000 MB deduped)\\r'), FloatProgress(value=1.0, max…"
            ]
          },
          "metadata": {},
          "output_type": "display_data"
        },
        {
          "data": {
            "text/html": [
              "Synced <strong style=\"color:#cdcd00\">sparkling-snow-29</strong>: <a href=\"https://wandb.ai/jqhoogland/detecting-phase-transitions-sandbox/runs/r99grvgh\" target=\"_blank\">https://wandb.ai/jqhoogland/detecting-phase-transitions-sandbox/runs/r99grvgh</a><br/>Synced 5 W&B file(s), 0 media file(s), 0 artifact file(s) and 0 other file(s)"
            ],
            "text/plain": [
              "<IPython.core.display.HTML object>"
            ]
          },
          "metadata": {},
          "output_type": "display_data"
        },
        {
          "data": {
            "text/html": [
              "Find logs at: <code>./wandb/run-20230416_141108-r99grvgh/logs</code>"
            ],
            "text/plain": [
              "<IPython.core.display.HTML object>"
            ]
          },
          "metadata": {},
          "output_type": "display_data"
        },
        {
          "data": {
            "text/html": [
              "Successfully finished last run (ID:r99grvgh). Initializing new run:<br/>"
            ],
            "text/plain": [
              "<IPython.core.display.HTML object>"
            ]
          },
          "metadata": {},
          "output_type": "display_data"
        },
        {
          "data": {
            "application/vnd.jupyter.widget-view+json": {
              "model_id": "761aed31bc96444db88f48c60831d47b",
              "version_major": 2,
              "version_minor": 0
            },
            "text/plain": [
              "VBox(children=(Label(value='Waiting for wandb.init()...\\r'), FloatProgress(value=0.016670495600010327, max=1.0…"
            ]
          },
          "metadata": {},
          "output_type": "display_data"
        },
        {
          "data": {
            "text/html": [
              "wandb version 0.14.2 is available!  To upgrade, please run:\n",
              " $ pip install wandb --upgrade"
            ],
            "text/plain": [
              "<IPython.core.display.HTML object>"
            ]
          },
          "metadata": {},
          "output_type": "display_data"
        },
        {
          "data": {
            "text/html": [
              "Tracking run with wandb version 0.13.4"
            ],
            "text/plain": [
              "<IPython.core.display.HTML object>"
            ]
          },
          "metadata": {},
          "output_type": "display_data"
        },
        {
          "data": {
            "text/html": [
              "Run data is saved locally in <code>/home/paperspace/Projects/detecting-phase-transitions/sandbox/wandb/run-20230416_141127-3lyust0w</code>"
            ],
            "text/plain": [
              "<IPython.core.display.HTML object>"
            ]
          },
          "metadata": {},
          "output_type": "display_data"
        },
        {
          "data": {
            "text/html": [
              "Syncing run <strong><a href=\"https://wandb.ai/jqhoogland/detecting-phase-transitions-sandbox/runs/3lyust0w\" target=\"_blank\">morning-terrain-30</a></strong> to <a href=\"https://wandb.ai/jqhoogland/detecting-phase-transitions-sandbox\" target=\"_blank\">Weights & Biases</a> (<a href=\"https://wandb.me/run\" target=\"_blank\">docs</a>)<br/>"
            ],
            "text/plain": [
              "<IPython.core.display.HTML object>"
            ]
          },
          "metadata": {},
          "output_type": "display_data"
        },
        {
          "data": {
            "application/vnd.jupyter.widget-view+json": {
              "model_id": "16c556fc8a2d4b7d821236d7695ea56b",
              "version_major": 2,
              "version_minor": 0
            },
            "text/plain": [
              "Epochs:   0%|          | 0/10 [00:00<?, ?it/s]"
            ]
          },
          "metadata": {},
          "output_type": "display_data"
        },
        {
          "data": {
            "application/vnd.jupyter.widget-view+json": {
              "model_id": "a94cf4399421423c9c10393c7f8f5ff7",
              "version_major": 2,
              "version_minor": 0
            },
            "text/plain": [
              "Mini-batches:   0%|          | 0/4 [00:00<?, ?it/s]"
            ]
          },
          "metadata": {},
          "output_type": "display_data"
        },
        {
          "data": {
            "application/vnd.jupyter.widget-view+json": {
              "model_id": "7ad654ea85e64d5b91dc45fd023ebe99",
              "version_major": 2,
              "version_minor": 0
            },
            "text/plain": [
              "Measuring metrics:   0%|          | 0/6 [00:00<?, ?it/s]"
            ]
          },
          "metadata": {},
          "output_type": "display_data"
        },
        {
          "name": "stdout",
          "output_type": "stream",
          "text": [
            "torch.Size([43, 2]) torch.Size([43]) torch.float32 torch.int64\n"
          ]
        },
        {
          "ename": "RuntimeError",
          "evalue": "CUDA error: CUBLAS_STATUS_EXECUTION_FAILED when calling `cublasLtMatmul( ltHandle, computeDesc.descriptor(), &alpha_val, mat1_ptr, Adesc.descriptor(), mat2_ptr, Bdesc.descriptor(), &beta_val, result_ptr, Cdesc.descriptor(), result_ptr, Cdesc.descriptor(), &heuristicResult.algo, workspace.data_ptr(), workspaceSize, at::cuda::getCurrentCUDAStream())`",
          "output_type": "error",
          "traceback": [
            "\u001b[0;31m---------------------------------------------------------------------------\u001b[0m",
            "\u001b[0;31mRuntimeError\u001b[0m                              Traceback (most recent call last)",
            "Cell \u001b[0;32mIn[13], line 53\u001b[0m\n\u001b[1;32m     50\u001b[0m optimizer \u001b[39m=\u001b[39m optim\u001b[39m.\u001b[39mSGD(model\u001b[39m.\u001b[39mparameters(), lr\u001b[39m=\u001b[39m\u001b[39m0.0001\u001b[39m)\n\u001b[1;32m     51\u001b[0m metrics \u001b[39m=\u001b[39m Metrics(per_label_train_loader, per_label_test_loader, loss_fn, n_tasks\u001b[39m=\u001b[39m\u001b[39m6\u001b[39m)\n\u001b[0;32m---> 53\u001b[0m train(model, loss_fn, optimizer, train_loader, metrics)\n",
            "Cell \u001b[0;32mIn[13], line 24\u001b[0m, in \u001b[0;36mtrain\u001b[0;34m(model, loss_fn, optimizer, train_loader, metrics, num_epochs)\u001b[0m\n\u001b[1;32m     22\u001b[0m \u001b[39m# Training loop for mini-batches\u001b[39;00m\n\u001b[1;32m     23\u001b[0m \u001b[39mfor\u001b[39;00m batch_idx, (x, y) \u001b[39min\u001b[39;00m tqdm(\u001b[39menumerate\u001b[39m(train_loader), desc\u001b[39m=\u001b[39m\u001b[39m\"\u001b[39m\u001b[39mMini-batches\u001b[39m\u001b[39m\"\u001b[39m, total\u001b[39m=\u001b[39mnum_steps):                  \n\u001b[0;32m---> 24\u001b[0m     measure(step)\n\u001b[1;32m     25\u001b[0m     save(step)\n\u001b[1;32m     27\u001b[0m     \u001b[39m# Make predictions with the current parameters.\u001b[39;00m\n",
            "Cell \u001b[0;32mIn[13], line 10\u001b[0m, in \u001b[0;36mtrain.<locals>.measure\u001b[0;34m(step)\u001b[0m\n\u001b[1;32m      8\u001b[0m \u001b[39mdef\u001b[39;00m \u001b[39mmeasure\u001b[39m(step):\n\u001b[1;32m      9\u001b[0m     metrics\u001b[39m.\u001b[39mreset()\n\u001b[0;32m---> 10\u001b[0m     metrics\u001b[39m.\u001b[39;49mmeasure(model)\n\u001b[1;32m     11\u001b[0m     wandb\u001b[39m.\u001b[39mlog(metrics\u001b[39m.\u001b[39mas_dict(), step\u001b[39m=\u001b[39mstep)\n",
            "Cell \u001b[0;32mIn[11], line 30\u001b[0m, in \u001b[0;36mMetrics.measure\u001b[0;34m(self, model)\u001b[0m\n\u001b[1;32m     27\u001b[0m x, y \u001b[39m=\u001b[39m x\u001b[39m.\u001b[39mto(DEVICE), y\u001b[39m.\u001b[39mto(DEVICE)\n\u001b[1;32m     28\u001b[0m \u001b[39mprint\u001b[39m(x\u001b[39m.\u001b[39mshape, y\u001b[39m.\u001b[39mshape, x\u001b[39m.\u001b[39mdtype, y\u001b[39m.\u001b[39mdtype)\n\u001b[0;32m---> 30\u001b[0m y_pred \u001b[39m=\u001b[39m model(x)\n\u001b[1;32m     31\u001b[0m predicted \u001b[39m=\u001b[39m t\u001b[39m.\u001b[39margmax(y_pred, dim\u001b[39m=\u001b[39m\u001b[39m1\u001b[39m)\n\u001b[1;32m     32\u001b[0m \u001b[39mself\u001b[39m\u001b[39m.\u001b[39mtrain_accuracy[l] \u001b[39m+\u001b[39m\u001b[39m=\u001b[39m (predicted \u001b[39m==\u001b[39m y)\u001b[39m.\u001b[39msum()\n",
            "File \u001b[0;32m~/.local/lib/python3.9/site-packages/torch/nn/modules/module.py:1194\u001b[0m, in \u001b[0;36mModule._call_impl\u001b[0;34m(self, *input, **kwargs)\u001b[0m\n\u001b[1;32m   1190\u001b[0m \u001b[39m# If we don't have any hooks, we want to skip the rest of the logic in\u001b[39;00m\n\u001b[1;32m   1191\u001b[0m \u001b[39m# this function, and just call forward.\u001b[39;00m\n\u001b[1;32m   1192\u001b[0m \u001b[39mif\u001b[39;00m \u001b[39mnot\u001b[39;00m (\u001b[39mself\u001b[39m\u001b[39m.\u001b[39m_backward_hooks \u001b[39mor\u001b[39;00m \u001b[39mself\u001b[39m\u001b[39m.\u001b[39m_forward_hooks \u001b[39mor\u001b[39;00m \u001b[39mself\u001b[39m\u001b[39m.\u001b[39m_forward_pre_hooks \u001b[39mor\u001b[39;00m _global_backward_hooks\n\u001b[1;32m   1193\u001b[0m         \u001b[39mor\u001b[39;00m _global_forward_hooks \u001b[39mor\u001b[39;00m _global_forward_pre_hooks):\n\u001b[0;32m-> 1194\u001b[0m     \u001b[39mreturn\u001b[39;00m forward_call(\u001b[39m*\u001b[39;49m\u001b[39minput\u001b[39;49m, \u001b[39m*\u001b[39;49m\u001b[39m*\u001b[39;49mkwargs)\n\u001b[1;32m   1195\u001b[0m \u001b[39m# Do not call functions when jit is used\u001b[39;00m\n\u001b[1;32m   1196\u001b[0m full_backward_hooks, non_full_backward_hooks \u001b[39m=\u001b[39m [], []\n",
            "Cell \u001b[0;32mIn[4], line 22\u001b[0m, in \u001b[0;36mLegendreNet.forward\u001b[0;34m(self, x)\u001b[0m\n\u001b[1;32m     21\u001b[0m \u001b[39mdef\u001b[39;00m \u001b[39mforward\u001b[39m(\u001b[39mself\u001b[39m, x: TensorType[\u001b[39m\"\u001b[39m\u001b[39mbatch\u001b[39m\u001b[39m\"\u001b[39m, \u001b[39m\"\u001b[39m\u001b[39mdegree\u001b[39m\u001b[39m\"\u001b[39m, \u001b[39m\"\u001b[39m\u001b[39mx\u001b[39m\u001b[39m\"\u001b[39m]) \u001b[39m-\u001b[39m\u001b[39m>\u001b[39m TensorType[\u001b[39m\"\u001b[39m\u001b[39mbatch\u001b[39m\u001b[39m\"\u001b[39m, \u001b[39m\"\u001b[39m\u001b[39mdegree\u001b[39m\u001b[39m\"\u001b[39m, \u001b[39m\"\u001b[39m\u001b[39my\u001b[39m\u001b[39m\"\u001b[39m]:\n\u001b[0;32m---> 22\u001b[0m     \u001b[39mreturn\u001b[39;00m \u001b[39mself\u001b[39;49m\u001b[39m.\u001b[39;49mnet(x)\n",
            "File \u001b[0;32m~/.local/lib/python3.9/site-packages/torch/nn/modules/module.py:1194\u001b[0m, in \u001b[0;36mModule._call_impl\u001b[0;34m(self, *input, **kwargs)\u001b[0m\n\u001b[1;32m   1190\u001b[0m \u001b[39m# If we don't have any hooks, we want to skip the rest of the logic in\u001b[39;00m\n\u001b[1;32m   1191\u001b[0m \u001b[39m# this function, and just call forward.\u001b[39;00m\n\u001b[1;32m   1192\u001b[0m \u001b[39mif\u001b[39;00m \u001b[39mnot\u001b[39;00m (\u001b[39mself\u001b[39m\u001b[39m.\u001b[39m_backward_hooks \u001b[39mor\u001b[39;00m \u001b[39mself\u001b[39m\u001b[39m.\u001b[39m_forward_hooks \u001b[39mor\u001b[39;00m \u001b[39mself\u001b[39m\u001b[39m.\u001b[39m_forward_pre_hooks \u001b[39mor\u001b[39;00m _global_backward_hooks\n\u001b[1;32m   1193\u001b[0m         \u001b[39mor\u001b[39;00m _global_forward_hooks \u001b[39mor\u001b[39;00m _global_forward_pre_hooks):\n\u001b[0;32m-> 1194\u001b[0m     \u001b[39mreturn\u001b[39;00m forward_call(\u001b[39m*\u001b[39;49m\u001b[39minput\u001b[39;49m, \u001b[39m*\u001b[39;49m\u001b[39m*\u001b[39;49mkwargs)\n\u001b[1;32m   1195\u001b[0m \u001b[39m# Do not call functions when jit is used\u001b[39;00m\n\u001b[1;32m   1196\u001b[0m full_backward_hooks, non_full_backward_hooks \u001b[39m=\u001b[39m [], []\n",
            "File \u001b[0;32m~/.local/lib/python3.9/site-packages/torch/nn/modules/container.py:204\u001b[0m, in \u001b[0;36mSequential.forward\u001b[0;34m(self, input)\u001b[0m\n\u001b[1;32m    202\u001b[0m \u001b[39mdef\u001b[39;00m \u001b[39mforward\u001b[39m(\u001b[39mself\u001b[39m, \u001b[39minput\u001b[39m):\n\u001b[1;32m    203\u001b[0m     \u001b[39mfor\u001b[39;00m module \u001b[39min\u001b[39;00m \u001b[39mself\u001b[39m:\n\u001b[0;32m--> 204\u001b[0m         \u001b[39minput\u001b[39m \u001b[39m=\u001b[39m module(\u001b[39minput\u001b[39;49m)\n\u001b[1;32m    205\u001b[0m     \u001b[39mreturn\u001b[39;00m \u001b[39minput\u001b[39m\n",
            "File \u001b[0;32m~/.local/lib/python3.9/site-packages/torch/nn/modules/module.py:1194\u001b[0m, in \u001b[0;36mModule._call_impl\u001b[0;34m(self, *input, **kwargs)\u001b[0m\n\u001b[1;32m   1190\u001b[0m \u001b[39m# If we don't have any hooks, we want to skip the rest of the logic in\u001b[39;00m\n\u001b[1;32m   1191\u001b[0m \u001b[39m# this function, and just call forward.\u001b[39;00m\n\u001b[1;32m   1192\u001b[0m \u001b[39mif\u001b[39;00m \u001b[39mnot\u001b[39;00m (\u001b[39mself\u001b[39m\u001b[39m.\u001b[39m_backward_hooks \u001b[39mor\u001b[39;00m \u001b[39mself\u001b[39m\u001b[39m.\u001b[39m_forward_hooks \u001b[39mor\u001b[39;00m \u001b[39mself\u001b[39m\u001b[39m.\u001b[39m_forward_pre_hooks \u001b[39mor\u001b[39;00m _global_backward_hooks\n\u001b[1;32m   1193\u001b[0m         \u001b[39mor\u001b[39;00m _global_forward_hooks \u001b[39mor\u001b[39;00m _global_forward_pre_hooks):\n\u001b[0;32m-> 1194\u001b[0m     \u001b[39mreturn\u001b[39;00m forward_call(\u001b[39m*\u001b[39;49m\u001b[39minput\u001b[39;49m, \u001b[39m*\u001b[39;49m\u001b[39m*\u001b[39;49mkwargs)\n\u001b[1;32m   1195\u001b[0m \u001b[39m# Do not call functions when jit is used\u001b[39;00m\n\u001b[1;32m   1196\u001b[0m full_backward_hooks, non_full_backward_hooks \u001b[39m=\u001b[39m [], []\n",
            "File \u001b[0;32m~/.local/lib/python3.9/site-packages/torch/nn/modules/linear.py:114\u001b[0m, in \u001b[0;36mLinear.forward\u001b[0;34m(self, input)\u001b[0m\n\u001b[1;32m    113\u001b[0m \u001b[39mdef\u001b[39;00m \u001b[39mforward\u001b[39m(\u001b[39mself\u001b[39m, \u001b[39minput\u001b[39m: Tensor) \u001b[39m-\u001b[39m\u001b[39m>\u001b[39m Tensor:\n\u001b[0;32m--> 114\u001b[0m     \u001b[39mreturn\u001b[39;00m F\u001b[39m.\u001b[39;49mlinear(\u001b[39minput\u001b[39;49m, \u001b[39mself\u001b[39;49m\u001b[39m.\u001b[39;49mweight, \u001b[39mself\u001b[39;49m\u001b[39m.\u001b[39;49mbias)\n",
            "\u001b[0;31mRuntimeError\u001b[0m: CUDA error: CUBLAS_STATUS_EXECUTION_FAILED when calling `cublasLtMatmul( ltHandle, computeDesc.descriptor(), &alpha_val, mat1_ptr, Adesc.descriptor(), mat2_ptr, Bdesc.descriptor(), &beta_val, result_ptr, Cdesc.descriptor(), result_ptr, Cdesc.descriptor(), &heuristicResult.algo, workspace.data_ptr(), workspaceSize, at::cuda::getCurrentCUDAStream())`"
          ]
        }
      ],
      "source": [
        "import wandb\n",
        "\n",
        "def train(model: nn.Module, loss_fn, optimizer, train_loader: DataLoader, metrics: Metrics, num_epochs= 10):\n",
        "    wandb.init(\"dpt-toy-data\")\n",
        "\n",
        "    step = 0\n",
        "\n",
        "    def measure(step):\n",
        "        metrics.reset()\n",
        "        metrics.measure(model)\n",
        "        wandb.log(metrics.as_dict(), step=step)\n",
        "\n",
        "    def save(step, name=\"toy-data\"):\n",
        "        t.save(model.state_dict(), f\"./snapshots/{name}/model-{step}.pt\")\n",
        "    \n",
        "    num_steps = len(train_loader)\n",
        "\n",
        "    # Epochs change in size, so we want to keep the number of steps constant between changes\n",
        "    for epoch in tqdm(range(num_epochs), desc=\"Epochs\"): \n",
        "        train_loss = 0.\n",
        "        \n",
        "        # Training loop for mini-batches\n",
        "        for batch_idx, (x, y) in tqdm(enumerate(train_loader), desc=\"Mini-batches\", total=num_steps):                  \n",
        "            measure(step)\n",
        "            save(step)\n",
        "        \n",
        "            # Make predictions with the current parameters.\n",
        "            x, y = x.to(DEVICE), y.to(DEVICE)\n",
        "            print(x.shape, y.shape, x.dtype, y.dtype)\n",
        "            y_pred = model(x)\n",
        "\n",
        "            # Compute the loss value.\n",
        "            loss = loss_fn(y_pred, y)\n",
        "            train_loss += loss.item()\n",
        "\n",
        "            # Update the parameters.\n",
        "            optimizer.zero_grad()\n",
        "            loss.backward()\n",
        "            optimizer.step()\n",
        "\n",
        "            step += 1\n",
        "\n",
        "            if batch_idx == num_steps:\n",
        "                break\n",
        "\n",
        "    wandb.finish()\n",
        "\n",
        "model = LegendreNet()\n",
        "loss_fn = nn.CrossEntropyLoss(size_average=False)\n",
        "optimizer = optim.SGD(model.parameters(), lr=0.0001)\n",
        "metrics = Metrics(per_label_train_loader, per_label_test_loader, loss_fn, n_tasks=6)\n",
        "\n",
        "train(model, loss_fn, optimizer, train_loader, metrics)"
      ]
    },
    {
      "cell_type": "code",
      "execution_count": 20,
      "metadata": {},
      "outputs": [
        {
          "ename": "RuntimeError",
          "evalue": "CUDA error: CUBLAS_STATUS_EXECUTION_FAILED when calling `cublasSgemm( handle, opa, opb, m, n, k, &alpha, a, lda, b, ldb, &beta, c, ldc)`",
          "output_type": "error",
          "traceback": [
            "\u001b[0;31m---------------------------------------------------------------------------\u001b[0m",
            "\u001b[0;31mRuntimeError\u001b[0m                              Traceback (most recent call last)",
            "Cell \u001b[0;32mIn[20], line 10\u001b[0m\n\u001b[1;32m      7\u001b[0m x \u001b[39m=\u001b[39m torch\u001b[39m.\u001b[39mrandn(\u001b[39m2\u001b[39m, \u001b[39m3\u001b[39m, device\u001b[39m=\u001b[39mDEVICE)\n\u001b[1;32m      8\u001b[0m y \u001b[39m=\u001b[39m torch\u001b[39m.\u001b[39mrandn(\u001b[39m3\u001b[39m, \u001b[39m4\u001b[39m, device\u001b[39m=\u001b[39mDEVICE)\n\u001b[0;32m---> 10\u001b[0m result \u001b[39m=\u001b[39m x\u001b[39m.\u001b[39;49mmatmul(y)\n\u001b[1;32m     11\u001b[0m \u001b[39mprint\u001b[39m(result)\n",
            "\u001b[0;31mRuntimeError\u001b[0m: CUDA error: CUBLAS_STATUS_EXECUTION_FAILED when calling `cublasSgemm( handle, opa, opb, m, n, k, &alpha, a, lda, b, ldb, &beta, c, ldc)`"
          ]
        }
      ],
      "source": [
        "import torch\n",
        "from torch import nn\n",
        "\n",
        "DEVICE = torch.device(\"cuda\" if torch.cuda.is_available() else \"cpu\")\n",
        "\n",
        "# Your LegendreNet class definition here\n",
        "x = torch.randn(2, 3, device=DEVICE)\n",
        "y = torch.randn(3, 4, device=DEVICE)\n",
        "\n",
        "result = x.matmul(y)\n",
        "print(result)\n"
      ]
    },
    {
      "cell_type": "markdown",
      "metadata": {},
      "source": []
    },
    {
      "attachments": {},
      "cell_type": "markdown",
      "metadata": {},
      "source": [
        "# Structural probes"
      ]
    },
    {
      "cell_type": "code",
      "execution_count": 39,
      "metadata": {},
      "outputs": [
        {
          "data": {
            "text/html": [
              "<div>\n",
              "<style scoped>\n",
              "    .dataframe tbody tr th:only-of-type {\n",
              "        vertical-align: middle;\n",
              "    }\n",
              "\n",
              "    .dataframe tbody tr th {\n",
              "        vertical-align: top;\n",
              "    }\n",
              "\n",
              "    .dataframe thead th {\n",
              "        text-align: right;\n",
              "    }\n",
              "</style>\n",
              "<table border=\"1\" class=\"dataframe\">\n",
              "  <thead>\n",
              "    <tr style=\"text-align: right;\">\n",
              "      <th></th>\n",
              "      <th>step</th>\n",
              "      <th>weight_norms</th>\n",
              "      <th>total_weight_norm</th>\n",
              "      <th>last_layer_rank</th>\n",
              "    </tr>\n",
              "  </thead>\n",
              "  <tbody>\n",
              "    <tr>\n",
              "      <th>0</th>\n",
              "      <td>0</td>\n",
              "      <td>[1.5633426904678345, 0.3008549213409424, 2.324...</td>\n",
              "      <td>3.337336</td>\n",
              "      <td>10</td>\n",
              "    </tr>\n",
              "    <tr>\n",
              "      <th>1</th>\n",
              "      <td>24</td>\n",
              "      <td>[1.649056315422058, 0.3014752268791199, 2.3842...</td>\n",
              "      <td>3.482064</td>\n",
              "      <td>10</td>\n",
              "    </tr>\n",
              "    <tr>\n",
              "      <th>2</th>\n",
              "      <td>48</td>\n",
              "      <td>[1.6596497297286987, 0.3068156838417053, 2.392...</td>\n",
              "      <td>3.499720</td>\n",
              "      <td>10</td>\n",
              "    </tr>\n",
              "    <tr>\n",
              "      <th>3</th>\n",
              "      <td>72</td>\n",
              "      <td>[1.6646157503128052, 0.30970799922943115, 2.39...</td>\n",
              "      <td>3.508096</td>\n",
              "      <td>10</td>\n",
              "    </tr>\n",
              "    <tr>\n",
              "      <th>4</th>\n",
              "      <td>96</td>\n",
              "      <td>[1.6678569316864014, 0.31172940135002136, 2.39...</td>\n",
              "      <td>3.513599</td>\n",
              "      <td>10</td>\n",
              "    </tr>\n",
              "    <tr>\n",
              "      <th>5</th>\n",
              "      <td>120</td>\n",
              "      <td>[1.6702563762664795, 0.3132935166358948, 2.400...</td>\n",
              "      <td>3.517691</td>\n",
              "      <td>10</td>\n",
              "    </tr>\n",
              "    <tr>\n",
              "      <th>6</th>\n",
              "      <td>144</td>\n",
              "      <td>[1.6721563339233398, 0.3145730495452881, 2.401...</td>\n",
              "      <td>3.520943</td>\n",
              "      <td>10</td>\n",
              "    </tr>\n",
              "    <tr>\n",
              "      <th>7</th>\n",
              "      <td>168</td>\n",
              "      <td>[1.673725962638855, 0.31565818190574646, 2.403...</td>\n",
              "      <td>3.523638</td>\n",
              "      <td>10</td>\n",
              "    </tr>\n",
              "    <tr>\n",
              "      <th>8</th>\n",
              "      <td>192</td>\n",
              "      <td>[1.6750614643096924, 0.316601425409317, 2.4042...</td>\n",
              "      <td>3.525936</td>\n",
              "      <td>10</td>\n",
              "    </tr>\n",
              "    <tr>\n",
              "      <th>9</th>\n",
              "      <td>216</td>\n",
              "      <td>[1.676222801208496, 0.31743648648262024, 2.405...</td>\n",
              "      <td>3.527939</td>\n",
              "      <td>10</td>\n",
              "    </tr>\n",
              "    <tr>\n",
              "      <th>10</th>\n",
              "      <td>240</td>\n",
              "      <td>[1.677249550819397, 0.3181862533092499, 2.4060...</td>\n",
              "      <td>3.529713</td>\n",
              "      <td>10</td>\n",
              "    </tr>\n",
              "    <tr>\n",
              "      <th>11</th>\n",
              "      <td>264</td>\n",
              "      <td>[1.7316595315933228, 0.2886766791343689, 2.441...</td>\n",
              "      <td>3.599295</td>\n",
              "      <td>10</td>\n",
              "    </tr>\n",
              "    <tr>\n",
              "      <th>12</th>\n",
              "      <td>288</td>\n",
              "      <td>[1.7642637491226196, 0.2872737646102905, 2.464...</td>\n",
              "      <td>3.646122</td>\n",
              "      <td>10</td>\n",
              "    </tr>\n",
              "    <tr>\n",
              "      <th>13</th>\n",
              "      <td>312</td>\n",
              "      <td>[1.7818301916122437, 0.28617990016937256, 2.47...</td>\n",
              "      <td>3.671355</td>\n",
              "      <td>10</td>\n",
              "    </tr>\n",
              "    <tr>\n",
              "      <th>14</th>\n",
              "      <td>336</td>\n",
              "      <td>[1.7941361665725708, 0.2851146459579468, 2.485...</td>\n",
              "      <td>3.689018</td>\n",
              "      <td>10</td>\n",
              "    </tr>\n",
              "    <tr>\n",
              "      <th>15</th>\n",
              "      <td>360</td>\n",
              "      <td>[1.8031561374664307, 0.28448083996772766, 2.49...</td>\n",
              "      <td>3.702041</td>\n",
              "      <td>10</td>\n",
              "    </tr>\n",
              "    <tr>\n",
              "      <th>16</th>\n",
              "      <td>384</td>\n",
              "      <td>[1.8105548620224, 0.28324270248413086, 2.49751...</td>\n",
              "      <td>3.712451</td>\n",
              "      <td>10</td>\n",
              "    </tr>\n",
              "    <tr>\n",
              "      <th>17</th>\n",
              "      <td>408</td>\n",
              "      <td>[1.8166790008544922, 0.28276875615119934, 2.50...</td>\n",
              "      <td>3.721324</td>\n",
              "      <td>10</td>\n",
              "    </tr>\n",
              "    <tr>\n",
              "      <th>18</th>\n",
              "      <td>432</td>\n",
              "      <td>[1.821876883506775, 0.2819216251373291, 2.5055...</td>\n",
              "      <td>3.728700</td>\n",
              "      <td>10</td>\n",
              "    </tr>\n",
              "    <tr>\n",
              "      <th>19</th>\n",
              "      <td>456</td>\n",
              "      <td>[1.8262308835983276, 0.28155994415283203, 2.50...</td>\n",
              "      <td>3.735017</td>\n",
              "      <td>10</td>\n",
              "    </tr>\n",
              "    <tr>\n",
              "      <th>20</th>\n",
              "      <td>480</td>\n",
              "      <td>[1.830499529838562, 0.28076860308647156, 2.511...</td>\n",
              "      <td>3.741035</td>\n",
              "      <td>10</td>\n",
              "    </tr>\n",
              "    <tr>\n",
              "      <th>21</th>\n",
              "      <td>504</td>\n",
              "      <td>[1.834883213043213, 0.2803979814052582, 2.5149...</td>\n",
              "      <td>3.747427</td>\n",
              "      <td>10</td>\n",
              "    </tr>\n",
              "    <tr>\n",
              "      <th>22</th>\n",
              "      <td>528</td>\n",
              "      <td>[1.8379254341125488, 0.27983880043029785, 2.51...</td>\n",
              "      <td>3.751753</td>\n",
              "      <td>10</td>\n",
              "    </tr>\n",
              "    <tr>\n",
              "      <th>23</th>\n",
              "      <td>552</td>\n",
              "      <td>[1.840662956237793, 0.2791839838027954, 2.5190...</td>\n",
              "      <td>3.755607</td>\n",
              "      <td>10</td>\n",
              "    </tr>\n",
              "    <tr>\n",
              "      <th>24</th>\n",
              "      <td>576</td>\n",
              "      <td>[1.8438206911087036, 0.2789125144481659, 2.521...</td>\n",
              "      <td>3.760233</td>\n",
              "      <td>10</td>\n",
              "    </tr>\n",
              "    <tr>\n",
              "      <th>25</th>\n",
              "      <td>600</td>\n",
              "      <td>[1.8465068340301514, 0.27835214138031006, 2.52...</td>\n",
              "      <td>3.764032</td>\n",
              "      <td>10</td>\n",
              "    </tr>\n",
              "    <tr>\n",
              "      <th>26</th>\n",
              "      <td>624</td>\n",
              "      <td>[1.848956823348999, 0.2779523730278015, 2.5249...</td>\n",
              "      <td>3.767568</td>\n",
              "      <td>10</td>\n",
              "    </tr>\n",
              "    <tr>\n",
              "      <th>27</th>\n",
              "      <td>648</td>\n",
              "      <td>[1.8514944314956665, 0.2778434157371521, 2.526...</td>\n",
              "      <td>3.771328</td>\n",
              "      <td>10</td>\n",
              "    </tr>\n",
              "    <tr>\n",
              "      <th>28</th>\n",
              "      <td>672</td>\n",
              "      <td>[1.854528546333313, 0.2770385444164276, 2.5289...</td>\n",
              "      <td>3.775539</td>\n",
              "      <td>10</td>\n",
              "    </tr>\n",
              "    <tr>\n",
              "      <th>29</th>\n",
              "      <td>696</td>\n",
              "      <td>[1.8563600778579712, 0.27665743231773376, 2.53...</td>\n",
              "      <td>3.778149</td>\n",
              "      <td>10</td>\n",
              "    </tr>\n",
              "    <tr>\n",
              "      <th>30</th>\n",
              "      <td>720</td>\n",
              "      <td>[1.857537031173706, 0.276386559009552, 2.53107...</td>\n",
              "      <td>3.779856</td>\n",
              "      <td>10</td>\n",
              "    </tr>\n",
              "    <tr>\n",
              "      <th>31</th>\n",
              "      <td>744</td>\n",
              "      <td>[1.7978856563568115, 0.267150342464447, 2.4882...</td>\n",
              "      <td>3.702060</td>\n",
              "      <td>10</td>\n",
              "    </tr>\n",
              "    <tr>\n",
              "      <th>32</th>\n",
              "      <td>768</td>\n",
              "      <td>[1.8492169380187988, 0.2608078122138977, 2.525...</td>\n",
              "      <td>3.783146</td>\n",
              "      <td>10</td>\n",
              "    </tr>\n",
              "  </tbody>\n",
              "</table>\n",
              "</div>"
            ],
            "text/plain": [
              "    step                                       weight_norms  \\\n",
              "0      0  [1.5633426904678345, 0.3008549213409424, 2.324...   \n",
              "1     24  [1.649056315422058, 0.3014752268791199, 2.3842...   \n",
              "2     48  [1.6596497297286987, 0.3068156838417053, 2.392...   \n",
              "3     72  [1.6646157503128052, 0.30970799922943115, 2.39...   \n",
              "4     96  [1.6678569316864014, 0.31172940135002136, 2.39...   \n",
              "5    120  [1.6702563762664795, 0.3132935166358948, 2.400...   \n",
              "6    144  [1.6721563339233398, 0.3145730495452881, 2.401...   \n",
              "7    168  [1.673725962638855, 0.31565818190574646, 2.403...   \n",
              "8    192  [1.6750614643096924, 0.316601425409317, 2.4042...   \n",
              "9    216  [1.676222801208496, 0.31743648648262024, 2.405...   \n",
              "10   240  [1.677249550819397, 0.3181862533092499, 2.4060...   \n",
              "11   264  [1.7316595315933228, 0.2886766791343689, 2.441...   \n",
              "12   288  [1.7642637491226196, 0.2872737646102905, 2.464...   \n",
              "13   312  [1.7818301916122437, 0.28617990016937256, 2.47...   \n",
              "14   336  [1.7941361665725708, 0.2851146459579468, 2.485...   \n",
              "15   360  [1.8031561374664307, 0.28448083996772766, 2.49...   \n",
              "16   384  [1.8105548620224, 0.28324270248413086, 2.49751...   \n",
              "17   408  [1.8166790008544922, 0.28276875615119934, 2.50...   \n",
              "18   432  [1.821876883506775, 0.2819216251373291, 2.5055...   \n",
              "19   456  [1.8262308835983276, 0.28155994415283203, 2.50...   \n",
              "20   480  [1.830499529838562, 0.28076860308647156, 2.511...   \n",
              "21   504  [1.834883213043213, 0.2803979814052582, 2.5149...   \n",
              "22   528  [1.8379254341125488, 0.27983880043029785, 2.51...   \n",
              "23   552  [1.840662956237793, 0.2791839838027954, 2.5190...   \n",
              "24   576  [1.8438206911087036, 0.2789125144481659, 2.521...   \n",
              "25   600  [1.8465068340301514, 0.27835214138031006, 2.52...   \n",
              "26   624  [1.848956823348999, 0.2779523730278015, 2.5249...   \n",
              "27   648  [1.8514944314956665, 0.2778434157371521, 2.526...   \n",
              "28   672  [1.854528546333313, 0.2770385444164276, 2.5289...   \n",
              "29   696  [1.8563600778579712, 0.27665743231773376, 2.53...   \n",
              "30   720  [1.857537031173706, 0.276386559009552, 2.53107...   \n",
              "31   744  [1.7978856563568115, 0.267150342464447, 2.4882...   \n",
              "32   768  [1.8492169380187988, 0.2608078122138977, 2.525...   \n",
              "\n",
              "    total_weight_norm  last_layer_rank  \n",
              "0            3.337336               10  \n",
              "1            3.482064               10  \n",
              "2            3.499720               10  \n",
              "3            3.508096               10  \n",
              "4            3.513599               10  \n",
              "5            3.517691               10  \n",
              "6            3.520943               10  \n",
              "7            3.523638               10  \n",
              "8            3.525936               10  \n",
              "9            3.527939               10  \n",
              "10           3.529713               10  \n",
              "11           3.599295               10  \n",
              "12           3.646122               10  \n",
              "13           3.671355               10  \n",
              "14           3.689018               10  \n",
              "15           3.702041               10  \n",
              "16           3.712451               10  \n",
              "17           3.721324               10  \n",
              "18           3.728700               10  \n",
              "19           3.735017               10  \n",
              "20           3.741035               10  \n",
              "21           3.747427               10  \n",
              "22           3.751753               10  \n",
              "23           3.755607               10  \n",
              "24           3.760233               10  \n",
              "25           3.764032               10  \n",
              "26           3.767568               10  \n",
              "27           3.771328               10  \n",
              "28           3.775539               10  \n",
              "29           3.778149               10  \n",
              "30           3.779856               10  \n",
              "31           3.702060               10  \n",
              "32           3.783146               10  "
            ]
          },
          "execution_count": 39,
          "metadata": {},
          "output_type": "execute_result"
        }
      ],
      "source": [
        "from typing import Iterable\n",
        "\n",
        "\n",
        "NUM_STEPS = 792\n",
        "IVL = 24\n",
        "\n",
        "class WeightsAssay:\n",
        "    def measure(self, cls: Type[MNISTConvNet], steps: Iterable[int]):\n",
        "        model = cls() \n",
        "        measurements = []\n",
        "\n",
        "        for i in steps:\n",
        "            # Load model from snapshot\n",
        "            model.load_state_dict(t.load(f\"./snapshots/model-{i}.pt\"))\n",
        "\n",
        "            # Measure metrics\n",
        "            measurements.append(self._measure(model, i))\n",
        "\n",
        "        return pd.DataFrame(measurements)\n",
        "    \n",
        "    def _measure(self, model, step):\n",
        "        weight_norms = self.weight_norms(model)\n",
        "\n",
        "        return {\n",
        "            \"step\": step,\n",
        "            \"weight_norms\": weight_norms,\n",
        "            \"total_weight_norm\": sum([wn ** 2 for wn in weight_norms]) ** 0.5,\n",
        "            # \"last_layer_rank\": self.last_layer_rank(model),\n",
        "        }\n",
        "    \n",
        "    @classmethod\n",
        "    def weight_norms(cls, model: nn.Module):\n",
        "        norms = []\n",
        "\n",
        "        for p in model.parameters():\n",
        "            norms.append(p.norm().item())\n",
        "\n",
        "        return norms\n",
        "\n",
        "    # @classmethod\n",
        "    # def last_layer_rank(cls, model: nn.Module):\n",
        "    #     return t.linalg.matrix_rank(model.fc1.weight).item()\n",
        "    # NOTE Nevermind this is full rank\n",
        "\n",
        "    # TODO: Add more probes\n",
        "\n",
        "weights_assay = WeightsAssay()\n",
        "measurements = weights_assay.measure(MNISTConvNet, range(0, NUM_STEPS, IVL))\n",
        "measurements"
      ]
    },
    {
      "cell_type": "code",
      "execution_count": 40,
      "metadata": {},
      "outputs": [
        {
          "data": {
            "text/plain": [
              "<AxesSubplot: xlabel='step'>"
            ]
          },
          "execution_count": 40,
          "metadata": {},
          "output_type": "execute_result"
        },
        {
          "data": {
            "image/png": "[encoded data removed]",
            "text/plain": [
              "<Figure size 2000x1000 with 1 Axes>"
            ]
          },
          "metadata": {},
          "output_type": "display_data"
        },
        {
          "data": {
            "image/png": "[encoded data removed]",
            "text/plain": [
              "<Figure size 2000x1000 with 1 Axes>"
            ]
          },
          "metadata": {},
          "output_type": "display_data"
        }
      ],
      "source": [
        " measurements.plot(x=\"step\", y=\"total_weight_norm\", figsize=(20, 10))\n",
        " measurements.plot(x=\"step\", y=\"last_layer_rank\", figsize=(20, 10))"
      ]
    },
    {
      "attachments": {},
      "cell_type": "markdown",
      "metadata": {},
      "source": [
        "# Training run data (per-loss data)"
      ]
    },
    {
      "cell_type": "code",
      "execution_count": 44,
      "metadata": {},
      "outputs": [],
      "source": [
        "# api = wandb.Api()\n",
        "# run = api.run(\"/jqhoogland/detecting-phase-transitions-sandbox/runs/3r9cyjh3\")\n",
        "# details = run.history()\n",
        "# details.to_csv(\"./logs/mnist_2.csv\")\n",
        "\n",
        "details = pd.read_csv(\"./logs/mnist_2.csv\")"
      ]
    },
    {
      "cell_type": "code",
      "execution_count": null,
      "metadata": {},
      "outputs": [],
      "source": []
    }
  ],
  "metadata": {
    "accelerator": "GPU",
    "colab": {
      "provenance": []
    },
    "kernelspec": {
      "display_name": "Python 3",
      "name": "python3"
    },
    "language_info": {
      "codemirror_mode": {
        "name": "ipython",
        "version": 3
      },
      "file_extension": ".py",
      "mimetype": "text/x-python",
      "name": "python",
      "nbconvert_exporter": "python",
      "pygments_lexer": "ipython3",
      "version": "3.9.16"
    }
  },
  "nbformat": 4,
  "nbformat_minor": 0
}
